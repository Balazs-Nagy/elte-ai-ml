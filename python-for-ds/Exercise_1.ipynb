{
 "cells": [
  {
   "cell_type": "markdown",
   "metadata": {},
   "source": [
    "# Exercises 1. \n",
    "\n",
    "Deadline for submission: 2nd of Oct, 2021"
   ]
  },
  {
   "cell_type": "markdown",
   "metadata": {},
   "source": [
    "## 1. Write a function that accepts a polynomial input as a string in the format of \"a*x^2+b*x+c\" and calculates the roots. The degree of the polynomial is less than 3.\n",
    "\n",
    "\n",
    "Example inputs:\n",
    "\n",
    "\"1*x^2+2*x+4\"\n",
    "\n",
    "\"3*x+1\"\n",
    "\n",
    "\"2*x^2+1*x+4\""
   ]
  },
  {
   "cell_type": "code",
   "execution_count": 1,
   "metadata": {},
   "outputs": [],
   "source": [
    "from re import split\n",
    "\n",
    "def calc_root(string:str):\n",
    "    ''' Input must be in the following format: ax^2+bx+c '''\n",
    "    results = {}\n",
    "    def find_roots(a, b, c, sign = 1):\n",
    "        # calculate an existing root\n",
    "        return (-b + sign * (b**2-4*a*c)**(1/2))/(2*a)\n",
    "    def check_root(x, a, b, c):\n",
    "        # simple check, if root exists returns (close to zero)\n",
    "        return a*x**2 + b*x + c\n",
    "    \n",
    "    elements = split('[+]', example)\n",
    "    \n",
    "    if len(elements) != 3:\n",
    "        raise ValueError(f\"{string} is not in 'ax^2+bx+c' format\")\n",
    "        \n",
    "    a = float(split('[?!x^]', elements[0])[0])\n",
    "    b = float(split('[?!x^]', elements[1])[0])\n",
    "    c = float(elements[2])\n",
    "    discriminant = b**2 - 4*a*c\n",
    "    \n",
    "    results = dict(zip(['a', 'b', 'c', 'discriminant'], [a, b, c, discriminant]))\n",
    "    if discriminant == 0:\n",
    "        results['x'] = find_roots(a, b, c, sign = 1)\n",
    "        results['x_check'] = check_root(results['x'], a, b, c)\n",
    "        # For D = 0 the roots are real and equal.\n",
    "    elif discriminant > 0:\n",
    "        # For D > 0 the roots are real and distinct.\n",
    "        results['x1']= find_roots(a, b, c, sign = 1)\n",
    "        results['x2']= find_roots(a, b, c, sign = -1)\n",
    "        results['x1_check'] = check_root(results['x1'], a, b, c)\n",
    "        results['x2_check'] = check_root(results['x2'], a, b, c)\n",
    "    else:\n",
    "        # For D < 0 the roots do not exist, or the roots are imaginary.\n",
    "        results['x'] = 'real roots do not exist'\n",
    "    return results"
   ]
  },
  {
   "cell_type": "code",
   "execution_count": 2,
   "metadata": {},
   "outputs": [
    {
     "data": {
      "text/plain": [
       "{'a': 1.0,\n",
       " 'b': 2.0,\n",
       " 'c': 4.0,\n",
       " 'discriminant': -12.0,\n",
       " 'x': 'real roots do not exist'}"
      ]
     },
     "execution_count": 2,
     "metadata": {},
     "output_type": "execute_result"
    }
   ],
   "source": [
    "example = \"1x^2+2x+4\"\n",
    "calc_root(example)"
   ]
  },
  {
   "cell_type": "code",
   "execution_count": 3,
   "metadata": {},
   "outputs": [
    {
     "ename": "ValueError",
     "evalue": "3*x+1 is not in 'ax^2+bx+c' format",
     "output_type": "error",
     "traceback": [
      "\u001b[1;31m---------------------------------------------------------------------------\u001b[0m",
      "\u001b[1;31mValueError\u001b[0m                                Traceback (most recent call last)",
      "\u001b[1;32m<ipython-input-3-ea78b59dcd7b>\u001b[0m in \u001b[0;36m<module>\u001b[1;34m\u001b[0m\n\u001b[0;32m      1\u001b[0m \u001b[1;31m# this should throw an error as the excercise explicitely states that the format of the input string should be \"ax^2+bx+c\"\u001b[0m\u001b[1;33m\u001b[0m\u001b[1;33m\u001b[0m\u001b[1;33m\u001b[0m\u001b[0m\n\u001b[0;32m      2\u001b[0m \u001b[0mexample\u001b[0m \u001b[1;33m=\u001b[0m \u001b[1;34m\"3*x+1\"\u001b[0m\u001b[1;33m\u001b[0m\u001b[1;33m\u001b[0m\u001b[0m\n\u001b[1;32m----> 3\u001b[1;33m \u001b[0mcalc_root\u001b[0m\u001b[1;33m(\u001b[0m\u001b[0mexample\u001b[0m\u001b[1;33m)\u001b[0m\u001b[1;33m\u001b[0m\u001b[1;33m\u001b[0m\u001b[0m\n\u001b[0m",
      "\u001b[1;32m<ipython-input-1-01676246a17f>\u001b[0m in \u001b[0;36mcalc_root\u001b[1;34m(string)\u001b[0m\n\u001b[0;32m     14\u001b[0m \u001b[1;33m\u001b[0m\u001b[0m\n\u001b[0;32m     15\u001b[0m     \u001b[1;32mif\u001b[0m \u001b[0mlen\u001b[0m\u001b[1;33m(\u001b[0m\u001b[0melements\u001b[0m\u001b[1;33m)\u001b[0m \u001b[1;33m!=\u001b[0m \u001b[1;36m3\u001b[0m\u001b[1;33m:\u001b[0m\u001b[1;33m\u001b[0m\u001b[1;33m\u001b[0m\u001b[0m\n\u001b[1;32m---> 16\u001b[1;33m         \u001b[1;32mraise\u001b[0m \u001b[0mValueError\u001b[0m\u001b[1;33m(\u001b[0m\u001b[1;34mf\"{string} is not in 'ax^2+bx+c' format\"\u001b[0m\u001b[1;33m)\u001b[0m\u001b[1;33m\u001b[0m\u001b[1;33m\u001b[0m\u001b[0m\n\u001b[0m\u001b[0;32m     17\u001b[0m \u001b[1;33m\u001b[0m\u001b[0m\n\u001b[0;32m     18\u001b[0m     \u001b[0ma\u001b[0m \u001b[1;33m=\u001b[0m \u001b[0mfloat\u001b[0m\u001b[1;33m(\u001b[0m\u001b[0msplit\u001b[0m\u001b[1;33m(\u001b[0m\u001b[1;34m'[?!x^]'\u001b[0m\u001b[1;33m,\u001b[0m \u001b[0melements\u001b[0m\u001b[1;33m[\u001b[0m\u001b[1;36m0\u001b[0m\u001b[1;33m]\u001b[0m\u001b[1;33m)\u001b[0m\u001b[1;33m[\u001b[0m\u001b[1;36m0\u001b[0m\u001b[1;33m]\u001b[0m\u001b[1;33m)\u001b[0m\u001b[1;33m\u001b[0m\u001b[1;33m\u001b[0m\u001b[0m\n",
      "\u001b[1;31mValueError\u001b[0m: 3*x+1 is not in 'ax^2+bx+c' format"
     ]
    }
   ],
   "source": [
    "# this should throw an error as the excercise explicitely states that the format of the input string should be \"ax^2+bx+c\"\n",
    "example = \"3*x+1\"\n",
    "calc_root(example)"
   ]
  },
  {
   "cell_type": "code",
   "execution_count": null,
   "metadata": {},
   "outputs": [],
   "source": [
    "example = \"2x^2+1x+4\"\n",
    "calc_root(example)"
   ]
  },
  {
   "cell_type": "code",
   "execution_count": null,
   "metadata": {},
   "outputs": [],
   "source": [
    "example = \"-2x^2+-301x+-14\"\n",
    "calc_root(example)"
   ]
  },
  {
   "cell_type": "markdown",
   "metadata": {},
   "source": [
    "Another solution:"
   ]
  },
  {
   "cell_type": "code",
   "execution_count": null,
   "metadata": {},
   "outputs": [],
   "source": [
    "import re\n",
    "\n",
    "matcher = re.compile(r'(-?\\d+)x\\^2 ([+-]\\d+)x ([+-]\\d+)')\n",
    "quadratic_equation = '-3x^2 +7x -44'\n",
    "matches = matcher.match(quadratic_equation)\n",
    "a = int(matches.group(1))\n",
    "b = int(matches.group(2))\n",
    "c = int(matches.group(3))\n",
    "d = b**2 - 4*a*b\n",
    "x1 = (-b + d**0.5)/(2*a)\n",
    "x2 = (-b - d**0.5)/(2*a)\n",
    "x1 # => -0.75542709911179939\n",
    "x2 # => 3.0887604324451328"
   ]
  },
  {
   "cell_type": "markdown",
   "metadata": {},
   "source": [
    "## 2a. Write a function that accepts an $a_k$ element, $k$ and $l$ index and $d$ difference from an arithmetic sequence, then calculates the $a_l$ element\n",
    "\n",
    "Example input:\n",
    "\n",
    "$a_k = 5$, $k = 2$, $l = 4$, $d = 3$\n",
    "\n",
    "Example result for $a_l$:\n",
    "\n",
    "11"
   ]
  },
  {
   "cell_type": "code",
   "execution_count": null,
   "metadata": {},
   "outputs": [],
   "source": [
    "def arithmetic_progression(ak:int, k:int, l:int, d: int) ->int:\n",
    "    al = ak\n",
    "    for _ in range(l-k):\n",
    "        al += d\n",
    "    return al"
   ]
  },
  {
   "cell_type": "code",
   "execution_count": null,
   "metadata": {},
   "outputs": [],
   "source": [
    "arithmetic_progression(5,2,4,3)"
   ]
  },
  {
   "cell_type": "markdown",
   "metadata": {},
   "source": [
    "## 2b. Write a function that accepts an $a_k$ element, $k$ and $l$ index and $r$ ratio from a geometric sequence, then calculates the $a_l$ element\n",
    "\n",
    "Example input:\n",
    "\n",
    "$a_k = 18$, $k = 2$, $l = 4$, $r = 3$\n",
    "\n",
    "Example result for $a_l$:\n",
    "\n",
    "162"
   ]
  },
  {
   "cell_type": "code",
   "execution_count": null,
   "metadata": {},
   "outputs": [],
   "source": [
    "def geometric_progression(ak:int, k:int, l:int, r: int) ->int:\n",
    "    al = ak\n",
    "    for _ in range(l-k):\n",
    "        al *= r\n",
    "    return al"
   ]
  },
  {
   "cell_type": "code",
   "execution_count": null,
   "metadata": {},
   "outputs": [],
   "source": [
    "geometric_progression(18,2,4,3)"
   ]
  },
  {
   "cell_type": "markdown",
   "metadata": {},
   "source": [
    "## 3. Write a function that calculates the frequency of each word in an input text\n",
    "\n",
    "Example input:\n",
    "\n",
    "\"Mathematicians seek and use patterns to formulate new conjectures; they resolve the truth or falsity of such by mathematical proof. When mathematical structures are good models of real phenomena, mathematical reasoning can be used to provide insight or predictions about nature. \"\n",
    "\n",
    "(from wikipedia.org/wiki/Mathematics)"
   ]
  },
  {
   "cell_type": "code",
   "execution_count": null,
   "metadata": {},
   "outputs": [],
   "source": [
    "example = \"Mathematicians seek and use patterns to formulate new conjectures; they resolve the truth or falsity of such by mathematical proof. When mathematical structures are good models of real phenomena, mathematical reasoning can be used to provide insight or predictions about nature. \"\n",
    "print(example)"
   ]
  },
  {
   "cell_type": "code",
   "execution_count": null,
   "metadata": {},
   "outputs": [],
   "source": [
    "from collections import Counter\n",
    "from re import sub\n",
    "\n",
    "def count_unique_words(string:str) -> dict:\n",
    "    # lower the string\n",
    "    string = string.lower()\n",
    "    # remove all special characters (excluding whitespace)\n",
    "    string = sub('[^A-Za-z0-9\\s]+', '', string)\n",
    "    # split string to words (result is a list)\n",
    "    words = string.split()\n",
    "    # count unique words and the number of occureances and map them into a dictionary\n",
    "    result = dict(zip(Counter(words).keys(), Counter(words).values()))\n",
    "    return result "
   ]
  },
  {
   "cell_type": "code",
   "execution_count": null,
   "metadata": {},
   "outputs": [],
   "source": [
    "count_unique_words(example)"
   ]
  },
  {
   "cell_type": "markdown",
   "metadata": {},
   "source": [
    "## 4. Surface area part 1\n",
    "\n",
    "In this problem, your input is a list of integers, which represents the layout of a 3D structure, cubes arranged into towers in a row. The first number is the height of the first tower, the second is the height of the second and so on.\n",
    "The function has to calculate the surface area of the structure (we suppose the surface area of a single cube is 6 unit). If the input starts as [2, 1], then the first tower connects with the second one in 1 level, which means the surface area is 14 units.\n",
    "\n",
    "\n",
    "(This is a simplified, one row case of the following problem: https://www.hackerrank.com/challenges/3d-surface-area/problem)\n",
    "\n",
    "Example input:\n",
    "\n",
    "[3,2,3,1]\n",
    "\n",
    "Example result:\n",
    "\n",
    "34\n"
   ]
  },
  {
   "cell_type": "code",
   "execution_count": null,
   "metadata": {},
   "outputs": [],
   "source": [
    "def surface_area(structure:list) ->int:\n",
    "    num_cubes = sum(structure)\n",
    "    total_area_of_cubes = 6 * num_cubes # 6 is the surface of a 1x1x1 cube\n",
    "    \n",
    "    # how many cubes are covered in columns\n",
    "    overlap_cols = sum([num_of_cubes_in_tower-1 for num_of_cubes_in_tower in structure])\n",
    "    \n",
    "    # how many cubes are covered in rows\n",
    "    overlap_rows = sum([min(structure[i], structure[i+1]) for i in range(len(structure)-1)])\n",
    "    \n",
    "    # Total area of the structure is\n",
    "    # the difference between\n",
    "    # the surface of all cubes\n",
    "    # and the sum of neighboring cubes in rows and columns times two \n",
    "    area = total_area_of_cubes - 2 * (overlap_cols + overlap_rows)\n",
    "    return area"
   ]
  },
  {
   "cell_type": "code",
   "execution_count": null,
   "metadata": {},
   "outputs": [],
   "source": [
    "surface_area([3,2,3,1])"
   ]
  }
 ],
 "metadata": {
  "kernelspec": {
   "display_name": "Python 3",
   "language": "python",
   "name": "python3"
  },
  "language_info": {
   "codemirror_mode": {
    "name": "ipython",
    "version": 3
   },
   "file_extension": ".py",
   "mimetype": "text/x-python",
   "name": "python",
   "nbconvert_exporter": "python",
   "pygments_lexer": "ipython3",
   "version": "3.8.5"
  },
  "toc": {
   "base_numbering": 1,
   "nav_menu": {},
   "number_sections": true,
   "sideBar": true,
   "skip_h1_title": false,
   "title_cell": "Table of Contents",
   "title_sidebar": "Contents",
   "toc_cell": false,
   "toc_position": {},
   "toc_section_display": true,
   "toc_window_display": true
  },
  "varInspector": {
   "cols": {
    "lenName": 16,
    "lenType": 16,
    "lenVar": 40
   },
   "kernels_config": {
    "python": {
     "delete_cmd_postfix": "",
     "delete_cmd_prefix": "del ",
     "library": "var_list.py",
     "varRefreshCmd": "print(var_dic_list())"
    },
    "r": {
     "delete_cmd_postfix": ") ",
     "delete_cmd_prefix": "rm(",
     "library": "var_list.r",
     "varRefreshCmd": "cat(var_dic_list()) "
    }
   },
   "types_to_exclude": [
    "module",
    "function",
    "builtin_function_or_method",
    "instance",
    "_Feature"
   ],
   "window_display": false
  }
 },
 "nbformat": 4,
 "nbformat_minor": 5
}
