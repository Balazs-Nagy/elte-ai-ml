{
 "cells": [
  {
   "cell_type": "markdown",
   "metadata": {},
   "source": [
    "**Homeworks – Python for Data Science, 2021/22. semester I.**\n",
    "\n",
    "Excercises 2.\n",
    "Deadline for submission: 9th of Oct, 2021\n",
    "\n",
    "- name: Nagy, Balázs\n",
    "- neptun: hpq7oi\n",
    "- e-mail: [balazs_nagy@outlook.com](balazs_nagy@outlook.com)"
   ]
  },
  {
   "cell_type": "markdown",
   "metadata": {},
   "source": [
    "## Queen's Attack\n",
    "\n",
    "https://www.hackerrank.com/challenges/queens-attack-2/problem\n",
    "\n"
   ]
  },
  {
   "cell_type": "markdown",
   "metadata": {},
   "source": [
    "In my solution I imagined the chess board as a 2-dimensional array.\n",
    "\n",
    "In this chess board array:\n",
    "- the queen is represented with $-4$,\n",
    "- the pawns with $-2$,\n",
    "- the blocked cells by pawns with $-1$,\n",
    "- the available cells with $1$\n",
    "- and the indifferent cells with $0$.\n",
    "\n",
    "This way the sum of the positive values in this matrix is the number of cells the queen can attack."
   ]
  },
  {
   "cell_type": "code",
   "execution_count": 1,
   "metadata": {},
   "outputs": [],
   "source": [
    "import numpy as np"
   ]
  },
  {
   "cell_type": "code",
   "execution_count": 2,
   "metadata": {},
   "outputs": [],
   "source": [
    "def obstacles(arr, queen_pos, pawns_pos):\n",
    "    arr_mod = arr.copy()\n",
    "    for pawn_pos in pawns_pos:\n",
    "        if pawn_pos < queen_pos:\n",
    "            # if pawn is on the left of the queen\n",
    "            for i in range(pawn_pos):\n",
    "                # mark blocked cells with -1\n",
    "                arr_mod[i] = -1\n",
    "        if pawn_pos > queen_pos:\n",
    "            # if pawn is on the right of the queen\n",
    "            for i in range(pawn_pos+1,len(arr)):\n",
    "                # mark blocked cells with -1\n",
    "                arr_mod[i] = -1\n",
    "    return arr_mod"
   ]
  },
  {
   "cell_type": "code",
   "execution_count": 3,
   "metadata": {},
   "outputs": [],
   "source": [
    "def queensAttack(n:int, queens_position:tuple, pawns:list) -> int:\n",
    "    if queens_position in pawns:\n",
    "        raise ValueError(f'Queen and pawn cannot be in the same position {queens_position}.')\n",
    "    \n",
    "    # generate an empty chessboard\n",
    "    chess_board = np.zeros((n,n), dtype=int)\n",
    "\n",
    "    # place the queen (-4)\n",
    "    qr, qc = queens_position # qr: queen's row num, qc: queen's col num\n",
    "    chess_board[qr, qc] = -4\n",
    "\n",
    "    # place the pawns (-2)\n",
    "    for pawn in pawns:\n",
    "        pr, pc = pawn\n",
    "        chess_board[pr, pc] = -2\n",
    "    \n",
    "    print('Chess board:\\n', chess_board,'\\n')\n",
    "    \n",
    "    # 1. queen's row\n",
    "    row = chess_board[qr]\n",
    "    # 2. queen's column\n",
    "    column = chess_board[:,qc]\n",
    "    # 3. queen's left diagonal\n",
    "    left_diag = np.diagonal(chess_board, offset=qc-qr)\n",
    "    # 4. queen's right diagonal\n",
    "    right_diag = np.diagonal(np.fliplr(chess_board), offset=(n-qc-1)-qr)\n",
    "\n",
    "    # store attackable cells in arrays per the orientation of the attack\n",
    "    queens_attacks = {'row': row, 'column': column, 'left_diag': left_diag, 'right_diag': right_diag}\n",
    "\n",
    "    num_of_attacks = []\n",
    "    for orientation, attack in queens_attacks.items():\n",
    "        # position of the pawn in the array\n",
    "        pawns_pos = np.where(attack == -2)[0]\n",
    "        # position of the queen in the array\n",
    "        queen_pos = np.where(attack == -4)[0][0]\n",
    "        # modify the 'attack' array -> replace blocked cells from 0 to -1\n",
    "        attack = obstacles(attack, queen_pos, pawns_pos)\n",
    "        # mark all cells where the queen can attack with 1\n",
    "        attack = np.where(attack == 0, 1, attack)\n",
    "        \n",
    "        # count and store the attackable cells\n",
    "        attack_num = np.sum(attack[attack>0])\n",
    "        num_of_attacks.append(attack_num)\n",
    "        \n",
    "        # save the results (although not used)\n",
    "        queens_attacks[orientation] = attack\n",
    "        # print the results\n",
    "        print(f'Attack orientation: {orientation}')\n",
    "        print('   Pawns positions:', pawns_pos)\n",
    "        print('   Queens position:', queen_pos)\n",
    "        print(f'   {orientation}: {attack}')\n",
    "        print(f'   attack number: {attack_num}')\n",
    "        print('\\n')\n",
    "    return np.sum(num_of_attacks)"
   ]
  },
  {
   "cell_type": "code",
   "execution_count": 4,
   "metadata": {},
   "outputs": [
    {
     "name": "stdout",
     "output_type": "stream",
     "text": [
      "Chess board:\n",
      " [[ 0  0  0  0  0]\n",
      " [ 0  0  0  0  0]\n",
      " [ 0  0 -2 -2  0]\n",
      " [ 0  0 -2 -4  0]\n",
      " [ 0  0  0 -2  0]] \n",
      "\n",
      "Attack orientation: row\n",
      "   Pawns positions: [2]\n",
      "   Queens position: 3\n",
      "   row: [-1 -1 -2 -4  1]\n",
      "   attack number: 1\n",
      "\n",
      "\n",
      "Attack orientation: column\n",
      "   Pawns positions: [2 4]\n",
      "   Queens position: 3\n",
      "   column: [-1 -1 -2 -4 -2]\n",
      "   attack number: 0\n",
      "\n",
      "\n",
      "Attack orientation: left_diag\n",
      "   Pawns positions: [2]\n",
      "   Queens position: 3\n",
      "   left_diag: [-1 -1 -2 -4  1]\n",
      "   attack number: 1\n",
      "\n",
      "\n",
      "Attack orientation: right_diag\n",
      "   Pawns positions: []\n",
      "   Queens position: 1\n",
      "   right_diag: [ 1 -4  1]\n",
      "   attack number: 2\n",
      "\n",
      "\n"
     ]
    },
    {
     "data": {
      "text/plain": [
       "4"
      ]
     },
     "execution_count": 4,
     "metadata": {},
     "output_type": "execute_result"
    }
   ],
   "source": [
    "queensAttack(n=5, queens_position=(3, 3), pawns=[(3,2), (2,3), (4,3), (2,2)])"
   ]
  },
  {
   "cell_type": "markdown",
   "metadata": {},
   "source": [
    "## Validating credit card numbers\n",
    "\n",
    "https://www.hackerrank.com/challenges/validating-credit-card-number/problem\n",
    "\n"
   ]
  },
  {
   "cell_type": "code",
   "execution_count": 5,
   "metadata": {},
   "outputs": [],
   "source": [
    "from collections import Counter"
   ]
  },
  {
   "cell_type": "code",
   "execution_count": 6,
   "metadata": {},
   "outputs": [],
   "source": [
    "def valid_first_char(cc_num):\n",
    "    'Check if card number starts with either 4, 5 or 6.'\n",
    "    return int(cc_num[0]) in ([4, 5, 6])"
   ]
  },
  {
   "cell_type": "code",
   "execution_count": 7,
   "metadata": {},
   "outputs": [],
   "source": [
    "def valid_length(cc_num, n):\n",
    "    'Check if the length of card number equals to the given n'\n",
    "    return len(cc_num) == n"
   ]
  },
  {
   "cell_type": "code",
   "execution_count": 8,
   "metadata": {
    "code_folding": []
   },
   "outputs": [],
   "source": [
    "def valid_consecutive(cc_num, n=4):\n",
    "    'Check if cc_num has n or more consecutive repeated digits. n defaults to 4.'\n",
    "    return sum([max(Counter(cc_num[i:i+n]).values()) >= n for i in range(len(cc_num))]) == 0"
   ]
  },
  {
   "cell_type": "code",
   "execution_count": 9,
   "metadata": {},
   "outputs": [],
   "source": [
    "def validate_cc_num(cc_num):\n",
    "    #########################\n",
    "    # Case 1 - length is 16\n",
    "    ########################\n",
    "    if (valid_length(cc_num, 16) and\n",
    "            cc_num.isdigit() and\n",
    "            valid_first_char(cc_num) and\n",
    "            valid_consecutive(cc_num)):\n",
    "        return 'Valid'\n",
    "    #########################\n",
    "    # Case 2 - length is 19\n",
    "    ########################\n",
    "    elif valid_length(cc_num, 19):\n",
    "        # break into groups\n",
    "        groups = cc_num.split('-')\n",
    "        # groups must be size 4\n",
    "        valid_group_length = sum([not valid_length(group, 4)\n",
    "                                  for group in groups]) == 0\n",
    "        # groups must be only digits\n",
    "        valid_group_digits = sum([not group.isdigit()\n",
    "                                  for group in groups]) == 0\n",
    "        if (valid_group_length and\n",
    "                valid_group_digits and\n",
    "                valid_first_char(cc_num.replace('-', '')) and\n",
    "                valid_consecutive(cc_num.replace('-', ''))):\n",
    "            return 'Valid'\n",
    "        else:\n",
    "            return 'Invalid'\n",
    "    #########################\n",
    "    # Case 3 - invalid length\n",
    "    ########################\n",
    "    else:\n",
    "        # invalid length\n",
    "        return 'Invalid'"
   ]
  },
  {
   "cell_type": "code",
   "execution_count": 10,
   "metadata": {},
   "outputs": [],
   "source": [
    "check_set = {'4253625879615786': 'Valid',\n",
    "              '4424424424442444': 'Valid',\n",
    "              '5122-2368-7954-3214': 'Valid',\n",
    "              '42536258796157867': 'Invalid',\n",
    "              '4424444424442444': 'Invalid',\n",
    "              '5122-2368-7954 - 3214': 'Invalid',\n",
    "              '44244x4424442444': 'Invalid',\n",
    "              '0525362587961578': 'Invalid',\n",
    "              '6': 'Invalid',\n",
    "              '4123456789123456': 'Valid',\n",
    "              '5123-4567-8912-3456': 'Valid',\n",
    "              '61234-567-8912-3456': 'Invalid',\n",
    "              '4123356789123456': 'Valid',\n",
    "              '5133-3367-8912-3456': 'Invalid',\n",
    "              '5123 - 3567 - 8912 - 3456': 'Invalid'}"
   ]
  },
  {
   "cell_type": "code",
   "execution_count": 11,
   "metadata": {},
   "outputs": [
    {
     "data": {
      "text/plain": [
       "{'4253625879615786': True,\n",
       " '4424424424442444': True,\n",
       " '5122-2368-7954-3214': True,\n",
       " '42536258796157867': True,\n",
       " '4424444424442444': True,\n",
       " '5122-2368-7954 - 3214': True,\n",
       " '44244x4424442444': True,\n",
       " '0525362587961578': True,\n",
       " '6': True,\n",
       " '4123456789123456': True,\n",
       " '5123-4567-8912-3456': True,\n",
       " '61234-567-8912-3456': True,\n",
       " '4123356789123456': True,\n",
       " '5133-3367-8912-3456': True,\n",
       " '5123 - 3567 - 8912 - 3456': True}"
      ]
     },
     "execution_count": 11,
     "metadata": {},
     "output_type": "execute_result"
    }
   ],
   "source": [
    "test_result = {example: validate_cc_num(example) == expected_value  for example, expected_value in check_set.items()}\n",
    "test_result"
   ]
  },
  {
   "cell_type": "code",
   "execution_count": 12,
   "metadata": {},
   "outputs": [
    {
     "data": {
      "text/plain": [
       "Counter({True: 15})"
      ]
     },
     "execution_count": 12,
     "metadata": {},
     "output_type": "execute_result"
    }
   ],
   "source": [
    "Counter(test_result.values())"
   ]
  },
  {
   "cell_type": "code",
   "execution_count": 13,
   "metadata": {},
   "outputs": [
    {
     "data": {
      "text/plain": [
       "True"
      ]
     },
     "execution_count": 13,
     "metadata": {},
     "output_type": "execute_result"
    }
   ],
   "source": [
    "sum([not passed for passed in test_result.values()]) == 0"
   ]
  }
 ],
 "metadata": {
  "kernelspec": {
   "display_name": "Python 3",
   "language": "python",
   "name": "python3"
  },
  "language_info": {
   "codemirror_mode": {
    "name": "ipython",
    "version": 3
   },
   "file_extension": ".py",
   "mimetype": "text/x-python",
   "name": "python",
   "nbconvert_exporter": "python",
   "pygments_lexer": "ipython3",
   "version": "3.8.5"
  },
  "toc": {
   "base_numbering": 1,
   "nav_menu": {},
   "number_sections": true,
   "sideBar": true,
   "skip_h1_title": false,
   "title_cell": "Table of Contents",
   "title_sidebar": "Contents",
   "toc_cell": false,
   "toc_position": {
    "height": "calc(100% - 180px)",
    "left": "10px",
    "top": "150px",
    "width": "384px"
   },
   "toc_section_display": true,
   "toc_window_display": true
  },
  "varInspector": {
   "cols": {
    "lenName": 16,
    "lenType": 16,
    "lenVar": 40
   },
   "kernels_config": {
    "python": {
     "delete_cmd_postfix": "",
     "delete_cmd_prefix": "del ",
     "library": "var_list.py",
     "varRefreshCmd": "print(var_dic_list())"
    },
    "r": {
     "delete_cmd_postfix": ") ",
     "delete_cmd_prefix": "rm(",
     "library": "var_list.r",
     "varRefreshCmd": "cat(var_dic_list()) "
    }
   },
   "types_to_exclude": [
    "module",
    "function",
    "builtin_function_or_method",
    "instance",
    "_Feature"
   ],
   "window_display": false
  }
 },
 "nbformat": 4,
 "nbformat_minor": 5
}
