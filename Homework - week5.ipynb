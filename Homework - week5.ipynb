{
 "cells": [
  {
   "cell_type": "markdown",
   "metadata": {},
   "source": [
    "**Homeworks – Optimization, 2021/22. semester I.**\n",
    "\n",
    "*Week 5*\n",
    "\n",
    "- name: Nagy, Balázs\n",
    "- neptun: hpq7oi\n",
    "- e-mail: [balazs_nagy@outlook.com](balazs_nagy@outlook.com)"
   ]
  },
  {
   "cell_type": "markdown",
   "metadata": {},
   "source": [
    "# Ex1"
   ]
  },
  {
   "cell_type": "markdown",
   "metadata": {},
   "source": [
    "![img/w5ex1.png](img/w5ex1.png)"
   ]
  },
  {
   "cell_type": "markdown",
   "metadata": {},
   "source": [
    "The definition of the Bregman divergence given:\n",
    "\n",
    "$$\n",
    "D_f(x,y)=f(x)-(f(y)-<\\nabla f(y),x-y>)\n",
    "$$\n",
    "\n",
    "When $f$ is a strictily convex function the $D_f(x,y)=f(x)-(f(y)-<\\nabla f(y),x-y>)=f(x)-f(y)-x^T\\nabla f(y)+y^T\\nabla f(y)$ is the sum of strictily convex function plus constants. Consequently, $D_f$ is also strictly convex."
   ]
  },
  {
   "cell_type": "markdown",
   "metadata": {},
   "source": [
    "# Ex2"
   ]
  },
  {
   "cell_type": "markdown",
   "metadata": {},
   "source": [
    "![img/w5ex2.png](img/w5ex2.png)"
   ]
  },
  {
   "cell_type": "markdown",
   "metadata": {},
   "source": [
    "Kullback-Leibler divergence:\n",
    "\n",
    "$$\n",
    "D_{KL}(p,q)=-\\sum_{i=1}^n p_i \\log \\frac{q_i}{p_i}\n",
    "$$"
   ]
  },
  {
   "cell_type": "markdown",
   "metadata": {},
   "source": [
    "Let $q$ be $p^1$. This yields:\n",
    "\n",
    "\\begin{align}\n",
    "D_{KL}(p,p^1)&=-\\sum_{i=1}^n p_i \\log \\frac{q_i}{p_i} \\\\\n",
    "&=-\\sum_{i=1}^n p_i \\log \\frac{1/n}{p_i} \\\\\n",
    "&=\\sum_{i=1}^n p_i \\log n p_i\n",
    "\\end{align}"
   ]
  },
  {
   "cell_type": "markdown",
   "metadata": {},
   "source": [
    "Note, that for all $p \\in \\Delta_n$ and for all $i=1,\\dots,n$\n",
    "\n",
    "- $0\\leq p_i \\leq 1$ and\n",
    "- $\\sum_ip_i=1$\n",
    "\n",
    "Using these observations we can write:\n",
    "\n",
    "\\begin{align}\n",
    "D_{KL}(p,p^1)&=\\sum_{i=1}^n p_i \\log n p_i \\\\\n",
    "&\\leq \\sum_{i=1}^n \\log n p_i\\\\\n",
    "&\\leq \\log n\n",
    "\\end{align}"
   ]
  },
  {
   "cell_type": "markdown",
   "metadata": {},
   "source": [
    "# Ex3"
   ]
  },
  {
   "cell_type": "markdown",
   "metadata": {},
   "source": [
    "![img/w5ex3.png](img/w5ex3.png)"
   ]
  },
  {
   "cell_type": "markdown",
   "metadata": {},
   "source": [
    "The definition of the Bregman divergence given:\n",
    "\n",
    "$$\n",
    "D_f(x,y)=f(x)-(f(y)-<\\nabla f(y),x-y>)\n",
    "$$\n",
    "\n",
    "When $f$ is a convex, differentiable function $f(x)\\geq f(y)-<\\nabla f(y),x-y>$ and $=$ if and only if when $x=y$. Consequently, $D_f(x,y)\\geq 0$."
   ]
  },
  {
   "cell_type": "markdown",
   "metadata": {},
   "source": [
    "# Ex4"
   ]
  },
  {
   "cell_type": "markdown",
   "metadata": {},
   "source": [
    "![img/w5ex4.png](img/w5ex4.png)"
   ]
  },
  {
   "cell_type": "markdown",
   "metadata": {},
   "source": [
    "Let $f$ be the *squared Euclidean-norm*: $f(x)=\\|x\\|^2_2=\\langle x,x\\rangle$"
   ]
  },
  {
   "cell_type": "markdown",
   "metadata": {},
   "source": [
    "Then the Bregman divergence is the *squared Euclidean distance*:\n",
    "\n",
    "\\begin{align}\n",
    "D_f(x,y) &= \\langle x, x \\rangle - \\langle y, y \\rangle - \\langle x-y, \\nabla f(y) \\rangle \\\\\n",
    "&= \\langle x, x \\rangle - \\langle y, y \\rangle - \\langle x-y, 2y \\rangle \\\\\n",
    "&= \\langle x-y, x-y \\rangle \\\\\n",
    "&= \\|x-y \\|^2_2\n",
    "\\end{align}"
   ]
  },
  {
   "cell_type": "markdown",
   "metadata": {},
   "source": [
    "# Ex8"
   ]
  },
  {
   "cell_type": "markdown",
   "metadata": {},
   "source": [
    "![img/w5ex8.png](img/w5ex8.png)"
   ]
  },
  {
   "cell_type": "markdown",
   "metadata": {},
   "source": [
    "## Analysing the problem"
   ]
  },
  {
   "cell_type": "markdown",
   "metadata": {},
   "source": [
    "In our example\n",
    "\n",
    "\\begin{align}\n",
    "f(x) &= x \\log x \\\\\n",
    "f'(x) & =\\log x +1 \\\\\n",
    "f''(x)& =\\frac{1}{x}.\n",
    "\\end{align}\n",
    "\n",
    "It is clear that $f(x)$ is a convex function, and $f(x=1)=0$.\n",
    "\n",
    "Also, $f'(x)=0$ when $\\log x+1=0 \\rightarrow x=0.1$ which is a (global) minimum $(f''(0.1)>0)$ and $f(x=0.1)=-0.1$."
   ]
  },
  {
   "cell_type": "code",
   "execution_count": 1,
   "metadata": {},
   "outputs": [],
   "source": [
    "import matplotlib.pyplot as plt\n",
    "import numpy as np"
   ]
  },
  {
   "cell_type": "code",
   "execution_count": 2,
   "metadata": {},
   "outputs": [],
   "source": [
    "# implement our function\n",
    "f = lambda x: x*np.log10(x) # original function f\n",
    "f_d = lambda x: np.log10(x) + 1 # first derivative of f\n",
    "f_d2 = lambda x: 1/x #second derivative of f\n",
    "#tangent = lambda x, x0: f_d(x0)*(x-x0)+f(x0)"
   ]
  },
  {
   "cell_type": "code",
   "execution_count": 3,
   "metadata": {},
   "outputs": [
    {
     "data": {
      "image/png": "[encoded data removed]",
      "text/plain": [
       "<Figure size 1080x720 with 1 Axes>"
      ]
     },
     "metadata": {
      "needs_background": "light"
     },
     "output_type": "display_data"
    }
   ],
   "source": [
    "# create 1000 equally spaced points\n",
    "x = np.linspace(0.0001, 5, 1000)\n",
    "#x0 = 3\n",
    "\n",
    "# create plot\n",
    "fig, ax = plt.subplots()\n",
    "\n",
    "# draw coordinate lines\n",
    "ax.axhline(y=0, color='black')\n",
    "ax.axvline(x=0, color='black')\n",
    "\n",
    "# draw curves\n",
    "ax.plot(x, f(x), label='$f(x)=x\\log x$')\n",
    "#ax.plot(x, f_d(x), label='$\\partial f(x)=\\log x+1$')\n",
    "#ax.plot(x, f_d2(x), label='$\\partial^2 f(x)=1/x$')\n",
    "#ax.plot(x, tangent(x, x0), label=f'Tangent of $f$ at $x_0$={x0}')\n",
    "\n",
    "# misc. plot settings\n",
    "fig.set_size_inches(15, 10)\n",
    "plt.legend(loc='upper right')\n",
    "plt.grid(True)\n",
    "plt.title(\"Plot of $f(x)=x\\log x$\")\n",
    "# show the plot\n",
    "plt.show()"
   ]
  },
  {
   "cell_type": "markdown",
   "metadata": {},
   "source": [
    "Newton's method.\n",
    "\n",
    "$$\n",
    "x_{t+1}=x_t + \\frac{f(x_t)}{f'(x_t)}\n",
    "$$"
   ]
  },
  {
   "cell_type": "markdown",
   "metadata": {},
   "source": [
    "Let's implement Newton's method in Python:"
   ]
  },
  {
   "cell_type": "code",
   "execution_count": 4,
   "metadata": {},
   "outputs": [],
   "source": [
    "def newtons_method_step(f, f_d, x0, steps):\n",
    "    t = 0\n",
    "    x_prev = x0\n",
    "    while t < steps+1:\n",
    "        x_next = x_prev - (f(x_prev)/f_d(x_prev))\n",
    "        print(f'Step{t}: x({t})={x_prev:.2f}-{f(x_prev):.2f}/{f_d(x_prev):.2f}={x_next:.2f}')\n",
    "        x_prev = x_next\n",
    "        t += 1\n",
    "    return x_next"
   ]
  },
  {
   "cell_type": "markdown",
   "metadata": {},
   "source": [
    "## Finding the root of $f$"
   ]
  },
  {
   "cell_type": "markdown",
   "metadata": {},
   "source": [
    "First let's apply Newton's method to find the root of our function $f(x)=x \\log x$."
   ]
  },
  {
   "cell_type": "markdown",
   "metadata": {},
   "source": [
    "Let's start the method from $x_0=1$ and iterate through $10$ steps."
   ]
  },
  {
   "cell_type": "code",
   "execution_count": 5,
   "metadata": {},
   "outputs": [
    {
     "name": "stdout",
     "output_type": "stream",
     "text": [
      "Step0: x(0)=1.00-0.00/1.00=1.00\n",
      "Step1: x(1)=1.00-0.00/1.00=1.00\n",
      "Step2: x(2)=1.00-0.00/1.00=1.00\n",
      "Step3: x(3)=1.00-0.00/1.00=1.00\n",
      "Step4: x(4)=1.00-0.00/1.00=1.00\n",
      "Step5: x(5)=1.00-0.00/1.00=1.00\n",
      "Step6: x(6)=1.00-0.00/1.00=1.00\n",
      "Step7: x(7)=1.00-0.00/1.00=1.00\n",
      "Step8: x(8)=1.00-0.00/1.00=1.00\n",
      "Step9: x(9)=1.00-0.00/1.00=1.00\n",
      "Step10: x(10)=1.00-0.00/1.00=1.00\n"
     ]
    },
    {
     "data": {
      "text/plain": [
       "1.0"
      ]
     },
     "execution_count": 5,
     "metadata": {},
     "output_type": "execute_result"
    }
   ],
   "source": [
    "newtons_method_step(f, f_d, x0=1, steps=10)"
   ]
  },
  {
   "cell_type": "markdown",
   "metadata": {},
   "source": [
    "Now, let's start the method from $x_0=0.3$ and iterate through $10$ steps."
   ]
  },
  {
   "cell_type": "code",
   "execution_count": 6,
   "metadata": {},
   "outputs": [
    {
     "name": "stdout",
     "output_type": "stream",
     "text": [
      "Step0: x(0)=0.30--0.16/0.48=0.63\n",
      "Step1: x(1)=0.63--0.13/0.80=0.79\n",
      "Step2: x(2)=0.79--0.08/0.90=0.88\n",
      "Step3: x(3)=0.88--0.05/0.94=0.93\n",
      "Step4: x(4)=0.93--0.03/0.97=0.96\n",
      "Step5: x(5)=0.96--0.02/0.98=0.98\n",
      "Step6: x(6)=0.98--0.01/0.99=0.99\n",
      "Step7: x(7)=0.99--0.01/0.99=0.99\n",
      "Step8: x(8)=0.99--0.00/1.00=1.00\n",
      "Step9: x(9)=1.00--0.00/1.00=1.00\n",
      "Step10: x(10)=1.00--0.00/1.00=1.00\n"
     ]
    },
    {
     "data": {
      "text/plain": [
       "0.9987096683943577"
      ]
     },
     "execution_count": 6,
     "metadata": {},
     "output_type": "execute_result"
    }
   ],
   "source": [
    "newtons_method_step(f, f_d, x0=0.3, steps=10)"
   ]
  },
  {
   "cell_type": "markdown",
   "metadata": {},
   "source": [
    "Now, let's start the method from $x_0=3$ and iterate through $15$ steps."
   ]
  },
  {
   "cell_type": "code",
   "execution_count": 7,
   "metadata": {
    "scrolled": true
   },
   "outputs": [
    {
     "name": "stdout",
     "output_type": "stream",
     "text": [
      "Step0: x(0)=3.00-1.43/1.48=2.03\n",
      "Step1: x(1)=2.03-0.62/1.31=1.55\n",
      "Step2: x(2)=1.55-0.30/1.19=1.30\n",
      "Step3: x(3)=1.30-0.15/1.12=1.17\n",
      "Step4: x(4)=1.17-0.08/1.07=1.09\n",
      "Step5: x(5)=1.09-0.04/1.04=1.05\n",
      "Step6: x(6)=1.05-0.02/1.02=1.03\n",
      "Step7: x(7)=1.03-0.01/1.01=1.02\n",
      "Step8: x(8)=1.02-0.01/1.01=1.01\n",
      "Step9: x(9)=1.01-0.00/1.00=1.01\n",
      "Step10: x(10)=1.01-0.00/1.00=1.00\n",
      "Step11: x(11)=1.00-0.00/1.00=1.00\n",
      "Step12: x(12)=1.00-0.00/1.00=1.00\n",
      "Step13: x(13)=1.00-0.00/1.00=1.00\n",
      "Step14: x(14)=1.00-0.00/1.00=1.00\n",
      "Step15: x(15)=1.00-0.00/1.00=1.00\n"
     ]
    },
    {
     "data": {
      "text/plain": [
       "1.000178053996309"
      ]
     },
     "execution_count": 7,
     "metadata": {},
     "output_type": "execute_result"
    }
   ],
   "source": [
    "newtons_method_step(f, f_d, x0=3, steps=15)"
   ]
  },
  {
   "cell_type": "markdown",
   "metadata": {},
   "source": [
    "## Minimizing $f$"
   ]
  },
  {
   "cell_type": "markdown",
   "metadata": {},
   "source": [
    "Now, let's consider the problem of minimizing the same function $f(x)=x \\log x$ over $x \\in \\mathbb{R}_{>0}$. Let's perform\n",
    "the full convergence analysis of Newton's method - considering all starting points $x_0$ $\\in$ $\\mathbb{R}_{>0}$ and determine where the method converges for each of them."
   ]
  },
  {
   "cell_type": "markdown",
   "metadata": {},
   "source": [
    "Let's remember that the global minimum $f(x=1)=0$."
   ]
  },
  {
   "cell_type": "markdown",
   "metadata": {},
   "source": [
    "### From the root"
   ]
  },
  {
   "cell_type": "markdown",
   "metadata": {},
   "source": [
    "Let's start the method in the root $x_0=1$ and iterate through $10$ steps."
   ]
  },
  {
   "cell_type": "code",
   "execution_count": 8,
   "metadata": {
    "scrolled": true
   },
   "outputs": [
    {
     "name": "stdout",
     "output_type": "stream",
     "text": [
      "Step0: x(0)=1.00-1.00/1.00=0.00\n",
      "Step1: x(1)=0.00--inf/inf=nan\n",
      "Step2: x(2)=nan-nan/nan=nan\n",
      "Step3: x(3)=nan-nan/nan=nan\n",
      "Step4: x(4)=nan-nan/nan=nan\n",
      "Step5: x(5)=nan-nan/nan=nan\n",
      "Step6: x(6)=nan-nan/nan=nan\n",
      "Step7: x(7)=nan-nan/nan=nan\n",
      "Step8: x(8)=nan-nan/nan=nan\n",
      "Step9: x(9)=nan-nan/nan=nan\n",
      "Step10: x(10)=nan-nan/nan=nan\n"
     ]
    },
    {
     "name": "stderr",
     "output_type": "stream",
     "text": [
      "<ipython-input-2-a55c33514a81>:3: RuntimeWarning: divide by zero encountered in log10\n",
      "  f_d = lambda x: np.log10(x) + 1 # first derivative of f\n",
      "<ipython-input-2-a55c33514a81>:4: RuntimeWarning: divide by zero encountered in double_scalars\n",
      "  f_d2 = lambda x: 1/x #second derivative of f\n",
      "<ipython-input-4-ba8f198b8438>:5: RuntimeWarning: invalid value encountered in double_scalars\n",
      "  x_next = x_prev - (f(x_prev)/f_d(x_prev))\n"
     ]
    },
    {
     "data": {
      "text/plain": [
       "nan"
      ]
     },
     "execution_count": 8,
     "metadata": {},
     "output_type": "execute_result"
    }
   ],
   "source": [
    "newtons_method_step(f_d, f_d2, x0=1, steps=10)"
   ]
  },
  {
   "cell_type": "markdown",
   "metadata": {},
   "source": [
    "The method does not converge when starting in the root."
   ]
  },
  {
   "cell_type": "markdown",
   "metadata": {},
   "source": [
    "### Above the root"
   ]
  },
  {
   "cell_type": "markdown",
   "metadata": {},
   "source": [
    "Let's try starting it above the root."
   ]
  },
  {
   "cell_type": "code",
   "execution_count": 9,
   "metadata": {},
   "outputs": [
    {
     "name": "stdout",
     "output_type": "stream",
     "text": [
      "Step0: x(0)=3.00-1.48/0.33=-1.43\n",
      "Step1: x(1)=-1.43-nan/-0.70=nan\n",
      "Step2: x(2)=nan-nan/nan=nan\n",
      "Step3: x(3)=nan-nan/nan=nan\n",
      "Step4: x(4)=nan-nan/nan=nan\n",
      "Step5: x(5)=nan-nan/nan=nan\n",
      "Step6: x(6)=nan-nan/nan=nan\n",
      "Step7: x(7)=nan-nan/nan=nan\n",
      "Step8: x(8)=nan-nan/nan=nan\n",
      "Step9: x(9)=nan-nan/nan=nan\n",
      "Step10: x(10)=nan-nan/nan=nan\n"
     ]
    },
    {
     "name": "stderr",
     "output_type": "stream",
     "text": [
      "<ipython-input-2-a55c33514a81>:3: RuntimeWarning: invalid value encountered in log10\n",
      "  f_d = lambda x: np.log10(x) + 1 # first derivative of f\n"
     ]
    },
    {
     "data": {
      "text/plain": [
       "nan"
      ]
     },
     "execution_count": 9,
     "metadata": {},
     "output_type": "execute_result"
    }
   ],
   "source": [
    "newtons_method_step(f_d, f_d2, x0=3, steps=10)"
   ]
  },
  {
   "cell_type": "markdown",
   "metadata": {},
   "source": [
    "The method does not converge when starting above the root."
   ]
  },
  {
   "cell_type": "markdown",
   "metadata": {},
   "source": [
    "### Below the root"
   ]
  },
  {
   "cell_type": "markdown",
   "metadata": {},
   "source": [
    "Let's try starting it below the root."
   ]
  },
  {
   "cell_type": "code",
   "execution_count": 10,
   "metadata": {},
   "outputs": [
    {
     "name": "stdout",
     "output_type": "stream",
     "text": [
      "Step0: x(0)=0.50-0.70/2.00=0.15\n",
      "Step1: x(1)=0.15-0.18/6.64=0.12\n",
      "Step2: x(2)=0.12-0.09/8.08=0.11\n",
      "Step3: x(3)=0.11-0.05/8.90=0.11\n",
      "Step4: x(4)=0.11-0.03/9.38=0.10\n",
      "Step5: x(5)=0.10-0.02/9.65=0.10\n",
      "Step6: x(6)=0.10-0.01/9.80=0.10\n",
      "Step7: x(7)=0.10-0.00/9.89=0.10\n",
      "Step8: x(8)=0.10-0.00/9.94=0.10\n",
      "Step9: x(9)=0.10-0.00/9.96=0.10\n",
      "Step10: x(10)=0.10-0.00/9.98=0.10\n",
      "Step11: x(11)=0.10-0.00/9.99=0.10\n",
      "Step12: x(12)=0.10-0.00/9.99=0.10\n",
      "Step13: x(13)=0.10-0.00/10.00=0.10\n",
      "Step14: x(14)=0.10-0.00/10.00=0.10\n",
      "Step15: x(15)=0.10-0.00/10.00=0.10\n"
     ]
    },
    {
     "data": {
      "text/plain": [
       "0.10000674642712831"
      ]
     },
     "execution_count": 10,
     "metadata": {},
     "output_type": "execute_result"
    }
   ],
   "source": [
    "newtons_method_step(f_d, f_d2, x0=0.5, steps=15)"
   ]
  },
  {
   "cell_type": "markdown",
   "metadata": {},
   "source": [
    "The method converges when the starting point is below the root and positive."
   ]
  }
 ],
 "metadata": {
  "kernelspec": {
   "display_name": "Python 3",
   "language": "python",
   "name": "python3"
  },
  "language_info": {
   "codemirror_mode": {
    "name": "ipython",
    "version": 3
   },
   "file_extension": ".py",
   "mimetype": "text/x-python",
   "name": "python",
   "nbconvert_exporter": "python",
   "pygments_lexer": "ipython3",
   "version": "3.8.5"
  },
  "toc": {
   "base_numbering": 1,
   "nav_menu": {},
   "number_sections": true,
   "sideBar": true,
   "skip_h1_title": false,
   "title_cell": "Table of Contents",
   "title_sidebar": "Contents",
   "toc_cell": false,
   "toc_position": {},
   "toc_section_display": true,
   "toc_window_display": true
  },
  "varInspector": {
   "cols": {
    "lenName": 16,
    "lenType": 16,
    "lenVar": 40
   },
   "kernels_config": {
    "python": {
     "delete_cmd_postfix": "",
     "delete_cmd_prefix": "del ",
     "library": "var_list.py",
     "varRefreshCmd": "print(var_dic_list())"
    },
    "r": {
     "delete_cmd_postfix": ") ",
     "delete_cmd_prefix": "rm(",
     "library": "var_list.r",
     "varRefreshCmd": "cat(var_dic_list()) "
    }
   },
   "types_to_exclude": [
    "module",
    "function",
    "builtin_function_or_method",
    "instance",
    "_Feature"
   ],
   "window_display": false
  }
 },
 "nbformat": 4,
 "nbformat_minor": 4
}
