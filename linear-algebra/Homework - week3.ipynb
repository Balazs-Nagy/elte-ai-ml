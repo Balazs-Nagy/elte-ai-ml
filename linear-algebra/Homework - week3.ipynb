{
 "cells": [
  {
   "cell_type": "markdown",
   "metadata": {},
   "source": [
    "**Homeworks – Basics in linear algebra and numerical methods, 2021/22. semester I.**\n",
    "\n",
    "*Week 3*\n",
    "\n",
    "- name: Nagy, Balázs\n",
    "- neptun: hpq7oi\n",
    "- e-mail: [balazs_nagy@outlook.com](balazs_nagy@outlook.com)"
   ]
  },
  {
   "cell_type": "code",
   "execution_count": 1,
   "metadata": {},
   "outputs": [],
   "source": [
    "import numpy as np"
   ]
  },
  {
   "cell_type": "markdown",
   "metadata": {},
   "source": [
    "# Ex1"
   ]
  },
  {
   "cell_type": "markdown",
   "metadata": {},
   "source": [
    "## Problem"
   ]
  },
  {
   "attachments": {},
   "cell_type": "markdown",
   "metadata": {},
   "source": [
    "![img/week3a.png](img/week3a.png)"
   ]
  },
  {
   "cell_type": "markdown",
   "metadata": {},
   "source": [
    "## Solution"
   ]
  },
  {
   "cell_type": "markdown",
   "metadata": {},
   "source": [
    "We can see that for the given $n\\times n$ matrix $A$ the following assumption of the iterative approximation is not satisfied:\n",
    "\n",
    "$A_{j,j}>|A_{j,1}|+|A_{j,j-1}+\\dots+|A_{j,n}|$\n",
    "\n",
    "However, we can rearrange the rows in a way that the condition is satisfied using a simple **permutation matrix**."
   ]
  },
  {
   "cell_type": "code",
   "execution_count": 2,
   "metadata": {},
   "outputs": [
    {
     "name": "stdout",
     "output_type": "stream",
     "text": [
      "Define matrix A, shape: (3, 3)\n",
      "[[ 1  0  4]\n",
      " [ 5  2 -2]\n",
      " [ 2  9  3]]\n"
     ]
    }
   ],
   "source": [
    "A = np.array([[1, 0, 4], [5, 2, -2], [2, 9, 3]])\n",
    "print(f'Define matrix A, shape: {A.shape}')\n",
    "print(A)"
   ]
  },
  {
   "cell_type": "code",
   "execution_count": 3,
   "metadata": {},
   "outputs": [],
   "source": [
    "def row_sum_excluding_diagonal_element(A):\n",
    "    n = A.shape[0]\n",
    "    # helper matrix for scalar products excluding diagonal\n",
    "    S = np.ones((n,n))\n",
    "    np.fill_diagonal(S, 0)\n",
    "    return np.sum(abs(A)*S, axis=1)"
   ]
  },
  {
   "cell_type": "code",
   "execution_count": 4,
   "metadata": {},
   "outputs": [
    {
     "name": "stdout",
     "output_type": "stream",
     "text": [
      "The diagonal elements of A:\n",
      "[1 2 3]\n",
      "\n",
      "\n",
      "The rowsums without the diagonal elements:\n",
      "[ 4.  7. 11.]\n",
      "\n",
      "\n",
      "Check if the A[j,j] > sum A[j, i] i!=j:\n",
      "[False False False]\n"
     ]
    }
   ],
   "source": [
    "print('The diagonal elements of A:')\n",
    "print(A.diagonal())\n",
    "\n",
    "print('\\n')\n",
    "print('The rowsums without the diagonal elements:')\n",
    "print(row_sum_excluding_diagonal_element(A))\n",
    "\n",
    "print('\\n')\n",
    "print('Check if the A[j,j] > sum A[j, i] i!=j:')\n",
    "print(A.diagonal() > row_sum_excluding_diagonal_element(A))"
   ]
  },
  {
   "cell_type": "code",
   "execution_count": 5,
   "metadata": {},
   "outputs": [
    {
     "name": "stdout",
     "output_type": "stream",
     "text": [
      "Matrix A:\n",
      "[[ 1  0  4]\n",
      " [ 5  2 -2]\n",
      " [ 2  9  3]]\n",
      "\n",
      "\n",
      "Define the permutation matrix P:\n",
      "[[0 1 0]\n",
      " [0 0 1]\n",
      " [1 0 0]]\n",
      "\n",
      "\n",
      "Calculate the matrix product PA:\n",
      "[[ 5  2 -2]\n",
      " [ 2  9  3]\n",
      " [ 1  0  4]]\n"
     ]
    }
   ],
   "source": [
    "print('Matrix A:')\n",
    "print(A)\n",
    "\n",
    "P = np.array([[0, 1, 0], [0, 0, 1], [1, 0, 0]])\n",
    "print('\\n')\n",
    "print('Define the permutation matrix P:')\n",
    "print(P)\n",
    "\n",
    "print('\\n')\n",
    "print('Calculate the matrix product PA:')\n",
    "print(P@A)"
   ]
  },
  {
   "cell_type": "code",
   "execution_count": 6,
   "metadata": {},
   "outputs": [
    {
     "name": "stdout",
     "output_type": "stream",
     "text": [
      "The diagonal elements of A:\n",
      "[5 9 4]\n",
      "\n",
      "\n",
      "The rowsums without the diagonal elements:\n",
      "[4. 5. 1.]\n",
      "\n",
      "\n",
      "Check if the A[j,j] > sum A[j, i] i!=j:\n",
      "[ True  True  True]\n"
     ]
    }
   ],
   "source": [
    "print('The diagonal elements of A:')\n",
    "print((P@A).diagonal())\n",
    "\n",
    "print('\\n')\n",
    "print('The rowsums without the diagonal elements:')\n",
    "print(row_sum_excluding_diagonal_element(P@A))\n",
    "\n",
    "print('\\n')\n",
    "print('Check if the A[j,j] > sum A[j, i] i!=j:')\n",
    "print((P@A).diagonal() > row_sum_excluding_diagonal_element(P@A))"
   ]
  },
  {
   "cell_type": "markdown",
   "metadata": {},
   "source": [
    "# Ex2"
   ]
  },
  {
   "cell_type": "markdown",
   "metadata": {},
   "source": [
    "## Problem"
   ]
  },
  {
   "attachments": {},
   "cell_type": "markdown",
   "metadata": {},
   "source": [
    "![img/week3b.png](img/week3b.png)"
   ]
  },
  {
   "cell_type": "markdown",
   "metadata": {},
   "source": [
    "## Solution"
   ]
  },
  {
   "cell_type": "markdown",
   "metadata": {},
   "source": [
    "I use random integers in hope of an easier visual understanding."
   ]
  },
  {
   "cell_type": "code",
   "execution_count": 7,
   "metadata": {},
   "outputs": [],
   "source": [
    "def calc_M(A):\n",
    "    n = A.shape[0]\n",
    "    # helper matrix for scalar products excluding diagonal\n",
    "    S = np.ones((n,n))\n",
    "    np.fill_diagonal(S, 0)\n",
    "    return A.diagonal() - np.sum(abs(A)*S, axis=1)"
   ]
  },
  {
   "cell_type": "code",
   "execution_count": 8,
   "metadata": {},
   "outputs": [
    {
     "name": "stdout",
     "output_type": "stream",
     "text": [
      "Matrix A with shape (10, 10):\n",
      "[[-2 -2 -2  3 -1  3  4  3 -2  2]\n",
      " [-5 -3 -4  2  4  2  3 -2 -5  2]\n",
      " [ 3  4 -3 -1 -3 -2  0 -4 -5  0]\n",
      " [ 1 -2 -2 -4  3 -5  0 -3  4  1]\n",
      " [ 1 -3 -2 -1  1 -2 -3  0  1  0]\n",
      " [-3 -5  1  0 -2 -5  4 -4  4 -4]\n",
      " [ 2  0  1  4  3  0  3 -1 -3 -2]\n",
      " [-1  1 -4  1  4 -3 -3 -2 -5  4]\n",
      " [ 4  4  0  1 -5 -3 -5 -2  3 -2]\n",
      " [-5 -3 -4 -2  3  4 -2  2  3  2]]\n",
      "\n",
      "\n",
      "The solution vector:\n",
      "[-24. -32. -25. -25. -12. -32. -13. -28. -23. -26.]\n"
     ]
    }
   ],
   "source": [
    "n = 10\n",
    "A = np.random.randint(low=-5, high=5, size=(n,n))\n",
    "print(f'Matrix A with shape {A.shape}:')\n",
    "print(A)\n",
    "\n",
    "print('\\n')\n",
    "print('The solution vector:')\n",
    "print(calc_M(A))"
   ]
  },
  {
   "cell_type": "markdown",
   "metadata": {},
   "source": [
    "# Ex3"
   ]
  },
  {
   "cell_type": "markdown",
   "metadata": {},
   "source": [
    "## Problem"
   ]
  },
  {
   "attachments": {},
   "cell_type": "markdown",
   "metadata": {},
   "source": [
    "![img/week3c.png](img/week3c.png)"
   ]
  },
  {
   "cell_type": "markdown",
   "metadata": {},
   "source": [
    "## Solution"
   ]
  },
  {
   "cell_type": "code",
   "execution_count": 9,
   "metadata": {},
   "outputs": [],
   "source": [
    "from scipy.linalg import lstsq"
   ]
  },
  {
   "cell_type": "code",
   "execution_count": 10,
   "metadata": {},
   "outputs": [
    {
     "name": "stdout",
     "output_type": "stream",
     "text": [
      "Matrix A, shape: (11, 10)\n",
      "[[0.54089695 0.0849392  0.82663515 0.72250916 0.71621568 0.02788751\n",
      "  0.77592668 0.17855065 0.22396428 0.18541897]\n",
      " [0.64428586 0.00154193 0.99865465 0.59258828 0.25499246 0.61787305\n",
      "  0.93136053 0.01126604 0.87192953 0.70347928]\n",
      " [0.79085204 0.61843687 0.49470553 0.84731547 0.27216325 0.00461995\n",
      "  0.8720457  0.42320351 0.44664511 0.23190653]\n",
      " [0.46881425 0.73752553 0.35055942 0.93404853 0.89536618 0.29321404\n",
      "  0.76423906 0.54408554 0.33481925 0.81452502]\n",
      " [0.02349231 0.05654562 0.73173018 0.31273242 0.57866843 0.19420636\n",
      "  0.72743349 0.87137727 0.10375736 0.5408384 ]\n",
      " [0.82478501 0.27280031 0.9125986  0.40806202 0.82082189 0.47374221\n",
      "  0.42100855 0.73752859 0.28003784 0.72200973]\n",
      " [0.39014835 0.36995543 0.74912637 0.3067997  0.46259859 0.59597099\n",
      "  0.00206932 0.90621465 0.27944336 0.54740872]\n",
      " [0.57346024 0.16277826 0.52499513 0.54009552 0.29920455 0.97400302\n",
      "  0.78165721 0.14775702 0.92005586 0.05053819]\n",
      " [0.48295434 0.59044346 0.31411764 0.62333773 0.39490003 0.63831835\n",
      "  0.72930092 0.68694852 0.88736737 0.01492118]\n",
      " [0.07840219 0.10235563 0.4556752  0.83179871 0.67381015 0.8223656\n",
      "  0.4234617  0.64900036 0.92218936 0.38251559]\n",
      " [0.7966926  0.68836159 0.92404562 0.87073342 0.00380077 0.86328544\n",
      "  0.78025832 0.41796821 0.78062963 0.90955499]]\n",
      "\n",
      "\n",
      "Vector b, shape: (11,)\n",
      "[0.76883117 0.88470925 0.26986447 0.31712884 0.91592739 0.61065088\n",
      " 0.00856899 0.13788837 0.949268   0.2288995  0.97890264]\n",
      "\n",
      "\n",
      "Vector xh, shape: (10,)\n",
      "[-1.16319169  1.49070354  1.48777569 -1.37231744  0.35069316 -0.84180364\n",
      "  0.61453204 -0.43491506  1.14518987 -0.03669102]\n",
      "\n",
      "\n",
      "Square of the 2-norm for each column\n",
      "using scipy: 0.5024835248422455\n",
      "manually calculating: 0.5024835248422449\n",
      "\n",
      "\n",
      "The error of the approximation:\n",
      "0.7088607231623465\n"
     ]
    }
   ],
   "source": [
    "A = np.random.rand(11,10)\n",
    "b = np.random.rand(11,)\n",
    "\n",
    "#results\n",
    "results = lstsq(A, b)\n",
    "\n",
    "print(f'Matrix A, shape: {A.shape}')\n",
    "print(A)\n",
    "\n",
    "print('\\n')\n",
    "print(f'Vector b, shape: {b.shape}')\n",
    "print(b)\n",
    "\n",
    "xh = lstsq(A, b)[0]\n",
    "print('\\n')\n",
    "print(f'Vector xh, shape: {xh.shape}')\n",
    "print(xh)\n",
    "\n",
    "print('\\n')\n",
    "print('Square of the 2-norm for each column')\n",
    "print(f'using scipy: {results[1]}')\n",
    "print(f'manually calculating: {sum((A@xh-b)**2)}')\n",
    "\n",
    "print('\\n')\n",
    "print('The error of the approximation:')\n",
    "print(np.linalg.norm(A@xh-b))"
   ]
  }
 ],
 "metadata": {
  "kernelspec": {
   "display_name": "Python 3",
   "language": "python",
   "name": "python3"
  },
  "language_info": {
   "codemirror_mode": {
    "name": "ipython",
    "version": 3
   },
   "file_extension": ".py",
   "mimetype": "text/x-python",
   "name": "python",
   "nbconvert_exporter": "python",
   "pygments_lexer": "ipython3",
   "version": "3.8.5"
  },
  "toc": {
   "base_numbering": 1,
   "nav_menu": {},
   "number_sections": true,
   "sideBar": true,
   "skip_h1_title": false,
   "title_cell": "Table of Contents",
   "title_sidebar": "Contents",
   "toc_cell": false,
   "toc_position": {
    "height": "calc(100% - 180px)",
    "left": "10px",
    "top": "150px",
    "width": "384px"
   },
   "toc_section_display": true,
   "toc_window_display": true
  },
  "varInspector": {
   "cols": {
    "lenName": 16,
    "lenType": 16,
    "lenVar": 40
   },
   "kernels_config": {
    "python": {
     "delete_cmd_postfix": "",
     "delete_cmd_prefix": "del ",
     "library": "var_list.py",
     "varRefreshCmd": "print(var_dic_list())"
    },
    "r": {
     "delete_cmd_postfix": ") ",
     "delete_cmd_prefix": "rm(",
     "library": "var_list.r",
     "varRefreshCmd": "cat(var_dic_list()) "
    }
   },
   "types_to_exclude": [
    "module",
    "function",
    "builtin_function_or_method",
    "instance",
    "_Feature"
   ],
   "window_display": false
  }
 },
 "nbformat": 4,
 "nbformat_minor": 4
}
