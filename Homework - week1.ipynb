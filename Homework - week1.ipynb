{
 "cells": [
  {
   "cell_type": "markdown",
   "metadata": {},
   "source": [
    "**Homeworks – Basics in linear algebra and numerical methods, 2021/22. semester I.**\n",
    "\n",
    "*Week 1*\n",
    "\n",
    "- name: Nagy, Balázs\n",
    "- neptun: hpq7oi\n",
    "- e-mail: [balazs_nagy@outlook.com](balazs_nagy@outlook.com)"
   ]
  },
  {
   "cell_type": "code",
   "execution_count": 1,
   "metadata": {},
   "outputs": [],
   "source": [
    "import numpy as np"
   ]
  },
  {
   "cell_type": "markdown",
   "metadata": {},
   "source": [
    "# Ex.a"
   ]
  },
  {
   "cell_type": "markdown",
   "metadata": {},
   "source": [
    "## Problem"
   ]
  },
  {
   "cell_type": "markdown",
   "metadata": {},
   "source": [
    "Combine the vectors $u$ and $v$ $\\in \\mathbb{R}^{10}$ such that you have $(u_1, v_1, u_2, v_2, \\dots, u_{10}, v_{10})$. If possible, use vectorized operations."
   ]
  },
  {
   "cell_type": "markdown",
   "metadata": {},
   "source": [
    "## Solution"
   ]
  },
  {
   "cell_type": "code",
   "execution_count": 2,
   "metadata": {},
   "outputs": [
    {
     "name": "stdout",
     "output_type": "stream",
     "text": [
      "shape u: (10,)\n",
      "shape v: (10,)\n",
      "u: [3 4 5 1 7 2 7 7 9 1]\n",
      "v: [12 11 13 11 16 14 14 15 18 13]\n"
     ]
    }
   ],
   "source": [
    "# for easier readability I chose to generate random integers rather then real numbers\n",
    "n = 10\n",
    "u = np.random.randint(low=0, high=10, size=n)\n",
    "v = np.random.randint(low=10, high=20, size=n)\n",
    "print(\n",
    "f'''shape u: {u.shape}\n",
    "shape v: {v.shape}'''\n",
    ")\n",
    "print(\n",
    "f'''u: {u}\n",
    "v: {v}'''\n",
    ")"
   ]
  },
  {
   "cell_type": "code",
   "execution_count": 3,
   "metadata": {},
   "outputs": [
    {
     "name": "stdout",
     "output_type": "stream",
     "text": [
      "29.8 µs ± 3.09 µs per loop (mean ± std. dev. of 7 runs, 10000 loops each)\n"
     ]
    }
   ],
   "source": [
    "%%timeit\n",
    "# Solution 1 - using numpy.insert\n",
    "np.insert(v, np.arange(len(u)), u)"
   ]
  },
  {
   "cell_type": "code",
   "execution_count": 4,
   "metadata": {},
   "outputs": [
    {
     "name": "stdout",
     "output_type": "stream",
     "text": [
      "[ 3 12  4 11  5 13  1 11  7 16  2 14  7 14  7 15  9 18  1 13]\n"
     ]
    }
   ],
   "source": [
    "vec1 = np.insert(v, np.arange(len(u)), u)\n",
    "print(vec1)"
   ]
  },
  {
   "cell_type": "code",
   "execution_count": 5,
   "metadata": {
    "code_folding": []
   },
   "outputs": [
    {
     "name": "stdout",
     "output_type": "stream",
     "text": [
      "22 µs ± 1.12 µs per loop (mean ± std. dev. of 7 runs, 10000 loops each)\n"
     ]
    }
   ],
   "source": [
    "%%timeit\n",
    "# Solution 2 - using list comprehension\n",
    "np.array([[u[i], v[i]] for i in range(len(u))]).flatten()"
   ]
  },
  {
   "cell_type": "code",
   "execution_count": 6,
   "metadata": {
    "scrolled": true
   },
   "outputs": [
    {
     "name": "stdout",
     "output_type": "stream",
     "text": [
      "[ 3 12  4 11  5 13  1 11  7 16  2 14  7 14  7 15  9 18  1 13]\n"
     ]
    }
   ],
   "source": [
    "vec2 = np.array([[u[i], v[i]] for i in range(len(u))]).flatten()\n",
    "print(vec2)"
   ]
  },
  {
   "cell_type": "code",
   "execution_count": 7,
   "metadata": {},
   "outputs": [
    {
     "name": "stdout",
     "output_type": "stream",
     "text": [
      "8.14 µs ± 559 ns per loop (mean ± std. dev. of 7 runs, 100000 loops each)\n"
     ]
    }
   ],
   "source": [
    "%%timeit\n",
    "# Solution 3 - using vectorised numpy operation\n",
    "vec3 = np.vstack((u, v)).T.flatten()"
   ]
  },
  {
   "cell_type": "code",
   "execution_count": 8,
   "metadata": {},
   "outputs": [
    {
     "name": "stdout",
     "output_type": "stream",
     "text": [
      "[ 3 12  4 11  5 13  1 11  7 16  2 14  7 14  7 15  9 18  1 13]\n"
     ]
    }
   ],
   "source": [
    "vec3 = np.vstack((u, v)).T.flatten()\n",
    "print(vec3)"
   ]
  },
  {
   "cell_type": "markdown",
   "metadata": {},
   "source": [
    "The vectorized operation was the fastest."
   ]
  },
  {
   "cell_type": "markdown",
   "metadata": {},
   "source": [
    "# Ex.b"
   ]
  },
  {
   "cell_type": "markdown",
   "metadata": {},
   "source": [
    "## Problem"
   ]
  },
  {
   "cell_type": "markdown",
   "metadata": {},
   "source": [
    "Take a random vector $v \\in \\mathbb{R}^{20}$ and remove those elements which are in $[0.4, 0.6]$. You may also use logical `and`."
   ]
  },
  {
   "cell_type": "markdown",
   "metadata": {},
   "source": [
    "## Solution"
   ]
  },
  {
   "cell_type": "code",
   "execution_count": 9,
   "metadata": {},
   "outputs": [
    {
     "name": "stdout",
     "output_type": "stream",
     "text": [
      "shape v: (20,)\n",
      "v: [0.44795202 0.32512412 0.25102607 0.0341461  0.52343483 0.56498233\n",
      " 0.31901142 0.50456662 0.15288751 0.87580105 0.0408424  0.45643589\n",
      " 0.23381428 0.74942694 0.76248771 0.7415819  0.39808192 0.69553206\n",
      " 0.05992008 0.62040574]\n"
     ]
    }
   ],
   "source": [
    "v = np.random.uniform(size=20)\n",
    "print(\n",
    "f'''shape v: {v.shape}\n",
    "v: {v}'''\n",
    ")"
   ]
  },
  {
   "cell_type": "code",
   "execution_count": 10,
   "metadata": {},
   "outputs": [
    {
     "name": "stdout",
     "output_type": "stream",
     "text": [
      "3.44 µs ± 181 ns per loop (mean ± std. dev. of 7 runs, 100000 loops each)\n"
     ]
    }
   ],
   "source": [
    "%%timeit\n",
    "# Solution 1 - using np.logical_and()\n",
    "v[~np.logical_and(v>=0.4, v<=0.6)]"
   ]
  },
  {
   "cell_type": "code",
   "execution_count": 11,
   "metadata": {},
   "outputs": [
    {
     "name": "stdout",
     "output_type": "stream",
     "text": [
      "[0.32512412 0.25102607 0.0341461  0.31901142 0.15288751 0.87580105\n",
      " 0.0408424  0.23381428 0.74942694 0.76248771 0.7415819  0.39808192\n",
      " 0.69553206 0.05992008 0.62040574]\n"
     ]
    }
   ],
   "source": [
    "vec1 = v[~np.logical_and(v>=0.4, v<=0.6)]\n",
    "print(vec1)"
   ]
  },
  {
   "cell_type": "code",
   "execution_count": 12,
   "metadata": {},
   "outputs": [
    {
     "name": "stdout",
     "output_type": "stream",
     "text": [
      "2.76 µs ± 66.2 ns per loop (mean ± std. dev. of 7 runs, 100000 loops each)\n"
     ]
    }
   ],
   "source": [
    "%%timeit\n",
    "# Solution 2 - using base Python syntax\n",
    "v[(v>=0.4) & (v<=0.6)]"
   ]
  },
  {
   "cell_type": "code",
   "execution_count": 13,
   "metadata": {},
   "outputs": [
    {
     "name": "stdout",
     "output_type": "stream",
     "text": [
      "[0.32512412 0.25102607 0.0341461  0.31901142 0.15288751 0.87580105\n",
      " 0.0408424  0.23381428 0.74942694 0.76248771 0.7415819  0.39808192\n",
      " 0.69553206 0.05992008 0.62040574]\n"
     ]
    }
   ],
   "source": [
    "vec2 = v[~((v>=0.4) & (v<=0.6))]\n",
    "print(vec2)"
   ]
  },
  {
   "cell_type": "markdown",
   "metadata": {},
   "source": [
    "# Ex.c"
   ]
  },
  {
   "cell_type": "markdown",
   "metadata": {},
   "source": [
    "## Problem"
   ]
  },
  {
   "cell_type": "markdown",
   "metadata": {},
   "source": [
    "Take a random vector of length $100$ and compute the vector $v_{\\text{new}}$ which is the difference of the neighboring elements with $v_{\\text{new}}[j] = v[j]-v[j-1]$ for $j >0$ and $v_{\\text{new}}[0]=v[0]$."
   ]
  },
  {
   "cell_type": "markdown",
   "metadata": {},
   "source": [
    "## Solution"
   ]
  },
  {
   "cell_type": "code",
   "execution_count": 14,
   "metadata": {},
   "outputs": [
    {
     "name": "stdout",
     "output_type": "stream",
     "text": [
      "shape v: (100,)\n",
      "v:\n",
      "[14 46  5 82 95 53 85 41 32 80 56 65 51 29 75 58 62 16 74 57 99 16 74 71\n",
      " 29 12 64 49 54 61 34 79 87 62 66 46 34 38 76 11  1  9 77 32 31 25 76 73\n",
      "  5 94 38 77 65 42 40 52  3 34 63 75 21 81 64 24 69 37 83 78 30 64 86 61\n",
      " 64 24 41 59 12 73 24 96 95 36 84  9 30 67 78 83 93 68 92 25 91 90 63 24\n",
      " 19 86  8 48]\n"
     ]
    }
   ],
   "source": [
    "# for easier readability I chose to generate random integers rather then real numbers\n",
    "v = np.random.randint(low=0, high=100, size=100)\n",
    "print(\n",
    "f'''shape v: {v.shape}\n",
    "v:\n",
    "{v}'''\n",
    ")"
   ]
  },
  {
   "cell_type": "code",
   "execution_count": 15,
   "metadata": {},
   "outputs": [
    {
     "name": "stdout",
     "output_type": "stream",
     "text": [
      "75.1 µs ± 1.88 µs per loop (mean ± std. dev. of 7 runs, 10000 loops each)\n"
     ]
    }
   ],
   "source": [
    "%%timeit\n",
    "# Solution 1 - using for loop\n",
    "v_new1 = []\n",
    "for i in range(len(v)):\n",
    "    if i == 0:\n",
    "        v_new1.append(v[i])\n",
    "    else:\n",
    "        v_new1.append(v[i]-v[i-1])\n",
    "v_new1 = np.array(v_new1)"
   ]
  },
  {
   "cell_type": "code",
   "execution_count": 16,
   "metadata": {},
   "outputs": [
    {
     "name": "stdout",
     "output_type": "stream",
     "text": [
      "[ 14  32 -41  77  13 -42  32 -44  -9  48 -24   9 -14 -22  46 -17   4 -46\n",
      "  58 -17  42 -83  58  -3 -42 -17  52 -15   5   7 -27  45   8 -25   4 -20\n",
      " -12   4  38 -65 -10   8  68 -45  -1  -6  51  -3 -68  89 -56  39 -12 -23\n",
      "  -2  12 -49  31  29  12 -54  60 -17 -40  45 -32  46  -5 -48  34  22 -25\n",
      "   3 -40  17  18 -47  61 -49  72  -1 -59  48 -75  21  37  11   5  10 -25\n",
      "  24 -67  66  -1 -27 -39  -5  67 -78  40]\n"
     ]
    }
   ],
   "source": [
    "v_new1 = []\n",
    "for i in range(len(v)):\n",
    "    if i == 0:\n",
    "        v_new1.append(v[i])\n",
    "    else:\n",
    "        v_new1.append(v[i]-v[i-1])\n",
    "v_new1 = np.array(v_new1)\n",
    "print(v_new1)"
   ]
  },
  {
   "cell_type": "code",
   "execution_count": 17,
   "metadata": {},
   "outputs": [
    {
     "name": "stdout",
     "output_type": "stream",
     "text": [
      "70 µs ± 4.86 µs per loop (mean ± std. dev. of 7 runs, 10000 loops each)\n"
     ]
    }
   ],
   "source": [
    "%%timeit\n",
    "# Solution 2 - using list comprehension\n",
    "v_new2 = np.array([v[i]-v[i-1] if i != 0 else v[i] for i in range(len(v))])"
   ]
  },
  {
   "cell_type": "code",
   "execution_count": 18,
   "metadata": {},
   "outputs": [
    {
     "name": "stdout",
     "output_type": "stream",
     "text": [
      "[ 14  32 -41  77  13 -42  32 -44  -9  48 -24   9 -14 -22  46 -17   4 -46\n",
      "  58 -17  42 -83  58  -3 -42 -17  52 -15   5   7 -27  45   8 -25   4 -20\n",
      " -12   4  38 -65 -10   8  68 -45  -1  -6  51  -3 -68  89 -56  39 -12 -23\n",
      "  -2  12 -49  31  29  12 -54  60 -17 -40  45 -32  46  -5 -48  34  22 -25\n",
      "   3 -40  17  18 -47  61 -49  72  -1 -59  48 -75  21  37  11   5  10 -25\n",
      "  24 -67  66  -1 -27 -39  -5  67 -78  40]\n"
     ]
    }
   ],
   "source": [
    "v_new2 = np.array([v[i]-v[i-1] if i != 0 else v[i] for i in range(len(v))])\n",
    "print(v_new2)"
   ]
  },
  {
   "cell_type": "code",
   "execution_count": 19,
   "metadata": {},
   "outputs": [
    {
     "name": "stdout",
     "output_type": "stream",
     "text": [
      "18.7 µs ± 1.62 µs per loop (mean ± std. dev. of 7 runs, 10000 loops each)\n"
     ]
    }
   ],
   "source": [
    "%%timeit\n",
    "# Solution 3 - using np.diff()\n",
    "v_new3 = np.diff(v, prepend=v[0])"
   ]
  },
  {
   "cell_type": "code",
   "execution_count": 20,
   "metadata": {},
   "outputs": [
    {
     "name": "stdout",
     "output_type": "stream",
     "text": [
      "v: (100,)\n",
      "[14 46  5 82 95 53 85 41 32 80 56 65 51 29 75 58 62 16 74 57 99 16 74 71\n",
      " 29 12 64 49 54 61 34 79 87 62 66 46 34 38 76 11  1  9 77 32 31 25 76 73\n",
      "  5 94 38 77 65 42 40 52  3 34 63 75 21 81 64 24 69 37 83 78 30 64 86 61\n",
      " 64 24 41 59 12 73 24 96 95 36 84  9 30 67 78 83 93 68 92 25 91 90 63 24\n",
      " 19 86  8 48]\n",
      "vnew: (100,)\n",
      "[  0  32 -41  77  13 -42  32 -44  -9  48 -24   9 -14 -22  46 -17   4 -46\n",
      "  58 -17  42 -83  58  -3 -42 -17  52 -15   5   7 -27  45   8 -25   4 -20\n",
      " -12   4  38 -65 -10   8  68 -45  -1  -6  51  -3 -68  89 -56  39 -12 -23\n",
      "  -2  12 -49  31  29  12 -54  60 -17 -40  45 -32  46  -5 -48  34  22 -25\n",
      "   3 -40  17  18 -47  61 -49  72  -1 -59  48 -75  21  37  11   5  10 -25\n",
      "  24 -67  66  -1 -27 -39  -5  67 -78  40]\n"
     ]
    }
   ],
   "source": [
    "v_new3 = np.diff(v, prepend=v[0])\n",
    "print(f'v: {v.shape}\\n{v}')\n",
    "print(f'vnew: {v_new3.shape}\\n{v_new3}')"
   ]
  },
  {
   "cell_type": "markdown",
   "metadata": {},
   "source": [
    "The `numpy.diff()` solution is significantly faster than the other solutions."
   ]
  },
  {
   "cell_type": "markdown",
   "metadata": {},
   "source": [
    "# Ex.d"
   ]
  },
  {
   "cell_type": "markdown",
   "metadata": {},
   "source": [
    "## Problem"
   ]
  },
  {
   "cell_type": "markdown",
   "metadata": {},
   "source": [
    "Take a rectangular grid with $5\\times6$ grid points and numbering them $x_1, x_2, \\dots, x_{30}$. Construct a matrix $A$ such that\n",
    "$$\n",
    "A[i, j] =\n",
    "\\begin{cases}\n",
    "  -4 & \\text{if }x_i=x_j,\\\\    \n",
    "  1  & \\text{if }x_i, x_j \\text{ are vertically or horizontally neighboring,}\\\\\n",
    "  0  & \\text{anyway.}\n",
    "\\end{cases}\n",
    "$$\n",
    "You may use the concept of *Kronecker product*."
   ]
  },
  {
   "cell_type": "markdown",
   "metadata": {},
   "source": [
    "## Solution"
   ]
  },
  {
   "cell_type": "code",
   "execution_count": 21,
   "metadata": {},
   "outputs": [],
   "source": [
    "def create_Aij(dist):\n",
    "    if dist == 0:\n",
    "        return -4\n",
    "    elif (dist == 1) or (dist == 10):\n",
    "        return 1\n",
    "    else:\n",
    "        return 0"
   ]
  },
  {
   "cell_type": "code",
   "execution_count": 22,
   "metadata": {},
   "outputs": [],
   "source": [
    "def create_Ai(X, label:int, shape:tuple, print_on=False):\n",
    "    n, m = shape\n",
    "    D = np.array([label - xij for xij in X])\n",
    "    Ai = np.array([create_Aij(abs(label-xij)) for xij in X])\n",
    "    if print_on:\n",
    "        print('First, create a matrix X where the points are labelled according to their indices:')\n",
    "        print(X.reshape(n,m))\n",
    "        print(f\"\\nSecond, for the given label '{label}' calculate the differences:\")\n",
    "        print(D.reshape(n,m))\n",
    "        print(f'\\nThen apply the definition to acquire the nth row of A, where n={label}:')\n",
    "        print(Ai)\n",
    "        print('\\n which can also be viewed as:')\n",
    "        print(Ai.reshape(n,m))\n",
    "        return None\n",
    "    return Ai"
   ]
  },
  {
   "cell_type": "markdown",
   "metadata": {},
   "source": [
    "### Example sol. for one point"
   ]
  },
  {
   "cell_type": "code",
   "execution_count": 23,
   "metadata": {},
   "outputs": [
    {
     "name": "stdout",
     "output_type": "stream",
     "text": [
      "First, create a matrix X where the points are labelled according to their indices:\n",
      "[[11 12 13 14 15 16]\n",
      " [21 22 23 24 25 26]\n",
      " [31 32 33 34 35 36]\n",
      " [41 42 43 44 45 46]\n",
      " [51 52 53 54 55 56]]\n",
      "\n",
      "Second, for the given label '33' calculate the differences:\n",
      "[[ 22  21  20  19  18  17]\n",
      " [ 12  11  10   9   8   7]\n",
      " [  2   1   0  -1  -2  -3]\n",
      " [ -8  -9 -10 -11 -12 -13]\n",
      " [-18 -19 -20 -21 -22 -23]]\n",
      "\n",
      "Then apply the definition to acquire the nth row of A, where n=33:\n",
      "[ 0  0  0  0  0  0  0  0  1  0  0  0  0  1 -4  1  0  0  0  0  1  0  0  0\n",
      "  0  0  0  0  0  0]\n",
      "\n",
      " which can also be viewed as:\n",
      "[[ 0  0  0  0  0  0]\n",
      " [ 0  0  1  0  0  0]\n",
      " [ 0  1 -4  1  0  0]\n",
      " [ 0  0  1  0  0  0]\n",
      " [ 0  0  0  0  0  0]]\n"
     ]
    }
   ],
   "source": [
    "shape = (5,6)\n",
    "label = 33\n",
    "n, m = shape\n",
    "X = np.array([int(str(i)+str(j)) for i in range(1,n+1)\n",
    "                                 for j in range(1,m+1)])\n",
    "create_Ai(X=X, label=label, shape=shape, print_on=True)"
   ]
  },
  {
   "cell_type": "markdown",
   "metadata": {},
   "source": [
    "### Generalized solution"
   ]
  },
  {
   "cell_type": "code",
   "execution_count": 24,
   "metadata": {},
   "outputs": [],
   "source": [
    "# parameters\n",
    "shape = (5,6)\n",
    "n, m = shape"
   ]
  },
  {
   "cell_type": "code",
   "execution_count": 25,
   "metadata": {
    "scrolled": false
   },
   "outputs": [
    {
     "name": "stdout",
     "output_type": "stream",
     "text": [
      "The labels:\n",
      "[[11 12 13 14 15 16]\n",
      " [21 22 23 24 25 26]\n",
      " [31 32 33 34 35 36]\n",
      " [41 42 43 44 45 46]\n",
      " [51 52 53 54 55 56]]\n",
      "\n",
      "The final result:\n"
     ]
    },
    {
     "data": {
      "text/plain": [
       "array([[-4,  1,  0,  0,  0,  0,  1,  0,  0,  0,  0,  0,  0,  0,  0,  0,\n",
       "         0,  0,  0,  0,  0,  0,  0,  0,  0,  0,  0,  0,  0,  0],\n",
       "       [ 1, -4,  1,  0,  0,  0,  0,  1,  0,  0,  0,  0,  0,  0,  0,  0,\n",
       "         0,  0,  0,  0,  0,  0,  0,  0,  0,  0,  0,  0,  0,  0],\n",
       "       [ 0,  1, -4,  1,  0,  0,  0,  0,  1,  0,  0,  0,  0,  0,  0,  0,\n",
       "         0,  0,  0,  0,  0,  0,  0,  0,  0,  0,  0,  0,  0,  0],\n",
       "       [ 0,  0,  1, -4,  1,  0,  0,  0,  0,  1,  0,  0,  0,  0,  0,  0,\n",
       "         0,  0,  0,  0,  0,  0,  0,  0,  0,  0,  0,  0,  0,  0],\n",
       "       [ 0,  0,  0,  1, -4,  1,  0,  0,  0,  0,  1,  0,  0,  0,  0,  0,\n",
       "         0,  0,  0,  0,  0,  0,  0,  0,  0,  0,  0,  0,  0,  0],\n",
       "       [ 0,  0,  0,  0,  1, -4,  0,  0,  0,  0,  0,  1,  0,  0,  0,  0,\n",
       "         0,  0,  0,  0,  0,  0,  0,  0,  0,  0,  0,  0,  0,  0],\n",
       "       [ 1,  0,  0,  0,  0,  0, -4,  1,  0,  0,  0,  0,  1,  0,  0,  0,\n",
       "         0,  0,  0,  0,  0,  0,  0,  0,  0,  0,  0,  0,  0,  0],\n",
       "       [ 0,  1,  0,  0,  0,  0,  1, -4,  1,  0,  0,  0,  0,  1,  0,  0,\n",
       "         0,  0,  0,  0,  0,  0,  0,  0,  0,  0,  0,  0,  0,  0],\n",
       "       [ 0,  0,  1,  0,  0,  0,  0,  1, -4,  1,  0,  0,  0,  0,  1,  0,\n",
       "         0,  0,  0,  0,  0,  0,  0,  0,  0,  0,  0,  0,  0,  0],\n",
       "       [ 0,  0,  0,  1,  0,  0,  0,  0,  1, -4,  1,  0,  0,  0,  0,  1,\n",
       "         0,  0,  0,  0,  0,  0,  0,  0,  0,  0,  0,  0,  0,  0],\n",
       "       [ 0,  0,  0,  0,  1,  0,  0,  0,  0,  1, -4,  1,  0,  0,  0,  0,\n",
       "         1,  0,  0,  0,  0,  0,  0,  0,  0,  0,  0,  0,  0,  0],\n",
       "       [ 0,  0,  0,  0,  0,  1,  0,  0,  0,  0,  1, -4,  0,  0,  0,  0,\n",
       "         0,  1,  0,  0,  0,  0,  0,  0,  0,  0,  0,  0,  0,  0],\n",
       "       [ 0,  0,  0,  0,  0,  0,  1,  0,  0,  0,  0,  0, -4,  1,  0,  0,\n",
       "         0,  0,  1,  0,  0,  0,  0,  0,  0,  0,  0,  0,  0,  0],\n",
       "       [ 0,  0,  0,  0,  0,  0,  0,  1,  0,  0,  0,  0,  1, -4,  1,  0,\n",
       "         0,  0,  0,  1,  0,  0,  0,  0,  0,  0,  0,  0,  0,  0],\n",
       "       [ 0,  0,  0,  0,  0,  0,  0,  0,  1,  0,  0,  0,  0,  1, -4,  1,\n",
       "         0,  0,  0,  0,  1,  0,  0,  0,  0,  0,  0,  0,  0,  0],\n",
       "       [ 0,  0,  0,  0,  0,  0,  0,  0,  0,  1,  0,  0,  0,  0,  1, -4,\n",
       "         1,  0,  0,  0,  0,  1,  0,  0,  0,  0,  0,  0,  0,  0],\n",
       "       [ 0,  0,  0,  0,  0,  0,  0,  0,  0,  0,  1,  0,  0,  0,  0,  1,\n",
       "        -4,  1,  0,  0,  0,  0,  1,  0,  0,  0,  0,  0,  0,  0],\n",
       "       [ 0,  0,  0,  0,  0,  0,  0,  0,  0,  0,  0,  1,  0,  0,  0,  0,\n",
       "         1, -4,  0,  0,  0,  0,  0,  1,  0,  0,  0,  0,  0,  0],\n",
       "       [ 0,  0,  0,  0,  0,  0,  0,  0,  0,  0,  0,  0,  1,  0,  0,  0,\n",
       "         0,  0, -4,  1,  0,  0,  0,  0,  1,  0,  0,  0,  0,  0],\n",
       "       [ 0,  0,  0,  0,  0,  0,  0,  0,  0,  0,  0,  0,  0,  1,  0,  0,\n",
       "         0,  0,  1, -4,  1,  0,  0,  0,  0,  1,  0,  0,  0,  0],\n",
       "       [ 0,  0,  0,  0,  0,  0,  0,  0,  0,  0,  0,  0,  0,  0,  1,  0,\n",
       "         0,  0,  0,  1, -4,  1,  0,  0,  0,  0,  1,  0,  0,  0],\n",
       "       [ 0,  0,  0,  0,  0,  0,  0,  0,  0,  0,  0,  0,  0,  0,  0,  1,\n",
       "         0,  0,  0,  0,  1, -4,  1,  0,  0,  0,  0,  1,  0,  0],\n",
       "       [ 0,  0,  0,  0,  0,  0,  0,  0,  0,  0,  0,  0,  0,  0,  0,  0,\n",
       "         1,  0,  0,  0,  0,  1, -4,  1,  0,  0,  0,  0,  1,  0],\n",
       "       [ 0,  0,  0,  0,  0,  0,  0,  0,  0,  0,  0,  0,  0,  0,  0,  0,\n",
       "         0,  1,  0,  0,  0,  0,  1, -4,  0,  0,  0,  0,  0,  1],\n",
       "       [ 0,  0,  0,  0,  0,  0,  0,  0,  0,  0,  0,  0,  0,  0,  0,  0,\n",
       "         0,  0,  1,  0,  0,  0,  0,  0, -4,  1,  0,  0,  0,  0],\n",
       "       [ 0,  0,  0,  0,  0,  0,  0,  0,  0,  0,  0,  0,  0,  0,  0,  0,\n",
       "         0,  0,  0,  1,  0,  0,  0,  0,  1, -4,  1,  0,  0,  0],\n",
       "       [ 0,  0,  0,  0,  0,  0,  0,  0,  0,  0,  0,  0,  0,  0,  0,  0,\n",
       "         0,  0,  0,  0,  1,  0,  0,  0,  0,  1, -4,  1,  0,  0],\n",
       "       [ 0,  0,  0,  0,  0,  0,  0,  0,  0,  0,  0,  0,  0,  0,  0,  0,\n",
       "         0,  0,  0,  0,  0,  1,  0,  0,  0,  0,  1, -4,  1,  0],\n",
       "       [ 0,  0,  0,  0,  0,  0,  0,  0,  0,  0,  0,  0,  0,  0,  0,  0,\n",
       "         0,  0,  0,  0,  0,  0,  1,  0,  0,  0,  0,  1, -4,  1],\n",
       "       [ 0,  0,  0,  0,  0,  0,  0,  0,  0,  0,  0,  0,  0,  0,  0,  0,\n",
       "         0,  0,  0,  0,  0,  0,  0,  1,  0,  0,  0,  0,  1, -4]])"
      ]
     },
     "execution_count": 25,
     "metadata": {},
     "output_type": "execute_result"
    }
   ],
   "source": [
    "X = np.array([int(str(i)+str(j)) for i in range(1,n+1) for j in range(1,m+1)])\n",
    "A = np.array([create_Ai(X, x, shape) for x in X])\n",
    "\n",
    "print('The labels:')\n",
    "print(X.reshape(n,m))\n",
    "\n",
    "print('\\nThe final result:')\n",
    "A.reshape(n*m,n*m)"
   ]
  },
  {
   "cell_type": "code",
   "execution_count": 26,
   "metadata": {
    "code_folding": []
   },
   "outputs": [],
   "source": [
    "import pandas as pd\n",
    "pd.DataFrame(A).to_excel('A_matrix.xlsx')"
   ]
  }
 ],
 "metadata": {
  "kernelspec": {
   "display_name": "Python 3",
   "language": "python",
   "name": "python3"
  },
  "language_info": {
   "codemirror_mode": {
    "name": "ipython",
    "version": 3
   },
   "file_extension": ".py",
   "mimetype": "text/x-python",
   "name": "python",
   "nbconvert_exporter": "python",
   "pygments_lexer": "ipython3",
   "version": "3.8.5"
  },
  "toc": {
   "base_numbering": 1,
   "nav_menu": {},
   "number_sections": true,
   "sideBar": true,
   "skip_h1_title": false,
   "title_cell": "Table of Contents",
   "title_sidebar": "Contents",
   "toc_cell": false,
   "toc_position": {
    "height": "calc(100% - 180px)",
    "left": "10px",
    "top": "150px",
    "width": "384px"
   },
   "toc_section_display": true,
   "toc_window_display": true
  },
  "varInspector": {
   "cols": {
    "lenName": 16,
    "lenType": 16,
    "lenVar": 40
   },
   "kernels_config": {
    "python": {
     "delete_cmd_postfix": "",
     "delete_cmd_prefix": "del ",
     "library": "var_list.py",
     "varRefreshCmd": "print(var_dic_list())"
    },
    "r": {
     "delete_cmd_postfix": ") ",
     "delete_cmd_prefix": "rm(",
     "library": "var_list.r",
     "varRefreshCmd": "cat(var_dic_list()) "
    }
   },
   "types_to_exclude": [
    "module",
    "function",
    "builtin_function_or_method",
    "instance",
    "_Feature"
   ],
   "window_display": false
  }
 },
 "nbformat": 4,
 "nbformat_minor": 4
}
