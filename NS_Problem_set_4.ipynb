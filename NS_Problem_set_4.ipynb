{
 "cells": [
  {
   "cell_type": "markdown",
   "metadata": {},
   "source": [
    "# Markov Chain Monte Carlo for Spanning Trees "
   ]
  },
  {
   "cell_type": "markdown",
   "metadata": {},
   "source": [
    "<b> Click on the title and rename the file  with your name! </b>\n",
    "\n",
    "In this exercise you have to implement the Markov-chain we defined on  the set of spanning trees of a graph G. Then you have to use this Markov-chain to estimate the probability that a given edge is in a random spanning tree, and finally you have to use it to estimate the number of spanning trees of the graph G.\n",
    "\n",
    "Note that there is a fast direct way to both computing the probability an edge and count the number of spanning trees. Nevertheless, this homework is useful because we can see what can we expect from such an estimator and what cannot be expected. \n",
    "The framework we use is rather general, so we one can use it even when there is no clear alternative for exact computation."
   ]
  },
  {
   "cell_type": "markdown",
   "metadata": {},
   "source": [
    "# Function definitions"
   ]
  },
  {
   "cell_type": "code",
   "execution_count": 1,
   "metadata": {},
   "outputs": [],
   "source": [
    "import numpy as np\n",
    "import random"
   ]
  },
  {
   "cell_type": "code",
   "execution_count": 2,
   "metadata": {},
   "outputs": [],
   "source": [
    "def SpanningTreeStep(G, A):\n",
    "    \"\"\"Given a graph G and a spanning tree A, it randomly selects one of its edges, delete it and randomly selects an\n",
    "    edge from the resulting cut (maybe the original edge).\"\"\"\n",
    "    # delete a random edge of spanning tree, result is a cut\n",
    "    A.delete_edge(A.random_edge())\n",
    "    # E(G) \\ E(A - random edge):\n",
    "    edges = list(set(G.edges())-set(A.edges()))\n",
    "    # add an edge that connects the two components of the cut\n",
    "    while edges:\n",
    "        e = edges.pop()\n",
    "        A.add_edges([e])\n",
    "        if A.is_tree():\n",
    "            return A\n",
    "        else:\n",
    "            A.delete_edge(e)"
   ]
  },
  {
   "cell_type": "markdown",
   "metadata": {},
   "source": [
    "Next we use the random walk to estimate the probability of an edge."
   ]
  },
  {
   "cell_type": "code",
   "execution_count": 3,
   "metadata": {},
   "outputs": [],
   "source": [
    "def ProbabilityEstimator(G, e, iterator=5000):\n",
    "    \"\"\"Given a graph G and en edge e of it, we run the above SpanningTreeStep iterator many times to see how many \n",
    "    of the obtained spanning trees contain the edge e. The initial spanning tree can be chosen arbitrarily.\"\"\"\n",
    "    results = []\n",
    "    for i in range(iterator):\n",
    "        #arbitrary spanning tree of G\n",
    "        A = G.random_spanning_tree(True)\n",
    "        results.append(list(SpanningTreeStep(G=G, A=A).edges()).count(e))\n",
    "    return float(sum(results) / iterator)"
   ]
  },
  {
   "cell_type": "markdown",
   "metadata": {},
   "source": [
    "Next we use the above function to estimate the number of spanning trees. Let $\\tau(G)$ be the number of spanning trees. Let $T$ be an arbitrary spanning tree of $G$, and let $E(G)\\setminus E(T)=\\{e_1,e_2,\\dots ,e_{m-n+1}\\}$. Then\n",
    "$$\\frac{1}{\\tau(G)}=\\prod_{i=1}^{m-n+1}\\frac{\\tau(G-e_1,\\dots ,e_k)}{\\tau(G-e_1,\\dots ,e_{k-1})}.$$\n",
    "Hence if $\\textbf{T}$ denotes a random spanning tree, then\n",
    "$$\\tau(G)=\\left(\\prod_{i=1}^{m-n+1}\\mathbb{P}_{G-e_1,\\dots ,e_{i-1}}(e_i\\notin \\textbf{T})\\right)^{-1}.$$\n",
    "This can be estimated by repeated use of the previous function. (Please, make sure that you understand this expression!)"
   ]
  },
  {
   "cell_type": "code",
   "execution_count": 4,
   "metadata": {},
   "outputs": [],
   "source": [
    "def SpanningTreeNumberEstimator(G, iterator=5000):\n",
    "    \"\"\"Using the above formula we can estimate the number of spanning trees of a graph G. \n",
    "    Since we can compute the number of spanning trees directly, we compare the two values. \n",
    "    The iterator number is the same iterator number that appears in the edge probability estimator. \n",
    "    So the algorithm will iterate (m-n+1)*iterator times, where m is the number of edges, n is the number of vertices.\"\"\"\n",
    "    T = G.random_spanning_tree(True)\n",
    "    # E(G) \\ E(T)\n",
    "    edge_set = set(G.edges()) - set(T.edges())\n",
    "    p = []\n",
    "    B = G.copy()\n",
    "    for e in edge_set:\n",
    "        p.append(ProbabilityEstimator(G=B, e=e, iterator=iterator))\n",
    "        B.delete_edge(e)\n",
    "    p = np.array(p)\n",
    "    estimator = int(round(np.prod(1/(1-p))))\n",
    "    true_value = G.spanning_trees_count()   #it computes a determinant so it is very fast.\n",
    "    ratio = N(estimator / true_value)\n",
    "    return (estimator, true_value, ratio)"
   ]
  },
  {
   "cell_type": "markdown",
   "metadata": {},
   "source": [
    "# Measurements"
   ]
  },
  {
   "cell_type": "code",
   "execution_count": 5,
   "metadata": {},
   "outputs": [
    {
     "data": {
      "text/plain": [
       "(3809145, 3876852, 0.982535572675975)"
      ]
     },
     "execution_count": 5,
     "metadata": {},
     "output_type": "execute_result"
    }
   ],
   "source": [
    "g=graphs.RandomRegular(3,20) #random 3-regular graph on 20 vertices\n",
    "SpanningTreeNumberEstimator(g,1000)"
   ]
  },
  {
   "cell_type": "code",
   "execution_count": 6,
   "metadata": {},
   "outputs": [
    {
     "data": {
      "text/plain": [
       "(2696167, 4389753, 0.614195605083020)"
      ]
     },
     "execution_count": 6,
     "metadata": {},
     "output_type": "execute_result"
    }
   ],
   "source": [
    "g=graphs.RandomRegular(3,20) \n",
    "SpanningTreeNumberEstimator(g,5000)"
   ]
  },
  {
   "cell_type": "code",
   "execution_count": 7,
   "metadata": {},
   "outputs": [
    {
     "data": {
      "text/plain": [
       "(4920474, 3188864, 1.54301782703809)"
      ]
     },
     "execution_count": 7,
     "metadata": {},
     "output_type": "execute_result"
    }
   ],
   "source": [
    "g=graphs.RandomRegular(3,20) \n",
    "SpanningTreeNumberEstimator(g,20000)"
   ]
  },
  {
   "cell_type": "code",
   "execution_count": 8,
   "metadata": {},
   "outputs": [
    {
     "data": {
      "text/plain": [
       "(4492716, 3436635, 1.30730089171530)"
      ]
     },
     "execution_count": 8,
     "metadata": {},
     "output_type": "execute_result"
    }
   ],
   "source": [
    "g=graphs.RandomRegular(3,20) \n",
    "SpanningTreeNumberEstimator(g,50000)\n",
    "#it will take a while, especially if your computer is weaker than mine."
   ]
  },
  {
   "cell_type": "code",
   "execution_count": 9,
   "metadata": {},
   "outputs": [
    {
     "name": "stdout",
     "output_type": "stream",
     "text": [
      "[[8.67020400e+06 3.97239000e+06 2.18261651e+00]\n",
      " [3.74701300e+06 3.97239000e+06 9.43264131e-01]\n",
      " [4.57268900e+06 3.97239000e+06 1.15111784e+00]\n",
      " [2.17525000e+06 3.97239000e+06 5.47592256e-01]\n",
      " [3.06520000e+06 3.97239000e+06 7.71626149e-01]\n",
      " [7.41905500e+06 3.97239000e+06 1.86765524e+00]\n",
      " [1.24817180e+07 3.97239000e+06 3.14211797e+00]\n",
      " [3.12888500e+06 3.97239000e+06 7.87658060e-01]\n",
      " [3.30737300e+06 3.97239000e+06 8.32590204e-01]\n",
      " [7.69987400e+06 3.97239000e+06 1.93834795e+00]]\n",
      "[2.17525000e+06 3.97239000e+06 5.47592256e-01]\n",
      "[2.18261651 0.94326413 1.15111784 0.54759226 0.77162615 1.86765524\n",
      " 3.14211797 0.78765806 0.8325902  1.93834795]\n"
     ]
    }
   ],
   "source": [
    "g=graphs.RandomRegular(3,20) \n",
    " \n",
    "#run SpanningTreeNumberEstimator(g,10000)  10 times for the same graph and compare just the estimated \n",
    "#values to see whether you can expect a good estimate at all or not. \n",
    "\n",
    "#I strongly encourage you to make more experiments, especially if you have a strong enough computer.\n",
    "\n",
    "n = 10\n",
    "result = np.array([SpanningTreeNumberEstimator(g,10000) for _ in range(n)])\n",
    "print(result)\n",
    "print(result.min(axis=0))\n",
    "print(result[:,-1])"
   ]
  }
 ],
 "metadata": {
  "kernelspec": {
   "display_name": "SageMath 9.2",
   "language": "sage",
   "name": "sagemath"
  },
  "language_info": {
   "codemirror_mode": {
    "name": "ipython",
    "version": 3
   },
   "file_extension": ".py",
   "mimetype": "text/x-python",
   "name": "python",
   "nbconvert_exporter": "python",
   "pygments_lexer": "ipython3",
   "version": "3.7.7"
  }
 },
 "nbformat": 4,
 "nbformat_minor": 4
}
