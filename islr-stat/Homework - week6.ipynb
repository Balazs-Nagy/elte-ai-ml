{
 "cells": [
  {
   "cell_type": "markdown",
   "metadata": {},
   "source": [
    "**Homeworks – Statistical learning, 2021/22. semester I.**\n",
    "\n",
    "*Week 6*\n",
    "\n",
    "- name: Nagy, Balázs\n",
    "- neptun: hpq7oi\n",
    "- e-mail: [balazs_nagy@outlook.com](balazs_nagy@outlook.com)"
   ]
  },
  {
   "cell_type": "markdown",
   "metadata": {},
   "source": [
    "# Exercise a)"
   ]
  },
  {
   "cell_type": "markdown",
   "metadata": {},
   "source": [
    "## Problem"
   ]
  },
  {
   "cell_type": "markdown",
   "metadata": {},
   "source": [
    "![img/ex_a.png](img/ex_a.png)"
   ]
  },
  {
   "cell_type": "markdown",
   "metadata": {},
   "source": [
    "## Solution"
   ]
  },
  {
   "cell_type": "code",
   "execution_count": 1,
   "metadata": {},
   "outputs": [],
   "source": [
    "import pandas as pd\n",
    "import statsmodels.datasets as smd\n",
    "\n",
    "from sklearn.model_selection import train_test_split, GridSearchCV\n",
    "from sklearn.pipeline import make_pipeline\n",
    "from sklearn.preprocessing import StandardScaler\n",
    "from sklearn.svm import SVC"
   ]
  },
  {
   "cell_type": "code",
   "execution_count": 2,
   "metadata": {},
   "outputs": [],
   "source": [
    "data = smd.get_rdataset('OJ', 'ISLR').data"
   ]
  },
  {
   "cell_type": "code",
   "execution_count": 3,
   "metadata": {},
   "outputs": [
    {
     "name": "stdout",
     "output_type": "stream",
     "text": [
      "<class 'pandas.core.frame.DataFrame'>\n",
      "RangeIndex: 1070 entries, 0 to 1069\n",
      "Data columns (total 18 columns):\n",
      " #   Column          Non-Null Count  Dtype  \n",
      "---  ------          --------------  -----  \n",
      " 0   Purchase        1070 non-null   object \n",
      " 1   WeekofPurchase  1070 non-null   int64  \n",
      " 2   StoreID         1070 non-null   int64  \n",
      " 3   PriceCH         1070 non-null   float64\n",
      " 4   PriceMM         1070 non-null   float64\n",
      " 5   DiscCH          1070 non-null   float64\n",
      " 6   DiscMM          1070 non-null   float64\n",
      " 7   SpecialCH       1070 non-null   int64  \n",
      " 8   SpecialMM       1070 non-null   int64  \n",
      " 9   LoyalCH         1070 non-null   float64\n",
      " 10  SalePriceMM     1070 non-null   float64\n",
      " 11  SalePriceCH     1070 non-null   float64\n",
      " 12  PriceDiff       1070 non-null   float64\n",
      " 13  Store7          1070 non-null   object \n",
      " 14  PctDiscMM       1070 non-null   float64\n",
      " 15  PctDiscCH       1070 non-null   float64\n",
      " 16  ListPriceDiff   1070 non-null   float64\n",
      " 17  STORE           1070 non-null   int64  \n",
      "dtypes: float64(11), int64(5), object(2)\n",
      "memory usage: 150.6+ KB\n"
     ]
    }
   ],
   "source": [
    "data.info()"
   ]
  },
  {
   "cell_type": "code",
   "execution_count": 4,
   "metadata": {},
   "outputs": [
    {
     "data": {
      "text/plain": [
       "CH    653\n",
       "MM    417\n",
       "Name: Purchase, dtype: int64"
      ]
     },
     "execution_count": 4,
     "metadata": {},
     "output_type": "execute_result"
    }
   ],
   "source": [
    "data.Purchase.value_counts()"
   ]
  },
  {
   "cell_type": "code",
   "execution_count": 5,
   "metadata": {},
   "outputs": [
    {
     "data": {
      "text/plain": [
       "1    653\n",
       "0    417\n",
       "Name: Purchase, dtype: int64"
      ]
     },
     "execution_count": 5,
     "metadata": {},
     "output_type": "execute_result"
    }
   ],
   "source": [
    "data.Purchase.replace({'CH': 1, 'MM': 0}, inplace=True)\n",
    "data.Purchase.value_counts()"
   ]
  },
  {
   "cell_type": "code",
   "execution_count": 6,
   "metadata": {},
   "outputs": [
    {
     "data": {
      "text/plain": [
       "No     714\n",
       "Yes    356\n",
       "Name: Store7, dtype: int64"
      ]
     },
     "execution_count": 6,
     "metadata": {},
     "output_type": "execute_result"
    }
   ],
   "source": [
    "data.Store7.value_counts()"
   ]
  },
  {
   "cell_type": "code",
   "execution_count": 7,
   "metadata": {},
   "outputs": [
    {
     "data": {
      "text/plain": [
       "0    714\n",
       "1    356\n",
       "Name: Store7, dtype: int64"
      ]
     },
     "execution_count": 7,
     "metadata": {},
     "output_type": "execute_result"
    }
   ],
   "source": [
    "data.Store7.replace({'Yes': 1, 'No': 0}, inplace=True)\n",
    "data.Store7.value_counts()"
   ]
  },
  {
   "cell_type": "code",
   "execution_count": 8,
   "metadata": {},
   "outputs": [
    {
     "data": {
      "text/html": [
       "<div>\n",
       "<style scoped>\n",
       "    .dataframe tbody tr th:only-of-type {\n",
       "        vertical-align: middle;\n",
       "    }\n",
       "\n",
       "    .dataframe tbody tr th {\n",
       "        vertical-align: top;\n",
       "    }\n",
       "\n",
       "    .dataframe thead th {\n",
       "        text-align: right;\n",
       "    }\n",
       "</style>\n",
       "<table border=\"1\" class=\"dataframe\">\n",
       "  <thead>\n",
       "    <tr style=\"text-align: right;\">\n",
       "      <th></th>\n",
       "      <th>Purchase</th>\n",
       "      <th>WeekofPurchase</th>\n",
       "      <th>StoreID</th>\n",
       "      <th>PriceCH</th>\n",
       "      <th>PriceMM</th>\n",
       "      <th>DiscCH</th>\n",
       "      <th>DiscMM</th>\n",
       "      <th>SpecialCH</th>\n",
       "      <th>SpecialMM</th>\n",
       "      <th>LoyalCH</th>\n",
       "      <th>SalePriceMM</th>\n",
       "      <th>SalePriceCH</th>\n",
       "      <th>PriceDiff</th>\n",
       "      <th>Store7</th>\n",
       "      <th>PctDiscMM</th>\n",
       "      <th>PctDiscCH</th>\n",
       "      <th>ListPriceDiff</th>\n",
       "      <th>STORE</th>\n",
       "    </tr>\n",
       "  </thead>\n",
       "  <tbody>\n",
       "    <tr>\n",
       "      <th>0</th>\n",
       "      <td>1</td>\n",
       "      <td>237</td>\n",
       "      <td>1</td>\n",
       "      <td>1.75</td>\n",
       "      <td>1.99</td>\n",
       "      <td>0.00</td>\n",
       "      <td>0.00</td>\n",
       "      <td>0</td>\n",
       "      <td>0</td>\n",
       "      <td>0.500000</td>\n",
       "      <td>1.99</td>\n",
       "      <td>1.75</td>\n",
       "      <td>0.24</td>\n",
       "      <td>0</td>\n",
       "      <td>0.000000</td>\n",
       "      <td>0.000000</td>\n",
       "      <td>0.24</td>\n",
       "      <td>1</td>\n",
       "    </tr>\n",
       "    <tr>\n",
       "      <th>1</th>\n",
       "      <td>1</td>\n",
       "      <td>239</td>\n",
       "      <td>1</td>\n",
       "      <td>1.75</td>\n",
       "      <td>1.99</td>\n",
       "      <td>0.00</td>\n",
       "      <td>0.30</td>\n",
       "      <td>0</td>\n",
       "      <td>1</td>\n",
       "      <td>0.600000</td>\n",
       "      <td>1.69</td>\n",
       "      <td>1.75</td>\n",
       "      <td>-0.06</td>\n",
       "      <td>0</td>\n",
       "      <td>0.150754</td>\n",
       "      <td>0.000000</td>\n",
       "      <td>0.24</td>\n",
       "      <td>1</td>\n",
       "    </tr>\n",
       "    <tr>\n",
       "      <th>2</th>\n",
       "      <td>1</td>\n",
       "      <td>245</td>\n",
       "      <td>1</td>\n",
       "      <td>1.86</td>\n",
       "      <td>2.09</td>\n",
       "      <td>0.17</td>\n",
       "      <td>0.00</td>\n",
       "      <td>0</td>\n",
       "      <td>0</td>\n",
       "      <td>0.680000</td>\n",
       "      <td>2.09</td>\n",
       "      <td>1.69</td>\n",
       "      <td>0.40</td>\n",
       "      <td>0</td>\n",
       "      <td>0.000000</td>\n",
       "      <td>0.091398</td>\n",
       "      <td>0.23</td>\n",
       "      <td>1</td>\n",
       "    </tr>\n",
       "    <tr>\n",
       "      <th>3</th>\n",
       "      <td>0</td>\n",
       "      <td>227</td>\n",
       "      <td>1</td>\n",
       "      <td>1.69</td>\n",
       "      <td>1.69</td>\n",
       "      <td>0.00</td>\n",
       "      <td>0.00</td>\n",
       "      <td>0</td>\n",
       "      <td>0</td>\n",
       "      <td>0.400000</td>\n",
       "      <td>1.69</td>\n",
       "      <td>1.69</td>\n",
       "      <td>0.00</td>\n",
       "      <td>0</td>\n",
       "      <td>0.000000</td>\n",
       "      <td>0.000000</td>\n",
       "      <td>0.00</td>\n",
       "      <td>1</td>\n",
       "    </tr>\n",
       "    <tr>\n",
       "      <th>4</th>\n",
       "      <td>1</td>\n",
       "      <td>228</td>\n",
       "      <td>7</td>\n",
       "      <td>1.69</td>\n",
       "      <td>1.69</td>\n",
       "      <td>0.00</td>\n",
       "      <td>0.00</td>\n",
       "      <td>0</td>\n",
       "      <td>0</td>\n",
       "      <td>0.956535</td>\n",
       "      <td>1.69</td>\n",
       "      <td>1.69</td>\n",
       "      <td>0.00</td>\n",
       "      <td>1</td>\n",
       "      <td>0.000000</td>\n",
       "      <td>0.000000</td>\n",
       "      <td>0.00</td>\n",
       "      <td>0</td>\n",
       "    </tr>\n",
       "    <tr>\n",
       "      <th>...</th>\n",
       "      <td>...</td>\n",
       "      <td>...</td>\n",
       "      <td>...</td>\n",
       "      <td>...</td>\n",
       "      <td>...</td>\n",
       "      <td>...</td>\n",
       "      <td>...</td>\n",
       "      <td>...</td>\n",
       "      <td>...</td>\n",
       "      <td>...</td>\n",
       "      <td>...</td>\n",
       "      <td>...</td>\n",
       "      <td>...</td>\n",
       "      <td>...</td>\n",
       "      <td>...</td>\n",
       "      <td>...</td>\n",
       "      <td>...</td>\n",
       "      <td>...</td>\n",
       "    </tr>\n",
       "    <tr>\n",
       "      <th>1065</th>\n",
       "      <td>1</td>\n",
       "      <td>252</td>\n",
       "      <td>7</td>\n",
       "      <td>1.86</td>\n",
       "      <td>2.09</td>\n",
       "      <td>0.10</td>\n",
       "      <td>0.00</td>\n",
       "      <td>0</td>\n",
       "      <td>0</td>\n",
       "      <td>0.587822</td>\n",
       "      <td>2.09</td>\n",
       "      <td>1.76</td>\n",
       "      <td>0.33</td>\n",
       "      <td>1</td>\n",
       "      <td>0.000000</td>\n",
       "      <td>0.053763</td>\n",
       "      <td>0.23</td>\n",
       "      <td>0</td>\n",
       "    </tr>\n",
       "    <tr>\n",
       "      <th>1066</th>\n",
       "      <td>1</td>\n",
       "      <td>256</td>\n",
       "      <td>7</td>\n",
       "      <td>1.86</td>\n",
       "      <td>2.18</td>\n",
       "      <td>0.00</td>\n",
       "      <td>0.00</td>\n",
       "      <td>0</td>\n",
       "      <td>0</td>\n",
       "      <td>0.670258</td>\n",
       "      <td>2.18</td>\n",
       "      <td>1.86</td>\n",
       "      <td>0.32</td>\n",
       "      <td>1</td>\n",
       "      <td>0.000000</td>\n",
       "      <td>0.000000</td>\n",
       "      <td>0.32</td>\n",
       "      <td>0</td>\n",
       "    </tr>\n",
       "    <tr>\n",
       "      <th>1067</th>\n",
       "      <td>0</td>\n",
       "      <td>257</td>\n",
       "      <td>7</td>\n",
       "      <td>1.86</td>\n",
       "      <td>2.18</td>\n",
       "      <td>0.00</td>\n",
       "      <td>0.00</td>\n",
       "      <td>0</td>\n",
       "      <td>0</td>\n",
       "      <td>0.736206</td>\n",
       "      <td>2.18</td>\n",
       "      <td>1.86</td>\n",
       "      <td>0.32</td>\n",
       "      <td>1</td>\n",
       "      <td>0.000000</td>\n",
       "      <td>0.000000</td>\n",
       "      <td>0.32</td>\n",
       "      <td>0</td>\n",
       "    </tr>\n",
       "    <tr>\n",
       "      <th>1068</th>\n",
       "      <td>1</td>\n",
       "      <td>261</td>\n",
       "      <td>7</td>\n",
       "      <td>1.86</td>\n",
       "      <td>2.13</td>\n",
       "      <td>0.00</td>\n",
       "      <td>0.24</td>\n",
       "      <td>0</td>\n",
       "      <td>0</td>\n",
       "      <td>0.588965</td>\n",
       "      <td>1.89</td>\n",
       "      <td>1.86</td>\n",
       "      <td>0.03</td>\n",
       "      <td>1</td>\n",
       "      <td>0.112676</td>\n",
       "      <td>0.000000</td>\n",
       "      <td>0.27</td>\n",
       "      <td>0</td>\n",
       "    </tr>\n",
       "    <tr>\n",
       "      <th>1069</th>\n",
       "      <td>1</td>\n",
       "      <td>270</td>\n",
       "      <td>1</td>\n",
       "      <td>1.86</td>\n",
       "      <td>2.18</td>\n",
       "      <td>0.00</td>\n",
       "      <td>0.00</td>\n",
       "      <td>0</td>\n",
       "      <td>0</td>\n",
       "      <td>0.671172</td>\n",
       "      <td>2.18</td>\n",
       "      <td>1.86</td>\n",
       "      <td>0.32</td>\n",
       "      <td>0</td>\n",
       "      <td>0.000000</td>\n",
       "      <td>0.000000</td>\n",
       "      <td>0.32</td>\n",
       "      <td>1</td>\n",
       "    </tr>\n",
       "  </tbody>\n",
       "</table>\n",
       "<p>1070 rows × 18 columns</p>\n",
       "</div>"
      ],
      "text/plain": [
       "      Purchase  WeekofPurchase  StoreID  PriceCH  PriceMM  DiscCH  DiscMM  \\\n",
       "0            1             237        1     1.75     1.99    0.00    0.00   \n",
       "1            1             239        1     1.75     1.99    0.00    0.30   \n",
       "2            1             245        1     1.86     2.09    0.17    0.00   \n",
       "3            0             227        1     1.69     1.69    0.00    0.00   \n",
       "4            1             228        7     1.69     1.69    0.00    0.00   \n",
       "...        ...             ...      ...      ...      ...     ...     ...   \n",
       "1065         1             252        7     1.86     2.09    0.10    0.00   \n",
       "1066         1             256        7     1.86     2.18    0.00    0.00   \n",
       "1067         0             257        7     1.86     2.18    0.00    0.00   \n",
       "1068         1             261        7     1.86     2.13    0.00    0.24   \n",
       "1069         1             270        1     1.86     2.18    0.00    0.00   \n",
       "\n",
       "      SpecialCH  SpecialMM   LoyalCH  SalePriceMM  SalePriceCH  PriceDiff  \\\n",
       "0             0          0  0.500000         1.99         1.75       0.24   \n",
       "1             0          1  0.600000         1.69         1.75      -0.06   \n",
       "2             0          0  0.680000         2.09         1.69       0.40   \n",
       "3             0          0  0.400000         1.69         1.69       0.00   \n",
       "4             0          0  0.956535         1.69         1.69       0.00   \n",
       "...         ...        ...       ...          ...          ...        ...   \n",
       "1065          0          0  0.587822         2.09         1.76       0.33   \n",
       "1066          0          0  0.670258         2.18         1.86       0.32   \n",
       "1067          0          0  0.736206         2.18         1.86       0.32   \n",
       "1068          0          0  0.588965         1.89         1.86       0.03   \n",
       "1069          0          0  0.671172         2.18         1.86       0.32   \n",
       "\n",
       "      Store7  PctDiscMM  PctDiscCH  ListPriceDiff  STORE  \n",
       "0          0   0.000000   0.000000           0.24      1  \n",
       "1          0   0.150754   0.000000           0.24      1  \n",
       "2          0   0.000000   0.091398           0.23      1  \n",
       "3          0   0.000000   0.000000           0.00      1  \n",
       "4          1   0.000000   0.000000           0.00      0  \n",
       "...      ...        ...        ...            ...    ...  \n",
       "1065       1   0.000000   0.053763           0.23      0  \n",
       "1066       1   0.000000   0.000000           0.32      0  \n",
       "1067       1   0.000000   0.000000           0.32      0  \n",
       "1068       1   0.112676   0.000000           0.27      0  \n",
       "1069       0   0.000000   0.000000           0.32      1  \n",
       "\n",
       "[1070 rows x 18 columns]"
      ]
     },
     "execution_count": 8,
     "metadata": {},
     "output_type": "execute_result"
    }
   ],
   "source": [
    "data"
   ]
  },
  {
   "cell_type": "markdown",
   "metadata": {},
   "source": [
    "# Exercise b)"
   ]
  },
  {
   "cell_type": "markdown",
   "metadata": {},
   "source": [
    "## Problem"
   ]
  },
  {
   "cell_type": "markdown",
   "metadata": {},
   "source": [
    "![img/ex_b.png](img/ex_b.png)"
   ]
  },
  {
   "cell_type": "markdown",
   "metadata": {},
   "source": [
    "## Solution"
   ]
  },
  {
   "cell_type": "code",
   "execution_count": 9,
   "metadata": {},
   "outputs": [],
   "source": [
    "target_var = 'Purchase'\n",
    "test_size = 1-800/len(data)\n",
    "X_train, X_test , y_train, y_test = train_test_split(data.drop(columns=[target_var]),\n",
    "                                                     data[target_var],\n",
    "                                                     test_size=test_size,\n",
    "                                                     random_state=1)"
   ]
  },
  {
   "cell_type": "markdown",
   "metadata": {},
   "source": [
    "# Exercise c)"
   ]
  },
  {
   "cell_type": "markdown",
   "metadata": {},
   "source": [
    "## Problem"
   ]
  },
  {
   "cell_type": "markdown",
   "metadata": {},
   "source": [
    "![img/ex_c.png](img/ex_c.png)"
   ]
  },
  {
   "cell_type": "markdown",
   "metadata": {},
   "source": [
    "## Solution"
   ]
  },
  {
   "cell_type": "code",
   "execution_count": 10,
   "metadata": {},
   "outputs": [
    {
     "name": "stdout",
     "output_type": "stream",
     "text": [
      "Support vectors size: 432\n"
     ]
    }
   ],
   "source": [
    "C = 0.01\n",
    "kernel = 'linear'\n",
    "\n",
    "svc = make_pipeline(StandardScaler(),\n",
    "                    SVC(C=C, kernel=kernel))\n",
    "svc.fit(X_train, y_train)\n",
    "\n",
    "print(f'Support vectors size: {svc[1].support_.size}')"
   ]
  },
  {
   "cell_type": "markdown",
   "metadata": {},
   "source": [
    "# Exercise d)"
   ]
  },
  {
   "cell_type": "markdown",
   "metadata": {},
   "source": [
    "## Problem"
   ]
  },
  {
   "cell_type": "markdown",
   "metadata": {},
   "source": [
    "![img/ex_d.png](img/ex_d.png)"
   ]
  },
  {
   "cell_type": "markdown",
   "metadata": {},
   "source": [
    "## Solution"
   ]
  },
  {
   "cell_type": "code",
   "execution_count": 11,
   "metadata": {},
   "outputs": [
    {
     "name": "stdout",
     "output_type": "stream",
     "text": [
      "Train score: 0.8322903629536921\n",
      "Test score: 0.8339483394833949\n"
     ]
    }
   ],
   "source": [
    "print(f'Train score: {svc.score(X_train, y_train)}')\n",
    "print(f'Test score: {svc.score(X_test, y_test)}')"
   ]
  },
  {
   "cell_type": "markdown",
   "metadata": {},
   "source": [
    "# Excercise e)"
   ]
  },
  {
   "cell_type": "markdown",
   "metadata": {},
   "source": [
    "## Problem"
   ]
  },
  {
   "cell_type": "markdown",
   "metadata": {},
   "source": [
    "![img/ex_d.png](img/ex_e.png)"
   ]
  },
  {
   "cell_type": "markdown",
   "metadata": {},
   "source": [
    "## Solution"
   ]
  },
  {
   "cell_type": "code",
   "execution_count": 12,
   "metadata": {},
   "outputs": [
    {
     "data": {
      "text/plain": [
       "Pipeline(steps=[('standardscaler', StandardScaler()),\n",
       "                ('gridsearchcv',\n",
       "                 GridSearchCV(cv=5, estimator=SVC(kernel='linear'),\n",
       "                              param_grid=[{'C': [0.01, 0.1, 1, 5, 10]}]))])"
      ]
     },
     "execution_count": 12,
     "metadata": {},
     "output_type": "execute_result"
    }
   ],
   "source": [
    "tuned_parameters = [{'C': [0.01, 0.1, 1, 5, 10]}]\n",
    "svc = make_pipeline(StandardScaler(),\n",
    "                    GridSearchCV(SVC(kernel=kernel), \n",
    "                      param_grid=tuned_parameters, \n",
    "                      cv=5, \n",
    "                      refit=True))\n",
    "svc.fit(X_train, y_train)"
   ]
  },
  {
   "cell_type": "code",
   "execution_count": 13,
   "metadata": {},
   "outputs": [
    {
     "data": {
      "text/plain": [
       "{'mean_fit_time': array([0.00958705, 0.00839286, 0.0099031 , 0.02055159, 0.03226676]),\n",
       " 'std_fit_time': array([0.00079466, 0.0014921 , 0.00032464, 0.00274018, 0.00805684]),\n",
       " 'mean_score_time': array([0.0018146 , 0.00140519, 0.00140247, 0.00119791, 0.00144205]),\n",
       " 'std_score_time': array([0.00042077, 0.00049542, 0.00049146, 0.00038943, 0.00046442]),\n",
       " 'param_C': masked_array(data=[0.01, 0.1, 1, 5, 10],\n",
       "              mask=[False, False, False, False, False],\n",
       "        fill_value='?',\n",
       "             dtype=object),\n",
       " 'params': [{'C': 0.01}, {'C': 0.1}, {'C': 1}, {'C': 5}, {'C': 10}],\n",
       " 'split0_test_score': array([0.84375, 0.84375, 0.8375 , 0.84375, 0.85   ]),\n",
       " 'split1_test_score': array([0.825  , 0.825  , 0.80625, 0.81875, 0.81875]),\n",
       " 'split2_test_score': array([0.8125 , 0.8    , 0.825  , 0.83125, 0.8375 ]),\n",
       " 'split3_test_score': array([0.81875, 0.8125 , 0.80625, 0.80625, 0.80625]),\n",
       " 'split4_test_score': array([0.8490566 , 0.8490566 , 0.8490566 , 0.83647799, 0.83647799]),\n",
       " 'mean_test_score': array([0.82981132, 0.82606132, 0.82481132, 0.8272956 , 0.8297956 ]),\n",
       " 'std_test_score': array([0.01421162, 0.01847106, 0.01695829, 0.0133165 , 0.01541837]),\n",
       " 'rank_test_score': array([1, 4, 5, 3, 2])}"
      ]
     },
     "execution_count": 13,
     "metadata": {},
     "output_type": "execute_result"
    }
   ],
   "source": [
    "svc[1].cv_results_"
   ]
  },
  {
   "cell_type": "code",
   "execution_count": 14,
   "metadata": {},
   "outputs": [
    {
     "data": {
      "text/plain": [
       "{'C': 0.01}"
      ]
     },
     "execution_count": 14,
     "metadata": {},
     "output_type": "execute_result"
    }
   ],
   "source": [
    "svc[1].best_params_"
   ]
  },
  {
   "cell_type": "code",
   "execution_count": 15,
   "metadata": {},
   "outputs": [
    {
     "data": {
      "text/plain": [
       "({'C': 0.01}, 432)"
      ]
     },
     "execution_count": 15,
     "metadata": {},
     "output_type": "execute_result"
    }
   ],
   "source": [
    "svc[1].best_params_, len(svc[1].best_estimator_.support_)"
   ]
  },
  {
   "cell_type": "markdown",
   "metadata": {},
   "source": [
    "# Excercise f)"
   ]
  },
  {
   "cell_type": "markdown",
   "metadata": {},
   "source": [
    "## Problem"
   ]
  },
  {
   "cell_type": "markdown",
   "metadata": {},
   "source": [
    "![img/ex_d.png](img/ex_f.png)"
   ]
  },
  {
   "cell_type": "markdown",
   "metadata": {},
   "source": [
    "## Solution"
   ]
  },
  {
   "cell_type": "code",
   "execution_count": 16,
   "metadata": {},
   "outputs": [
    {
     "name": "stdout",
     "output_type": "stream",
     "text": [
      "Support vectors size: 432\n",
      "Train score: 0.8322903629536921\n",
      "Test score: 0.8339483394833949\n"
     ]
    }
   ],
   "source": [
    "C = 0.01\n",
    "kernel = 'linear'\n",
    "\n",
    "svc = make_pipeline(StandardScaler(),\n",
    "                    SVC(C=C, kernel=kernel))\n",
    "svc.fit(X_train, y_train)\n",
    "\n",
    "print(f'Support vectors size: {svc[1].support_.size}')\n",
    "print(f'Train score: {svc.score(X_train, y_train)}')\n",
    "print(f'Test score: {svc.score(X_test, y_test)}')"
   ]
  },
  {
   "cell_type": "markdown",
   "metadata": {},
   "source": [
    "# Excercise g)"
   ]
  },
  {
   "cell_type": "markdown",
   "metadata": {},
   "source": [
    "## Problem"
   ]
  },
  {
   "cell_type": "markdown",
   "metadata": {},
   "source": [
    "![img/ex_d.png](img/ex_g.png)"
   ]
  },
  {
   "cell_type": "markdown",
   "metadata": {},
   "source": [
    "## Solution"
   ]
  },
  {
   "cell_type": "code",
   "execution_count": 17,
   "metadata": {},
   "outputs": [
    {
     "name": "stdout",
     "output_type": "stream",
     "text": [
      "Support vectors size: 610\n",
      "Train score: 0.6207759699624531\n",
      "Test score: 0.5793357933579336\n"
     ]
    }
   ],
   "source": [
    "C = 0.01\n",
    "kernel = 'rbf'\n",
    "\n",
    "svc = make_pipeline(StandardScaler(),\n",
    "                    SVC(C=C, kernel=kernel, gamma='scale'))\n",
    "svc.fit(X_train, y_train)\n",
    "\n",
    "print(f'Support vectors size: {svc[1].support_.size}')\n",
    "print(f'Train score: {svc.score(X_train, y_train)}')\n",
    "print(f'Test score: {svc.score(X_test, y_test)}')"
   ]
  },
  {
   "cell_type": "code",
   "execution_count": 18,
   "metadata": {},
   "outputs": [
    {
     "data": {
      "text/plain": [
       "Pipeline(steps=[('standardscaler', StandardScaler()),\n",
       "                ('gridsearchcv',\n",
       "                 GridSearchCV(cv=5, estimator=SVC(),\n",
       "                              param_grid=[{'C': [0.01, 0.1, 1, 5, 10]}]))])"
      ]
     },
     "execution_count": 18,
     "metadata": {},
     "output_type": "execute_result"
    }
   ],
   "source": [
    "tuned_parameters = [{'C': [0.01, 0.1, 1, 5, 10]}]\n",
    "svc = make_pipeline(StandardScaler(),\n",
    "                    GridSearchCV(SVC(kernel=kernel, gamma='scale'), \n",
    "                       param_grid=tuned_parameters, \n",
    "                       cv=5, \n",
    "                       refit=True))\n",
    "svc.fit(X_train, y_train)"
   ]
  },
  {
   "cell_type": "code",
   "execution_count": 19,
   "metadata": {},
   "outputs": [
    {
     "data": {
      "text/plain": [
       "{'mean_fit_time': array([0.01608696, 0.01442027, 0.01056929, 0.0119432 , 0.01158037]),\n",
       " 'std_fit_time': array([0.00205329, 0.00053962, 0.00041881, 0.00118683, 0.00138746]),\n",
       " 'mean_score_time': array([0.00806446, 0.00779366, 0.00499716, 0.00489473, 0.00483766]),\n",
       " 'std_score_time': array([6.42705020e-04, 4.00308699e-04, 7.30292882e-06, 4.58901130e-04,\n",
       "        1.14276502e-03]),\n",
       " 'param_C': masked_array(data=[0.01, 0.1, 1, 5, 10],\n",
       "              mask=[False, False, False, False, False],\n",
       "        fill_value='?',\n",
       "             dtype=object),\n",
       " 'params': [{'C': 0.01}, {'C': 0.1}, {'C': 1}, {'C': 5}, {'C': 10}],\n",
       " 'split0_test_score': array([0.61875, 0.83125, 0.79375, 0.78125, 0.775  ]),\n",
       " 'split1_test_score': array([0.61875, 0.83125, 0.83125, 0.825  , 0.825  ]),\n",
       " 'split2_test_score': array([0.61875, 0.79375, 0.825  , 0.79375, 0.8    ]),\n",
       " 'split3_test_score': array([0.625  , 0.78125, 0.79375, 0.8125 , 0.8125 ]),\n",
       " 'split4_test_score': array([0.62264151, 0.81132075, 0.83647799, 0.81132075, 0.81761006]),\n",
       " 'mean_test_score': array([0.6207783 , 0.80976415, 0.8160456 , 0.80476415, 0.80602201]),\n",
       " 'std_test_score': array([0.0025937 , 0.01997607, 0.01856354, 0.01540486, 0.01752165]),\n",
       " 'rank_test_score': array([5, 2, 1, 4, 3])}"
      ]
     },
     "execution_count": 19,
     "metadata": {},
     "output_type": "execute_result"
    }
   ],
   "source": [
    "svc[1].cv_results_"
   ]
  },
  {
   "cell_type": "code",
   "execution_count": 20,
   "metadata": {},
   "outputs": [
    {
     "data": {
      "text/plain": [
       "{'C': 1}"
      ]
     },
     "execution_count": 20,
     "metadata": {},
     "output_type": "execute_result"
    }
   ],
   "source": [
    "svc[1].best_params_"
   ]
  },
  {
   "cell_type": "code",
   "execution_count": 21,
   "metadata": {},
   "outputs": [
    {
     "data": {
      "text/plain": [
       "({'C': 1}, 369)"
      ]
     },
     "execution_count": 21,
     "metadata": {},
     "output_type": "execute_result"
    }
   ],
   "source": [
    "svc[1].best_params_, len(svc[1].best_estimator_.support_)"
   ]
  },
  {
   "cell_type": "code",
   "execution_count": 22,
   "metadata": {},
   "outputs": [
    {
     "name": "stdout",
     "output_type": "stream",
     "text": [
      "Support vectors size: 369\n",
      "Train score: 0.8473091364205256\n",
      "Test score: 0.8081180811808119\n"
     ]
    }
   ],
   "source": [
    "C = 1\n",
    "kernel = 'rbf'\n",
    "\n",
    "svc = make_pipeline(StandardScaler(),\n",
    "                    SVC(C=C, kernel=kernel, gamma='scale'))\n",
    "svc.fit(X_train, y_train)\n",
    "\n",
    "print(f'Support vectors size: {svc[1].support_.size}')\n",
    "print(f'Train score: {svc.score(X_train, y_train)}')\n",
    "print(f'Test score: {svc.score(X_test, y_test)}')"
   ]
  },
  {
   "cell_type": "markdown",
   "metadata": {},
   "source": [
    "# Excercise h)"
   ]
  },
  {
   "cell_type": "markdown",
   "metadata": {},
   "source": [
    "## Problem"
   ]
  },
  {
   "cell_type": "markdown",
   "metadata": {},
   "source": [
    "![img/ex_d.png](img/ex_h.png)"
   ]
  },
  {
   "cell_type": "markdown",
   "metadata": {},
   "source": [
    "## Solution"
   ]
  },
  {
   "cell_type": "code",
   "execution_count": 23,
   "metadata": {},
   "outputs": [
    {
     "name": "stdout",
     "output_type": "stream",
     "text": [
      "Support vectors size: 608\n",
      "Train score: 0.6420525657071339\n",
      "Test score: 0.5977859778597786\n"
     ]
    }
   ],
   "source": [
    "C = 0.01\n",
    "kernel = 'poly'\n",
    "\n",
    "svc = make_pipeline(StandardScaler(),\n",
    "                    SVC(C=C, kernel=kernel, degree=2))\n",
    "svc.fit(X_train, y_train)\n",
    "\n",
    "print(f'Support vectors size: {svc[1].support_.size}')\n",
    "print(f'Train score: {svc.score(X_train, y_train)}')\n",
    "print(f'Test score: {svc.score(X_test, y_test)}')"
   ]
  },
  {
   "cell_type": "code",
   "execution_count": 24,
   "metadata": {},
   "outputs": [
    {
     "data": {
      "text/plain": [
       "Pipeline(steps=[('standardscaler', StandardScaler()),\n",
       "                ('gridsearchcv',\n",
       "                 GridSearchCV(cv=5, estimator=SVC(degree=2, kernel='poly'),\n",
       "                              param_grid=[{'C': [0.01, 0.1, 1, 5, 10]}]))])"
      ]
     },
     "execution_count": 24,
     "metadata": {},
     "output_type": "execute_result"
    }
   ],
   "source": [
    "tuned_parameters = [{'C': [0.01, 0.1, 1, 5, 10]}]\n",
    "svc = make_pipeline(StandardScaler(),\n",
    "                    GridSearchCV(SVC(kernel=kernel, degree=2), \n",
    "                      param_grid=tuned_parameters, \n",
    "                      cv=5, \n",
    "                      refit=True))\n",
    "svc.fit(X_train, y_train)"
   ]
  },
  {
   "cell_type": "code",
   "execution_count": 25,
   "metadata": {},
   "outputs": [
    {
     "data": {
      "text/plain": [
       "{'mean_fit_time': array([0.01279135, 0.01086445, 0.01201739, 0.01336646, 0.01631165]),\n",
       " 'std_fit_time': array([0.00221965, 0.00029528, 0.00149224, 0.00086874, 0.0019522 ]),\n",
       " 'mean_score_time': array([0.00310454, 0.00256829, 0.00240355, 0.00200052, 0.00203719]),\n",
       " 'std_score_time': array([1.48989645e-04, 4.70636835e-04, 7.95690543e-04, 5.90469977e-06,\n",
       "        7.00034571e-04]),\n",
       " 'param_C': masked_array(data=[0.01, 0.1, 1, 5, 10],\n",
       "              mask=[False, False, False, False, False],\n",
       "        fill_value='?',\n",
       "             dtype=object),\n",
       " 'params': [{'C': 0.01}, {'C': 0.1}, {'C': 1}, {'C': 5}, {'C': 10}],\n",
       " 'split0_test_score': array([0.61875, 0.65625, 0.7625 , 0.76875, 0.78125]),\n",
       " 'split1_test_score': array([0.61875, 0.675  , 0.8    , 0.78125, 0.7875 ]),\n",
       " 'split2_test_score': array([0.61875, 0.69375, 0.75625, 0.7625 , 0.7625 ]),\n",
       " 'split3_test_score': array([0.625  , 0.675  , 0.7875 , 0.78125, 0.78125]),\n",
       " 'split4_test_score': array([0.62264151, 0.64779874, 0.74842767, 0.76100629, 0.76100629]),\n",
       " 'mean_test_score': array([0.6207783 , 0.66955975, 0.77093553, 0.77095126, 0.77470126]),\n",
       " 'std_test_score': array([0.0025937 , 0.0160938 , 0.01955787, 0.00880113, 0.01082592]),\n",
       " 'rank_test_score': array([5, 4, 3, 2, 1])}"
      ]
     },
     "execution_count": 25,
     "metadata": {},
     "output_type": "execute_result"
    }
   ],
   "source": [
    "svc[1].cv_results_"
   ]
  },
  {
   "cell_type": "code",
   "execution_count": 26,
   "metadata": {},
   "outputs": [
    {
     "data": {
      "text/plain": [
       "{'C': 10}"
      ]
     },
     "execution_count": 26,
     "metadata": {},
     "output_type": "execute_result"
    }
   ],
   "source": [
    "svc[1].best_params_"
   ]
  },
  {
   "cell_type": "code",
   "execution_count": 27,
   "metadata": {},
   "outputs": [
    {
     "data": {
      "text/plain": [
       "({'C': 10}, 431)"
      ]
     },
     "execution_count": 27,
     "metadata": {},
     "output_type": "execute_result"
    }
   ],
   "source": [
    "svc[1].best_params_, len(svc[1].best_estimator_.support_)"
   ]
  },
  {
   "cell_type": "code",
   "execution_count": 28,
   "metadata": {},
   "outputs": [
    {
     "name": "stdout",
     "output_type": "stream",
     "text": [
      "Support vectors size: 499\n",
      "Train score: 0.7834793491864831\n",
      "Test score: 0.7380073800738007\n"
     ]
    }
   ],
   "source": [
    "C = 1\n",
    "kernel = 'poly'\n",
    "\n",
    "svc = make_pipeline(StandardScaler(),\n",
    "                    SVC(C=C, kernel=kernel, degree=2))\n",
    "svc.fit(X_train, y_train)\n",
    "\n",
    "print(f'Support vectors size: {svc[1].support_.size}')\n",
    "print(f'Train score: {svc.score(X_train, y_train)}')\n",
    "print(f'Test score: {svc.score(X_test, y_test)}')"
   ]
  },
  {
   "cell_type": "markdown",
   "metadata": {},
   "source": [
    "# Excercise i)"
   ]
  },
  {
   "cell_type": "markdown",
   "metadata": {},
   "source": [
    "## Problem"
   ]
  },
  {
   "cell_type": "markdown",
   "metadata": {},
   "source": [
    "![img/ex_d.png](img/ex_i.png)"
   ]
  },
  {
   "cell_type": "markdown",
   "metadata": {},
   "source": [
    "## Solution"
   ]
  },
  {
   "cell_type": "markdown",
   "metadata": {},
   "source": [
    "The radial kernel  gives the best result."
   ]
  }
 ],
 "metadata": {
  "kernelspec": {
   "display_name": "Python 3",
   "language": "python",
   "name": "python3"
  },
  "language_info": {
   "codemirror_mode": {
    "name": "ipython",
    "version": 3
   },
   "file_extension": ".py",
   "mimetype": "text/x-python",
   "name": "python",
   "nbconvert_exporter": "python",
   "pygments_lexer": "ipython3",
   "version": "3.8.5"
  },
  "toc": {
   "base_numbering": 1,
   "nav_menu": {},
   "number_sections": true,
   "sideBar": true,
   "skip_h1_title": false,
   "title_cell": "Table of Contents",
   "title_sidebar": "Contents",
   "toc_cell": false,
   "toc_position": {
    "height": "calc(100% - 180px)",
    "left": "10px",
    "top": "150px",
    "width": "278px"
   },
   "toc_section_display": true,
   "toc_window_display": true
  },
  "varInspector": {
   "cols": {
    "lenName": 16,
    "lenType": 16,
    "lenVar": 40
   },
   "kernels_config": {
    "python": {
     "delete_cmd_postfix": "",
     "delete_cmd_prefix": "del ",
     "library": "var_list.py",
     "varRefreshCmd": "print(var_dic_list())"
    },
    "r": {
     "delete_cmd_postfix": ") ",
     "delete_cmd_prefix": "rm(",
     "library": "var_list.r",
     "varRefreshCmd": "cat(var_dic_list()) "
    }
   },
   "types_to_exclude": [
    "module",
    "function",
    "builtin_function_or_method",
    "instance",
    "_Feature"
   ],
   "window_display": false
  }
 },
 "nbformat": 4,
 "nbformat_minor": 4
}
