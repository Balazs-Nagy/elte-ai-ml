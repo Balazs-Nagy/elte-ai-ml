{
 "cells": [
  {
   "cell_type": "markdown",
   "metadata": {},
   "source": [
    "**Homeworks – Statistical learning, 2021/22. semester I.**\n",
    "\n",
    "*Week 4*\n",
    "\n",
    "- name: Nagy, Balázs\n",
    "- neptun: hpq7oi\n",
    "- e-mail: [balazs_nagy@outlook.com](balazs_nagy@outlook.com)"
   ]
  },
  {
   "cell_type": "code",
   "execution_count": 1,
   "metadata": {},
   "outputs": [],
   "source": [
    "import pandas as pd\n",
    "import numpy as np\n",
    "import matplotlib.pyplot as plt\n",
    "import statsmodels.formula.api as smf\n",
    "from sklearn.linear_model import LinearRegression as LM"
   ]
  },
  {
   "cell_type": "code",
   "execution_count": 2,
   "metadata": {},
   "outputs": [],
   "source": [
    "np.random.seed(1)"
   ]
  },
  {
   "cell_type": "markdown",
   "metadata": {},
   "source": [
    "# Exercise a)"
   ]
  },
  {
   "cell_type": "markdown",
   "metadata": {},
   "source": [
    "## Problem"
   ]
  },
  {
   "cell_type": "markdown",
   "metadata": {},
   "source": [
    "![img/ex_a.png](img/ex_a.png)"
   ]
  },
  {
   "cell_type": "code",
   "execution_count": 3,
   "metadata": {},
   "outputs": [],
   "source": [
    "n = 100\n",
    "x1, x2 = np.random.rand(n), np.random.rand(n)\n",
    "y = 5.1 + 3.7*x1 + 0.314*x2"
   ]
  },
  {
   "cell_type": "markdown",
   "metadata": {},
   "source": [
    "## Solution"
   ]
  },
  {
   "cell_type": "markdown",
   "metadata": {},
   "source": [
    "# Exercise b)"
   ]
  },
  {
   "cell_type": "markdown",
   "metadata": {},
   "source": [
    "## Problem"
   ]
  },
  {
   "cell_type": "markdown",
   "metadata": {},
   "source": [
    "![img/ex_b.png](img/ex_b.png)"
   ]
  },
  {
   "cell_type": "markdown",
   "metadata": {},
   "source": [
    "## Solution"
   ]
  },
  {
   "cell_type": "code",
   "execution_count": 4,
   "metadata": {},
   "outputs": [],
   "source": [
    "# set number of iterations\n",
    "k = 1000\n",
    "# empty parameters\n",
    "beta0, beta1, beta2 = np.zeros(k), np.zeros(k), np.zeros(k)\n",
    "# initialize starting value\n",
    "beta1[0] = 5.0\n",
    "fitted = LM().fit(y = y - beta2[0], X=x1.reshape(-1, 1))\n",
    "beta0[0], beta1[0] = fitted.intercept_, fitted.coef_\n",
    "\n",
    "# iteration\n",
    "for i in range(1, k):\n",
    "    beta2[i] = LM().fit(y = y - beta1[i-1]*x1, X=x2.reshape(-1, 1)).coef_\n",
    "    fitted = LM().fit(y = y - beta2[i-1], X=x1.reshape(-1, 1))\n",
    "    beta0[i], beta1[i] = fitted.intercept_, fitted.coef_"
   ]
  },
  {
   "cell_type": "code",
   "execution_count": 5,
   "metadata": {},
   "outputs": [
    {
     "data": {
      "image/png": "[encoded data removed]",
      "text/plain": [
       "<Figure size 432x288 with 1 Axes>"
      ]
     },
     "metadata": {
      "needs_background": "light"
     },
     "output_type": "display_data"
    }
   ],
   "source": [
    "plt.title('Coefficients using GAM backfitting')\n",
    "plt.ylabel('coefficients')\n",
    "plt.xlabel('iteration number')\n",
    "plt.plot(range(k), beta0, label='beta0')\n",
    "plt.plot(range(k), beta1, label='beta1')\n",
    "plt.plot(range(k), beta2, label='beta2')\n",
    "plt.legend()\n",
    "plt.show()"
   ]
  },
  {
   "cell_type": "markdown",
   "metadata": {},
   "source": [
    "# Exercise c)"
   ]
  },
  {
   "cell_type": "markdown",
   "metadata": {},
   "source": [
    "## Problem"
   ]
  },
  {
   "cell_type": "markdown",
   "metadata": {},
   "source": [
    "![img/ex_c.png](img/ex_c.png)"
   ]
  },
  {
   "cell_type": "markdown",
   "metadata": {},
   "source": [
    "## Solution"
   ]
  },
  {
   "cell_type": "code",
   "execution_count": 6,
   "metadata": {
    "scrolled": false
   },
   "outputs": [
    {
     "name": "stdout",
     "output_type": "stream",
     "text": [
      "                            OLS Regression Results                            \n",
      "==============================================================================\n",
      "Dep. Variable:                      y   R-squared:                       1.000\n",
      "Model:                            OLS   Adj. R-squared:                  1.000\n",
      "Method:                 Least Squares   F-statistic:                 2.014e+30\n",
      "Date:                Thu, 02 Dec 2021   Prob (F-statistic):               0.00\n",
      "Time:                        18:25:38   Log-Likelihood:                 3144.2\n",
      "No. Observations:                 100   AIC:                            -6282.\n",
      "Df Residuals:                      97   BIC:                            -6275.\n",
      "Df Model:                           2                                         \n",
      "Covariance Type:            nonrobust                                         \n",
      "==============================================================================\n",
      "                 coef    std err          t      P>|t|      [0.025      0.975]\n",
      "------------------------------------------------------------------------------\n",
      "Intercept      5.1000   1.35e-15   3.77e+15      0.000       5.100       5.100\n",
      "x1             3.7000   1.85e-15      2e+15      0.000       3.700       3.700\n",
      "x2             0.3140   1.72e-15   1.83e+14      0.000       0.314       0.314\n",
      "==============================================================================\n",
      "Omnibus:                        8.468   Durbin-Watson:                   0.098\n",
      "Prob(Omnibus):                  0.014   Jarque-Bera (JB):                8.132\n",
      "Skew:                           0.627   Prob(JB):                       0.0171\n",
      "Kurtosis:                       3.616   Cond. No.                         5.01\n",
      "==============================================================================\n",
      "\n",
      "Notes:\n",
      "[1] Standard Errors assume that the covariance matrix of the errors is correctly specified.\n"
     ]
    }
   ],
   "source": [
    "model = smf.ols('y ~ x1+x2', data=pd.DataFrame({'x1': x1, 'x2': x2, 'y': y})).fit()\n",
    "print(model.summary())"
   ]
  },
  {
   "cell_type": "code",
   "execution_count": 7,
   "metadata": {},
   "outputs": [
    {
     "data": {
      "image/png": "[encoded data removed]",
      "text/plain": [
       "<Figure size 432x288 with 1 Axes>"
      ]
     },
     "metadata": {
      "needs_background": "light"
     },
     "output_type": "display_data"
    }
   ],
   "source": [
    "plt.plot(range(k), beta0, label='beta0')\n",
    "plt.plot(range(k), beta1, label='beta1')\n",
    "plt.plot(range(k), beta2, label='beta2')\n",
    "\n",
    "plt.axhline(model.params[0], linestyle='--', label='beta0 (OLS)')\n",
    "plt.axhline(model.params[1], linestyle='--', label='beta1 (OLS)')\n",
    "plt.axhline(model.params[2], linestyle='--', label='beta2 (OLS)')\n",
    "\n",
    "plt.legend()\n",
    "plt.show()"
   ]
  },
  {
   "cell_type": "markdown",
   "metadata": {},
   "source": [
    "# Exercise d)"
   ]
  },
  {
   "cell_type": "markdown",
   "metadata": {},
   "source": [
    "## Problem"
   ]
  },
  {
   "cell_type": "markdown",
   "metadata": {},
   "source": [
    "![img/ex_d.png](img/ex_d.png)"
   ]
  },
  {
   "cell_type": "markdown",
   "metadata": {},
   "source": [
    "## Solution"
   ]
  },
  {
   "cell_type": "code",
   "execution_count": 8,
   "metadata": {},
   "outputs": [
    {
     "data": {
      "image/png": "[encoded data removed]",
      "text/plain": [
       "<Figure size 432x288 with 1 Axes>"
      ]
     },
     "metadata": {
      "needs_background": "light"
     },
     "output_type": "display_data"
    }
   ],
   "source": [
    "k = 3\n",
    "plt.plot(range(k), beta0[:k], label='beta0')\n",
    "plt.plot(range(k), beta1[:k], label='beta1')\n",
    "plt.plot(range(k), beta2[:k], label='beta2')\n",
    "plt.legend()\n",
    "plt.show()"
   ]
  },
  {
   "cell_type": "markdown",
   "metadata": {},
   "source": [
    "A couple of iterations were sufficient to obtain a \"good\" approximation of the multiple regression coefficient estimates."
   ]
  }
 ],
 "metadata": {
  "kernelspec": {
   "display_name": "Python 3",
   "language": "python",
   "name": "python3"
  },
  "language_info": {
   "codemirror_mode": {
    "name": "ipython",
    "version": 3
   },
   "file_extension": ".py",
   "mimetype": "text/x-python",
   "name": "python",
   "nbconvert_exporter": "python",
   "pygments_lexer": "ipython3",
   "version": "3.8.5"
  },
  "toc": {
   "base_numbering": 1,
   "nav_menu": {},
   "number_sections": true,
   "sideBar": true,
   "skip_h1_title": false,
   "title_cell": "Table of Contents",
   "title_sidebar": "Contents",
   "toc_cell": false,
   "toc_position": {
    "height": "calc(100% - 180px)",
    "left": "10px",
    "top": "150px",
    "width": "165px"
   },
   "toc_section_display": true,
   "toc_window_display": true
  },
  "varInspector": {
   "cols": {
    "lenName": 16,
    "lenType": 16,
    "lenVar": 40
   },
   "kernels_config": {
    "python": {
     "delete_cmd_postfix": "",
     "delete_cmd_prefix": "del ",
     "library": "var_list.py",
     "varRefreshCmd": "print(var_dic_list())"
    },
    "r": {
     "delete_cmd_postfix": ") ",
     "delete_cmd_prefix": "rm(",
     "library": "var_list.r",
     "varRefreshCmd": "cat(var_dic_list()) "
    }
   },
   "types_to_exclude": [
    "module",
    "function",
    "builtin_function_or_method",
    "instance",
    "_Feature"
   ],
   "window_display": false
  }
 },
 "nbformat": 4,
 "nbformat_minor": 4
}
