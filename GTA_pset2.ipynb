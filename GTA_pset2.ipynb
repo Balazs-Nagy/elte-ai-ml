{
 "cells": [
  {
   "cell_type": "markdown",
   "metadata": {},
   "source": [
    "**Homeworks – Graph Theory and Algorithms, 2021/22. semester I.**\n",
    "\n",
    "Week 2\n",
    "\n",
    "- name: Nagy, Balázs\n",
    "- neptun: hpq7oi\n",
    "- e-mail: [balazs_nagy@outlook.com](balazs_nagy@outlook.com)"
   ]
  },
  {
   "cell_type": "code",
   "execution_count": 1,
   "metadata": {},
   "outputs": [],
   "source": [
    "# set the seed so we can reproduce the pseudo-random results\n",
    "set_random_seed(314159265)"
   ]
  },
  {
   "cell_type": "markdown",
   "metadata": {},
   "source": [
    "Below you can see my implementation. "
   ]
  },
  {
   "cell_type": "code",
   "execution_count": 2,
   "metadata": {},
   "outputs": [],
   "source": [
    "import string\n",
    "import numpy as np"
   ]
  },
  {
   "cell_type": "code",
   "execution_count": 3,
   "metadata": {},
   "outputs": [],
   "source": [
    "def greedy_coloring_number(G, P, print_on=False):\n",
    "    # define the colors palette\n",
    "        # I use the alphabet as my coloring palette instead of numbers for an easier visual interpretation\n",
    "    # colors_palette = list(range(n))\n",
    "    colors_palette = list(string.ascii_lowercase)\n",
    "\n",
    "    # create a map of the neighbors to each and every vertices\n",
    "    neighbors = {v: G[v] for v in P}\n",
    "    \n",
    "    # no colors assigned yet for the vertices\n",
    "    colors = {v: None for v in P}\n",
    "    \n",
    "    if print_on:\n",
    "        print('The color palette:')\n",
    "        print(colors_palette)\n",
    "        \n",
    "        print('The neighbours (v: [list neighbours of v]):')\n",
    "        print(neighbors)\n",
    "\n",
    "        print('Current coloring:')\n",
    "        print(colors)\n",
    "        print('\\n')\n",
    "\n",
    "    for v, neighbors in neighbors.items():\n",
    "        # first we need to determine the existing color of neighbors as they are prohibited\n",
    "        prohibited_colors = []\n",
    "        for u in neighbors:\n",
    "            if colors[u] is None:\n",
    "                # if the neighbor u to v has no color then proceed to next neighbor\n",
    "                pass\n",
    "            else:\n",
    "                # if the neighbor u to v has a color then v must not have that color\n",
    "                prohibited_colors.append(colors[u])\n",
    "            #print(f'u={u} is {colors[u]}')\n",
    "        if prohibited_colors is None:\n",
    "            # no limitations on the color, use first one\n",
    "            next_color = colors_palette[0]\n",
    "        else:\n",
    "            # use the next available color in the palette for v\n",
    "            next_color = sorted(list(set(colors_palette) - set(prohibited_colors)))[0]\n",
    "        colors.update({v: next_color})\n",
    "        if print_on:\n",
    "            print(f'    {v}: {u}, color of neighbor u is {u}:{colors[u]}, prohibited {prohibited_colors}, setting v to {v}:{colors[v]}')\n",
    "    if print_on:\n",
    "        print('\\n')\n",
    "        print('The final coloring of vertices:')\n",
    "        print(colors)\n",
    "    #return colors\n",
    "    return len(set(colors.values()))"
   ]
  },
  {
   "cell_type": "markdown",
   "metadata": {},
   "source": [
    "In the next section I present the logic of my implementation on a $G$ graph with fewer vertices $n$, than required in *excercise 2*, hoping that it will be easier for the reader to understand.\n",
    "\n",
    "You may play with the `n` parameter. Be careful, as in the last line of the next cell the chromatic number is also calculated, so don't set the paramter `n` too high.\n",
    "Please note that by setting `print_on=True` the function `greedy_coloring_number()` will print out the calcuation steps of my implementation."
   ]
  },
  {
   "cell_type": "code",
   "execution_count": 4,
   "metadata": {},
   "outputs": [
    {
     "name": "stdout",
     "output_type": "stream",
     "text": [
      "Random graph on n=5 vertices:\n"
     ]
    },
    {
     "data": {
      "image/png": "[encoded data removed]",
      "text/plain": [
       "Graphics object consisting of 14 graphics primitives"
      ]
     },
     "metadata": {},
     "output_type": "display_data"
    },
    {
     "name": "stdout",
     "output_type": "stream",
     "text": [
      "The order of edges for the greedy algorithm: [2, 1, 3, 0, 4]\n",
      "\n",
      "The color palette:\n",
      "['a', 'b', 'c', 'd', 'e', 'f', 'g', 'h', 'i', 'j', 'k', 'l', 'm', 'n', 'o', 'p', 'q', 'r', 's', 't', 'u', 'v', 'w', 'x', 'y', 'z']\n",
      "The neighbours (v: [list neighbours of v]):\n",
      "{2: [0, 1, 4], 1: [0, 2, 3, 4], 3: [0, 1], 0: [1, 2, 3, 4], 4: [0, 1, 2]}\n",
      "Current coloring:\n",
      "{2: None, 1: None, 3: None, 0: None, 4: None}\n",
      "\n",
      "\n",
      "    2: 4, color of neighbor u is 4:None, prohibited [], setting v to 2:a\n",
      "    1: 4, color of neighbor u is 4:None, prohibited ['a'], setting v to 1:b\n",
      "    3: 1, color of neighbor u is 1:b, prohibited ['b'], setting v to 3:a\n",
      "    0: 4, color of neighbor u is 4:None, prohibited ['b', 'a', 'a'], setting v to 0:c\n",
      "    4: 2, color of neighbor u is 2:a, prohibited ['c', 'b', 'a'], setting v to 4:d\n",
      "\n",
      "\n",
      "The final coloring of vertices:\n",
      "{2: 'a', 1: 'b', 3: 'a', 0: 'c', 4: 'd'}\n",
      "\n",
      "\n",
      "The number of colors required by the greedy algorithm: 4\n",
      "The chromatic number is: 4\n"
     ]
    }
   ],
   "source": [
    "# vertices of the graph\n",
    "n = 5\n",
    "\n",
    "# generate a random graph on n nodes (result may be disconnected)\n",
    "G = graphs.RandomGNP(n, 0.5)\n",
    "\n",
    "# display the generated graph\n",
    "print(f'Random graph on n={n} vertices:')\n",
    "G.show()\n",
    "\n",
    "# generate a random permutation of vertices for the greedy coloring algorithm\n",
    "P = [i-1 for i in Permutations(n).random_element()]\n",
    "print(f'The order of edges for the greedy algorithm: {P}\\n')\n",
    "\n",
    "# run and store the results of the greedy_coloring algorithm\n",
    "greedy_result = greedy_coloring_number(G, P, print_on=True)\n",
    "print('\\n')\n",
    "#print(f'The number of colors required: {len(set(greedy_result.values()))}')\n",
    "print(f'The number of colors required by the greedy algorithm: {greedy_result}')\n",
    "print(f'The chromatic number is: {G.chromatic_number()}')"
   ]
  },
  {
   "cell_type": "markdown",
   "metadata": {},
   "source": [
    "Now, *excercise 2* requires the following:\n",
    "\n",
    "> Let $G$ be a random graph on $100$ vertices given by the command\n",
    "`graphs.RandomGNP(100,0.5)` and run your algorithm $30$ times with random permutations of the vertices, and collect the results into a `list`. You can call the random permutation with `Permutations(100).random_element()`, but be carefful since it contains the numbers from $1$ to $100$, and not from $0$ to $99$."
   ]
  },
  {
   "cell_type": "code",
   "execution_count": 5,
   "metadata": {},
   "outputs": [],
   "source": [
    "# vertices of the graph\n",
    "n = 100\n",
    "\n",
    "# iteration size of the greedy algorithm\n",
    "k = 30\n",
    "\n",
    "# generate a random graph on n nodes (result may be disconnected)\n",
    "G = graphs.RandomGNP(n, 0.5)"
   ]
  },
  {
   "cell_type": "markdown",
   "metadata": {},
   "source": [
    "First, let's try as the excercise asks: chossing $P$ as a random permutation of the vertices."
   ]
  },
  {
   "cell_type": "code",
   "execution_count": 6,
   "metadata": {},
   "outputs": [
    {
     "name": "stdout",
     "output_type": "stream",
     "text": [
      "The results of k=30 iteration of the greedy algorithm on a graph with n=100 vertices:\n",
      "[22, 21, 22, 23, 19, 22, 22, 21, 23, 21, 23, 21, 21, 20, 20, 23, 21, 21, 21, 21, 21, 20, 21, 22, 20, 21, 20, 22, 21, 22]\n",
      "Best result: 19\n"
     ]
    }
   ],
   "source": [
    "# run the algorithm and store the results in a list\n",
    "greedy_results = [greedy_coloring_number(G, P=[i-1 for i in Permutations(n).random_element()]) for _ in range(k)]\n",
    "\n",
    "print(f'The results of k={k} iteration of the greedy algorithm on a graph with n={n} vertices:')\n",
    "print(greedy_results)\n",
    "print(f'Best result: {min(greedy_results)}')"
   ]
  },
  {
   "cell_type": "markdown",
   "metadata": {},
   "source": [
    "As *excercise 4* suggests let's try out some heuristics on choosing the ordering of vertices for the greed algorithm. "
   ]
  },
  {
   "cell_type": "markdown",
   "metadata": {},
   "source": [
    "Let's try choosing $P$ using the *breadth first search* starting from a random node."
   ]
  },
  {
   "cell_type": "code",
   "execution_count": 7,
   "metadata": {},
   "outputs": [
    {
     "name": "stdout",
     "output_type": "stream",
     "text": [
      "The results of k=30 iteration of the greedy algorithm on a graph with n=100 vertices:\n",
      "[22, 21, 21, 22, 20, 20, 21, 22, 21, 22, 21, 21, 22, 21, 20, 23, 21, 22, 22, 21, 23, 21, 22, 20, 22, 21, 20, 21, 20, 20]\n",
      "Best result: 20\n"
     ]
    }
   ],
   "source": [
    "# run the algorithm and store the results in a list\n",
    "greedy_results = [greedy_coloring_number(G, P=list(G.breadth_first_search(start=np.random.randint(0, n-1)))) for _ in range(k)]\n",
    "\n",
    "print(f'The results of k={k} iteration of the greedy algorithm on a graph with n={n} vertices:')\n",
    "print(greedy_results)\n",
    "print(f'Best result: {min(greedy_results)}')"
   ]
  },
  {
   "cell_type": "markdown",
   "metadata": {},
   "source": [
    "Now, let's play with the degree numbering."
   ]
  },
  {
   "cell_type": "code",
   "execution_count": 8,
   "metadata": {},
   "outputs": [],
   "source": [
    "# map it's degree to each vertex\n",
    "degree_dict = dict(zip(G.vertices(), G.degree()))\n",
    "\n",
    "# list the vertices by descending degree\n",
    "vertex_list_by_degree_desc = list(dict(sorted(degree_dict.items(), key = lambda x: x[1], reverse = True)).keys())\n",
    "\n",
    "# vertex with highest degree\n",
    "vertex_max_degree = vertex_list_by_degree_desc[0]\n",
    "\n",
    "# list the vertices by ascending degree\n",
    "vertex_list_by_degree_asc = list(dict(sorted(degree_dict.items(), key = lambda x: x[1], reverse = False)).keys())\n",
    "\n",
    "# vertex with lowest degree\n",
    "vertex_min_degree = vertex_list_by_degree_asc[0]"
   ]
  },
  {
   "cell_type": "markdown",
   "metadata": {},
   "source": [
    "Let's try choosing $P$ using the *breadth first search* starting from the node with the lowest degree."
   ]
  },
  {
   "cell_type": "code",
   "execution_count": 9,
   "metadata": {},
   "outputs": [
    {
     "name": "stdout",
     "output_type": "stream",
     "text": [
      "The results of k=30 iteration of the greedy algorithm on a graph with n=100 vertices:\n",
      "[23, 23, 23, 23, 23, 23, 23, 23, 23, 23, 23, 23, 23, 23, 23, 23, 23, 23, 23, 23, 23, 23, 23, 23, 23, 23, 23, 23, 23, 23]\n",
      "Best result: 23\n"
     ]
    }
   ],
   "source": [
    "# run the algorithm and store the results in a list\n",
    "greedy_results = [greedy_coloring_number(G, P=list(G.breadth_first_search(start=vertex_min_degree))) for _ in range(k)]\n",
    "\n",
    "print(f'The results of k={k} iteration of the greedy algorithm on a graph with n={n} vertices:')\n",
    "print(greedy_results)\n",
    "print(f'Best result: {min(greedy_results)}')"
   ]
  },
  {
   "cell_type": "markdown",
   "metadata": {},
   "source": [
    "Let's try choosing $P$ using the *breadth first search* starting from the node with the highest degree."
   ]
  },
  {
   "cell_type": "code",
   "execution_count": 10,
   "metadata": {},
   "outputs": [
    {
     "name": "stdout",
     "output_type": "stream",
     "text": [
      "The results of k=30 iteration of the greedy algorithm on a graph with n=100 vertices:\n",
      "[21, 21, 21, 21, 21, 21, 21, 21, 21, 21, 21, 21, 21, 21, 21, 21, 21, 21, 21, 21, 21, 21, 21, 21, 21, 21, 21, 21, 21, 21]\n",
      "Best result: 21\n"
     ]
    }
   ],
   "source": [
    "# run the algorithm and store the results in a list\n",
    "greedy_results = [greedy_coloring_number(G, P=list(G.breadth_first_search(start=vertex_max_degree))) for _ in range(k)]\n",
    "\n",
    "print(f'The results of k={k} iteration of the greedy algorithm on a graph with n={n} vertices:')\n",
    "print(greedy_results)\n",
    "print(f'Best result: {min(greedy_results)}')"
   ]
  },
  {
   "cell_type": "markdown",
   "metadata": {},
   "source": [
    "Let $P$ be the vertexes by descending degree."
   ]
  },
  {
   "cell_type": "code",
   "execution_count": 11,
   "metadata": {},
   "outputs": [
    {
     "name": "stdout",
     "output_type": "stream",
     "text": [
      "The results of k=30 iteration of the greedy algorithm on a graph with n=100 vertices:\n",
      "[21, 21, 21, 21, 21, 21, 21, 21, 21, 21, 21, 21, 21, 21, 21, 21, 21, 21, 21, 21, 21, 21, 21, 21, 21, 21, 21, 21, 21, 21]\n",
      "Best result: 21\n"
     ]
    }
   ],
   "source": [
    "# run the algorithm and store the results in a list\n",
    "greedy_results = [greedy_coloring_number(G, P=vertex_list_by_degree_desc) for _ in range(k)]\n",
    "\n",
    "print(f'The results of k={k} iteration of the greedy algorithm on a graph with n={n} vertices:')\n",
    "print(greedy_results)\n",
    "print(f'Best result: {min(greedy_results)}')"
   ]
  },
  {
   "cell_type": "markdown",
   "metadata": {},
   "source": [
    "Let $P$ be the vertexes by ascending degree."
   ]
  },
  {
   "cell_type": "code",
   "execution_count": 12,
   "metadata": {},
   "outputs": [
    {
     "name": "stdout",
     "output_type": "stream",
     "text": [
      "The results of k=30 iteration of the greedy algorithm on a graph with n=100 vertices:\n",
      "[23, 23, 23, 23, 23, 23, 23, 23, 23, 23, 23, 23, 23, 23, 23, 23, 23, 23, 23, 23, 23, 23, 23, 23, 23, 23, 23, 23, 23, 23]\n",
      "Best result: 23\n"
     ]
    }
   ],
   "source": [
    "# run the algorithm and store the results in a list\n",
    "greedy_results = [greedy_coloring_number(G, P=vertex_list_by_degree_asc) for _ in range(k)]\n",
    "\n",
    "print(f'The results of k={k} iteration of the greedy algorithm on a graph with n={n} vertices:')\n",
    "print(greedy_results)\n",
    "print(f'Best result: {min(greedy_results)}')"
   ]
  },
  {
   "cell_type": "markdown",
   "metadata": {},
   "source": [
    "In *excercise 3* we need to show that for any graph $G$ there is always an ordering for which the\n",
    "greedy algorithm uses exactly $\\chi(G)$ colors!"
   ]
  },
  {
   "cell_type": "markdown",
   "metadata": {},
   "source": [
    "Let's say we have a coloring of the vertices $c=\\{c_1, c_2, \\dots, \\chi(G)\\}$. We can order the vertices by their colors where $C_i$ contains all the vertices with color $c_i$. If we start the greedy coloring algorithm with the first vertex in $C_1$ it will automatically get the color $c_1$. Actually this is also true for any vertices in $C_1$ as they had the same color (as they are not adjacent). If we move on to $C_2$ it may happend that a vertex from $C_2$ is adjacent to a vertex in $C_1$ thus we need to use the color $c_2$ or it can get the same color $c_1$. We can see by induction that by ordering this way the greedy algorithm will use at most $c_i$ colors for vertices in $C_i$. As c was a coloring using $\\chi(G)$ colors by ordering this way the greedy algorithm used chromatic number of colors. Of course algorithmically finding the best ordering is not optimal due to the non-linearity of the number of vertex ordering ($n!$)."
   ]
  }
 ],
 "metadata": {
  "kernelspec": {
   "display_name": "SageMath 9.2",
   "language": "sage",
   "name": "sagemath"
  },
  "language_info": {
   "codemirror_mode": {
    "name": "ipython",
    "version": 3
   },
   "file_extension": ".py",
   "mimetype": "text/x-python",
   "name": "python",
   "nbconvert_exporter": "python",
   "pygments_lexer": "ipython3",
   "version": "3.7.7"
  }
 },
 "nbformat": 4,
 "nbformat_minor": 4
}
