{
 "cells": [
  {
   "cell_type": "markdown",
   "metadata": {
    "pycharm": {
     "name": "#%% md\n"
    }
   },
   "source": [
    "# Caravan insurance prediction\n",
    "\n",
    "- author: Balázs Nagy\n",
    "- e-mail: [balazs_nagy@outlook.com](balazs_nagy@outlook.com)\n",
    "- date of submission: 09-03-2022\n",
    "\n",
    "This data set contains information on customers of an insurance company. The data consists of $86$ variables and includes product usage data and socio-demographic data derived from zip area codes. The data was collected to answer the following question:\n",
    "\n",
    "> Can you predict who would be interested inbuying a caravan insurance policy and give an explanation why?\n",
    "\n",
    "Information about customers consists of $86$ variables and includes product usage data and socio-demographic data derived from zip area codes. The data was supplied by the Dutch data mining company Sentient Machine Research and is based on a real world business problem. The training set contains over $5000$ descriptions of customers, including the information of whether or not they have a caravan insurance policy. A test set contains $4000$ customers of whom only the organisers know if they have a caravan insurance policy.\n",
    "\n",
    "Each observation corresponds to a postal code. Variables beginning with `M` refer to demographic statistics of the postal code, while variables beginning with `P` and `A` (as well as CARAVAN, the target variable) refer to product ownership and insurance statistics in the postal code."
   ]
  },
  {
   "cell_type": "code",
   "execution_count": 1,
   "metadata": {},
   "outputs": [],
   "source": [
    "import pandas as pd\n",
    "import numpy as np"
   ]
  },
  {
   "cell_type": "markdown",
   "metadata": {},
   "source": [
    "# Pre-processing"
   ]
  },
  {
   "cell_type": "code",
   "execution_count": 2,
   "metadata": {
    "pycharm": {
     "name": "#%%\n"
    }
   },
   "outputs": [],
   "source": [
    "mapping = {'L0': {'desc': \"customer subtype\",\n",
    "                  'values': {1: 'High Income, expensive child',\n",
    "                             2: 'Very Important Provincials',\n",
    "                             3: 'High status seniors',\n",
    "                             4: 'Affluent senior apartments',\n",
    "                             5: 'Mixed seniors',\n",
    "                             6: 'Career and childcare',\n",
    "                             7: \"Dinki's (double income no kids)\",\n",
    "                             8: 'Middle class families',\n",
    "                             9: 'Modern, complete families',\n",
    "                             10: 'Stable family',\n",
    "                             11: 'Family starters',\n",
    "                             12: 'Affluent young families',\n",
    "                             13: 'Young all american family',\n",
    "                             14: 'Junior cosmopolitan',\n",
    "                             15: 'Senior cosmopolitans',\n",
    "                             16: 'Students in apartments',\n",
    "                             17: 'Fresh masters in the city',\n",
    "                             18: 'Single youth',\n",
    "                             19: 'Suburban youth',\n",
    "                             20: 'Etnically diverse',\n",
    "                             21: 'Young urban have-nots',\n",
    "                             22: 'Mixed apartment dwellers',\n",
    "                             23: 'Young and rising',\n",
    "                             24: 'Young, low educated',\n",
    "                             25: 'Young seniors in the city',\n",
    "                             26: 'Own home elderly',\n",
    "                             27: 'Seniors in apartments',\n",
    "                             28: 'Residential elderly',\n",
    "                             29: 'Porchless seniors: no front yard',\n",
    "                             30: 'Religious elderly singles',\n",
    "                             31: 'Low income catholics',\n",
    "                             32: 'Mixed seniors',\n",
    "                             33: 'Lower class large families',\n",
    "                             34: 'Large family, employed child',\n",
    "                             35: 'Village families',\n",
    "                             36: \"Couples with teens 'Married with children\",\n",
    "                             37: 'Mixed small town dwellers',\n",
    "                             38: 'Traditional families',\n",
    "                             39: 'Large religous families',\n",
    "                             40: 'Large family farms',\n",
    "                             41: 'Mixed rurals'}},\n",
    "           'L1': {'desc': 'average age keys',\n",
    "                  'values':  {1: '20-30 years',\n",
    "                              2: '30-40 years',\n",
    "                              3: '40-50 years',\n",
    "                              4: '50-60 years',\n",
    "                              5: '60-70 years',\n",
    "                              6: '70-80 years'}\n",
    "                  },\n",
    "           'L2': {'desc': 'customer main type keys',\n",
    "                  'values': {1: 'Successful hedonists',\n",
    "                             2: 'Driven Growers',\n",
    "                             3: 'Average Family',\n",
    "                             4: 'Career Loners',\n",
    "                             5: 'Living well',\n",
    "                             6: 'Cruising Seniors',\n",
    "                             7: 'Retired and Religeous',\n",
    "                             8: 'Family with grown ups',\n",
    "                             9: 'Conservative families',\n",
    "                             10: 'Farmers'}\n",
    "                  },\n",
    "           'L3': {'desc': 'percentage keys',\n",
    "                  'values': {0: '0%',\n",
    "                             1: '1 - 10%',\n",
    "                             2: '11 - 23%',\n",
    "                             3: '24 - 36%',\n",
    "                             4: '37 - 49%',\n",
    "                             5: '50 - 62%',\n",
    "                             6: '63 - 75%',\n",
    "                             7: '76 - 88%',\n",
    "                             8: '89 - 99%',\n",
    "                             9: '100%'}\n",
    "                  },\n",
    "           'L4': {'desc': 'total number keys',\n",
    "                  'values': {0: '0',\n",
    "                             1: '1 - 49',\n",
    "                             2: '50 - 99',\n",
    "                             3: '100 - 199',\n",
    "                             4: '200 - 499',\n",
    "                             5: '500 - 999',\n",
    "                             6: '1000 - 4999',\n",
    "                             7: '5000 - 9999',\n",
    "                             8: '10,000 - 19,999',\n",
    "                             9: '>= 20,000'}\n",
    "                 }\n",
    "           }"
   ]
  },
  {
   "cell_type": "code",
   "execution_count": 3,
   "metadata": {
    "pycharm": {
     "name": "#%%\n"
    }
   },
   "outputs": [],
   "source": [
    "# meta information pre-prepared based on description.txt\n",
    "desc = pd.read_excel('data/description.xlsx', sheet_name='meta')\n",
    "# train data\n",
    "train = pd.read_csv('data/ticdata2000.txt', delimiter='\\t', names=desc.Header)\n",
    "# evaluation data (caravan columns is empty)\n",
    "test = pd.read_csv('data/ticeval2000.txt', delimiter='\\t', names=desc.Header)\n",
    "# create index for test\n",
    "test.index = list(range(max(train.index) + 1, max(train.index) + 1 + test.shape[0]))\n",
    "# join into single dataframe\n",
    "data_raw = pd.concat([train.assign(source='train'), test.assign(source='test')])"
   ]
  },
  {
   "cell_type": "code",
   "execution_count": 4,
   "metadata": {},
   "outputs": [
    {
     "data": {
      "text/plain": [
       "caravan    4000\n",
       "dtype: int64"
      ]
     },
     "execution_count": 4,
     "metadata": {},
     "output_type": "execute_result"
    }
   ],
   "source": [
    "# no null values in train data, no null values in test except 'caravan'\n",
    "data_raw.isna().sum()[data_raw.isna().sum() != 0]"
   ]
  },
  {
   "cell_type": "code",
   "execution_count": 5,
   "metadata": {},
   "outputs": [
    {
     "data": {
      "text/plain": [
       "0    0.940227\n",
       "1    0.059773\n",
       "Name: caravan, dtype: float64"
      ]
     },
     "execution_count": 5,
     "metadata": {},
     "output_type": "execute_result"
    }
   ],
   "source": [
    "# share of ppl who owns an insurance in the train set: 6%\n",
    "train.caravan.value_counts(normalize=True)"
   ]
  },
  {
   "cell_type": "markdown",
   "metadata": {},
   "source": [
    "## Mappers"
   ]
  },
  {
   "cell_type": "code",
   "execution_count": 6,
   "metadata": {
    "scrolled": true
   },
   "outputs": [
    {
     "data": {
      "text/plain": [
       "L4     42\n",
       "L3     38\n",
       "NaN     3\n",
       "L1      1\n",
       "L2      1\n",
       "L0      1\n",
       "Name: Mapper, dtype: int64"
      ]
     },
     "execution_count": 6,
     "metadata": {},
     "output_type": "execute_result"
    }
   ],
   "source": [
    "desc.Mapper.value_counts(dropna=False)"
   ]
  },
  {
   "cell_type": "code",
   "execution_count": 7,
   "metadata": {},
   "outputs": [
    {
     "data": {
      "text/html": [
       "<div>\n",
       "<style scoped>\n",
       "    .dataframe tbody tr th:only-of-type {\n",
       "        vertical-align: middle;\n",
       "    }\n",
       "\n",
       "    .dataframe tbody tr th {\n",
       "        vertical-align: top;\n",
       "    }\n",
       "\n",
       "    .dataframe thead th {\n",
       "        text-align: right;\n",
       "    }\n",
       "</style>\n",
       "<table border=\"1\" class=\"dataframe\">\n",
       "  <thead>\n",
       "    <tr style=\"text-align: right;\">\n",
       "      <th></th>\n",
       "      <th>Header</th>\n",
       "      <th>Description</th>\n",
       "      <th>Mapper</th>\n",
       "    </tr>\n",
       "  </thead>\n",
       "  <tbody>\n",
       "    <tr>\n",
       "      <th>1</th>\n",
       "      <td>maanthui</td>\n",
       "      <td>Number of houses 1 - 10</td>\n",
       "      <td>NaN</td>\n",
       "    </tr>\n",
       "    <tr>\n",
       "      <th>2</th>\n",
       "      <td>mgemomv</td>\n",
       "      <td>Avg size household 1 - 6</td>\n",
       "      <td>NaN</td>\n",
       "    </tr>\n",
       "    <tr>\n",
       "      <th>85</th>\n",
       "      <td>caravan</td>\n",
       "      <td>Number of mobile home policies 0 - 1 (TARGET V...</td>\n",
       "      <td>NaN</td>\n",
       "    </tr>\n",
       "  </tbody>\n",
       "</table>\n",
       "</div>"
      ],
      "text/plain": [
       "      Header                                        Description Mapper\n",
       "1   maanthui                            Number of houses 1 - 10    NaN\n",
       "2    mgemomv                           Avg size household 1 - 6    NaN\n",
       "85   caravan  Number of mobile home policies 0 - 1 (TARGET V...    NaN"
      ]
     },
     "execution_count": 7,
     "metadata": {},
     "output_type": "execute_result"
    }
   ],
   "source": [
    "desc[desc.Mapper.isna()]"
   ]
  },
  {
   "cell_type": "markdown",
   "metadata": {},
   "source": [
    "There are no mappers for the above. `caravan` is a binary target, the remaining two will be used as a numerical variable. All other features will be mapped using the mapper provided and then we will apply one-hot encoding to the features."
   ]
  },
  {
   "cell_type": "code",
   "execution_count": 8,
   "metadata": {
    "pycharm": {
     "name": "#%%\n"
    }
   },
   "outputs": [],
   "source": [
    "# apply mapping to all categorical columns including two and multi-level categorical features\n",
    "data = data_raw.copy()\n",
    "for col, row in desc.set_index('Header').iterrows():\n",
    "    try:\n",
    "        key = mapping.get(row[\"Mapper\"]).get('values')\n",
    "        data[col] = data[col].map(key)\n",
    "        # print(f'{col}: {key} - {key}')\n",
    "    except AttributeError:\n",
    "        pass"
   ]
  },
  {
   "cell_type": "code",
   "execution_count": 9,
   "metadata": {
    "pycharm": {
     "name": "#%%\n"
    }
   },
   "outputs": [
    {
     "data": {
      "text/plain": [
       "apersaut       1\n",
       "caravan     4000\n",
       "dtype: int64"
      ]
     },
     "execution_count": 9,
     "metadata": {},
     "output_type": "execute_result"
    }
   ],
   "source": [
    "# check to see whether the mapping was complete\n",
    "miss_per_col = data.isna().sum().sort_values()\n",
    "miss_per_col[miss_per_col > 0]"
   ]
  },
  {
   "cell_type": "markdown",
   "metadata": {},
   "source": [
    "For `caravan` the missing values correspond to the test data which is OK."
   ]
  },
  {
   "cell_type": "code",
   "execution_count": 10,
   "metadata": {},
   "outputs": [
    {
     "name": "stdout",
     "output_type": "stream",
     "text": [
      "Value not mapped: 12\n",
      "Source: test\n"
     ]
    }
   ],
   "source": [
    "# apersaut has 1 missing value\n",
    "missing_index = data[data.apersaut.isna()].index[0]\n",
    "missing_row = data_raw.iloc[missing_index]\n",
    "print('Value not mapped:', missing_row.apersaut)\n",
    "print('Source:', missing_row.source)"
   ]
  },
  {
   "cell_type": "markdown",
   "metadata": {},
   "source": [
    "We have one unmapped record from the prediction test set. The reason is that the corresponding mapper to `apersaut` has levels ranging from 0-9. We will replace this value."
   ]
  },
  {
   "cell_type": "code",
   "execution_count": 11,
   "metadata": {},
   "outputs": [
    {
     "data": {
      "text/html": [
       "<div>\n",
       "<style scoped>\n",
       "    .dataframe tbody tr th:only-of-type {\n",
       "        vertical-align: middle;\n",
       "    }\n",
       "\n",
       "    .dataframe tbody tr th {\n",
       "        vertical-align: top;\n",
       "    }\n",
       "\n",
       "    .dataframe thead th {\n",
       "        text-align: right;\n",
       "    }\n",
       "</style>\n",
       "<table border=\"1\" class=\"dataframe\">\n",
       "  <thead>\n",
       "    <tr style=\"text-align: right;\">\n",
       "      <th></th>\n",
       "      <th>Header</th>\n",
       "      <th>Description</th>\n",
       "      <th>Mapper</th>\n",
       "    </tr>\n",
       "  </thead>\n",
       "  <tbody>\n",
       "    <tr>\n",
       "      <th>67</th>\n",
       "      <td>apersaut</td>\n",
       "      <td>Number of car policies</td>\n",
       "      <td>L4</td>\n",
       "    </tr>\n",
       "  </tbody>\n",
       "</table>\n",
       "</div>"
      ],
      "text/plain": [
       "      Header             Description Mapper\n",
       "67  apersaut  Number of car policies     L4"
      ]
     },
     "execution_count": 11,
     "metadata": {},
     "output_type": "execute_result"
    }
   ],
   "source": [
    "desc[desc.Header == 'apersaut'] # L4 mapping can map between 0-9"
   ]
  },
  {
   "cell_type": "code",
   "execution_count": 12,
   "metadata": {},
   "outputs": [],
   "source": [
    "# replace with max value for 9: '>= 20,000'\n",
    "data.loc[missing_index, 'apersaut'] = '>= 20,000'"
   ]
  },
  {
   "cell_type": "code",
   "execution_count": 13,
   "metadata": {},
   "outputs": [
    {
     "data": {
      "text/plain": [
       "caravan    4000\n",
       "dtype: int64"
      ]
     },
     "execution_count": 13,
     "metadata": {},
     "output_type": "execute_result"
    }
   ],
   "source": [
    "miss_per_col = data.isna().sum().sort_values()\n",
    "miss_per_col[miss_per_col > 0]"
   ]
  },
  {
   "cell_type": "markdown",
   "metadata": {},
   "source": [
    "There are no more missing values, we may proceed with the encoding of categorical variables."
   ]
  },
  {
   "cell_type": "markdown",
   "metadata": {},
   "source": [
    "## One-hot encoding"
   ]
  },
  {
   "cell_type": "code",
   "execution_count": 14,
   "metadata": {},
   "outputs": [],
   "source": [
    "data_dummied = pd.get_dummies(data, drop_first=True)\n",
    "train_dummied = data_dummied[data_dummied.source_train == 1].drop(['source_train'], axis=1).copy()\n",
    "test_dummied  = data_dummied[data_dummied.source_train == 0].drop(['source_train', 'caravan'], axis=1).copy()"
   ]
  },
  {
   "cell_type": "markdown",
   "metadata": {},
   "source": [
    "# Model fitting"
   ]
  },
  {
   "cell_type": "markdown",
   "metadata": {},
   "source": [
    "**Competition rules**\n",
    "\n",
    "1. Objective: predict the CARAVAN column of the evaluation data\n",
    "2. Models:\n",
    "    - first competition: only random forests\n",
    "    - second competition: any model\n",
    "3. Metric: balanced accuracy\n",
    "\n",
    "BA = (TPR + TNR) / 2\n",
    "\n",
    "- TPR = TP / (TP + FN)\n",
    "- TNR = TN = (TN + FP)\n",
    "\n",
    "where `TP`, `FP`, `TN`, `FN` are the number of true positives, false positives, true negatives, false negatives."
   ]
  },
  {
   "cell_type": "code",
   "execution_count": 20,
   "metadata": {},
   "outputs": [],
   "source": [
    "from time import time\n",
    "\n",
    "import matplotlib.pyplot as plt\n",
    "import seaborn as sns\n",
    "\n",
    "from imblearn.over_sampling import SMOTE, RandomOverSampler\n",
    "from imblearn.under_sampling import RandomUnderSampler\n",
    "from imblearn.pipeline import Pipeline\n",
    "\n",
    "from sklearn.model_selection import train_test_split, GridSearchCV\n",
    "from sklearn.metrics import balanced_accuracy_score\n",
    "from sklearn.neighbors import KNeighborsClassifier\n",
    "from sklearn.svm import SVC\n",
    "from sklearn.tree import DecisionTreeClassifier\n",
    "from sklearn.ensemble import RandomForestClassifier, AdaBoostClassifier, GradientBoostingClassifier\n",
    "from sklearn.naive_bayes import GaussianNB\n",
    "\n",
    "# random seed\n",
    "SEED = 42"
   ]
  },
  {
   "cell_type": "code",
   "execution_count": 21,
   "metadata": {},
   "outputs": [],
   "source": [
    "y = train_dummied.caravan.copy()\n",
    "X = train_dummied.drop(['caravan'], axis=1).copy()"
   ]
  },
  {
   "cell_type": "markdown",
   "metadata": {},
   "source": [
    "## Resampling"
   ]
  },
  {
   "cell_type": "markdown",
   "metadata": {},
   "source": [
    "https://machinelearningmastery.com/smote-oversampling-for-imbalanced-classification/"
   ]
  },
  {
   "cell_type": "code",
   "execution_count": 44,
   "metadata": {},
   "outputs": [
    {
     "name": "stdout",
     "output_type": "stream",
     "text": [
      "Train balanced accuracy: 0.7929384965831435\n",
      "Validation balanced accuracy: 0.7175584255842558\n",
      "Percentage of negative predictions: 0.7381974248927039\n"
     ]
    }
   ],
   "source": [
    "X_train, X_test, y_train, y_test = train_test_split(X, y, test_size=0.2, random_state=SEED)\n",
    "\n",
    "resampler = RandomOverSampler()\n",
    "#resampler = RandomUnderSampler()\n",
    "#resampler = SMOTE()\n",
    "\n",
    "X_train_res, y_train_res = resampler.fit_resample(X_train, y_train)\n",
    "\n",
    "# print(y_train_res.value_counts(), '\\n')\n",
    "\n",
    "clf = RandomForestClassifier(max_depth=5, class_weight='balanced', max_features='sqrt')\n",
    "clf.fit(X_train_res, y_train_res)\n",
    "\n",
    "y_pred = clf.predict(X_test)\n",
    "acc_train = balanced_accuracy_score(y_train_res, clf.predict(X_train_res))\n",
    "acc_test = balanced_accuracy_score(y_test, y_pred)\n",
    "print(f'Train balanced accuracy: {acc_train}')\n",
    "print(f'Validation balanced accuracy: {acc_test}')\n",
    "\n",
    "print(f'Percentage of negative predictions: {np.sum(y_pred == 0) / len(y_pred)}')"
   ]
  },
  {
   "cell_type": "markdown",
   "metadata": {},
   "source": [
    "## Best baseline resamplers and classifiers"
   ]
  },
  {
   "cell_type": "markdown",
   "metadata": {},
   "source": [
    "### Single resampling"
   ]
  },
  {
   "cell_type": "code",
   "execution_count": 53,
   "metadata": {},
   "outputs": [
    {
     "name": "stdout",
     "output_type": "stream",
     "text": [
      "RandomOverSampler-KNeighborsClassifier: 0.938 (train), 0.548 (test)\n",
      "RandomOverSampler-SVC: 0.950 (train), 0.558 (test)\n",
      "RandomOverSampler-DecisionTreeClassifier: 0.996 (train), 0.518 (test)\n",
      "RandomOverSampler-RandomForestClassifier: 0.996 (train), 0.526 (test)\n",
      "RandomOverSampler-AdaBoostClassifier: 0.770 (train), 0.687 (test)\n",
      "RandomOverSampler-GradientBoostingClassifier: 0.858 (train), 0.684 (test)\n",
      "RandomOverSampler-GaussianNB: 0.601 (train), 0.490 (test)\n",
      "\n",
      "\n",
      "RandomUnderSampler-KNeighborsClassifier: 0.715 (train), 0.553 (test)\n",
      "RandomUnderSampler-SVC: 0.878 (train), 0.673 (test)\n",
      "RandomUnderSampler-DecisionTreeClassifier: 0.996 (train), 0.626 (test)\n",
      "RandomUnderSampler-RandomForestClassifier: 0.996 (train), 0.668 (test)\n",
      "RandomUnderSampler-AdaBoostClassifier: 0.811 (train), 0.666 (test)\n",
      "RandomUnderSampler-GradientBoostingClassifier: 0.914 (train), 0.692 (test)\n",
      "RandomUnderSampler-GaussianNB: 0.730 (train), 0.598 (test)\n",
      "\n",
      "\n",
      "SMOTE-KNeighborsClassifier: 0.887 (train), 0.472 (test)\n",
      "SMOTE-SVC: 0.968 (train), 0.505 (test)\n",
      "SMOTE-DecisionTreeClassifier: 0.996 (train), 0.513 (test)\n",
      "SMOTE-RandomForestClassifier: 0.996 (train), 0.517 (test)\n",
      "SMOTE-AdaBoostClassifier: 0.902 (train), 0.590 (test)\n",
      "SMOTE-GradientBoostingClassifier: 0.945 (train), 0.523 (test)\n",
      "SMOTE-GaussianNB: 0.718 (train), 0.531 (test)\n",
      "\n",
      "\n"
     ]
    }
   ],
   "source": [
    "# list of resamplers\n",
    "resamplers = [RandomOverSampler(),\n",
    "              RandomUnderSampler(),\n",
    "              SMOTE()]\n",
    "# list of classifiers\n",
    "classifiers = [\n",
    "    KNeighborsClassifier(),\n",
    "    SVC(probability=False),\n",
    "    DecisionTreeClassifier(),\n",
    "    RandomForestClassifier(),\n",
    "    AdaBoostClassifier(),\n",
    "    GradientBoostingClassifier(),\n",
    "    GaussianNB()\n",
    "]\n",
    "\n",
    "# list to store results\n",
    "results = [] \n",
    "\n",
    "# fit baseline resamplers and classfieirs\n",
    "for resampler in resamplers:\n",
    "    for clf in classifiers:\n",
    "        # resampler and classifier names\n",
    "        name_res, name_clf = resampler.__class__.__name__, clf.__class__.__name__\n",
    "        # resample training set\n",
    "        X_train_res, y_train_res = resampler.fit_resample(X_train, y_train)\n",
    "        # fit classfier\n",
    "        clf.fit(X_train_res, y_train_res)\n",
    "        # predict validation set\n",
    "        y_pred = clf.predict(X_test)\n",
    "        # calculate balanced accuracy scores\n",
    "        acc_train = balanced_accuracy_score(y_train_res, clf.predict(X_train_res))\n",
    "        acc_test = balanced_accuracy_score(y_test, y_pred)\n",
    "        result = [name_res, name_clf, clf.get_params(), acc_train, acc_test]\n",
    "        results.append(result)\n",
    "        print(f'{name_res}-{name_clf}: {acc_train:.3f} (train), {acc_test:.3f} (test)')\n",
    "    print('\\n')\n",
    "results = pd.DataFrame(results, columns=['resampler', 'classifier', 'params', 'acc_train', 'acc_test'])\n",
    "results.sort_values(by='acc_test', ascending=False, inplace=True)"
   ]
  },
  {
   "cell_type": "code",
   "execution_count": 61,
   "metadata": {},
   "outputs": [
    {
     "data": {
      "text/html": [
       "<div>\n",
       "<style scoped>\n",
       "    .dataframe tbody tr th:only-of-type {\n",
       "        vertical-align: middle;\n",
       "    }\n",
       "\n",
       "    .dataframe tbody tr th {\n",
       "        vertical-align: top;\n",
       "    }\n",
       "\n",
       "    .dataframe thead th {\n",
       "        text-align: right;\n",
       "    }\n",
       "</style>\n",
       "<table border=\"1\" class=\"dataframe\">\n",
       "  <thead>\n",
       "    <tr style=\"text-align: right;\">\n",
       "      <th></th>\n",
       "      <th>resampler</th>\n",
       "      <th>classifier</th>\n",
       "      <th>params</th>\n",
       "      <th>acc_train</th>\n",
       "      <th>acc_test</th>\n",
       "    </tr>\n",
       "  </thead>\n",
       "  <tbody>\n",
       "    <tr>\n",
       "      <th>12</th>\n",
       "      <td>RandomUnderSampler</td>\n",
       "      <td>GradientBoostingClassifier</td>\n",
       "      <td>{'ccp_alpha': 0.0, 'criterion': 'friedman_mse'...</td>\n",
       "      <td>0.913858</td>\n",
       "      <td>0.691512</td>\n",
       "    </tr>\n",
       "    <tr>\n",
       "      <th>4</th>\n",
       "      <td>RandomOverSampler</td>\n",
       "      <td>AdaBoostClassifier</td>\n",
       "      <td>{'algorithm': 'SAMME.R', 'base_estimator': Non...</td>\n",
       "      <td>0.770046</td>\n",
       "      <td>0.687332</td>\n",
       "    </tr>\n",
       "    <tr>\n",
       "      <th>5</th>\n",
       "      <td>RandomOverSampler</td>\n",
       "      <td>GradientBoostingClassifier</td>\n",
       "      <td>{'ccp_alpha': 0.0, 'criterion': 'friedman_mse'...</td>\n",
       "      <td>0.858087</td>\n",
       "      <td>0.684320</td>\n",
       "    </tr>\n",
       "    <tr>\n",
       "      <th>8</th>\n",
       "      <td>RandomUnderSampler</td>\n",
       "      <td>SVC</td>\n",
       "      <td>{'C': 1.0, 'break_ties': False, 'cache_size': ...</td>\n",
       "      <td>0.878277</td>\n",
       "      <td>0.672709</td>\n",
       "    </tr>\n",
       "    <tr>\n",
       "      <th>10</th>\n",
       "      <td>RandomUnderSampler</td>\n",
       "      <td>RandomForestClassifier</td>\n",
       "      <td>{'bootstrap': True, 'ccp_alpha': 0.0, 'class_w...</td>\n",
       "      <td>0.996255</td>\n",
       "      <td>0.667919</td>\n",
       "    </tr>\n",
       "    <tr>\n",
       "      <th>11</th>\n",
       "      <td>RandomUnderSampler</td>\n",
       "      <td>AdaBoostClassifier</td>\n",
       "      <td>{'algorithm': 'SAMME.R', 'base_estimator': Non...</td>\n",
       "      <td>0.810861</td>\n",
       "      <td>0.666074</td>\n",
       "    </tr>\n",
       "    <tr>\n",
       "      <th>9</th>\n",
       "      <td>RandomUnderSampler</td>\n",
       "      <td>DecisionTreeClassifier</td>\n",
       "      <td>{'ccp_alpha': 0.0, 'class_weight': None, 'crit...</td>\n",
       "      <td>0.996255</td>\n",
       "      <td>0.626475</td>\n",
       "    </tr>\n",
       "    <tr>\n",
       "      <th>13</th>\n",
       "      <td>RandomUnderSampler</td>\n",
       "      <td>GaussianNB</td>\n",
       "      <td>{'priors': None, 'var_smoothing': 1e-09}</td>\n",
       "      <td>0.730337</td>\n",
       "      <td>0.598202</td>\n",
       "    </tr>\n",
       "    <tr>\n",
       "      <th>18</th>\n",
       "      <td>SMOTE</td>\n",
       "      <td>AdaBoostClassifier</td>\n",
       "      <td>{'algorithm': 'SAMME.R', 'base_estimator': Non...</td>\n",
       "      <td>0.902392</td>\n",
       "      <td>0.590030</td>\n",
       "    </tr>\n",
       "    <tr>\n",
       "      <th>1</th>\n",
       "      <td>RandomOverSampler</td>\n",
       "      <td>SVC</td>\n",
       "      <td>{'C': 1.0, 'break_ties': False, 'cache_size': ...</td>\n",
       "      <td>0.949658</td>\n",
       "      <td>0.557959</td>\n",
       "    </tr>\n",
       "    <tr>\n",
       "      <th>7</th>\n",
       "      <td>RandomUnderSampler</td>\n",
       "      <td>KNeighborsClassifier</td>\n",
       "      <td>{'algorithm': 'auto', 'leaf_size': 30, 'metric...</td>\n",
       "      <td>0.715356</td>\n",
       "      <td>0.552509</td>\n",
       "    </tr>\n",
       "    <tr>\n",
       "      <th>0</th>\n",
       "      <td>RandomOverSampler</td>\n",
       "      <td>KNeighborsClassifier</td>\n",
       "      <td>{'algorithm': 'auto', 'leaf_size': 30, 'metric...</td>\n",
       "      <td>0.938497</td>\n",
       "      <td>0.548341</td>\n",
       "    </tr>\n",
       "    <tr>\n",
       "      <th>20</th>\n",
       "      <td>SMOTE</td>\n",
       "      <td>GaussianNB</td>\n",
       "      <td>{'priors': None, 'var_smoothing': 1e-09}</td>\n",
       "      <td>0.717654</td>\n",
       "      <td>0.531428</td>\n",
       "    </tr>\n",
       "    <tr>\n",
       "      <th>3</th>\n",
       "      <td>RandomOverSampler</td>\n",
       "      <td>RandomForestClassifier</td>\n",
       "      <td>{'bootstrap': True, 'ccp_alpha': 0.0, 'class_w...</td>\n",
       "      <td>0.995672</td>\n",
       "      <td>0.525682</td>\n",
       "    </tr>\n",
       "    <tr>\n",
       "      <th>19</th>\n",
       "      <td>SMOTE</td>\n",
       "      <td>GradientBoostingClassifier</td>\n",
       "      <td>{'ccp_alpha': 0.0, 'criterion': 'friedman_mse'...</td>\n",
       "      <td>0.945444</td>\n",
       "      <td>0.523268</td>\n",
       "    </tr>\n",
       "    <tr>\n",
       "      <th>2</th>\n",
       "      <td>RandomOverSampler</td>\n",
       "      <td>DecisionTreeClassifier</td>\n",
       "      <td>{'ccp_alpha': 0.0, 'class_weight': None, 'crit...</td>\n",
       "      <td>0.995672</td>\n",
       "      <td>0.518194</td>\n",
       "    </tr>\n",
       "    <tr>\n",
       "      <th>17</th>\n",
       "      <td>SMOTE</td>\n",
       "      <td>RandomForestClassifier</td>\n",
       "      <td>{'bootstrap': True, 'ccp_alpha': 0.0, 'class_w...</td>\n",
       "      <td>0.996128</td>\n",
       "      <td>0.517203</td>\n",
       "    </tr>\n",
       "    <tr>\n",
       "      <th>16</th>\n",
       "      <td>SMOTE</td>\n",
       "      <td>DecisionTreeClassifier</td>\n",
       "      <td>{'ccp_alpha': 0.0, 'class_weight': None, 'crit...</td>\n",
       "      <td>0.996128</td>\n",
       "      <td>0.513120</td>\n",
       "    </tr>\n",
       "    <tr>\n",
       "      <th>15</th>\n",
       "      <td>SMOTE</td>\n",
       "      <td>SVC</td>\n",
       "      <td>{'C': 1.0, 'break_ties': False, 'cache_size': ...</td>\n",
       "      <td>0.968223</td>\n",
       "      <td>0.505142</td>\n",
       "    </tr>\n",
       "    <tr>\n",
       "      <th>6</th>\n",
       "      <td>RandomOverSampler</td>\n",
       "      <td>GaussianNB</td>\n",
       "      <td>{'priors': None, 'var_smoothing': 1e-09}</td>\n",
       "      <td>0.600569</td>\n",
       "      <td>0.490080</td>\n",
       "    </tr>\n",
       "    <tr>\n",
       "      <th>14</th>\n",
       "      <td>SMOTE</td>\n",
       "      <td>KNeighborsClassifier</td>\n",
       "      <td>{'algorithm': 'auto', 'leaf_size': 30, 'metric...</td>\n",
       "      <td>0.886902</td>\n",
       "      <td>0.472057</td>\n",
       "    </tr>\n",
       "  </tbody>\n",
       "</table>\n",
       "</div>"
      ],
      "text/plain": [
       "             resampler                  classifier  \\\n",
       "12  RandomUnderSampler  GradientBoostingClassifier   \n",
       "4    RandomOverSampler          AdaBoostClassifier   \n",
       "5    RandomOverSampler  GradientBoostingClassifier   \n",
       "8   RandomUnderSampler                         SVC   \n",
       "10  RandomUnderSampler      RandomForestClassifier   \n",
       "11  RandomUnderSampler          AdaBoostClassifier   \n",
       "9   RandomUnderSampler      DecisionTreeClassifier   \n",
       "13  RandomUnderSampler                  GaussianNB   \n",
       "18               SMOTE          AdaBoostClassifier   \n",
       "1    RandomOverSampler                         SVC   \n",
       "7   RandomUnderSampler        KNeighborsClassifier   \n",
       "0    RandomOverSampler        KNeighborsClassifier   \n",
       "20               SMOTE                  GaussianNB   \n",
       "3    RandomOverSampler      RandomForestClassifier   \n",
       "19               SMOTE  GradientBoostingClassifier   \n",
       "2    RandomOverSampler      DecisionTreeClassifier   \n",
       "17               SMOTE      RandomForestClassifier   \n",
       "16               SMOTE      DecisionTreeClassifier   \n",
       "15               SMOTE                         SVC   \n",
       "6    RandomOverSampler                  GaussianNB   \n",
       "14               SMOTE        KNeighborsClassifier   \n",
       "\n",
       "                                               params  acc_train  acc_test  \n",
       "12  {'ccp_alpha': 0.0, 'criterion': 'friedman_mse'...   0.913858  0.691512  \n",
       "4   {'algorithm': 'SAMME.R', 'base_estimator': Non...   0.770046  0.687332  \n",
       "5   {'ccp_alpha': 0.0, 'criterion': 'friedman_mse'...   0.858087  0.684320  \n",
       "8   {'C': 1.0, 'break_ties': False, 'cache_size': ...   0.878277  0.672709  \n",
       "10  {'bootstrap': True, 'ccp_alpha': 0.0, 'class_w...   0.996255  0.667919  \n",
       "11  {'algorithm': 'SAMME.R', 'base_estimator': Non...   0.810861  0.666074  \n",
       "9   {'ccp_alpha': 0.0, 'class_weight': None, 'crit...   0.996255  0.626475  \n",
       "13           {'priors': None, 'var_smoothing': 1e-09}   0.730337  0.598202  \n",
       "18  {'algorithm': 'SAMME.R', 'base_estimator': Non...   0.902392  0.590030  \n",
       "1   {'C': 1.0, 'break_ties': False, 'cache_size': ...   0.949658  0.557959  \n",
       "7   {'algorithm': 'auto', 'leaf_size': 30, 'metric...   0.715356  0.552509  \n",
       "0   {'algorithm': 'auto', 'leaf_size': 30, 'metric...   0.938497  0.548341  \n",
       "20           {'priors': None, 'var_smoothing': 1e-09}   0.717654  0.531428  \n",
       "3   {'bootstrap': True, 'ccp_alpha': 0.0, 'class_w...   0.995672  0.525682  \n",
       "19  {'ccp_alpha': 0.0, 'criterion': 'friedman_mse'...   0.945444  0.523268  \n",
       "2   {'ccp_alpha': 0.0, 'class_weight': None, 'crit...   0.995672  0.518194  \n",
       "17  {'bootstrap': True, 'ccp_alpha': 0.0, 'class_w...   0.996128  0.517203  \n",
       "16  {'ccp_alpha': 0.0, 'class_weight': None, 'crit...   0.996128  0.513120  \n",
       "15  {'C': 1.0, 'break_ties': False, 'cache_size': ...   0.968223  0.505142  \n",
       "6            {'priors': None, 'var_smoothing': 1e-09}   0.600569  0.490080  \n",
       "14  {'algorithm': 'auto', 'leaf_size': 30, 'metric...   0.886902  0.472057  "
      ]
     },
     "execution_count": 61,
     "metadata": {},
     "output_type": "execute_result"
    }
   ],
   "source": [
    "results"
   ]
  },
  {
   "cell_type": "markdown",
   "metadata": {},
   "source": [
    "The top3 baseline models were:\n",
    "1. GradientBoosting with random undersampling\n",
    "2. AdaBoost with random over sampling\n",
    "3. GradientBoosting with random oversampling\n",
    "\n",
    "followed by SVC and RandomForest with random undersampling.\n",
    "\n",
    "Although the top5 test scores range between 65-70%. However, the train scores suggests overfitting on the train set.\n",
    "We try to overcome this by combining resampling techniques in the hope that this results a more generalised learning."
   ]
  },
  {
   "cell_type": "markdown",
   "metadata": {},
   "source": [
    "### Combined resampling"
   ]
  },
  {
   "cell_type": "code",
   "execution_count": 76,
   "metadata": {},
   "outputs": [],
   "source": [
    "from itertools import permutations"
   ]
  },
  {
   "cell_type": "code",
   "execution_count": 93,
   "metadata": {},
   "outputs": [
    {
     "name": "stdout",
     "output_type": "stream",
     "text": [
      "RandomOverSampler-RandomUnderSampler-KNeighborsClassifier: 0.909 (train), 0.547 (test)\n",
      "RandomOverSampler-RandomUnderSampler-SVC: 0.656 (train), 0.565 (test)\n",
      "RandomOverSampler-RandomUnderSampler-DecisionTreeClassifier: 0.806 (train), 0.524 (test)\n",
      "RandomOverSampler-RandomUnderSampler-RandomForestClassifier: 0.657 (train), 0.533 (test)\n",
      "RandomOverSampler-RandomUnderSampler-AdaBoostClassifier: 0.703 (train), 0.678 (test)\n",
      "RandomOverSampler-RandomUnderSampler-GradientBoostingClassifier: 0.741 (train), 0.699 (test)\n",
      "RandomOverSampler-RandomUnderSampler-GaussianNB: 0.601 (train), 0.490 (test)\n",
      "\n",
      "\n",
      "RandomOverSampler-SMOTE-KNeighborsClassifier: 0.911 (train), 0.550 (test)\n",
      "RandomOverSampler-SMOTE-SVC: 0.657 (train), 0.566 (test)\n",
      "RandomOverSampler-SMOTE-DecisionTreeClassifier: 0.823 (train), 0.525 (test)\n",
      "RandomOverSampler-SMOTE-RandomForestClassifier: 0.647 (train), 0.527 (test)\n",
      "RandomOverSampler-SMOTE-AdaBoostClassifier: 0.711 (train), 0.691 (test)\n",
      "RandomOverSampler-SMOTE-GradientBoostingClassifier: 0.735 (train), 0.697 (test)\n",
      "RandomOverSampler-SMOTE-GaussianNB: 0.601 (train), 0.490 (test)\n",
      "\n",
      "\n",
      "RandomUnderSampler-RandomOverSampler-KNeighborsClassifier: 0.703 (train), 0.603 (test)\n",
      "RandomUnderSampler-RandomOverSampler-SVC: 0.700 (train), 0.676 (test)\n",
      "RandomUnderSampler-RandomOverSampler-DecisionTreeClassifier: 0.657 (train), 0.586 (test)\n",
      "RandomUnderSampler-RandomOverSampler-RandomForestClassifier: 0.713 (train), 0.667 (test)\n",
      "RandomUnderSampler-RandomOverSampler-AdaBoostClassifier: 0.649 (train), 0.655 (test)\n",
      "RandomUnderSampler-RandomOverSampler-GradientBoostingClassifier: 0.701 (train), 0.702 (test)\n",
      "RandomUnderSampler-RandomOverSampler-GaussianNB: 0.585 (train), 0.506 (test)\n",
      "\n",
      "\n",
      "RandomUnderSampler-SMOTE-KNeighborsClassifier: 0.707 (train), 0.565 (test)\n",
      "RandomUnderSampler-SMOTE-SVC: 0.653 (train), 0.696 (test)\n",
      "RandomUnderSampler-SMOTE-DecisionTreeClassifier: 0.620 (train), 0.598 (test)\n",
      "RandomUnderSampler-SMOTE-RandomForestClassifier: 0.728 (train), 0.694 (test)\n",
      "RandomUnderSampler-SMOTE-AdaBoostClassifier: 0.661 (train), 0.699 (test)\n",
      "RandomUnderSampler-SMOTE-GradientBoostingClassifier: 0.704 (train), 0.707 (test)\n",
      "RandomUnderSampler-SMOTE-GaussianNB: 0.609 (train), 0.538 (test)\n",
      "\n",
      "\n",
      "SMOTE-RandomOverSampler-KNeighborsClassifier: 0.887 (train), 0.465 (test)\n",
      "SMOTE-RandomOverSampler-SVC: 0.965 (train), 0.503 (test)\n",
      "SMOTE-RandomOverSampler-DecisionTreeClassifier: 0.994 (train), 0.505 (test)\n",
      "SMOTE-RandomOverSampler-RandomForestClassifier: 0.996 (train), 0.516 (test)\n",
      "SMOTE-RandomOverSampler-AdaBoostClassifier: 0.896 (train), 0.563 (test)\n",
      "SMOTE-RandomOverSampler-GradientBoostingClassifier: 0.945 (train), 0.522 (test)\n",
      "SMOTE-RandomOverSampler-GaussianNB: 0.719 (train), 0.528 (test)\n",
      "\n",
      "\n",
      "SMOTE-RandomUnderSampler-KNeighborsClassifier: 0.886 (train), 0.469 (test)\n",
      "SMOTE-RandomUnderSampler-SVC: 0.966 (train), 0.504 (test)\n",
      "SMOTE-RandomUnderSampler-DecisionTreeClassifier: 0.996 (train), 0.529 (test)\n",
      "SMOTE-RandomUnderSampler-RandomForestClassifier: 0.996 (train), 0.510 (test)\n",
      "SMOTE-RandomUnderSampler-AdaBoostClassifier: 0.904 (train), 0.560 (test)\n",
      "SMOTE-RandomUnderSampler-GradientBoostingClassifier: 0.948 (train), 0.531 (test)\n",
      "SMOTE-RandomUnderSampler-GaussianNB: 0.722 (train), 0.532 (test)\n",
      "\n",
      "\n"
     ]
    }
   ],
   "source": [
    "# list of resamplers\n",
    "resamplers = [RandomOverSampler(),\n",
    "              RandomUnderSampler(),\n",
    "              SMOTE()]\n",
    "# list of classifiers\n",
    "classifiers = [\n",
    "    KNeighborsClassifier(),\n",
    "    SVC(probability=False),\n",
    "    DecisionTreeClassifier(),\n",
    "    RandomForestClassifier(),\n",
    "    AdaBoostClassifier(),\n",
    "    GradientBoostingClassifier(),\n",
    "    GaussianNB()\n",
    "]\n",
    "\n",
    "results = []\n",
    "for res1, res2 in permutations(resamplers, r=2):\n",
    "    for clf in classifiers:\n",
    "        name_res1, name_res2 = res1.__class__.__name__, res2.__class__.__name__\n",
    "        name_clf = clf.__class__.__name__\n",
    "        # create pipeline\n",
    "        pipe = Pipeline([('res1', res1),\n",
    "                         ('res2', res2),\n",
    "                          ('clf', clf)])\n",
    "        # fit model\n",
    "        pipe.fit(X_train, y_train)\n",
    "        # predict validation set\n",
    "        y_pred = pipe.predict(X_test)\n",
    "        # calculate balanced accuracy scores\n",
    "        acc_train = balanced_accuracy_score(y_train_res, pipe.predict(X_train_res))\n",
    "        acc_test = balanced_accuracy_score(y_test, y_pred)\n",
    "        result = [name_res1, name_res2, name_clf,\n",
    "                  clf.get_params(), acc_train, acc_test]\n",
    "        results.append(result)\n",
    "        print(f'{name_res1}-{name_res2}-{name_clf}: {acc_train:.3f} (train), {acc_test:.3f} (test)')\n",
    "    print('\\n')\n",
    "    \n",
    "results = pd.DataFrame(data=results,\n",
    "                       columns=['resampler1', 'resampler2', 'classifier', 'params', 'acc_train', 'acc_test'])\n",
    "results.sort_values(by='acc_test', ascending=False, inplace=True)"
   ]
  },
  {
   "cell_type": "code",
   "execution_count": 94,
   "metadata": {},
   "outputs": [
    {
     "data": {
      "text/html": [
       "<div>\n",
       "<style scoped>\n",
       "    .dataframe tbody tr th:only-of-type {\n",
       "        vertical-align: middle;\n",
       "    }\n",
       "\n",
       "    .dataframe tbody tr th {\n",
       "        vertical-align: top;\n",
       "    }\n",
       "\n",
       "    .dataframe thead th {\n",
       "        text-align: right;\n",
       "    }\n",
       "</style>\n",
       "<table border=\"1\" class=\"dataframe\">\n",
       "  <thead>\n",
       "    <tr style=\"text-align: right;\">\n",
       "      <th></th>\n",
       "      <th>resampler1</th>\n",
       "      <th>resampler2</th>\n",
       "      <th>classifier</th>\n",
       "      <th>params</th>\n",
       "      <th>acc_train</th>\n",
       "      <th>acc_test</th>\n",
       "    </tr>\n",
       "  </thead>\n",
       "  <tbody>\n",
       "    <tr>\n",
       "      <th>26</th>\n",
       "      <td>RandomUnderSampler</td>\n",
       "      <td>SMOTE</td>\n",
       "      <td>GradientBoostingClassifier</td>\n",
       "      <td>{'ccp_alpha': 0.0, 'criterion': 'friedman_mse'...</td>\n",
       "      <td>0.704100</td>\n",
       "      <td>0.706733</td>\n",
       "    </tr>\n",
       "    <tr>\n",
       "      <th>19</th>\n",
       "      <td>RandomUnderSampler</td>\n",
       "      <td>RandomOverSampler</td>\n",
       "      <td>GradientBoostingClassifier</td>\n",
       "      <td>{'ccp_alpha': 0.0, 'criterion': 'friedman_mse'...</td>\n",
       "      <td>0.700797</td>\n",
       "      <td>0.701768</td>\n",
       "    </tr>\n",
       "    <tr>\n",
       "      <th>25</th>\n",
       "      <td>RandomUnderSampler</td>\n",
       "      <td>SMOTE</td>\n",
       "      <td>AdaBoostClassifier</td>\n",
       "      <td>{'algorithm': 'SAMME.R', 'base_estimator': Non...</td>\n",
       "      <td>0.660706</td>\n",
       "      <td>0.698784</td>\n",
       "    </tr>\n",
       "    <tr>\n",
       "      <th>5</th>\n",
       "      <td>RandomOverSampler</td>\n",
       "      <td>RandomUnderSampler</td>\n",
       "      <td>GradientBoostingClassifier</td>\n",
       "      <td>{'ccp_alpha': 0.0, 'criterion': 'friedman_mse'...</td>\n",
       "      <td>0.740547</td>\n",
       "      <td>0.698510</td>\n",
       "    </tr>\n",
       "    <tr>\n",
       "      <th>12</th>\n",
       "      <td>RandomOverSampler</td>\n",
       "      <td>SMOTE</td>\n",
       "      <td>GradientBoostingClassifier</td>\n",
       "      <td>{'ccp_alpha': 0.0, 'criterion': 'friedman_mse'...</td>\n",
       "      <td>0.734738</td>\n",
       "      <td>0.696665</td>\n",
       "    </tr>\n",
       "    <tr>\n",
       "      <th>22</th>\n",
       "      <td>RandomUnderSampler</td>\n",
       "      <td>SMOTE</td>\n",
       "      <td>SVC</td>\n",
       "      <td>{'C': 1.0, 'break_ties': False, 'cache_size': ...</td>\n",
       "      <td>0.652506</td>\n",
       "      <td>0.696369</td>\n",
       "    </tr>\n",
       "    <tr>\n",
       "      <th>24</th>\n",
       "      <td>RandomUnderSampler</td>\n",
       "      <td>SMOTE</td>\n",
       "      <td>RandomForestClassifier</td>\n",
       "      <td>{'bootstrap': True, 'ccp_alpha': 0.0, 'class_w...</td>\n",
       "      <td>0.727790</td>\n",
       "      <td>0.693533</td>\n",
       "    </tr>\n",
       "    <tr>\n",
       "      <th>11</th>\n",
       "      <td>RandomOverSampler</td>\n",
       "      <td>SMOTE</td>\n",
       "      <td>AdaBoostClassifier</td>\n",
       "      <td>{'algorithm': 'SAMME.R', 'base_estimator': Non...</td>\n",
       "      <td>0.710706</td>\n",
       "      <td>0.690737</td>\n",
       "    </tr>\n",
       "    <tr>\n",
       "      <th>4</th>\n",
       "      <td>RandomOverSampler</td>\n",
       "      <td>RandomUnderSampler</td>\n",
       "      <td>AdaBoostClassifier</td>\n",
       "      <td>{'algorithm': 'SAMME.R', 'base_estimator': Non...</td>\n",
       "      <td>0.702961</td>\n",
       "      <td>0.677930</td>\n",
       "    </tr>\n",
       "    <tr>\n",
       "      <th>15</th>\n",
       "      <td>RandomUnderSampler</td>\n",
       "      <td>RandomOverSampler</td>\n",
       "      <td>SVC</td>\n",
       "      <td>{'C': 1.0, 'break_ties': False, 'cache_size': ...</td>\n",
       "      <td>0.699772</td>\n",
       "      <td>0.676222</td>\n",
       "    </tr>\n",
       "    <tr>\n",
       "      <th>17</th>\n",
       "      <td>RandomUnderSampler</td>\n",
       "      <td>RandomOverSampler</td>\n",
       "      <td>RandomForestClassifier</td>\n",
       "      <td>{'bootstrap': True, 'ccp_alpha': 0.0, 'class_w...</td>\n",
       "      <td>0.713326</td>\n",
       "      <td>0.666712</td>\n",
       "    </tr>\n",
       "    <tr>\n",
       "      <th>18</th>\n",
       "      <td>RandomUnderSampler</td>\n",
       "      <td>RandomOverSampler</td>\n",
       "      <td>AdaBoostClassifier</td>\n",
       "      <td>{'algorithm': 'SAMME.R', 'base_estimator': Non...</td>\n",
       "      <td>0.648519</td>\n",
       "      <td>0.654543</td>\n",
       "    </tr>\n",
       "    <tr>\n",
       "      <th>14</th>\n",
       "      <td>RandomUnderSampler</td>\n",
       "      <td>RandomOverSampler</td>\n",
       "      <td>KNeighborsClassifier</td>\n",
       "      <td>{'algorithm': 'auto', 'leaf_size': 30, 'metric...</td>\n",
       "      <td>0.703189</td>\n",
       "      <td>0.603236</td>\n",
       "    </tr>\n",
       "    <tr>\n",
       "      <th>23</th>\n",
       "      <td>RandomUnderSampler</td>\n",
       "      <td>SMOTE</td>\n",
       "      <td>DecisionTreeClassifier</td>\n",
       "      <td>{'ccp_alpha': 0.0, 'class_weight': None, 'crit...</td>\n",
       "      <td>0.619590</td>\n",
       "      <td>0.598310</td>\n",
       "    </tr>\n",
       "    <tr>\n",
       "      <th>16</th>\n",
       "      <td>RandomUnderSampler</td>\n",
       "      <td>RandomOverSampler</td>\n",
       "      <td>DecisionTreeClassifier</td>\n",
       "      <td>{'ccp_alpha': 0.0, 'class_weight': None, 'crit...</td>\n",
       "      <td>0.657175</td>\n",
       "      <td>0.585679</td>\n",
       "    </tr>\n",
       "    <tr>\n",
       "      <th>8</th>\n",
       "      <td>RandomOverSampler</td>\n",
       "      <td>SMOTE</td>\n",
       "      <td>SVC</td>\n",
       "      <td>{'C': 1.0, 'break_ties': False, 'cache_size': ...</td>\n",
       "      <td>0.656720</td>\n",
       "      <td>0.565515</td>\n",
       "    </tr>\n",
       "    <tr>\n",
       "      <th>21</th>\n",
       "      <td>RandomUnderSampler</td>\n",
       "      <td>SMOTE</td>\n",
       "      <td>KNeighborsClassifier</td>\n",
       "      <td>{'algorithm': 'auto', 'leaf_size': 30, 'metric...</td>\n",
       "      <td>0.706948</td>\n",
       "      <td>0.565139</td>\n",
       "    </tr>\n",
       "    <tr>\n",
       "      <th>1</th>\n",
       "      <td>RandomOverSampler</td>\n",
       "      <td>RandomUnderSampler</td>\n",
       "      <td>SVC</td>\n",
       "      <td>{'C': 1.0, 'break_ties': False, 'cache_size': ...</td>\n",
       "      <td>0.656036</td>\n",
       "      <td>0.564593</td>\n",
       "    </tr>\n",
       "    <tr>\n",
       "      <th>32</th>\n",
       "      <td>SMOTE</td>\n",
       "      <td>RandomOverSampler</td>\n",
       "      <td>AdaBoostClassifier</td>\n",
       "      <td>{'algorithm': 'SAMME.R', 'base_estimator': Non...</td>\n",
       "      <td>0.895900</td>\n",
       "      <td>0.563209</td>\n",
       "    </tr>\n",
       "    <tr>\n",
       "      <th>39</th>\n",
       "      <td>SMOTE</td>\n",
       "      <td>RandomUnderSampler</td>\n",
       "      <td>AdaBoostClassifier</td>\n",
       "      <td>{'algorithm': 'SAMME.R', 'base_estimator': Non...</td>\n",
       "      <td>0.904328</td>\n",
       "      <td>0.559627</td>\n",
       "    </tr>\n",
       "    <tr>\n",
       "      <th>7</th>\n",
       "      <td>RandomOverSampler</td>\n",
       "      <td>SMOTE</td>\n",
       "      <td>KNeighborsClassifier</td>\n",
       "      <td>{'algorithm': 'auto', 'leaf_size': 30, 'metric...</td>\n",
       "      <td>0.910706</td>\n",
       "      <td>0.549724</td>\n",
       "    </tr>\n",
       "    <tr>\n",
       "      <th>0</th>\n",
       "      <td>RandomOverSampler</td>\n",
       "      <td>RandomUnderSampler</td>\n",
       "      <td>KNeighborsClassifier</td>\n",
       "      <td>{'algorithm': 'auto', 'leaf_size': 30, 'metric...</td>\n",
       "      <td>0.908656</td>\n",
       "      <td>0.547418</td>\n",
       "    </tr>\n",
       "    <tr>\n",
       "      <th>27</th>\n",
       "      <td>RandomUnderSampler</td>\n",
       "      <td>SMOTE</td>\n",
       "      <td>GaussianNB</td>\n",
       "      <td>{'priors': None, 'var_smoothing': 1e-09}</td>\n",
       "      <td>0.608542</td>\n",
       "      <td>0.537550</td>\n",
       "    </tr>\n",
       "    <tr>\n",
       "      <th>3</th>\n",
       "      <td>RandomOverSampler</td>\n",
       "      <td>RandomUnderSampler</td>\n",
       "      <td>RandomForestClassifier</td>\n",
       "      <td>{'bootstrap': True, 'ccp_alpha': 0.0, 'class_w...</td>\n",
       "      <td>0.656720</td>\n",
       "      <td>0.532778</td>\n",
       "    </tr>\n",
       "    <tr>\n",
       "      <th>41</th>\n",
       "      <td>SMOTE</td>\n",
       "      <td>RandomUnderSampler</td>\n",
       "      <td>GaussianNB</td>\n",
       "      <td>{'priors': None, 'var_smoothing': 1e-09}</td>\n",
       "      <td>0.722210</td>\n",
       "      <td>0.531713</td>\n",
       "    </tr>\n",
       "    <tr>\n",
       "      <th>40</th>\n",
       "      <td>SMOTE</td>\n",
       "      <td>RandomUnderSampler</td>\n",
       "      <td>GradientBoostingClassifier</td>\n",
       "      <td>{'ccp_alpha': 0.0, 'criterion': 'friedman_mse'...</td>\n",
       "      <td>0.948292</td>\n",
       "      <td>0.531001</td>\n",
       "    </tr>\n",
       "    <tr>\n",
       "      <th>37</th>\n",
       "      <td>SMOTE</td>\n",
       "      <td>RandomUnderSampler</td>\n",
       "      <td>DecisionTreeClassifier</td>\n",
       "      <td>{'ccp_alpha': 0.0, 'class_weight': None, 'crit...</td>\n",
       "      <td>0.996128</td>\n",
       "      <td>0.529332</td>\n",
       "    </tr>\n",
       "    <tr>\n",
       "      <th>34</th>\n",
       "      <td>SMOTE</td>\n",
       "      <td>RandomOverSampler</td>\n",
       "      <td>GaussianNB</td>\n",
       "      <td>{'priors': None, 'var_smoothing': 1e-09}</td>\n",
       "      <td>0.719134</td>\n",
       "      <td>0.527561</td>\n",
       "    </tr>\n",
       "    <tr>\n",
       "      <th>10</th>\n",
       "      <td>RandomOverSampler</td>\n",
       "      <td>SMOTE</td>\n",
       "      <td>RandomForestClassifier</td>\n",
       "      <td>{'bootstrap': True, 'ccp_alpha': 0.0, 'class_w...</td>\n",
       "      <td>0.647039</td>\n",
       "      <td>0.527066</td>\n",
       "    </tr>\n",
       "    <tr>\n",
       "      <th>9</th>\n",
       "      <td>RandomOverSampler</td>\n",
       "      <td>SMOTE</td>\n",
       "      <td>DecisionTreeClassifier</td>\n",
       "      <td>{'ccp_alpha': 0.0, 'class_weight': None, 'crit...</td>\n",
       "      <td>0.823349</td>\n",
       "      <td>0.525113</td>\n",
       "    </tr>\n",
       "    <tr>\n",
       "      <th>2</th>\n",
       "      <td>RandomOverSampler</td>\n",
       "      <td>RandomUnderSampler</td>\n",
       "      <td>DecisionTreeClassifier</td>\n",
       "      <td>{'ccp_alpha': 0.0, 'class_weight': None, 'crit...</td>\n",
       "      <td>0.805581</td>\n",
       "      <td>0.524190</td>\n",
       "    </tr>\n",
       "    <tr>\n",
       "      <th>33</th>\n",
       "      <td>SMOTE</td>\n",
       "      <td>RandomOverSampler</td>\n",
       "      <td>GradientBoostingClassifier</td>\n",
       "      <td>{'ccp_alpha': 0.0, 'criterion': 'friedman_mse'...</td>\n",
       "      <td>0.945444</td>\n",
       "      <td>0.522060</td>\n",
       "    </tr>\n",
       "    <tr>\n",
       "      <th>31</th>\n",
       "      <td>SMOTE</td>\n",
       "      <td>RandomOverSampler</td>\n",
       "      <td>RandomForestClassifier</td>\n",
       "      <td>{'bootstrap': True, 'ccp_alpha': 0.0, 'class_w...</td>\n",
       "      <td>0.996128</td>\n",
       "      <td>0.516281</td>\n",
       "    </tr>\n",
       "    <tr>\n",
       "      <th>38</th>\n",
       "      <td>SMOTE</td>\n",
       "      <td>RandomUnderSampler</td>\n",
       "      <td>RandomForestClassifier</td>\n",
       "      <td>{'bootstrap': True, 'ccp_alpha': 0.0, 'class_w...</td>\n",
       "      <td>0.996128</td>\n",
       "      <td>0.509646</td>\n",
       "    </tr>\n",
       "    <tr>\n",
       "      <th>20</th>\n",
       "      <td>RandomUnderSampler</td>\n",
       "      <td>RandomOverSampler</td>\n",
       "      <td>GaussianNB</td>\n",
       "      <td>{'priors': None, 'var_smoothing': 1e-09}</td>\n",
       "      <td>0.584510</td>\n",
       "      <td>0.505723</td>\n",
       "    </tr>\n",
       "    <tr>\n",
       "      <th>30</th>\n",
       "      <td>SMOTE</td>\n",
       "      <td>RandomOverSampler</td>\n",
       "      <td>DecisionTreeClassifier</td>\n",
       "      <td>{'ccp_alpha': 0.0, 'class_weight': None, 'crit...</td>\n",
       "      <td>0.994191</td>\n",
       "      <td>0.504641</td>\n",
       "    </tr>\n",
       "    <tr>\n",
       "      <th>36</th>\n",
       "      <td>SMOTE</td>\n",
       "      <td>RandomUnderSampler</td>\n",
       "      <td>SVC</td>\n",
       "      <td>{'C': 1.0, 'break_ties': False, 'cache_size': ...</td>\n",
       "      <td>0.965604</td>\n",
       "      <td>0.504220</td>\n",
       "    </tr>\n",
       "    <tr>\n",
       "      <th>29</th>\n",
       "      <td>SMOTE</td>\n",
       "      <td>RandomOverSampler</td>\n",
       "      <td>SVC</td>\n",
       "      <td>{'C': 1.0, 'break_ties': False, 'cache_size': ...</td>\n",
       "      <td>0.965490</td>\n",
       "      <td>0.502836</td>\n",
       "    </tr>\n",
       "    <tr>\n",
       "      <th>13</th>\n",
       "      <td>RandomOverSampler</td>\n",
       "      <td>SMOTE</td>\n",
       "      <td>GaussianNB</td>\n",
       "      <td>{'priors': None, 'var_smoothing': 1e-09}</td>\n",
       "      <td>0.600569</td>\n",
       "      <td>0.490080</td>\n",
       "    </tr>\n",
       "    <tr>\n",
       "      <th>6</th>\n",
       "      <td>RandomOverSampler</td>\n",
       "      <td>RandomUnderSampler</td>\n",
       "      <td>GaussianNB</td>\n",
       "      <td>{'priors': None, 'var_smoothing': 1e-09}</td>\n",
       "      <td>0.600569</td>\n",
       "      <td>0.490080</td>\n",
       "    </tr>\n",
       "    <tr>\n",
       "      <th>35</th>\n",
       "      <td>SMOTE</td>\n",
       "      <td>RandomUnderSampler</td>\n",
       "      <td>KNeighborsClassifier</td>\n",
       "      <td>{'algorithm': 'auto', 'leaf_size': 30, 'metric...</td>\n",
       "      <td>0.886219</td>\n",
       "      <td>0.468652</td>\n",
       "    </tr>\n",
       "    <tr>\n",
       "      <th>28</th>\n",
       "      <td>SMOTE</td>\n",
       "      <td>RandomOverSampler</td>\n",
       "      <td>KNeighborsClassifier</td>\n",
       "      <td>{'algorithm': 'auto', 'leaf_size': 30, 'metric...</td>\n",
       "      <td>0.886788</td>\n",
       "      <td>0.464962</td>\n",
       "    </tr>\n",
       "  </tbody>\n",
       "</table>\n",
       "</div>"
      ],
      "text/plain": [
       "            resampler1          resampler2                  classifier  \\\n",
       "26  RandomUnderSampler               SMOTE  GradientBoostingClassifier   \n",
       "19  RandomUnderSampler   RandomOverSampler  GradientBoostingClassifier   \n",
       "25  RandomUnderSampler               SMOTE          AdaBoostClassifier   \n",
       "5    RandomOverSampler  RandomUnderSampler  GradientBoostingClassifier   \n",
       "12   RandomOverSampler               SMOTE  GradientBoostingClassifier   \n",
       "22  RandomUnderSampler               SMOTE                         SVC   \n",
       "24  RandomUnderSampler               SMOTE      RandomForestClassifier   \n",
       "11   RandomOverSampler               SMOTE          AdaBoostClassifier   \n",
       "4    RandomOverSampler  RandomUnderSampler          AdaBoostClassifier   \n",
       "15  RandomUnderSampler   RandomOverSampler                         SVC   \n",
       "17  RandomUnderSampler   RandomOverSampler      RandomForestClassifier   \n",
       "18  RandomUnderSampler   RandomOverSampler          AdaBoostClassifier   \n",
       "14  RandomUnderSampler   RandomOverSampler        KNeighborsClassifier   \n",
       "23  RandomUnderSampler               SMOTE      DecisionTreeClassifier   \n",
       "16  RandomUnderSampler   RandomOverSampler      DecisionTreeClassifier   \n",
       "8    RandomOverSampler               SMOTE                         SVC   \n",
       "21  RandomUnderSampler               SMOTE        KNeighborsClassifier   \n",
       "1    RandomOverSampler  RandomUnderSampler                         SVC   \n",
       "32               SMOTE   RandomOverSampler          AdaBoostClassifier   \n",
       "39               SMOTE  RandomUnderSampler          AdaBoostClassifier   \n",
       "7    RandomOverSampler               SMOTE        KNeighborsClassifier   \n",
       "0    RandomOverSampler  RandomUnderSampler        KNeighborsClassifier   \n",
       "27  RandomUnderSampler               SMOTE                  GaussianNB   \n",
       "3    RandomOverSampler  RandomUnderSampler      RandomForestClassifier   \n",
       "41               SMOTE  RandomUnderSampler                  GaussianNB   \n",
       "40               SMOTE  RandomUnderSampler  GradientBoostingClassifier   \n",
       "37               SMOTE  RandomUnderSampler      DecisionTreeClassifier   \n",
       "34               SMOTE   RandomOverSampler                  GaussianNB   \n",
       "10   RandomOverSampler               SMOTE      RandomForestClassifier   \n",
       "9    RandomOverSampler               SMOTE      DecisionTreeClassifier   \n",
       "2    RandomOverSampler  RandomUnderSampler      DecisionTreeClassifier   \n",
       "33               SMOTE   RandomOverSampler  GradientBoostingClassifier   \n",
       "31               SMOTE   RandomOverSampler      RandomForestClassifier   \n",
       "38               SMOTE  RandomUnderSampler      RandomForestClassifier   \n",
       "20  RandomUnderSampler   RandomOverSampler                  GaussianNB   \n",
       "30               SMOTE   RandomOverSampler      DecisionTreeClassifier   \n",
       "36               SMOTE  RandomUnderSampler                         SVC   \n",
       "29               SMOTE   RandomOverSampler                         SVC   \n",
       "13   RandomOverSampler               SMOTE                  GaussianNB   \n",
       "6    RandomOverSampler  RandomUnderSampler                  GaussianNB   \n",
       "35               SMOTE  RandomUnderSampler        KNeighborsClassifier   \n",
       "28               SMOTE   RandomOverSampler        KNeighborsClassifier   \n",
       "\n",
       "                                               params  acc_train  acc_test  \n",
       "26  {'ccp_alpha': 0.0, 'criterion': 'friedman_mse'...   0.704100  0.706733  \n",
       "19  {'ccp_alpha': 0.0, 'criterion': 'friedman_mse'...   0.700797  0.701768  \n",
       "25  {'algorithm': 'SAMME.R', 'base_estimator': Non...   0.660706  0.698784  \n",
       "5   {'ccp_alpha': 0.0, 'criterion': 'friedman_mse'...   0.740547  0.698510  \n",
       "12  {'ccp_alpha': 0.0, 'criterion': 'friedman_mse'...   0.734738  0.696665  \n",
       "22  {'C': 1.0, 'break_ties': False, 'cache_size': ...   0.652506  0.696369  \n",
       "24  {'bootstrap': True, 'ccp_alpha': 0.0, 'class_w...   0.727790  0.693533  \n",
       "11  {'algorithm': 'SAMME.R', 'base_estimator': Non...   0.710706  0.690737  \n",
       "4   {'algorithm': 'SAMME.R', 'base_estimator': Non...   0.702961  0.677930  \n",
       "15  {'C': 1.0, 'break_ties': False, 'cache_size': ...   0.699772  0.676222  \n",
       "17  {'bootstrap': True, 'ccp_alpha': 0.0, 'class_w...   0.713326  0.666712  \n",
       "18  {'algorithm': 'SAMME.R', 'base_estimator': Non...   0.648519  0.654543  \n",
       "14  {'algorithm': 'auto', 'leaf_size': 30, 'metric...   0.703189  0.603236  \n",
       "23  {'ccp_alpha': 0.0, 'class_weight': None, 'crit...   0.619590  0.598310  \n",
       "16  {'ccp_alpha': 0.0, 'class_weight': None, 'crit...   0.657175  0.585679  \n",
       "8   {'C': 1.0, 'break_ties': False, 'cache_size': ...   0.656720  0.565515  \n",
       "21  {'algorithm': 'auto', 'leaf_size': 30, 'metric...   0.706948  0.565139  \n",
       "1   {'C': 1.0, 'break_ties': False, 'cache_size': ...   0.656036  0.564593  \n",
       "32  {'algorithm': 'SAMME.R', 'base_estimator': Non...   0.895900  0.563209  \n",
       "39  {'algorithm': 'SAMME.R', 'base_estimator': Non...   0.904328  0.559627  \n",
       "7   {'algorithm': 'auto', 'leaf_size': 30, 'metric...   0.910706  0.549724  \n",
       "0   {'algorithm': 'auto', 'leaf_size': 30, 'metric...   0.908656  0.547418  \n",
       "27           {'priors': None, 'var_smoothing': 1e-09}   0.608542  0.537550  \n",
       "3   {'bootstrap': True, 'ccp_alpha': 0.0, 'class_w...   0.656720  0.532778  \n",
       "41           {'priors': None, 'var_smoothing': 1e-09}   0.722210  0.531713  \n",
       "40  {'ccp_alpha': 0.0, 'criterion': 'friedman_mse'...   0.948292  0.531001  \n",
       "37  {'ccp_alpha': 0.0, 'class_weight': None, 'crit...   0.996128  0.529332  \n",
       "34           {'priors': None, 'var_smoothing': 1e-09}   0.719134  0.527561  \n",
       "10  {'bootstrap': True, 'ccp_alpha': 0.0, 'class_w...   0.647039  0.527066  \n",
       "9   {'ccp_alpha': 0.0, 'class_weight': None, 'crit...   0.823349  0.525113  \n",
       "2   {'ccp_alpha': 0.0, 'class_weight': None, 'crit...   0.805581  0.524190  \n",
       "33  {'ccp_alpha': 0.0, 'criterion': 'friedman_mse'...   0.945444  0.522060  \n",
       "31  {'bootstrap': True, 'ccp_alpha': 0.0, 'class_w...   0.996128  0.516281  \n",
       "38  {'bootstrap': True, 'ccp_alpha': 0.0, 'class_w...   0.996128  0.509646  \n",
       "20           {'priors': None, 'var_smoothing': 1e-09}   0.584510  0.505723  \n",
       "30  {'ccp_alpha': 0.0, 'class_weight': None, 'crit...   0.994191  0.504641  \n",
       "36  {'C': 1.0, 'break_ties': False, 'cache_size': ...   0.965604  0.504220  \n",
       "29  {'C': 1.0, 'break_ties': False, 'cache_size': ...   0.965490  0.502836  \n",
       "13           {'priors': None, 'var_smoothing': 1e-09}   0.600569  0.490080  \n",
       "6            {'priors': None, 'var_smoothing': 1e-09}   0.600569  0.490080  \n",
       "35  {'algorithm': 'auto', 'leaf_size': 30, 'metric...   0.886219  0.468652  \n",
       "28  {'algorithm': 'auto', 'leaf_size': 30, 'metric...   0.886788  0.464962  "
      ]
     },
     "execution_count": 94,
     "metadata": {},
     "output_type": "execute_result"
    }
   ],
   "source": [
    "results"
   ]
  },
  {
   "cell_type": "markdown",
   "metadata": {},
   "source": [
    "We got similar results, but decreased the overfitting on the train set."
   ]
  },
  {
   "cell_type": "code",
   "execution_count": 100,
   "metadata": {},
   "outputs": [
    {
     "data": {
      "text/plain": [
       "<AxesSubplot:>"
      ]
     },
     "execution_count": 100,
     "metadata": {},
     "output_type": "execute_result"
    },
    {
     "data": {
      "image/png": "[encoded data removed]",
      "text/plain": [
       "<Figure size 432x288 with 1 Axes>"
      ]
     },
     "metadata": {
      "needs_background": "light"
     },
     "output_type": "display_data"
    }
   ],
   "source": [
    "results.acc_test.plot(kind='bar')"
   ]
  },
  {
   "cell_type": "markdown",
   "metadata": {},
   "source": [
    "## Random forest"
   ]
  },
  {
   "cell_type": "code",
   "execution_count": 102,
   "metadata": {},
   "outputs": [
    {
     "data": {
      "text/plain": [
       "{'bootstrap': True,\n",
       " 'ccp_alpha': 0.0,\n",
       " 'class_weight': None,\n",
       " 'criterion': 'gini',\n",
       " 'max_depth': None,\n",
       " 'max_features': 'auto',\n",
       " 'max_leaf_nodes': None,\n",
       " 'max_samples': None,\n",
       " 'min_impurity_decrease': 0.0,\n",
       " 'min_samples_leaf': 1,\n",
       " 'min_samples_split': 2,\n",
       " 'min_weight_fraction_leaf': 0.0,\n",
       " 'n_estimators': 100,\n",
       " 'n_jobs': None,\n",
       " 'oob_score': False,\n",
       " 'random_state': None,\n",
       " 'verbose': 0,\n",
       " 'warm_start': False}"
      ]
     },
     "execution_count": 102,
     "metadata": {},
     "output_type": "execute_result"
    }
   ],
   "source": [
    "RandomForestClassifier().get_params()"
   ]
  },
  {
   "cell_type": "code",
   "execution_count": 118,
   "metadata": {},
   "outputs": [
    {
     "data": {
      "text/plain": [
       "{'random_state': None, 'replacement': False, 'sampling_strategy': 'auto'}"
      ]
     },
     "execution_count": 118,
     "metadata": {},
     "output_type": "execute_result"
    }
   ],
   "source": [
    "RandomUnderSampler().get_params()"
   ]
  },
  {
   "cell_type": "code",
   "execution_count": 140,
   "metadata": {},
   "outputs": [
    {
     "name": "stdout",
     "output_type": "stream",
     "text": [
      "Fitting 5 folds for each of 486 candidates, totalling 2430 fits\n",
      "Best model: RandomForestClassifier(class_weight='balanced_subsample', max_depth=3,\n",
      "                       max_features='sqrt', min_samples_leaf=4,\n",
      "                       n_estimators=250, random_state=42)\n",
      "Balanced accuracy on the test set 0.7021206323174343\n"
     ]
    }
   ],
   "source": [
    "pipe = Pipeline([('res1', RandomUnderSampler(random_state=SEED)),\n",
    "                 ('res2', SMOTE(random_state=SEED)),\n",
    "                 ('clf', RandomForestClassifier(random_state=SEED))])\n",
    "\n",
    "param_grid = {\n",
    "    'clf__max_features': ['log2', 'sqrt', 'auto'],\n",
    "    'clf__max_depth': list(range(1, 6)) + [None],\n",
    "    'clf__n_estimators': [100, 250, 500],\n",
    "    'clf__min_samples_leaf': [1, 2, 4],\n",
    "    'clf__class_weight': [None, 'balanced', 'balanced_subsample']\n",
    "}\n",
    "\n",
    "gs = GridSearchCV(estimator=pipe, param_grid=param_grid, scoring='balanced_accuracy', cv=5, verbose=1)\n",
    "gs.fit(X_train, y_train)\n",
    "\n",
    "best_rf = gs.best_estimator_['clf']\n",
    "results_rf = pd.DataFrame(gs.cv_results_)\n",
    "print(f'Best model: {best_rf}')\n",
    "print('Balanced accuracy on the test set', balanced_accuracy_score(y_test, best_rf.predict(X_test)))"
   ]
  },
  {
   "cell_type": "markdown",
   "metadata": {},
   "source": [
    "## Gradient boosting"
   ]
  },
  {
   "cell_type": "code",
   "execution_count": 141,
   "metadata": {},
   "outputs": [
    {
     "data": {
      "text/plain": [
       "{'ccp_alpha': 0.0,\n",
       " 'criterion': 'friedman_mse',\n",
       " 'init': None,\n",
       " 'learning_rate': 0.1,\n",
       " 'loss': 'deviance',\n",
       " 'max_depth': 3,\n",
       " 'max_features': None,\n",
       " 'max_leaf_nodes': None,\n",
       " 'min_impurity_decrease': 0.0,\n",
       " 'min_samples_leaf': 1,\n",
       " 'min_samples_split': 2,\n",
       " 'min_weight_fraction_leaf': 0.0,\n",
       " 'n_estimators': 100,\n",
       " 'n_iter_no_change': None,\n",
       " 'random_state': None,\n",
       " 'subsample': 1.0,\n",
       " 'tol': 0.0001,\n",
       " 'validation_fraction': 0.1,\n",
       " 'verbose': 0,\n",
       " 'warm_start': False}"
      ]
     },
     "execution_count": 141,
     "metadata": {},
     "output_type": "execute_result"
    }
   ],
   "source": [
    "GradientBoostingClassifier().get_params()"
   ]
  },
  {
   "cell_type": "code",
   "execution_count": 142,
   "metadata": {},
   "outputs": [
    {
     "name": "stdout",
     "output_type": "stream",
     "text": [
      "Fitting 5 folds for each of 486 candidates, totalling 2430 fits\n",
      "Best model: GradientBoostingClassifier(learning_rate=0.001, max_depth=4,\n",
      "                           max_features='sqrt', min_samples_leaf=4,\n",
      "                           random_state=42)\n",
      "Balanced accuracy on the test set 0.7133672725616145\n"
     ]
    }
   ],
   "source": [
    "pipe = Pipeline([('res1', RandomUnderSampler(random_state=SEED)),\n",
    "                 ('res2', SMOTE(random_state=SEED)),\n",
    "                 ('clf', GradientBoostingClassifier(random_state=SEED))])\n",
    "\n",
    "param_grid = {\n",
    "    'clf__max_features': ['log2', 'sqrt', 'auto'],\n",
    "    'clf__max_depth': list(range(1, 6)) + [None],\n",
    "    'clf__n_estimators': [100, 200, 250],\n",
    "    'clf__min_samples_leaf': [1, 2, 4],\n",
    "    'clf__learning_rate': [0.001, 0.01, 0.1]\n",
    "}\n",
    "\n",
    "gs = GridSearchCV(estimator=pipe, param_grid=param_grid, scoring='balanced_accuracy', cv=5, verbose=1)\n",
    "gs.fit(X_train, y_train)\n",
    "\n",
    "best_gb = gs.best_estimator_['clf']\n",
    "results_gb = pd.DataFrame(gs.cv_results_)\n",
    "print(f'Best model: {best_gb}')\n",
    "print('Balanced accuracy on the test set', balanced_accuracy_score(y_test, best_gb.predict(X_test)))"
   ]
  },
  {
   "cell_type": "markdown",
   "metadata": {},
   "source": [
    "# Submissions"
   ]
  },
  {
   "cell_type": "markdown",
   "metadata": {},
   "source": [
    "> Submission format: `.txt` file, the nth row should be your prediction for the nth element of the test set; filename should be `dm_competition2_[your_name]_submission[submission_number].txt`. Pay attention to submit your predictions in the same order as they are in the test set. (`ticeval2000.txt`)\n",
    "\n",
    "You can submit *one file* for each competition."
   ]
  },
  {
   "cell_type": "code",
   "execution_count": 143,
   "metadata": {},
   "outputs": [],
   "source": [
    "def create_submission(model):\n",
    "    return pd.DataFrame({'Id': test.index.values,\n",
    "                         'Caravan': model.predict(test_dummied)})\\\n",
    "             .set_index('Id')"
   ]
  },
  {
   "cell_type": "code",
   "execution_count": 144,
   "metadata": {},
   "outputs": [
    {
     "data": {
      "text/html": [
       "<div>\n",
       "<style scoped>\n",
       "    .dataframe tbody tr th:only-of-type {\n",
       "        vertical-align: middle;\n",
       "    }\n",
       "\n",
       "    .dataframe tbody tr th {\n",
       "        vertical-align: top;\n",
       "    }\n",
       "\n",
       "    .dataframe thead th {\n",
       "        text-align: right;\n",
       "    }\n",
       "</style>\n",
       "<table border=\"1\" class=\"dataframe\">\n",
       "  <thead>\n",
       "    <tr style=\"text-align: right;\">\n",
       "      <th></th>\n",
       "      <th>Caravan</th>\n",
       "    </tr>\n",
       "    <tr>\n",
       "      <th>Id</th>\n",
       "      <th></th>\n",
       "    </tr>\n",
       "  </thead>\n",
       "  <tbody>\n",
       "    <tr>\n",
       "      <th>6667</th>\n",
       "      <td>0.0</td>\n",
       "    </tr>\n",
       "    <tr>\n",
       "      <th>9161</th>\n",
       "      <td>0.0</td>\n",
       "    </tr>\n",
       "    <tr>\n",
       "      <th>7746</th>\n",
       "      <td>1.0</td>\n",
       "    </tr>\n",
       "    <tr>\n",
       "      <th>7430</th>\n",
       "      <td>1.0</td>\n",
       "    </tr>\n",
       "    <tr>\n",
       "      <th>7581</th>\n",
       "      <td>0.0</td>\n",
       "    </tr>\n",
       "    <tr>\n",
       "      <th>9470</th>\n",
       "      <td>0.0</td>\n",
       "    </tr>\n",
       "    <tr>\n",
       "      <th>6251</th>\n",
       "      <td>0.0</td>\n",
       "    </tr>\n",
       "    <tr>\n",
       "      <th>7556</th>\n",
       "      <td>0.0</td>\n",
       "    </tr>\n",
       "    <tr>\n",
       "      <th>9498</th>\n",
       "      <td>0.0</td>\n",
       "    </tr>\n",
       "    <tr>\n",
       "      <th>7030</th>\n",
       "      <td>0.0</td>\n",
       "    </tr>\n",
       "  </tbody>\n",
       "</table>\n",
       "</div>"
      ],
      "text/plain": [
       "      Caravan\n",
       "Id           \n",
       "6667      0.0\n",
       "9161      0.0\n",
       "7746      1.0\n",
       "7430      1.0\n",
       "7581      0.0\n",
       "9470      0.0\n",
       "6251      0.0\n",
       "7556      0.0\n",
       "9498      0.0\n",
       "7030      0.0"
      ]
     },
     "execution_count": 144,
     "metadata": {},
     "output_type": "execute_result"
    }
   ],
   "source": [
    "# example of the layout\n",
    "create_submission(best_rf).sample(10)"
   ]
  },
  {
   "cell_type": "code",
   "execution_count": 145,
   "metadata": {},
   "outputs": [
    {
     "name": "stdout",
     "output_type": "stream",
     "text": [
      "RandomForestClassifier(class_weight='balanced_subsample', max_depth=3,\n",
      "                       max_features='sqrt', min_samples_leaf=4,\n",
      "                       n_estimators=250, random_state=42)\n",
      "      Caravan\n",
      "Id           \n",
      "7086      0.0\n",
      "8045      0.0\n",
      "9006      0.0\n",
      "6111      0.0\n",
      "9567      1.0 \n",
      "***************************************************************************\n",
      "\n",
      "GradientBoostingClassifier(learning_rate=0.001, max_depth=4,\n",
      "                           max_features='sqrt', min_samples_leaf=4,\n",
      "                           random_state=42)\n",
      "      Caravan\n",
      "Id           \n",
      "8555      0.0\n",
      "6184      0.0\n",
      "6270      0.0\n",
      "7074      1.0\n",
      "7204      1.0 \n",
      "***************************************************************************\n",
      "\n"
     ]
    }
   ],
   "source": [
    "my_name = 'Balázs-Nagy'\n",
    "for name, model in {'1': best_rf, '2': best_gb}.items():\n",
    "    print(model)\n",
    "    df_submission = create_submission(model=model)\n",
    "    filename = f'dm_competition2_{my_name}_submission{name}.txt'\n",
    "    df_submission.to_csv(filename, index=False, header=None)\n",
    "    print(df_submission.sample(5), '\\n' + '*'*75 + '\\n')"
   ]
  }
 ],
 "metadata": {
  "kernelspec": {
   "display_name": "Python 3",
   "language": "python",
   "name": "python3"
  },
  "language_info": {
   "codemirror_mode": {
    "name": "ipython",
    "version": 3
   },
   "file_extension": ".py",
   "mimetype": "text/x-python",
   "name": "python",
   "nbconvert_exporter": "python",
   "pygments_lexer": "ipython3",
   "version": "3.8.5"
  },
  "toc": {
   "base_numbering": 1,
   "nav_menu": {},
   "number_sections": true,
   "sideBar": true,
   "skip_h1_title": false,
   "title_cell": "Table of Contents",
   "title_sidebar": "Contents",
   "toc_cell": false,
   "toc_position": {
    "height": "calc(100% - 180px)",
    "left": "10px",
    "top": "150px",
    "width": "384px"
   },
   "toc_section_display": true,
   "toc_window_display": true
  },
  "varInspector": {
   "cols": {
    "lenName": 16,
    "lenType": 16,
    "lenVar": 40
   },
   "kernels_config": {
    "python": {
     "delete_cmd_postfix": "",
     "delete_cmd_prefix": "del ",
     "library": "var_list.py",
     "varRefreshCmd": "print(var_dic_list())"
    },
    "r": {
     "delete_cmd_postfix": ") ",
     "delete_cmd_prefix": "rm(",
     "library": "var_list.r",
     "varRefreshCmd": "cat(var_dic_list()) "
    }
   },
   "types_to_exclude": [
    "module",
    "function",
    "builtin_function_or_method",
    "instance",
    "_Feature"
   ],
   "window_display": false
  }
 },
 "nbformat": 4,
 "nbformat_minor": 1
}
