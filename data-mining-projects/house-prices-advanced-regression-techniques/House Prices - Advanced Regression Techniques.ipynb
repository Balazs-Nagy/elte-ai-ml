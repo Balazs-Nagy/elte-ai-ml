{
 "cells": [
  {
   "cell_type": "markdown",
   "metadata": {
    "datalore": {
     "hide_input_from_viewers": false,
     "hide_output_from_viewers": false,
     "type": "MD"
    }
   },
   "source": [
    "# House Prices - Advanced regression techniques"
   ]
  },
  {
   "cell_type": "markdown",
   "metadata": {},
   "source": [
    "- author: Balázs Nagy\n",
    "- e-mail: [balazs_nagy@outlook.com](balazs_nagy@outlook.com)\n",
    "- date of submission: 23-02-2022"
   ]
  },
  {
   "cell_type": "markdown",
   "metadata": {
    "datalore": {
     "hide_input_from_viewers": false,
     "hide_output_from_viewers": false,
     "type": "MD"
    }
   },
   "source": [
    "Source: https://www.kaggle.com/c/house-prices-advanced-regression-techniques\n",
    "\n",
    "**Goal**\n",
    "\n",
    "It is your job to predict the sales price for each house. For each Id in the test set, you must predict the value of the SalePrice variable. \n",
    "\n",
    "**Metric**\n",
    "\n",
    "\n",
    "Submissions are evaluated on Root-Mean-Squared-Error (RMSE) between the logarithm of the predicted value and the logarithm of the observed sales price. (Taking logs means that errors in predicting expensive houses and cheap houses will affect the result equally.)"
   ]
  },
  {
   "cell_type": "markdown",
   "metadata": {
    "datalore": {
     "hide_input_from_viewers": false,
     "hide_output_from_viewers": false,
     "type": "MD"
    }
   },
   "source": [
    "# Setup"
   ]
  },
  {
   "cell_type": "code",
   "execution_count": 1,
   "metadata": {
    "datalore": {
     "hide_input_from_viewers": false,
     "hide_output_from_viewers": false,
     "type": "CODE"
    }
   },
   "outputs": [],
   "source": [
    "# data manipulation\n",
    "import pandas as pd\n",
    "import numpy as np\n",
    "from collections import Counter\n",
    "from time import time\n",
    "\n",
    "# data visualisation\n",
    "import missingno as msno\n",
    "import matplotlib.pyplot as plt\n",
    "import seaborn as sns\n",
    "from statsmodels.api import qqplot\n",
    "\n",
    "# modelling\n",
    "from sklearn.model_selection import train_test_split, cross_val_score, GridSearchCV, RandomizedSearchCV\n",
    "#from sklearn.tree import DecisionTreeRegressor\n",
    "#from sklearn.linear_model import LinearRegression, Lasso, Ridge\n",
    "#from sklearn.ensemble import BaggingRegressor, RandomForestRegressor, AdaBoostRegressor, GradientBoostingRegressor\n",
    "from sklearn.ensemble import RandomForestRegressor\n",
    "from xgboost import XGBRegressor\n",
    "from sklearn.metrics import mean_squared_error as MSE"
   ]
  },
  {
   "cell_type": "code",
   "execution_count": 2,
   "metadata": {
    "datalore": {
     "hide_input_from_viewers": false,
     "hide_output_from_viewers": false,
     "type": "CODE"
    }
   },
   "outputs": [],
   "source": [
    "# import both the train and the holdout test set\n",
    "# combine them to a single dataframe\n",
    "# mark the source with column `source`\n",
    "data = pd.concat([pd.read_csv(f'data/{source}.csv').assign(source=source) for source in ['train', 'test']])"
   ]
  },
  {
   "cell_type": "code",
   "execution_count": 3,
   "metadata": {
    "datalore": {
     "hide_input_from_viewers": false,
     "hide_output_from_viewers": false,
     "type": "CODE"
    }
   },
   "outputs": [],
   "source": [
    "# making sure Id is unique so it's safe to be used as index\n",
    "assert data.Id.is_unique\n",
    "data.set_index('Id', inplace=True)"
   ]
  },
  {
   "cell_type": "code",
   "execution_count": 4,
   "metadata": {
    "datalore": {
     "hide_input_from_viewers": false,
     "hide_output_from_viewers": false,
     "type": "CODE"
    }
   },
   "outputs": [
    {
     "data": {
      "text/html": [
       "<div>\n",
       "<style scoped>\n",
       "    .dataframe tbody tr th:only-of-type {\n",
       "        vertical-align: middle;\n",
       "    }\n",
       "\n",
       "    .dataframe tbody tr th {\n",
       "        vertical-align: top;\n",
       "    }\n",
       "\n",
       "    .dataframe thead th {\n",
       "        text-align: right;\n",
       "    }\n",
       "</style>\n",
       "<table border=\"1\" class=\"dataframe\">\n",
       "  <thead>\n",
       "    <tr style=\"text-align: right;\">\n",
       "      <th></th>\n",
       "      <th>MSSubClass</th>\n",
       "      <th>MSZoning</th>\n",
       "      <th>LotFrontage</th>\n",
       "      <th>LotArea</th>\n",
       "      <th>Street</th>\n",
       "      <th>Alley</th>\n",
       "      <th>LotShape</th>\n",
       "      <th>LandContour</th>\n",
       "      <th>Utilities</th>\n",
       "      <th>LotConfig</th>\n",
       "      <th>...</th>\n",
       "      <th>PoolQC</th>\n",
       "      <th>Fence</th>\n",
       "      <th>MiscFeature</th>\n",
       "      <th>MiscVal</th>\n",
       "      <th>MoSold</th>\n",
       "      <th>YrSold</th>\n",
       "      <th>SaleType</th>\n",
       "      <th>SaleCondition</th>\n",
       "      <th>SalePrice</th>\n",
       "      <th>source</th>\n",
       "    </tr>\n",
       "    <tr>\n",
       "      <th>Id</th>\n",
       "      <th></th>\n",
       "      <th></th>\n",
       "      <th></th>\n",
       "      <th></th>\n",
       "      <th></th>\n",
       "      <th></th>\n",
       "      <th></th>\n",
       "      <th></th>\n",
       "      <th></th>\n",
       "      <th></th>\n",
       "      <th></th>\n",
       "      <th></th>\n",
       "      <th></th>\n",
       "      <th></th>\n",
       "      <th></th>\n",
       "      <th></th>\n",
       "      <th></th>\n",
       "      <th></th>\n",
       "      <th></th>\n",
       "      <th></th>\n",
       "      <th></th>\n",
       "    </tr>\n",
       "  </thead>\n",
       "  <tbody>\n",
       "    <tr>\n",
       "      <th>1</th>\n",
       "      <td>60</td>\n",
       "      <td>RL</td>\n",
       "      <td>65.0</td>\n",
       "      <td>8450</td>\n",
       "      <td>Pave</td>\n",
       "      <td>NaN</td>\n",
       "      <td>Reg</td>\n",
       "      <td>Lvl</td>\n",
       "      <td>AllPub</td>\n",
       "      <td>Inside</td>\n",
       "      <td>...</td>\n",
       "      <td>NaN</td>\n",
       "      <td>NaN</td>\n",
       "      <td>NaN</td>\n",
       "      <td>0</td>\n",
       "      <td>2</td>\n",
       "      <td>2008</td>\n",
       "      <td>WD</td>\n",
       "      <td>Normal</td>\n",
       "      <td>208500.0</td>\n",
       "      <td>train</td>\n",
       "    </tr>\n",
       "    <tr>\n",
       "      <th>2</th>\n",
       "      <td>20</td>\n",
       "      <td>RL</td>\n",
       "      <td>80.0</td>\n",
       "      <td>9600</td>\n",
       "      <td>Pave</td>\n",
       "      <td>NaN</td>\n",
       "      <td>Reg</td>\n",
       "      <td>Lvl</td>\n",
       "      <td>AllPub</td>\n",
       "      <td>FR2</td>\n",
       "      <td>...</td>\n",
       "      <td>NaN</td>\n",
       "      <td>NaN</td>\n",
       "      <td>NaN</td>\n",
       "      <td>0</td>\n",
       "      <td>5</td>\n",
       "      <td>2007</td>\n",
       "      <td>WD</td>\n",
       "      <td>Normal</td>\n",
       "      <td>181500.0</td>\n",
       "      <td>train</td>\n",
       "    </tr>\n",
       "    <tr>\n",
       "      <th>3</th>\n",
       "      <td>60</td>\n",
       "      <td>RL</td>\n",
       "      <td>68.0</td>\n",
       "      <td>11250</td>\n",
       "      <td>Pave</td>\n",
       "      <td>NaN</td>\n",
       "      <td>IR1</td>\n",
       "      <td>Lvl</td>\n",
       "      <td>AllPub</td>\n",
       "      <td>Inside</td>\n",
       "      <td>...</td>\n",
       "      <td>NaN</td>\n",
       "      <td>NaN</td>\n",
       "      <td>NaN</td>\n",
       "      <td>0</td>\n",
       "      <td>9</td>\n",
       "      <td>2008</td>\n",
       "      <td>WD</td>\n",
       "      <td>Normal</td>\n",
       "      <td>223500.0</td>\n",
       "      <td>train</td>\n",
       "    </tr>\n",
       "    <tr>\n",
       "      <th>4</th>\n",
       "      <td>70</td>\n",
       "      <td>RL</td>\n",
       "      <td>60.0</td>\n",
       "      <td>9550</td>\n",
       "      <td>Pave</td>\n",
       "      <td>NaN</td>\n",
       "      <td>IR1</td>\n",
       "      <td>Lvl</td>\n",
       "      <td>AllPub</td>\n",
       "      <td>Corner</td>\n",
       "      <td>...</td>\n",
       "      <td>NaN</td>\n",
       "      <td>NaN</td>\n",
       "      <td>NaN</td>\n",
       "      <td>0</td>\n",
       "      <td>2</td>\n",
       "      <td>2006</td>\n",
       "      <td>WD</td>\n",
       "      <td>Abnorml</td>\n",
       "      <td>140000.0</td>\n",
       "      <td>train</td>\n",
       "    </tr>\n",
       "    <tr>\n",
       "      <th>5</th>\n",
       "      <td>60</td>\n",
       "      <td>RL</td>\n",
       "      <td>84.0</td>\n",
       "      <td>14260</td>\n",
       "      <td>Pave</td>\n",
       "      <td>NaN</td>\n",
       "      <td>IR1</td>\n",
       "      <td>Lvl</td>\n",
       "      <td>AllPub</td>\n",
       "      <td>FR2</td>\n",
       "      <td>...</td>\n",
       "      <td>NaN</td>\n",
       "      <td>NaN</td>\n",
       "      <td>NaN</td>\n",
       "      <td>0</td>\n",
       "      <td>12</td>\n",
       "      <td>2008</td>\n",
       "      <td>WD</td>\n",
       "      <td>Normal</td>\n",
       "      <td>250000.0</td>\n",
       "      <td>train</td>\n",
       "    </tr>\n",
       "    <tr>\n",
       "      <th>...</th>\n",
       "      <td>...</td>\n",
       "      <td>...</td>\n",
       "      <td>...</td>\n",
       "      <td>...</td>\n",
       "      <td>...</td>\n",
       "      <td>...</td>\n",
       "      <td>...</td>\n",
       "      <td>...</td>\n",
       "      <td>...</td>\n",
       "      <td>...</td>\n",
       "      <td>...</td>\n",
       "      <td>...</td>\n",
       "      <td>...</td>\n",
       "      <td>...</td>\n",
       "      <td>...</td>\n",
       "      <td>...</td>\n",
       "      <td>...</td>\n",
       "      <td>...</td>\n",
       "      <td>...</td>\n",
       "      <td>...</td>\n",
       "      <td>...</td>\n",
       "    </tr>\n",
       "    <tr>\n",
       "      <th>2915</th>\n",
       "      <td>160</td>\n",
       "      <td>RM</td>\n",
       "      <td>21.0</td>\n",
       "      <td>1936</td>\n",
       "      <td>Pave</td>\n",
       "      <td>NaN</td>\n",
       "      <td>Reg</td>\n",
       "      <td>Lvl</td>\n",
       "      <td>AllPub</td>\n",
       "      <td>Inside</td>\n",
       "      <td>...</td>\n",
       "      <td>NaN</td>\n",
       "      <td>NaN</td>\n",
       "      <td>NaN</td>\n",
       "      <td>0</td>\n",
       "      <td>6</td>\n",
       "      <td>2006</td>\n",
       "      <td>WD</td>\n",
       "      <td>Normal</td>\n",
       "      <td>NaN</td>\n",
       "      <td>test</td>\n",
       "    </tr>\n",
       "    <tr>\n",
       "      <th>2916</th>\n",
       "      <td>160</td>\n",
       "      <td>RM</td>\n",
       "      <td>21.0</td>\n",
       "      <td>1894</td>\n",
       "      <td>Pave</td>\n",
       "      <td>NaN</td>\n",
       "      <td>Reg</td>\n",
       "      <td>Lvl</td>\n",
       "      <td>AllPub</td>\n",
       "      <td>Inside</td>\n",
       "      <td>...</td>\n",
       "      <td>NaN</td>\n",
       "      <td>NaN</td>\n",
       "      <td>NaN</td>\n",
       "      <td>0</td>\n",
       "      <td>4</td>\n",
       "      <td>2006</td>\n",
       "      <td>WD</td>\n",
       "      <td>Abnorml</td>\n",
       "      <td>NaN</td>\n",
       "      <td>test</td>\n",
       "    </tr>\n",
       "    <tr>\n",
       "      <th>2917</th>\n",
       "      <td>20</td>\n",
       "      <td>RL</td>\n",
       "      <td>160.0</td>\n",
       "      <td>20000</td>\n",
       "      <td>Pave</td>\n",
       "      <td>NaN</td>\n",
       "      <td>Reg</td>\n",
       "      <td>Lvl</td>\n",
       "      <td>AllPub</td>\n",
       "      <td>Inside</td>\n",
       "      <td>...</td>\n",
       "      <td>NaN</td>\n",
       "      <td>NaN</td>\n",
       "      <td>NaN</td>\n",
       "      <td>0</td>\n",
       "      <td>9</td>\n",
       "      <td>2006</td>\n",
       "      <td>WD</td>\n",
       "      <td>Abnorml</td>\n",
       "      <td>NaN</td>\n",
       "      <td>test</td>\n",
       "    </tr>\n",
       "    <tr>\n",
       "      <th>2918</th>\n",
       "      <td>85</td>\n",
       "      <td>RL</td>\n",
       "      <td>62.0</td>\n",
       "      <td>10441</td>\n",
       "      <td>Pave</td>\n",
       "      <td>NaN</td>\n",
       "      <td>Reg</td>\n",
       "      <td>Lvl</td>\n",
       "      <td>AllPub</td>\n",
       "      <td>Inside</td>\n",
       "      <td>...</td>\n",
       "      <td>NaN</td>\n",
       "      <td>MnPrv</td>\n",
       "      <td>Shed</td>\n",
       "      <td>700</td>\n",
       "      <td>7</td>\n",
       "      <td>2006</td>\n",
       "      <td>WD</td>\n",
       "      <td>Normal</td>\n",
       "      <td>NaN</td>\n",
       "      <td>test</td>\n",
       "    </tr>\n",
       "    <tr>\n",
       "      <th>2919</th>\n",
       "      <td>60</td>\n",
       "      <td>RL</td>\n",
       "      <td>74.0</td>\n",
       "      <td>9627</td>\n",
       "      <td>Pave</td>\n",
       "      <td>NaN</td>\n",
       "      <td>Reg</td>\n",
       "      <td>Lvl</td>\n",
       "      <td>AllPub</td>\n",
       "      <td>Inside</td>\n",
       "      <td>...</td>\n",
       "      <td>NaN</td>\n",
       "      <td>NaN</td>\n",
       "      <td>NaN</td>\n",
       "      <td>0</td>\n",
       "      <td>11</td>\n",
       "      <td>2006</td>\n",
       "      <td>WD</td>\n",
       "      <td>Normal</td>\n",
       "      <td>NaN</td>\n",
       "      <td>test</td>\n",
       "    </tr>\n",
       "  </tbody>\n",
       "</table>\n",
       "<p>2919 rows × 81 columns</p>\n",
       "</div>"
      ],
      "text/plain": [
       "      MSSubClass MSZoning  LotFrontage  LotArea Street Alley LotShape  \\\n",
       "Id                                                                      \n",
       "1             60       RL         65.0     8450   Pave   NaN      Reg   \n",
       "2             20       RL         80.0     9600   Pave   NaN      Reg   \n",
       "3             60       RL         68.0    11250   Pave   NaN      IR1   \n",
       "4             70       RL         60.0     9550   Pave   NaN      IR1   \n",
       "5             60       RL         84.0    14260   Pave   NaN      IR1   \n",
       "...          ...      ...          ...      ...    ...   ...      ...   \n",
       "2915         160       RM         21.0     1936   Pave   NaN      Reg   \n",
       "2916         160       RM         21.0     1894   Pave   NaN      Reg   \n",
       "2917          20       RL        160.0    20000   Pave   NaN      Reg   \n",
       "2918          85       RL         62.0    10441   Pave   NaN      Reg   \n",
       "2919          60       RL         74.0     9627   Pave   NaN      Reg   \n",
       "\n",
       "     LandContour Utilities LotConfig  ... PoolQC  Fence MiscFeature MiscVal  \\\n",
       "Id                                    ...                                     \n",
       "1            Lvl    AllPub    Inside  ...    NaN    NaN         NaN       0   \n",
       "2            Lvl    AllPub       FR2  ...    NaN    NaN         NaN       0   \n",
       "3            Lvl    AllPub    Inside  ...    NaN    NaN         NaN       0   \n",
       "4            Lvl    AllPub    Corner  ...    NaN    NaN         NaN       0   \n",
       "5            Lvl    AllPub       FR2  ...    NaN    NaN         NaN       0   \n",
       "...          ...       ...       ...  ...    ...    ...         ...     ...   \n",
       "2915         Lvl    AllPub    Inside  ...    NaN    NaN         NaN       0   \n",
       "2916         Lvl    AllPub    Inside  ...    NaN    NaN         NaN       0   \n",
       "2917         Lvl    AllPub    Inside  ...    NaN    NaN         NaN       0   \n",
       "2918         Lvl    AllPub    Inside  ...    NaN  MnPrv        Shed     700   \n",
       "2919         Lvl    AllPub    Inside  ...    NaN    NaN         NaN       0   \n",
       "\n",
       "     MoSold YrSold  SaleType  SaleCondition  SalePrice  source  \n",
       "Id                                                              \n",
       "1         2   2008        WD         Normal   208500.0   train  \n",
       "2         5   2007        WD         Normal   181500.0   train  \n",
       "3         9   2008        WD         Normal   223500.0   train  \n",
       "4         2   2006        WD        Abnorml   140000.0   train  \n",
       "5        12   2008        WD         Normal   250000.0   train  \n",
       "...     ...    ...       ...            ...        ...     ...  \n",
       "2915      6   2006        WD         Normal        NaN    test  \n",
       "2916      4   2006        WD        Abnorml        NaN    test  \n",
       "2917      9   2006        WD        Abnorml        NaN    test  \n",
       "2918      7   2006        WD         Normal        NaN    test  \n",
       "2919     11   2006        WD         Normal        NaN    test  \n",
       "\n",
       "[2919 rows x 81 columns]"
      ]
     },
     "execution_count": 4,
     "metadata": {},
     "output_type": "execute_result"
    }
   ],
   "source": [
    "# glimpse on the data\n",
    "data"
   ]
  },
  {
   "cell_type": "code",
   "execution_count": 5,
   "metadata": {
    "datalore": {
     "hide_input_from_viewers": false,
     "hide_output_from_viewers": false,
     "type": "CODE"
    }
   },
   "outputs": [
    {
     "data": {
      "text/plain": [
       "(2919, 81)"
      ]
     },
     "execution_count": 5,
     "metadata": {},
     "output_type": "execute_result"
    }
   ],
   "source": [
    "data.shape"
   ]
  },
  {
   "cell_type": "code",
   "execution_count": 6,
   "metadata": {
    "datalore": {
     "hide_input_from_viewers": false,
     "hide_output_from_viewers": false,
     "type": "CODE"
    }
   },
   "outputs": [
    {
     "data": {
      "text/html": [
       "<div>\n",
       "<style scoped>\n",
       "    .dataframe tbody tr th:only-of-type {\n",
       "        vertical-align: middle;\n",
       "    }\n",
       "\n",
       "    .dataframe tbody tr th {\n",
       "        vertical-align: top;\n",
       "    }\n",
       "\n",
       "    .dataframe thead th {\n",
       "        text-align: right;\n",
       "    }\n",
       "</style>\n",
       "<table border=\"1\" class=\"dataframe\">\n",
       "  <thead>\n",
       "    <tr style=\"text-align: right;\">\n",
       "      <th></th>\n",
       "      <th>count</th>\n",
       "      <th>proportion</th>\n",
       "    </tr>\n",
       "  </thead>\n",
       "  <tbody>\n",
       "    <tr>\n",
       "      <th>train</th>\n",
       "      <td>1460</td>\n",
       "      <td>0.500171</td>\n",
       "    </tr>\n",
       "    <tr>\n",
       "      <th>test</th>\n",
       "      <td>1459</td>\n",
       "      <td>0.499829</td>\n",
       "    </tr>\n",
       "  </tbody>\n",
       "</table>\n",
       "</div>"
      ],
      "text/plain": [
       "       count  proportion\n",
       "train   1460    0.500171\n",
       "test    1459    0.499829"
      ]
     },
     "execution_count": 6,
     "metadata": {},
     "output_type": "execute_result"
    }
   ],
   "source": [
    "pd.DataFrame({'count': [sum(data.source == 'train'), sum(data.source == 'test')],\n",
    "              'proportion': [sum(data.source == 'train') / len(data), sum(data.source == 'test') / len(data)]},\n",
    "             index=['train', 'test'])"
   ]
  },
  {
   "cell_type": "markdown",
   "metadata": {
    "datalore": {
     "hide_input_from_viewers": false,
     "hide_output_from_viewers": false,
     "type": "MD"
    }
   },
   "source": [
    "There are $2919$ total number of observations about $50\\%-50\\%$ from the train and test set."
   ]
  },
  {
   "cell_type": "markdown",
   "metadata": {
    "datalore": {
     "hide_input_from_viewers": false,
     "hide_output_from_viewers": false,
     "type": "MD"
    }
   },
   "source": [
    "# Missing values"
   ]
  },
  {
   "cell_type": "code",
   "execution_count": 7,
   "metadata": {
    "datalore": {
     "hide_input_from_viewers": false,
     "hide_output_from_viewers": false,
     "type": "CODE"
    }
   },
   "outputs": [
    {
     "data": {
      "text/plain": [
       "<AxesSubplot:>"
      ]
     },
     "execution_count": 7,
     "metadata": {},
     "output_type": "execute_result"
    },
    {
     "data": {
      "image/png": "[encoded data removed]",
      "text/plain": [
       "<Figure size 1800x720 with 2 Axes>"
      ]
     },
     "metadata": {
      "needs_background": "light"
     },
     "output_type": "display_data"
    }
   ],
   "source": [
    "msno.matrix(data)"
   ]
  },
  {
   "cell_type": "code",
   "execution_count": 8,
   "metadata": {
    "datalore": {
     "hide_input_from_viewers": false,
     "hide_output_from_viewers": false,
     "type": "CODE"
    }
   },
   "outputs": [],
   "source": [
    "df_na = pd.DataFrame({'na_count': data.isna().sum().loc[data.isna().sum() > 0]})\\\n",
    "        .assign(na_proportion=lambda x: round(x / len(data)*100, 2))"
   ]
  },
  {
   "cell_type": "code",
   "execution_count": 9,
   "metadata": {
    "datalore": {
     "hide_input_from_viewers": false,
     "hide_output_from_viewers": false,
     "type": "CODE"
    }
   },
   "outputs": [
    {
     "data": {
      "text/plain": [
       "PoolQC          99.66\n",
       "MiscFeature     96.40\n",
       "Alley           93.22\n",
       "Fence           80.44\n",
       "SalePrice       49.98\n",
       "FireplaceQu     48.65\n",
       "LotFrontage     16.65\n",
       "GarageYrBlt      5.45\n",
       "GarageFinish     5.45\n",
       "GarageQual       5.45\n",
       "GarageCond       5.45\n",
       "GarageType       5.38\n",
       "BsmtCond         2.81\n",
       "BsmtExposure     2.81\n",
       "BsmtQual         2.77\n",
       "BsmtFinType2     2.74\n",
       "BsmtFinType1     2.71\n",
       "MasVnrType       0.82\n",
       "MasVnrArea       0.79\n",
       "MSZoning         0.14\n",
       "BsmtFullBath     0.07\n",
       "BsmtHalfBath     0.07\n",
       "Functional       0.07\n",
       "Utilities        0.07\n",
       "BsmtFinSF2       0.03\n",
       "BsmtUnfSF        0.03\n",
       "BsmtFinSF1       0.03\n",
       "TotalBsmtSF      0.03\n",
       "SaleType         0.03\n",
       "KitchenQual      0.03\n",
       "Exterior2nd      0.03\n",
       "Exterior1st      0.03\n",
       "GarageCars       0.03\n",
       "GarageArea       0.03\n",
       "Electrical       0.03\n",
       "Name: na_proportion, dtype: float64"
      ]
     },
     "execution_count": 9,
     "metadata": {},
     "output_type": "execute_result"
    }
   ],
   "source": [
    "df_na.na_proportion.sort_values(ascending=False)"
   ]
  },
  {
   "cell_type": "code",
   "execution_count": 10,
   "metadata": {
    "datalore": {
     "hide_input_from_viewers": false,
     "hide_output_from_viewers": false,
     "type": "CODE"
    }
   },
   "outputs": [
    {
     "data": {
      "text/plain": [
       "Index(['PoolQC', 'MiscFeature', 'Alley', 'Fence', 'SalePrice', 'FireplaceQu',\n",
       "       'LotFrontage', 'GarageYrBlt', 'GarageFinish', 'GarageQual',\n",
       "       'GarageCond', 'GarageType', 'BsmtCond', 'BsmtExposure', 'BsmtQual',\n",
       "       'BsmtFinType2', 'BsmtFinType1', 'MasVnrType', 'MasVnrArea', 'MSZoning',\n",
       "       'BsmtFullBath', 'BsmtHalfBath', 'Functional', 'Utilities', 'BsmtFinSF2',\n",
       "       'BsmtUnfSF', 'BsmtFinSF1', 'TotalBsmtSF', 'SaleType', 'KitchenQual',\n",
       "       'Exterior2nd', 'Exterior1st', 'GarageCars', 'GarageArea', 'Electrical'],\n",
       "      dtype='object')"
      ]
     },
     "execution_count": 10,
     "metadata": {},
     "output_type": "execute_result"
    }
   ],
   "source": [
    "df_na.na_proportion.sort_values(ascending=False).index"
   ]
  },
  {
   "cell_type": "code",
   "execution_count": 11,
   "metadata": {
    "datalore": {
     "hide_input_from_viewers": false,
     "hide_output_from_viewers": false,
     "type": "CODE"
    }
   },
   "outputs": [],
   "source": [
    "# impute with string value 'None'\n",
    "cols_fillna_with_none = ['PoolQC', 'MiscFeature', 'Alley','Fence', 'FireplaceQu',\n",
    "                         'GarageCond', 'GarageFinish', 'GarageQual', 'GarageType',\n",
    "                         'BsmtExposure', 'BsmtCond', 'BsmtQual', 'BsmtFinType2', 'BsmtFinType1',\n",
    "                         'MasVnrType'],\n",
    "for col in cols_fillna_with_none:\n",
    "    data[col] = data[col].fillna('None')\n",
    "\n",
    "# impute with zero\n",
    "cols_fillna_with_zero = ['GarageYrBlt', 'GarageCars', 'GarageArea',\n",
    "                         'BsmtHalfBath', 'BsmtFullBath', 'BsmtFinSF2', 'BsmtFinSF1', 'BsmtUnfSF', 'TotalBsmtSF',\n",
    "                         'MasVnrArea']\n",
    "for col in cols_fillna_with_zero:\n",
    "    data[col].fillna(0, inplace=True)\n",
    "\n",
    "# impute with most common value\n",
    "cols_fillna_with_mode = ['SaleType', 'MSZoning', 'Electrical', 'Functional', 'KitchenQual', 'Utilities', 'Exterior1st', 'Exterior2nd']\n",
    "for col in cols_fillna_with_mode:\n",
    "    data[col].fillna(pd.Series.mode, inplace=True)\n",
    "\n",
    "# impute LotFrontage with the median LotFrontage grouped by neighborhood\n",
    "data['LotFrontage'] = data.groupby('Neighborhood')['LotFrontage'].transform(lambda x: x.fillna(x.median()))"
   ]
  },
  {
   "cell_type": "code",
   "execution_count": 12,
   "metadata": {
    "datalore": {
     "hide_input_from_viewers": false,
     "hide_output_from_viewers": false,
     "type": "CODE"
    }
   },
   "outputs": [
    {
     "data": {
      "text/plain": [
       "SalePrice    1459\n",
       "dtype: int64"
      ]
     },
     "execution_count": 12,
     "metadata": {},
     "output_type": "execute_result"
    }
   ],
   "source": [
    "data.isna().sum()[data.isna().sum() != 0]"
   ]
  },
  {
   "cell_type": "markdown",
   "metadata": {
    "datalore": {
     "hide_input_from_viewers": false,
     "hide_output_from_viewers": false,
     "type": "MD"
    }
   },
   "source": [
    "After the imputation there are no missing data except for the target feature `SalePrice` corresponding to the test dataset which is to be predicted."
   ]
  },
  {
   "cell_type": "markdown",
   "metadata": {
    "datalore": {
     "hide_input_from_viewers": false,
     "hide_output_from_viewers": false,
     "type": "MD"
    }
   },
   "source": [
    "# Data types"
   ]
  },
  {
   "cell_type": "code",
   "execution_count": 13,
   "metadata": {
    "datalore": {
     "hide_input_from_viewers": false,
     "hide_output_from_viewers": false,
     "type": "CODE"
    }
   },
   "outputs": [
    {
     "data": {
      "text/plain": [
       "Counter({dtype('int64'): 25, dtype('O'): 44, dtype('float64'): 12})"
      ]
     },
     "execution_count": 13,
     "metadata": {},
     "output_type": "execute_result"
    }
   ],
   "source": [
    "# how many unique data types\n",
    "Counter(data.dtypes)"
   ]
  },
  {
   "cell_type": "code",
   "execution_count": 14,
   "metadata": {
    "datalore": {
     "hide_input_from_viewers": false,
     "hide_output_from_viewers": false,
     "type": "CODE"
    }
   },
   "outputs": [
    {
     "name": "stdout",
     "output_type": "stream",
     "text": [
      "<class 'pandas.core.frame.DataFrame'>\n",
      "Int64Index: 2919 entries, 1 to 2919\n",
      "Data columns (total 12 columns):\n",
      " #   Column        Non-Null Count  Dtype  \n",
      "---  ------        --------------  -----  \n",
      " 0   LotFrontage   2919 non-null   float64\n",
      " 1   MasVnrArea    2919 non-null   float64\n",
      " 2   BsmtFinSF1    2919 non-null   float64\n",
      " 3   BsmtFinSF2    2919 non-null   float64\n",
      " 4   BsmtUnfSF     2919 non-null   float64\n",
      " 5   TotalBsmtSF   2919 non-null   float64\n",
      " 6   BsmtFullBath  2919 non-null   float64\n",
      " 7   BsmtHalfBath  2919 non-null   float64\n",
      " 8   GarageYrBlt   2919 non-null   float64\n",
      " 9   GarageCars    2919 non-null   float64\n",
      " 10  GarageArea    2919 non-null   float64\n",
      " 11  SalePrice     1460 non-null   float64\n",
      "dtypes: float64(12)\n",
      "memory usage: 296.5 KB\n"
     ]
    }
   ],
   "source": [
    "# info on the dataframe - float cols\n",
    "data.select_dtypes(float).info()"
   ]
  },
  {
   "cell_type": "markdown",
   "metadata": {
    "datalore": {
     "hide_input_from_viewers": false,
     "hide_output_from_viewers": false,
     "type": "MD"
    }
   },
   "source": [
    "We will convert floats that are in fact integers, but were either wrongly parsed during import or previously had missing values and were treated as floats."
   ]
  },
  {
   "cell_type": "code",
   "execution_count": 15,
   "metadata": {
    "datalore": {
     "hide_input_from_viewers": false,
     "hide_output_from_viewers": false,
     "type": "CODE"
    }
   },
   "outputs": [
    {
     "data": {
      "text/plain": [
       "['MasVnrArea',\n",
       " 'BsmtFinSF1',\n",
       " 'BsmtFinSF2',\n",
       " 'BsmtUnfSF',\n",
       " 'TotalBsmtSF',\n",
       " 'BsmtFullBath',\n",
       " 'BsmtHalfBath',\n",
       " 'GarageYrBlt',\n",
       " 'GarageCars',\n",
       " 'GarageArea']"
      ]
     },
     "execution_count": 15,
     "metadata": {},
     "output_type": "execute_result"
    }
   ],
   "source": [
    "cols_from_float_to_int = []\n",
    "for col in data.select_dtypes(float).columns:\n",
    "    if sum((data[col] % 1) != 0) == 0:\n",
    "        cols_from_float_to_int.append(col)\n",
    "        data[col] = data[col].astype(int)\n",
    "cols_from_float_to_int"
   ]
  },
  {
   "cell_type": "code",
   "execution_count": 16,
   "metadata": {
    "datalore": {
     "hide_input_from_viewers": false,
     "hide_output_from_viewers": false,
     "type": "CODE"
    }
   },
   "outputs": [
    {
     "name": "stdout",
     "output_type": "stream",
     "text": [
      "<class 'pandas.core.frame.DataFrame'>\n",
      "Int64Index: 2919 entries, 1 to 2919\n",
      "Data columns (total 10 columns):\n",
      " #   Column        Non-Null Count  Dtype\n",
      "---  ------        --------------  -----\n",
      " 0   MasVnrArea    2919 non-null   int32\n",
      " 1   BsmtFinSF1    2919 non-null   int32\n",
      " 2   BsmtFinSF2    2919 non-null   int32\n",
      " 3   BsmtUnfSF     2919 non-null   int32\n",
      " 4   TotalBsmtSF   2919 non-null   int32\n",
      " 5   BsmtFullBath  2919 non-null   int32\n",
      " 6   BsmtHalfBath  2919 non-null   int32\n",
      " 7   GarageYrBlt   2919 non-null   int32\n",
      " 8   GarageCars    2919 non-null   int32\n",
      " 9   GarageArea    2919 non-null   int32\n",
      "dtypes: int32(10)\n",
      "memory usage: 136.8 KB\n"
     ]
    }
   ],
   "source": [
    "# info on the dataframe - integer cols\n",
    "data.select_dtypes(int).info()"
   ]
  },
  {
   "cell_type": "markdown",
   "metadata": {
    "datalore": {
     "hide_input_from_viewers": false,
     "hide_output_from_viewers": false,
     "type": "MD"
    }
   },
   "source": [
    "Convert the following columns from `int` to `object`:\n",
    "- `MSSubClass`: Identifies the type of dwelling involved in the sale, so it is a categorical variable.\n",
    "- `MoSold`: Month Sold (MM), but not real numeric as it has a cyclic nature."
   ]
  },
  {
   "cell_type": "code",
   "execution_count": 17,
   "metadata": {
    "datalore": {
     "hide_input_from_viewers": false,
     "hide_output_from_viewers": false,
     "type": "CODE"
    }
   },
   "outputs": [],
   "source": [
    "# converting the following columns from numeric to str\n",
    "cols_from_int_to_str = ['MSSubClass', 'MoSold']\n",
    "for col in cols_from_int_to_str:\n",
    "    data[col] = data[col].astype(str)"
   ]
  },
  {
   "cell_type": "code",
   "execution_count": 18,
   "metadata": {
    "datalore": {
     "hide_input_from_viewers": false,
     "hide_output_from_viewers": false,
     "type": "CODE"
    }
   },
   "outputs": [
    {
     "name": "stdout",
     "output_type": "stream",
     "text": [
      "<class 'pandas.core.frame.DataFrame'>\n",
      "Int64Index: 2919 entries, 1 to 2919\n",
      "Data columns (total 46 columns):\n",
      " #   Column         Non-Null Count  Dtype \n",
      "---  ------         --------------  ----- \n",
      " 0   MSSubClass     2919 non-null   object\n",
      " 1   MSZoning       2919 non-null   object\n",
      " 2   Street         2919 non-null   object\n",
      " 3   Alley          2919 non-null   object\n",
      " 4   LotShape       2919 non-null   object\n",
      " 5   LandContour    2919 non-null   object\n",
      " 6   Utilities      2919 non-null   object\n",
      " 7   LotConfig      2919 non-null   object\n",
      " 8   LandSlope      2919 non-null   object\n",
      " 9   Neighborhood   2919 non-null   object\n",
      " 10  Condition1     2919 non-null   object\n",
      " 11  Condition2     2919 non-null   object\n",
      " 12  BldgType       2919 non-null   object\n",
      " 13  HouseStyle     2919 non-null   object\n",
      " 14  RoofStyle      2919 non-null   object\n",
      " 15  RoofMatl       2919 non-null   object\n",
      " 16  Exterior1st    2919 non-null   object\n",
      " 17  Exterior2nd    2919 non-null   object\n",
      " 18  MasVnrType     2919 non-null   object\n",
      " 19  ExterQual      2919 non-null   object\n",
      " 20  ExterCond      2919 non-null   object\n",
      " 21  Foundation     2919 non-null   object\n",
      " 22  BsmtQual       2919 non-null   object\n",
      " 23  BsmtCond       2919 non-null   object\n",
      " 24  BsmtExposure   2919 non-null   object\n",
      " 25  BsmtFinType1   2919 non-null   object\n",
      " 26  BsmtFinType2   2919 non-null   object\n",
      " 27  Heating        2919 non-null   object\n",
      " 28  HeatingQC      2919 non-null   object\n",
      " 29  CentralAir     2919 non-null   object\n",
      " 30  Electrical     2919 non-null   object\n",
      " 31  KitchenQual    2919 non-null   object\n",
      " 32  Functional     2919 non-null   object\n",
      " 33  FireplaceQu    2919 non-null   object\n",
      " 34  GarageType     2919 non-null   object\n",
      " 35  GarageFinish   2919 non-null   object\n",
      " 36  GarageQual     2919 non-null   object\n",
      " 37  GarageCond     2919 non-null   object\n",
      " 38  PavedDrive     2919 non-null   object\n",
      " 39  PoolQC         2919 non-null   object\n",
      " 40  Fence          2919 non-null   object\n",
      " 41  MiscFeature    2919 non-null   object\n",
      " 42  MoSold         2919 non-null   object\n",
      " 43  SaleType       2919 non-null   object\n",
      " 44  SaleCondition  2919 non-null   object\n",
      " 45  source         2919 non-null   object\n",
      "dtypes: object(46)\n",
      "memory usage: 1.0+ MB\n"
     ]
    }
   ],
   "source": [
    "# info on the dataframe - object cols\n",
    "data.select_dtypes(object).info()"
   ]
  },
  {
   "cell_type": "markdown",
   "metadata": {
    "datalore": {
     "hide_input_from_viewers": false,
     "hide_output_from_viewers": false,
     "type": "MD"
    }
   },
   "source": [
    "All remaining variables have the appropriate data types."
   ]
  },
  {
   "cell_type": "markdown",
   "metadata": {
    "datalore": {
     "hide_input_from_viewers": false,
     "hide_output_from_viewers": false,
     "type": "MD"
    }
   },
   "source": [
    "# Feature engineering"
   ]
  },
  {
   "cell_type": "code",
   "execution_count": 19,
   "metadata": {
    "datalore": {
     "hide_input_from_viewers": false,
     "hide_output_from_viewers": false,
     "type": "CODE"
    }
   },
   "outputs": [
    {
     "data": {
      "text/plain": [
       "Index(['MSSubClass', 'MSZoning', 'LotFrontage', 'LotArea', 'Street', 'Alley',\n",
       "       'LotShape', 'LandContour', 'Utilities', 'LotConfig', 'LandSlope',\n",
       "       'Neighborhood', 'Condition1', 'Condition2', 'BldgType', 'HouseStyle',\n",
       "       'OverallQual', 'OverallCond', 'YearBuilt', 'YearRemodAdd', 'RoofStyle',\n",
       "       'RoofMatl', 'Exterior1st', 'Exterior2nd', 'MasVnrType', 'MasVnrArea',\n",
       "       'ExterQual', 'ExterCond', 'Foundation', 'BsmtQual', 'BsmtCond',\n",
       "       'BsmtExposure', 'BsmtFinType1', 'BsmtFinSF1', 'BsmtFinType2',\n",
       "       'BsmtFinSF2', 'BsmtUnfSF', 'TotalBsmtSF', 'Heating', 'HeatingQC',\n",
       "       'CentralAir', 'Electrical', '1stFlrSF', '2ndFlrSF', 'LowQualFinSF',\n",
       "       'GrLivArea', 'BsmtFullBath', 'BsmtHalfBath', 'FullBath', 'HalfBath',\n",
       "       'BedroomAbvGr', 'KitchenAbvGr', 'KitchenQual', 'TotRmsAbvGrd',\n",
       "       'Functional', 'Fireplaces', 'FireplaceQu', 'GarageType', 'GarageYrBlt',\n",
       "       'GarageFinish', 'GarageCars', 'GarageArea', 'GarageQual', 'GarageCond',\n",
       "       'PavedDrive', 'WoodDeckSF', 'OpenPorchSF', 'EnclosedPorch', '3SsnPorch',\n",
       "       'ScreenPorch', 'PoolArea', 'PoolQC', 'Fence', 'MiscFeature', 'MiscVal',\n",
       "       'MoSold', 'YrSold', 'SaleType', 'SaleCondition', 'SalePrice', 'source'],\n",
       "      dtype='object')"
      ]
     },
     "execution_count": 19,
     "metadata": {},
     "output_type": "execute_result"
    }
   ],
   "source": [
    "data.columns"
   ]
  },
  {
   "cell_type": "markdown",
   "metadata": {
    "datalore": {
     "hide_input_from_viewers": false,
     "hide_output_from_viewers": false,
     "type": "MD"
    }
   },
   "source": [
    "## Decades "
   ]
  },
  {
   "cell_type": "code",
   "execution_count": 20,
   "metadata": {
    "datalore": {
     "hide_input_from_viewers": false,
     "hide_output_from_viewers": false,
     "type": "CODE"
    }
   },
   "outputs": [
    {
     "name": "stdout",
     "output_type": "stream",
     "text": [
      "['YearBuilt', 'YearRemodAdd', 'GarageYrBlt', 'YrSold']\n"
     ]
    }
   ],
   "source": [
    "# create decade from years and treat them as categorical instead of numerical\n",
    "cols_decades = list(data.columns[data.columns.str.lower().str.contains('year|yr')])\n",
    "print(cols_decades)"
   ]
  },
  {
   "cell_type": "code",
   "execution_count": 21,
   "metadata": {
    "datalore": {
     "hide_input_from_viewers": false,
     "hide_output_from_viewers": false,
     "type": "CODE"
    }
   },
   "outputs": [
    {
     "data": {
      "text/html": [
       "<div>\n",
       "<style scoped>\n",
       "    .dataframe tbody tr th:only-of-type {\n",
       "        vertical-align: middle;\n",
       "    }\n",
       "\n",
       "    .dataframe tbody tr th {\n",
       "        vertical-align: top;\n",
       "    }\n",
       "\n",
       "    .dataframe thead th {\n",
       "        text-align: right;\n",
       "    }\n",
       "</style>\n",
       "<table border=\"1\" class=\"dataframe\">\n",
       "  <thead>\n",
       "    <tr style=\"text-align: right;\">\n",
       "      <th></th>\n",
       "      <th>YearBuilt</th>\n",
       "      <th>YearRemodAdd</th>\n",
       "      <th>GarageYrBlt</th>\n",
       "      <th>YrSold</th>\n",
       "    </tr>\n",
       "  </thead>\n",
       "  <tbody>\n",
       "    <tr>\n",
       "      <th>count</th>\n",
       "      <td>2919.000000</td>\n",
       "      <td>2919.000000</td>\n",
       "      <td>2919.000000</td>\n",
       "      <td>2919.000000</td>\n",
       "    </tr>\n",
       "    <tr>\n",
       "      <th>mean</th>\n",
       "      <td>1971.312778</td>\n",
       "      <td>1984.264474</td>\n",
       "      <td>1870.364166</td>\n",
       "      <td>2007.792737</td>\n",
       "    </tr>\n",
       "    <tr>\n",
       "      <th>std</th>\n",
       "      <td>30.291442</td>\n",
       "      <td>20.894344</td>\n",
       "      <td>449.686321</td>\n",
       "      <td>1.314964</td>\n",
       "    </tr>\n",
       "    <tr>\n",
       "      <th>min</th>\n",
       "      <td>1872.000000</td>\n",
       "      <td>1950.000000</td>\n",
       "      <td>0.000000</td>\n",
       "      <td>2006.000000</td>\n",
       "    </tr>\n",
       "    <tr>\n",
       "      <th>25%</th>\n",
       "      <td>1953.500000</td>\n",
       "      <td>1965.000000</td>\n",
       "      <td>1957.000000</td>\n",
       "      <td>2007.000000</td>\n",
       "    </tr>\n",
       "    <tr>\n",
       "      <th>50%</th>\n",
       "      <td>1973.000000</td>\n",
       "      <td>1993.000000</td>\n",
       "      <td>1977.000000</td>\n",
       "      <td>2008.000000</td>\n",
       "    </tr>\n",
       "    <tr>\n",
       "      <th>75%</th>\n",
       "      <td>2001.000000</td>\n",
       "      <td>2004.000000</td>\n",
       "      <td>2001.000000</td>\n",
       "      <td>2009.000000</td>\n",
       "    </tr>\n",
       "    <tr>\n",
       "      <th>max</th>\n",
       "      <td>2010.000000</td>\n",
       "      <td>2010.000000</td>\n",
       "      <td>2207.000000</td>\n",
       "      <td>2010.000000</td>\n",
       "    </tr>\n",
       "  </tbody>\n",
       "</table>\n",
       "</div>"
      ],
      "text/plain": [
       "         YearBuilt  YearRemodAdd  GarageYrBlt       YrSold\n",
       "count  2919.000000   2919.000000  2919.000000  2919.000000\n",
       "mean   1971.312778   1984.264474  1870.364166  2007.792737\n",
       "std      30.291442     20.894344   449.686321     1.314964\n",
       "min    1872.000000   1950.000000     0.000000  2006.000000\n",
       "25%    1953.500000   1965.000000  1957.000000  2007.000000\n",
       "50%    1973.000000   1993.000000  1977.000000  2008.000000\n",
       "75%    2001.000000   2004.000000  2001.000000  2009.000000\n",
       "max    2010.000000   2010.000000  2207.000000  2010.000000"
      ]
     },
     "execution_count": 21,
     "metadata": {},
     "output_type": "execute_result"
    }
   ],
   "source": [
    "data[cols_decades].describe()"
   ]
  },
  {
   "cell_type": "markdown",
   "metadata": {
    "datalore": {
     "hide_input_from_viewers": false,
     "hide_output_from_viewers": false,
     "type": "MD"
    }
   },
   "source": [
    "GarageYearBlt has a maximum of $2207$ which is obviously a data error."
   ]
  },
  {
   "cell_type": "code",
   "execution_count": 22,
   "metadata": {
    "datalore": {
     "hide_input_from_viewers": false,
     "hide_output_from_viewers": false,
     "type": "CODE"
    }
   },
   "outputs": [
    {
     "data": {
      "text/html": [
       "<div>\n",
       "<style scoped>\n",
       "    .dataframe tbody tr th:only-of-type {\n",
       "        vertical-align: middle;\n",
       "    }\n",
       "\n",
       "    .dataframe tbody tr th {\n",
       "        vertical-align: top;\n",
       "    }\n",
       "\n",
       "    .dataframe thead th {\n",
       "        text-align: right;\n",
       "    }\n",
       "</style>\n",
       "<table border=\"1\" class=\"dataframe\">\n",
       "  <thead>\n",
       "    <tr style=\"text-align: right;\">\n",
       "      <th>Id</th>\n",
       "      <th>2593</th>\n",
       "    </tr>\n",
       "  </thead>\n",
       "  <tbody>\n",
       "    <tr>\n",
       "      <th>YearBuilt</th>\n",
       "      <td>2006</td>\n",
       "    </tr>\n",
       "    <tr>\n",
       "      <th>YearRemodAdd</th>\n",
       "      <td>2007</td>\n",
       "    </tr>\n",
       "    <tr>\n",
       "      <th>GarageYrBlt</th>\n",
       "      <td>2207</td>\n",
       "    </tr>\n",
       "    <tr>\n",
       "      <th>YrSold</th>\n",
       "      <td>2007</td>\n",
       "    </tr>\n",
       "  </tbody>\n",
       "</table>\n",
       "</div>"
      ],
      "text/plain": [
       "Id            2593\n",
       "YearBuilt     2006\n",
       "YearRemodAdd  2007\n",
       "GarageYrBlt   2207\n",
       "YrSold        2007"
      ]
     },
     "execution_count": 22,
     "metadata": {},
     "output_type": "execute_result"
    }
   ],
   "source": [
    "# there is \n",
    "data[cols_decades][data[cols_decades].applymap(lambda x: int(x)>2020).sum(axis=1) > 0].T"
   ]
  },
  {
   "cell_type": "code",
   "execution_count": 23,
   "metadata": {
    "datalore": {
     "hide_input_from_viewers": false,
     "hide_output_from_viewers": false,
     "type": "CODE"
    }
   },
   "outputs": [],
   "source": [
    "# manually correct data error\n",
    "data.loc[2593, 'GarageYrBlt'] = 2007"
   ]
  },
  {
   "cell_type": "code",
   "execution_count": 24,
   "metadata": {
    "datalore": {
     "hide_input_from_viewers": false,
     "hide_output_from_viewers": false,
     "type": "CODE"
    }
   },
   "outputs": [],
   "source": [
    "for col in cols_decades:\n",
    "    data[f'decade_{col}'] = (data[col] // 10 * 10).astype(str)"
   ]
  },
  {
   "cell_type": "markdown",
   "metadata": {
    "datalore": {
     "hide_input_from_viewers": false,
     "hide_output_from_viewers": false,
     "type": "MD"
    }
   },
   "source": [
    "## Binary variables"
   ]
  },
  {
   "cell_type": "code",
   "execution_count": 25,
   "metadata": {
    "datalore": {
     "hide_input_from_viewers": false,
     "hide_output_from_viewers": false,
     "type": "CODE"
    }
   },
   "outputs": [],
   "source": [
    "# has a garage\n",
    "data['has_garage'] = ((data.GarageType != 'None') | (data.MiscFeature == 'Gar2')).astype(int)\n",
    "# has a pool\n",
    "data['has_pool'] =(data.PoolArea > 0).astype(int)\n",
    "# has ac\n",
    "data['has_acc'] =(data.CentralAir == 'Y').astype(int)\n",
    "# has basement\n",
    "data['has_basement'] =((data.BsmtFinType1 != 'None') | (data.BsmtFinType2 != 'None')).astype(int)\n",
    "# has fireplace\n",
    "data['has_fireplace'] =(data.Fireplaces > 0).astype(int)\n",
    "# has wooddeck\n",
    "data['has_wooddeck'] =(data.WoodDeckSF > 0).astype(int)\n",
    "# has openporch\n",
    "data['has_porch_open'] =(data.OpenPorchSF > 0).astype(int)\n",
    "# has enclosed porch\n",
    "data['has_porch_enclosed'] =(data.EnclosedPorch > 0).astype(int)\n",
    "# has 3 season porch\n",
    "data['has_porch_3season'] =(data['3SsnPorch'] > 0).astype(int)\n",
    "# has screen porch\n",
    "data['has_porch_screen'] =(data.ScreenPorch > 0).astype(int)\n",
    "# has fence\n",
    "data['has_fence'] =(data.Fence != 'None').astype(int)\n",
    "# has misc. feature\n",
    "data['has_misc_feature'] =(data.MiscFeature != 'None').astype(int)\n",
    "# has unfinished garage\n",
    "data['has_unf_garage'] =(data.GarageFinish == 'Unf').astype(int)\n",
    "# has unfinished story\n",
    "data['has_unf_story'] =data.HouseStyle.str.contains('Unf').astype(int)\n",
    "# has unfinished basement\n",
    "data['has_unf_basement'] =(data.BsmtUnfSF > 0).astype(int)\n",
    "# has remodelling\n",
    "data['has_remodelling'] = (data.YearRemodAdd != data.YearBuilt).astype(int)"
   ]
  },
  {
   "cell_type": "markdown",
   "metadata": {
    "datalore": {
     "hide_input_from_viewers": false,
     "hide_output_from_viewers": false,
     "type": "MD"
    }
   },
   "source": [
    "## Calculations"
   ]
  },
  {
   "cell_type": "code",
   "execution_count": 26,
   "metadata": {
    "datalore": {
     "hide_input_from_viewers": false,
     "hide_output_from_viewers": false,
     "type": "CODE"
    }
   },
   "outputs": [],
   "source": [
    "# total number of bathrooms\n",
    "data['total_num_bathrooms'] = data.eval('(BsmtFullBath + FullBath)+ 0.5*(BsmtHalfBath + HalfBath)')\n",
    "# total rating (scale 0-20)\n",
    "data['total_rating'] = data.eval('(OverallQual + OverallCond)')\n",
    "# total porch size\n",
    "data['total_sf_porch'] = data.eval('OpenPorchSF + EnclosedPorch  + ScreenPorch') + data[\"3SsnPorch\"]\n",
    "# total square footage\n",
    "data['total_sf'] = data.eval('BsmtFinSF1 + BsmtFinSF2 + BsmtUnfSF + total_sf_porch') + data['1stFlrSF'] + data['2ndFlrSF']\n",
    "# low quality area proportion to above ground level area\n",
    "data['total_lq_proportion'] = data.eval('LowQualFinSF / GrLivArea')"
   ]
  },
  {
   "cell_type": "code",
   "execution_count": 27,
   "metadata": {
    "datalore": {
     "hide_input_from_viewers": false,
     "hide_output_from_viewers": false,
     "type": "CODE"
    }
   },
   "outputs": [],
   "source": [
    "# age of garage in years\n",
    "data['age_garage'] = data.eval('YrSold - GarageYrBlt')\n",
    "# age of building in years\n",
    "data['age_building'] = data.eval('YrSold - YearBuilt')\n",
    "# years since remodelling\n",
    "data['age_remodelling'] = data.eval('YrSold - YearRemodAdd')"
   ]
  },
  {
   "cell_type": "markdown",
   "metadata": {
    "datalore": {
     "hide_input_from_viewers": false,
     "hide_output_from_viewers": false,
     "type": "MD"
    }
   },
   "source": [
    "# Feature transformations"
   ]
  },
  {
   "cell_type": "markdown",
   "metadata": {
    "datalore": {
     "hide_input_from_viewers": false,
     "hide_output_from_viewers": false,
     "type": "MD"
    }
   },
   "source": [
    "## Skewness and kurtosis"
   ]
  },
  {
   "cell_type": "code",
   "execution_count": 28,
   "metadata": {
    "datalore": {
     "hide_input_from_viewers": false,
     "hide_output_from_viewers": false,
     "type": "CODE"
    }
   },
   "outputs": [
    {
     "name": "stdout",
     "output_type": "stream",
     "text": [
      "MiscVal                21.958480\n",
      "PoolArea               16.907017\n",
      "has_pool               14.891972\n",
      "LotArea                12.829025\n",
      "LowQualFinSF           12.094977\n",
      "3SsnPorch              11.381914\n",
      "total_lq_proportion    11.143141\n",
      "has_porch_3season       8.716812\n",
      "has_unf_story           8.060114\n",
      "has_misc_feature        4.986267\n",
      "KitchenAbvGr            4.304467\n",
      "BsmtFinSF2              4.148275\n",
      "EnclosedPorch           4.005950\n",
      "ScreenPorch             3.948723\n",
      "BsmtHalfBath            3.933616\n",
      "age_garage              3.908776\n",
      "has_porch_screen        2.916714\n",
      "MasVnrArea              2.614936\n",
      "OpenPorchSF             2.536417\n",
      "total_sf_porch          2.238417\n",
      "has_porch_enclosed      1.884067\n",
      "SalePrice               1.882876\n",
      "WoodDeckSF              1.843380\n",
      "has_fence               1.535478\n",
      "LotFrontage             1.506478\n",
      "total_sf                1.480398\n",
      "1stFlrSF                1.470360\n",
      "BsmtFinSF1              1.425963\n",
      "GrLivArea               1.270010\n",
      "TotalBsmtSF             1.157489\n",
      "BsmtUnfSF               0.919812\n",
      "2ndFlrSF                0.862118\n",
      "TotRmsAbvGrd            0.758757\n",
      "Fireplaces              0.733872\n",
      "HalfBath                0.694924\n",
      "BsmtFullBath            0.625153\n",
      "age_building            0.598917\n",
      "OverallCond             0.570605\n",
      "total_rating           -0.564413\n",
      "YearBuilt              -0.600114\n",
      "has_unf_basement       -3.026846\n",
      "has_acc                -3.460801\n",
      "GarageYrBlt            -3.908831\n",
      "has_garage             -3.957941\n",
      "has_basement           -5.831992\n",
      "dtype: float64\n"
     ]
    }
   ],
   "source": [
    "df_skew = data.skew(numeric_only=True).sort_values(ascending=False)\n",
    "df_skew = df_skew[df_skew.abs() > 0.5]\n",
    "print(df_skew)"
   ]
  },
  {
   "cell_type": "code",
   "execution_count": 29,
   "metadata": {
    "datalore": {
     "hide_input_from_viewers": false,
     "hide_output_from_viewers": false,
     "type": "CODE"
    }
   },
   "outputs": [
    {
     "name": "stdout",
     "output_type": "stream",
     "text": [
      "MiscVal                564.074582\n",
      "PoolArea               298.633144\n",
      "LotArea                264.952310\n",
      "has_pool               219.921516\n",
      "LowQualFinSF           174.932812\n",
      "3SsnPorch              149.409834\n",
      "total_lq_proportion    133.568946\n",
      "has_porch_3season       74.033537\n",
      "has_unf_story           63.008604\n",
      "has_basement            32.034084\n",
      "EnclosedPorch           28.377909\n",
      "has_misc_feature        22.878538\n",
      "KitchenAbvGr            19.777937\n",
      "BsmtFinSF2              18.844397\n",
      "ScreenPorch             17.776704\n",
      "BsmtHalfBath            14.861472\n",
      "has_garage              13.674667\n",
      "GarageYrBlt             13.344538\n",
      "age_garage              13.344288\n",
      "LotFrontage             12.940595\n",
      "OpenPorchSF             10.937353\n",
      "has_acc                  9.983985\n",
      "total_sf_porch           9.942847\n",
      "total_sf                 9.436349\n",
      "MasVnrArea               9.336415\n",
      "TotalBsmtSF              9.122827\n",
      "has_unf_basement         7.166708\n",
      "1stFlrSF                 6.956479\n",
      "BsmtFinSF1               6.904047\n",
      "WoodDeckSF               6.741550\n",
      "SalePrice                6.536282\n",
      "has_porch_screen         6.511679\n",
      "GrLivArea                4.121604\n",
      "dtype: float64\n"
     ]
    }
   ],
   "source": [
    "df_kurtosis = data.kurtosis(numeric_only=True).sort_values(ascending=False)\n",
    "df_kurtosis = df_kurtosis[df_kurtosis > 3]\n",
    "print(df_kurtosis)"
   ]
  },
  {
   "cell_type": "markdown",
   "metadata": {
    "datalore": {
     "hide_input_from_viewers": false,
     "hide_output_from_viewers": false,
     "type": "MD"
    }
   },
   "source": [
    "## Log-transformations"
   ]
  },
  {
   "cell_type": "code",
   "execution_count": 30,
   "metadata": {
    "datalore": {
     "hide_input_from_viewers": false,
     "hide_output_from_viewers": false,
     "type": "CODE"
    }
   },
   "outputs": [
    {
     "name": "stdout",
     "output_type": "stream",
     "text": [
      "Apply log-transformation on the following columns:\n",
      "['MiscVal', 'PoolArea', 'LotArea', 'LowQualFinSF', '3SsnPorch', 'total_lq_proportion', 'KitchenAbvGr', 'BsmtFinSF2', 'EnclosedPorch', 'ScreenPorch', 'BsmtHalfBath', 'MasVnrArea', 'OpenPorchSF', 'total_sf_porch', 'WoodDeckSF', 'LotFrontage', 'total_sf', '1stFlrSF', 'BsmtFinSF1', 'GrLivArea', 'TotalBsmtSF', 'BsmtUnfSF', '2ndFlrSF', 'TotRmsAbvGrd', 'Fireplaces', 'HalfBath', 'BsmtFullBath', 'OverallCond', 'total_rating', 'YearBuilt', 'GarageYrBlt']\n"
     ]
    }
   ],
   "source": [
    "cols_transform_log = list(df_skew.index[~df_skew.index.str.contains('has_|SalePrice|age_garage|age_building')])\n",
    "print(f'Apply log-transformation on the following columns:\\n{cols_transform_log}')\n",
    "for col in cols_transform_log:\n",
    "    # print(col)\n",
    "    data[f'log_{col}'] = np.log1p(data[col].values)"
   ]
  },
  {
   "cell_type": "markdown",
   "metadata": {
    "datalore": {
     "hide_input_from_viewers": false,
     "hide_output_from_viewers": false,
     "type": "MD"
    }
   },
   "source": [
    "# Target: SalePrice"
   ]
  },
  {
   "cell_type": "markdown",
   "metadata": {
    "datalore": {
     "hide_input_from_viewers": false,
     "hide_output_from_viewers": false,
     "type": "MD"
    }
   },
   "source": [
    "## Visual glimpse"
   ]
  },
  {
   "cell_type": "markdown",
   "metadata": {
    "datalore": {
     "hide_input_from_viewers": false,
     "hide_output_from_viewers": false,
     "type": "MD"
    }
   },
   "source": [
    "Here I am showing a few plots to illustrate how the target depends on a few selected features."
   ]
  },
  {
   "cell_type": "code",
   "execution_count": 31,
   "metadata": {
    "datalore": {
     "hide_input_from_viewers": false,
     "hide_output_from_viewers": false,
     "type": "CODE"
    }
   },
   "outputs": [
    {
     "data": {
      "text/plain": [
       "<AxesSubplot:xlabel='Neighborhood', ylabel='SalePrice'>"
      ]
     },
     "execution_count": 31,
     "metadata": {},
     "output_type": "execute_result"
    },
    {
     "data": {
      "image/png": "[encoded data removed]",
      "text/plain": [
       "<Figure size 1152x576 with 1 Axes>"
      ]
     },
     "metadata": {
      "needs_background": "light"
     },
     "output_type": "display_data"
    }
   ],
   "source": [
    "col = 'Neighborhood'\n",
    "fig, axes = plt.subplots(figsize=(16, 8))\n",
    "sns.boxplot(data=data[data.source == 'train'], y='SalePrice', x=col)"
   ]
  },
  {
   "cell_type": "code",
   "execution_count": 32,
   "metadata": {
    "datalore": {
     "hide_input_from_viewers": false,
     "hide_output_from_viewers": false,
     "type": "CODE"
    }
   },
   "outputs": [
    {
     "data": {
      "text/plain": [
       "<AxesSubplot:xlabel='MSSubClass', ylabel='SalePrice'>"
      ]
     },
     "execution_count": 32,
     "metadata": {},
     "output_type": "execute_result"
    },
    {
     "data": {
      "image/png": "[encoded data removed]",
      "text/plain": [
       "<Figure size 1152x576 with 1 Axes>"
      ]
     },
     "metadata": {
      "needs_background": "light"
     },
     "output_type": "display_data"
    }
   ],
   "source": [
    "col = 'MSSubClass'\n",
    "fig, axes = plt.subplots(figsize=(16, 8))\n",
    "sns.boxplot(data=data[data.source == 'train'], y='SalePrice', x=col)"
   ]
  },
  {
   "cell_type": "code",
   "execution_count": 33,
   "metadata": {
    "datalore": {
     "hide_input_from_viewers": false,
     "hide_output_from_viewers": false,
     "type": "CODE"
    }
   },
   "outputs": [
    {
     "data": {
      "text/plain": [
       "<AxesSubplot:xlabel='decade_YearBuilt', ylabel='SalePrice'>"
      ]
     },
     "execution_count": 33,
     "metadata": {},
     "output_type": "execute_result"
    },
    {
     "data": {
      "image/png": "[encoded data removed]",
      "text/plain": [
       "<Figure size 1152x576 with 1 Axes>"
      ]
     },
     "metadata": {
      "needs_background": "light"
     },
     "output_type": "display_data"
    }
   ],
   "source": [
    "col = 'decade_YearBuilt'\n",
    "fig, axes = plt.subplots(figsize=(16, 8))\n",
    "sns.boxplot(data=data[data.source == 'train'].sort_values(by=col), y='SalePrice', x=col)"
   ]
  },
  {
   "cell_type": "code",
   "execution_count": 34,
   "metadata": {
    "datalore": {
     "hide_input_from_viewers": false,
     "hide_output_from_viewers": false,
     "type": "CODE"
    }
   },
   "outputs": [
    {
     "data": {
      "text/plain": [
       "<AxesSubplot:xlabel='has_garage', ylabel='SalePrice'>"
      ]
     },
     "execution_count": 34,
     "metadata": {},
     "output_type": "execute_result"
    },
    {
     "data": {
      "image/png": "[encoded data removed]",
      "text/plain": [
       "<Figure size 1152x576 with 1 Axes>"
      ]
     },
     "metadata": {
      "needs_background": "light"
     },
     "output_type": "display_data"
    }
   ],
   "source": [
    "col = 'has_garage'\n",
    "fig, axes = plt.subplots(figsize=(16, 8))\n",
    "sns.boxplot(data=data[data.source == 'train'].sort_values(by=col), y='SalePrice', x=col)"
   ]
  },
  {
   "cell_type": "code",
   "execution_count": 35,
   "metadata": {
    "datalore": {
     "hide_input_from_viewers": false,
     "hide_output_from_viewers": false,
     "type": "CODE"
    }
   },
   "outputs": [
    {
     "data": {
      "text/plain": [
       "<AxesSubplot:xlabel='total_num_bathrooms', ylabel='SalePrice'>"
      ]
     },
     "execution_count": 35,
     "metadata": {},
     "output_type": "execute_result"
    },
    {
     "data": {
      "image/png": "[encoded data removed]",
      "text/plain": [
       "<Figure size 1152x576 with 1 Axes>"
      ]
     },
     "metadata": {
      "needs_background": "light"
     },
     "output_type": "display_data"
    }
   ],
   "source": [
    "col = 'total_num_bathrooms'\n",
    "fig, axes = plt.subplots(figsize=(16, 8))\n",
    "sns.boxplot(data=data[data.source == 'train'].sort_values(by=col), y='SalePrice', x=col)"
   ]
  },
  {
   "cell_type": "markdown",
   "metadata": {
    "datalore": {
     "hide_input_from_viewers": false,
     "hide_output_from_viewers": false,
     "type": "MD"
    }
   },
   "source": [
    "## Correlations"
   ]
  },
  {
   "cell_type": "code",
   "execution_count": 36,
   "metadata": {
    "datalore": {
     "hide_input_from_viewers": false,
     "hide_output_from_viewers": false,
     "type": "CODE"
    }
   },
   "outputs": [
    {
     "name": "stdout",
     "output_type": "stream",
     "text": [
      "OverallQual           0.790982\n",
      "total_sf              0.776337\n",
      "log_total_sf          0.754251\n",
      "GrLivArea             0.708624\n",
      "log_GrLivArea         0.695147\n",
      "                        ...   \n",
      "has_porch_enclosed   -0.183374\n",
      "age_garage           -0.261441\n",
      "has_unf_garage       -0.410608\n",
      "age_remodelling      -0.509079\n",
      "age_building         -0.523350\n",
      "Name: SalePrice, Length: 89, dtype: float64\n"
     ]
    },
    {
     "data": {
      "image/png": "[encoded data removed]",
      "text/plain": [
       "<Figure size 576x1080 with 1 Axes>"
      ]
     },
     "metadata": {
      "needs_background": "light"
     },
     "output_type": "display_data"
    }
   ],
   "source": [
    "df = data.corr()['SalePrice'].sort_values(ascending=False).drop(index='SalePrice')\n",
    "print(df)\n",
    "\n",
    "# Initialize the matplotlib figure\n",
    "fig, axes = plt.subplots(figsize=(8, 15))\n",
    "\n",
    "# Load the example car crash dataset\n",
    "\n",
    "# Plot the total crashes\n",
    "sns.set_color_codes(\"pastel\")\n",
    "sns.barplot(y=df.index, x=df.values, color='b')\n",
    "\n",
    "# Add a legend and informative axis label\n",
    "axes.set(ylabel='',\n",
    "         xlabel='Correlation with SalePrice')\n",
    "sns.despine(left=True, bottom=True)"
   ]
  },
  {
   "cell_type": "markdown",
   "metadata": {
    "datalore": {
     "hide_input_from_viewers": false,
     "hide_output_from_viewers": false,
     "type": "MD"
    }
   },
   "source": [
    "## Distribution"
   ]
  },
  {
   "cell_type": "code",
   "execution_count": 37,
   "metadata": {
    "datalore": {
     "hide_input_from_viewers": false,
     "hide_output_from_viewers": false,
     "type": "CODE"
    }
   },
   "outputs": [
    {
     "data": {
      "image/png": "[encoded data removed]",
      "text/plain": [
       "<Figure size 720x288 with 2 Axes>"
      ]
     },
     "metadata": {
      "needs_background": "light"
     },
     "output_type": "display_data"
    }
   ],
   "source": [
    "col = 'SalePrice'\n",
    "fig, axes = plt.subplots(nrows=1, ncols=2, figsize=(10, 4))\n",
    "sns.histplot(data=data, x=col, kde=True, ax=axes[0])\n",
    "qqplot(data[col][data.source == 'train'], fit=True, line='45', ax=axes[1])\n",
    "plt.suptitle(f'Distribution of {col} (target before transformation)')\n",
    "fig.tight_layout()"
   ]
  },
  {
   "cell_type": "code",
   "execution_count": 38,
   "metadata": {
    "datalore": {
     "hide_input_from_viewers": false,
     "hide_output_from_viewers": false,
     "type": "CODE"
    }
   },
   "outputs": [],
   "source": [
    "col = 'log_SalePrice'\n",
    "data[col] = np.log1p(data['SalePrice'])"
   ]
  },
  {
   "cell_type": "code",
   "execution_count": 39,
   "metadata": {
    "datalore": {
     "hide_input_from_viewers": false,
     "hide_output_from_viewers": false,
     "type": "CODE"
    }
   },
   "outputs": [
    {
     "data": {
      "image/png": "[encoded data removed]",
      "text/plain": [
       "<Figure size 720x288 with 2 Axes>"
      ]
     },
     "metadata": {
      "needs_background": "light"
     },
     "output_type": "display_data"
    }
   ],
   "source": [
    "fig, axes = plt.subplots(nrows=1, ncols=2, figsize=(10, 4))\n",
    "sns.histplot(data[col], kde=True, ax=axes[0])\n",
    "qqplot(data[col][data.source == 'train'], fit=True, line='45', ax=axes[1])\n",
    "plt.suptitle(f'Distribution of {col} (target after log transformation')\n",
    "fig.tight_layout()"
   ]
  },
  {
   "cell_type": "markdown",
   "metadata": {
    "datalore": {
     "hide_input_from_viewers": false,
     "hide_output_from_viewers": false,
     "type": "MD"
    }
   },
   "source": [
    "After log-transformation the target `SalePrice` shows more resemblance to the normal-distribution, although from the Q-Q plot we can see heavier tails."
   ]
  },
  {
   "cell_type": "markdown",
   "metadata": {
    "datalore": {
     "hide_input_from_viewers": false,
     "hide_output_from_viewers": false,
     "type": "MD"
    }
   },
   "source": [
    "# Modelling"
   ]
  },
  {
   "cell_type": "markdown",
   "metadata": {
    "datalore": {
     "hide_input_from_viewers": false,
     "hide_output_from_viewers": false,
     "type": "MD"
    }
   },
   "source": [
    "## One-hot encoding"
   ]
  },
  {
   "cell_type": "markdown",
   "metadata": {
    "datalore": {
     "hide_input_from_viewers": false,
     "hide_output_from_viewers": false,
     "type": "MD"
    }
   },
   "source": [
    "## Split data"
   ]
  },
  {
   "cell_type": "code",
   "execution_count": 40,
   "metadata": {
    "datalore": {
     "hide_input_from_viewers": false,
     "hide_output_from_viewers": false,
     "type": "CODE"
    }
   },
   "outputs": [],
   "source": [
    "# drop-first: keep only k-1 levels\n",
    "data = pd.concat([pd.get_dummies(data=data.drop(columns=['source']), drop_first=True), data['source']], axis=1)"
   ]
  },
  {
   "cell_type": "code",
   "execution_count": 41,
   "metadata": {
    "datalore": {
     "hide_input_from_viewers": false,
     "hide_output_from_viewers": false,
     "type": "CODE"
    }
   },
   "outputs": [
    {
     "name": "stdout",
     "output_type": "stream",
     "text": [
      "Predictors (first 10):\n",
      "['LotFrontage', 'LotArea', 'OverallQual', 'OverallCond', 'YearBuilt', 'YearRemodAdd', 'MasVnrArea', 'BsmtFinSF1', 'BsmtFinSF2', 'BsmtUnfSF']\n",
      "\n",
      "Target:\n",
      "log_SalePrice\n",
      "\n",
      "Shape, train=(1022, 380), test=(438, 380)\n"
     ]
    }
   ],
   "source": [
    "TARGET_NAME = 'log_SalePrice'\n",
    "COLS_TO_DROP = ['source', 'SalePrice']\n",
    "SEED = 42\n",
    "\n",
    "# separate holdout and train set\n",
    "test = data[data.source == 'test'].drop(columns=COLS_TO_DROP+[TARGET_NAME]).copy()\n",
    "train = data[data.source == 'train'].drop(columns=COLS_TO_DROP).copy()\n",
    "\n",
    "# separate target from train set\n",
    "X = train.drop(columns=TARGET_NAME).copy()\n",
    "y = train[TARGET_NAME].copy()\n",
    "\n",
    "X_train, X_test, y_train, y_test = train_test_split(X, y, test_size=0.30, random_state=SEED)\n",
    "\n",
    "print(f'Predictors (first 10):\\n{X.columns.to_list()[:10]}')\n",
    "print(f'\\nTarget:\\n{y.name}')\n",
    "print(f'\\nShape, train={X_train.shape}, test={X_test.shape}')"
   ]
  },
  {
   "cell_type": "markdown",
   "metadata": {},
   "source": [
    "## RandomForest"
   ]
  },
  {
   "cell_type": "code",
   "execution_count": 42,
   "metadata": {},
   "outputs": [],
   "source": [
    "results_rf = {}"
   ]
  },
  {
   "cell_type": "code",
   "execution_count": 43,
   "metadata": {},
   "outputs": [
    {
     "data": {
      "text/plain": [
       "0.1327087378494688"
      ]
     },
     "execution_count": 43,
     "metadata": {},
     "output_type": "execute_result"
    }
   ],
   "source": [
    "# baseline model\n",
    "rf_baseline = RandomForestRegressor(random_state=SEED)\n",
    "rf_baseline.fit(X_train, y_train)\n",
    "y_pred = rf_baseline.predict(X_test)\n",
    "# calculate rmse scores\n",
    "rmse_rf_train = MSE(y_train,  rf_baseline.predict(X_train))**0.5\n",
    "rmse_rf_test = MSE(y_test, y_pred)**0.5\n",
    "rmse_rf_test"
   ]
  },
  {
   "cell_type": "markdown",
   "metadata": {},
   "source": [
    "### n_estimators"
   ]
  },
  {
   "cell_type": "code",
   "execution_count": 44,
   "metadata": {
    "datalore": {
     "hide_input_from_viewers": false,
     "hide_output_from_viewers": false,
     "type": "CODE"
    }
   },
   "outputs": [
    {
     "name": "stdout",
     "output_type": "stream",
     "text": [
      "n_estimators=25, RMSE (test)=0.13297536074071728\n",
      "n_estimators=50, RMSE (test)=0.1341342208866491\n",
      "n_estimators=75, RMSE (test)=0.1330188451663779\n",
      "n_estimators=100, RMSE (test)=0.1327087378494688\n",
      "n_estimators=125, RMSE (test)=0.13305700899570366\n",
      "n_estimators=150, RMSE (test)=0.13295456452551363\n",
      "n_estimators=175, RMSE (test)=0.13285324989022604\n",
      "n_estimators=200, RMSE (test)=0.13307649873952107\n",
      "n_estimators=225, RMSE (test)=0.13292812297212545\n",
      "n_estimators=250, RMSE (test)=0.13314960421235889\n",
      "n_estimators=275, RMSE (test)=0.13283074999779915\n",
      "n_estimators=300, RMSE (test)=0.1326853426140994\n",
      "n_estimators=325, RMSE (test)=0.13304224782457094\n",
      "n_estimators=350, RMSE (test)=0.13298114538218797\n",
      "n_estimators=375, RMSE (test)=0.13307428479853822\n",
      "n_estimators=400, RMSE (test)=0.1331065095958533\n"
     ]
    }
   ],
   "source": [
    "col = 'n_estimators'\n",
    "param, train_err, test_err = [], [], []\n",
    "for n_estimators in list(range(25, 401, 25)):\n",
    "    # fit model and predict\n",
    "    rf = RandomForestRegressor(n_estimators=n_estimators, random_state=SEED)\n",
    "    rf.fit(X_train, y_train)\n",
    "    y_pred = rf.predict(X_test)\n",
    "    # calculate rmse scores\n",
    "    rmse_rf_train = MSE(y_train,  rf.predict(X_train))**0.5\n",
    "    rmse_rf_test = MSE(y_test, y_pred)**0.5\n",
    "    # save results\n",
    "    param.append(n_estimators)\n",
    "    train_err.append(rmse_rf_train)\n",
    "    test_err.append(rmse_rf_test)\n",
    "    print(f'{col}={n_estimators}, RMSE (test)={rmse_rf_test}')\n",
    "results_rf[col] = pd.DataFrame({col: param, 'RMSE_train': train_err, 'RMSE_test': test_err})"
   ]
  },
  {
   "cell_type": "code",
   "execution_count": 45,
   "metadata": {},
   "outputs": [
    {
     "data": {
      "image/png": "[encoded data removed]",
      "text/plain": [
       "<Figure size 720x288 with 2 Axes>"
      ]
     },
     "metadata": {
      "needs_background": "light"
     },
     "output_type": "display_data"
    }
   ],
   "source": [
    "fig, axes = plt.subplots(nrows=1, ncols=2, figsize=(10, 4))\n",
    "sns.lineplot(data=results_rf[col].set_index(col)['RMSE_train'], ax=axes[0], color='b')\n",
    "sns.lineplot(data=results_rf[col].set_index(col)['RMSE_test'], ax=axes[1], color='r')\n",
    "plt.suptitle(f'RandomForest - {col}')\n",
    "fig.tight_layout()"
   ]
  },
  {
   "cell_type": "markdown",
   "metadata": {
    "datalore": {
     "hide_input_from_viewers": false,
     "hide_output_from_viewers": false,
     "type": "CODE"
    }
   },
   "source": [
    "### max_depth"
   ]
  },
  {
   "cell_type": "code",
   "execution_count": 46,
   "metadata": {
    "datalore": {
     "hide_input_from_viewers": false,
     "hide_output_from_viewers": false,
     "type": "CODE"
    }
   },
   "outputs": [
    {
     "name": "stdout",
     "output_type": "stream",
     "text": [
      "max_depth=1, RMSE (test)=0.28066534376014407\n",
      "max_depth=2, RMSE (test)=0.21269393250694726\n",
      "max_depth=3, RMSE (test)=0.178130857228993\n",
      "max_depth=4, RMSE (test)=0.1596798034430463\n",
      "max_depth=5, RMSE (test)=0.14774846459264554\n",
      "max_depth=6, RMSE (test)=0.14079587324590587\n",
      "max_depth=7, RMSE (test)=0.13699411145135543\n",
      "max_depth=8, RMSE (test)=0.13540736280517637\n",
      "max_depth=9, RMSE (test)=0.1337118756999142\n",
      "max_depth=10, RMSE (test)=0.13248946149022842\n",
      "max_depth=11, RMSE (test)=0.13311242144095836\n",
      "max_depth=12, RMSE (test)=0.13297081186183507\n",
      "max_depth=13, RMSE (test)=0.132443981356621\n",
      "max_depth=14, RMSE (test)=0.13269484322454927\n",
      "max_depth=15, RMSE (test)=0.13283875783165305\n"
     ]
    }
   ],
   "source": [
    "col = 'max_depth'\n",
    "param, train_err, test_err = [], [], []\n",
    "for max_depth in list(range(1, 16)):\n",
    "    # fit model and predict\n",
    "    rf = RandomForestRegressor(max_depth=max_depth, random_state=SEED)\n",
    "    rf.fit(X_train, y_train)\n",
    "    y_pred = rf.predict(X_test)\n",
    "    # calculate rmse scores\n",
    "    rmse_rf_train = MSE(y_train,  rf.predict(X_train))**0.5\n",
    "    rmse_rf_test = MSE(y_test, y_pred)**0.5\n",
    "    # save results\n",
    "    param.append(max_depth)\n",
    "    train_err.append(rmse_rf_train)\n",
    "    test_err.append(rmse_rf_test)\n",
    "    print(f'{col}={max_depth}, RMSE (test)={rmse_rf_test}')\n",
    "results_rf[col] = pd.DataFrame({col: param, 'RMSE_train': train_err, 'RMSE_test': test_err})"
   ]
  },
  {
   "cell_type": "code",
   "execution_count": 47,
   "metadata": {},
   "outputs": [
    {
     "data": {
      "image/png": "[encoded data removed]",
      "text/plain": [
       "<Figure size 432x288 with 1 Axes>"
      ]
     },
     "metadata": {
      "needs_background": "light"
     },
     "output_type": "display_data"
    }
   ],
   "source": [
    "sns.lineplot(data=results_rf[col].set_index(col))\n",
    "plt.suptitle(f'RandomForest - {col}')\n",
    "fig.tight_layout()"
   ]
  },
  {
   "cell_type": "markdown",
   "metadata": {},
   "source": [
    "### min_samples_split"
   ]
  },
  {
   "cell_type": "code",
   "execution_count": 48,
   "metadata": {},
   "outputs": [
    {
     "name": "stdout",
     "output_type": "stream",
     "text": [
      "min_samples_split=2, RMSE (test)=0.1327087378494688\n",
      "min_samples_split=3, RMSE (test)=0.13226002422429395\n",
      "min_samples_split=4, RMSE (test)=0.13198306376918348\n",
      "min_samples_split=5, RMSE (test)=0.1330744068235823\n",
      "min_samples_split=6, RMSE (test)=0.13257591536405333\n",
      "min_samples_split=7, RMSE (test)=0.13204308840708856\n",
      "min_samples_split=8, RMSE (test)=0.13300933591021633\n",
      "min_samples_split=9, RMSE (test)=0.13321155914218002\n",
      "min_samples_split=10, RMSE (test)=0.13340890308340475\n"
     ]
    }
   ],
   "source": [
    "col = 'min_samples_split'\n",
    "param, train_err, test_err = [], [], []\n",
    "for min_samples_split in np.arange(2, 11):\n",
    "    # fit model and predict\n",
    "    rf = RandomForestRegressor(min_samples_split=min_samples_split, random_state=SEED)\n",
    "    rf.fit(X_train, y_train)\n",
    "    y_pred = rf.predict(X_test)\n",
    "    # calculate rmse scores\n",
    "    rmse_rf_train = MSE(y_train,  rf.predict(X_train))**0.5\n",
    "    rmse_rf_test = MSE(y_test, y_pred)**0.5\n",
    "    # save results\n",
    "    param.append(min_samples_split)\n",
    "    train_err.append(rmse_rf_train)\n",
    "    test_err.append(rmse_rf_test)\n",
    "    print(f'{col}={min_samples_split}, RMSE (test)={rmse_rf_test}')\n",
    "results_rf[col] = pd.DataFrame({col: param, 'RMSE_train': train_err, 'RMSE_test': test_err})"
   ]
  },
  {
   "cell_type": "code",
   "execution_count": 49,
   "metadata": {},
   "outputs": [
    {
     "data": {
      "image/png": "[encoded data removed]",
      "text/plain": [
       "<Figure size 720x288 with 2 Axes>"
      ]
     },
     "metadata": {
      "needs_background": "light"
     },
     "output_type": "display_data"
    }
   ],
   "source": [
    "fig, axes = plt.subplots(nrows=1, ncols=2, figsize=(10, 4))\n",
    "sns.lineplot(data=results_rf[col].set_index(col)['RMSE_train'], ax=axes[0], color='b')\n",
    "sns.lineplot(data=results_rf[col].set_index(col)['RMSE_test'], ax=axes[1], color='r')\n",
    "plt.suptitle(f'RandomForest - {col}')\n",
    "fig.tight_layout()"
   ]
  },
  {
   "cell_type": "markdown",
   "metadata": {},
   "source": [
    "### min_samples_leaf"
   ]
  },
  {
   "cell_type": "code",
   "execution_count": 50,
   "metadata": {},
   "outputs": [
    {
     "name": "stdout",
     "output_type": "stream",
     "text": [
      "min_samples_leaf=2, RMSE (test)=0.1327087378494688\n",
      "min_samples_leaf=3, RMSE (test)=0.13226002422429395\n",
      "min_samples_leaf=4, RMSE (test)=0.13198306376918348\n",
      "min_samples_leaf=5, RMSE (test)=0.1330744068235823\n",
      "min_samples_leaf=6, RMSE (test)=0.13257591536405333\n",
      "min_samples_leaf=7, RMSE (test)=0.13204308840708856\n",
      "min_samples_leaf=8, RMSE (test)=0.13300933591021633\n",
      "min_samples_leaf=9, RMSE (test)=0.13321155914218002\n",
      "min_samples_leaf=10, RMSE (test)=0.13340890308340475\n"
     ]
    }
   ],
   "source": [
    "col = 'min_samples_leaf'\n",
    "param, train_err, test_err = [], [], []\n",
    "for min_samples_split in np.arange(2, 11):\n",
    "    # fit model and predict\n",
    "    rf = RandomForestRegressor(min_samples_split=min_samples_split, random_state=SEED)\n",
    "    rf.fit(X_train, y_train)\n",
    "    y_pred = rf.predict(X_test)\n",
    "    # calculate rmse scores\n",
    "    rmse_rf_train = MSE(y_train,  rf.predict(X_train))**0.5\n",
    "    rmse_rf_test = MSE(y_test, y_pred)**0.5\n",
    "    # save results\n",
    "    param.append(min_samples_split)\n",
    "    train_err.append(rmse_rf_train)\n",
    "    test_err.append(rmse_rf_test)\n",
    "    print(f'{col}={min_samples_split}, RMSE (test)={rmse_rf_test}')\n",
    "results_rf[col] = pd.DataFrame({col: param, 'RMSE_train': train_err, 'RMSE_test': test_err})"
   ]
  },
  {
   "cell_type": "code",
   "execution_count": 51,
   "metadata": {},
   "outputs": [
    {
     "data": {
      "image/png": "[encoded data removed]",
      "text/plain": [
       "<Figure size 432x288 with 1 Axes>"
      ]
     },
     "metadata": {
      "needs_background": "light"
     },
     "output_type": "display_data"
    }
   ],
   "source": [
    "sns.lineplot(data=results_rf[col].set_index(col))\n",
    "plt.suptitle(f'RandomForest - {col}')\n",
    "fig.tight_layout()"
   ]
  },
  {
   "cell_type": "markdown",
   "metadata": {},
   "source": [
    "### GridSearchCV"
   ]
  },
  {
   "cell_type": "code",
   "execution_count": 52,
   "metadata": {},
   "outputs": [
    {
     "name": "stdout",
     "output_type": "stream",
     "text": [
      "Fitting 5 folds for each of 120 candidates, totalling 600 fits\n",
      "Runtime for rndforest: 1122.8 seconds.\n",
      "Best regressor:RandomForestRegressor(max_depth=15, min_samples_leaf=3, min_samples_split=3,\n",
      "                      n_estimators=500, random_state=42)\n",
      "Best parameters:\n",
      "{'max_depth': 15, 'min_samples_leaf': 3, 'min_samples_split': 3, 'n_estimators': 500}\n"
     ]
    }
   ],
   "source": [
    "regressor_name = 'rndforest'\n",
    "runtime_start = time()\n",
    "\n",
    "# hyperparameter grid for the regressor\n",
    "#param_distributions = {'n_estimators': np.arange(50, 1501, 50),\n",
    "#                       'max_depth': range(1, 16),\n",
    "#                       'min_samples_split': np.arange(2, 11),\n",
    "#                       'min_samples_leaf': np.arange(2, 11)}\n",
    "param_distributions = {'n_estimators': [50, 150, 250, 500, 1000, 1200],\n",
    "                       'max_depth': [1, 2, 5, 10, 15],\n",
    "                       'min_samples_split': [3, 5],\n",
    "                       'min_samples_leaf': [3, 5]}\n",
    "\n",
    "# setup for the search\n",
    "#param_search = {'estimator': RandomForestRegressor(random_state=SEED),\n",
    "#                'param_distributions': param_distributions,\n",
    "#                'scoring': 'neg_mean_squared_error',\n",
    "#                'cv': 5,\n",
    "#                'n_iter': 50,\n",
    "#                'n_jobs': -1,\n",
    "#                'verbose': 2,\n",
    "#                'random_state': SEED}\n",
    "param_search = {'estimator': RandomForestRegressor(random_state=SEED),\n",
    "                'param_grid': param_distributions,\n",
    "                'scoring': 'neg_mean_squared_error',\n",
    "                'cv': 5,\n",
    "                'n_jobs': -1,\n",
    "                'verbose': 2}\n",
    "\n",
    "# model selection\n",
    "search = GridSearchCV(**param_search)\n",
    "search.fit(X_train, y_train)\n",
    "\n",
    "# print results\n",
    "runtime = time() - runtime_start\n",
    "print(f'Runtime for {regressor_name}: {runtime:.1f} seconds.')\n",
    "print(f'Best regressor:{search.best_estimator_}')\n",
    "print(f'Best parameters:\\n{search.best_params_}')"
   ]
  },
  {
   "cell_type": "code",
   "execution_count": 53,
   "metadata": {},
   "outputs": [],
   "source": [
    "# fit the best model\n",
    "rf_best = search.best_estimator_\n",
    "rf_best.fit(X_train, y_train)\n",
    "y_pred = rf_best.predict(X_test)\n",
    "# calculate rmse scores\n",
    "rmse_rf_train = MSE(y_train,  rf_best.predict(X_train))**0.5\n",
    "rmse_rf_test = MSE(y_test, y_pred)**0.5"
   ]
  },
  {
   "cell_type": "code",
   "execution_count": 54,
   "metadata": {},
   "outputs": [
    {
     "name": "stdout",
     "output_type": "stream",
     "text": [
      "0.1341673062132548\n"
     ]
    },
    {
     "data": {
      "text/plain": [
       "<AxesSubplot:ylabel='Count'>"
      ]
     },
     "execution_count": 54,
     "metadata": {},
     "output_type": "execute_result"
    },
    {
     "data": {
      "image/png": "[encoded data removed]",
      "text/plain": [
       "<Figure size 432x288 with 1 Axes>"
      ]
     },
     "metadata": {
      "needs_background": "light"
     },
     "output_type": "display_data"
    }
   ],
   "source": [
    "print(rmse_rf_test)\n",
    "df_rf_best = pd.DataFrame({'pred': np.expm1(y_pred), 'test': np.expm1(y_test)})\n",
    "sns.histplot(df_rf_best, alpha=0.3, bins=35)"
   ]
  },
  {
   "cell_type": "markdown",
   "metadata": {},
   "source": [
    "## XGBoost"
   ]
  },
  {
   "cell_type": "code",
   "execution_count": 55,
   "metadata": {},
   "outputs": [],
   "source": [
    "results_xgb = {}"
   ]
  },
  {
   "cell_type": "code",
   "execution_count": 56,
   "metadata": {},
   "outputs": [
    {
     "data": {
      "text/plain": [
       "0.1327087378494688"
      ]
     },
     "execution_count": 56,
     "metadata": {},
     "output_type": "execute_result"
    }
   ],
   "source": [
    "# baseline model\n",
    "# fit the best model\n",
    "xgb_baseline = XGBRegressor(random_state=SEED)\n",
    "xgb_baseline.fit(X_train, y_train)\n",
    "y_pred = xgb_baseline.predict(X_test)\n",
    "# calculate rmse scores\n",
    "rmse_xgb_train = MSE(y_train,  xgb_baseline.predict(X_train))**0.5\n",
    "rmse_xgb_test = MSE(y_test, y_pred)**0.5\n",
    "rmse_xgb_test"
   ]
  },
  {
   "cell_type": "code",
   "execution_count": 57,
   "metadata": {},
   "outputs": [
    {
     "data": {
      "text/plain": [
       "XGBRegressor(base_score=0.5, booster='gbtree', colsample_bylevel=1,\n",
       "             colsample_bynode=1, colsample_bytree=1, enable_categorical=False,\n",
       "             gamma=0, gpu_id=-1, importance_type=None,\n",
       "             interaction_constraints='', learning_rate=0.300000012,\n",
       "             max_delta_step=0, max_depth=6, min_child_weight=1, missing=nan,\n",
       "             monotone_constraints='()', n_estimators=100, n_jobs=8,\n",
       "             num_parallel_tree=1, predictor='auto', random_state=42,\n",
       "             reg_alpha=0, reg_lambda=1, scale_pos_weight=1, subsample=1,\n",
       "             tree_method='exact', validate_parameters=1, verbosity=None)"
      ]
     },
     "execution_count": 57,
     "metadata": {},
     "output_type": "execute_result"
    }
   ],
   "source": [
    "xgb_baseline"
   ]
  },
  {
   "cell_type": "markdown",
   "metadata": {},
   "source": [
    "### n_estimators"
   ]
  },
  {
   "cell_type": "code",
   "execution_count": 58,
   "metadata": {
    "code_folding": []
   },
   "outputs": [
    {
     "name": "stdout",
     "output_type": "stream",
     "text": [
      "n_estimators=25, RMSE (test)=0.14603113941383003\n",
      "n_estimators=50, RMSE (test)=0.14618600533076384\n",
      "n_estimators=75, RMSE (test)=0.14679448515613847\n",
      "n_estimators=100, RMSE (test)=0.14693299386807707\n",
      "n_estimators=125, RMSE (test)=0.1471237351440457\n",
      "n_estimators=150, RMSE (test)=0.14711895032750769\n",
      "n_estimators=175, RMSE (test)=0.147115968098942\n",
      "n_estimators=200, RMSE (test)=0.14712346908100685\n",
      "n_estimators=225, RMSE (test)=0.14712346908100685\n",
      "n_estimators=250, RMSE (test)=0.14712346908100685\n",
      "n_estimators=275, RMSE (test)=0.14712346908100685\n",
      "n_estimators=300, RMSE (test)=0.14712346908100685\n",
      "n_estimators=325, RMSE (test)=0.14712346908100685\n",
      "n_estimators=350, RMSE (test)=0.14712346908100685\n",
      "n_estimators=375, RMSE (test)=0.14712346908100685\n",
      "n_estimators=400, RMSE (test)=0.14712346908100685\n"
     ]
    }
   ],
   "source": [
    "col = 'n_estimators'\n",
    "param, train_err, test_err = [], [], []\n",
    "for n_estimators in list(range(25, 401, 25)):\n",
    "    # fit model and predict\n",
    "    rf = XGBRegressor(n_estimators=n_estimators, random_state=SEED)\n",
    "    rf.fit(X_train, y_train)\n",
    "    y_pred = rf.predict(X_test)\n",
    "    # calculate rmse scores\n",
    "    rmse_rf_train = MSE(y_train,  rf.predict(X_train))**0.5\n",
    "    rmse_rf_test = MSE(y_test, y_pred)**0.5\n",
    "    # save results\n",
    "    param.append(n_estimators)\n",
    "    train_err.append(rmse_rf_train)\n",
    "    test_err.append(rmse_rf_test)\n",
    "    print(f'{col}={n_estimators}, RMSE (test)={rmse_rf_test}')\n",
    "results_xgb[col] = pd.DataFrame({col: param, 'RMSE_train': train_err, 'RMSE_test': test_err})"
   ]
  },
  {
   "cell_type": "code",
   "execution_count": 59,
   "metadata": {},
   "outputs": [
    {
     "data": {
      "image/png": "[encoded data removed]",
      "text/plain": [
       "<Figure size 720x288 with 2 Axes>"
      ]
     },
     "metadata": {
      "needs_background": "light"
     },
     "output_type": "display_data"
    }
   ],
   "source": [
    "fig, axes = plt.subplots(nrows=1, ncols=2, figsize=(10, 4))\n",
    "sns.lineplot(data=results_xgb[col].set_index(col)['RMSE_train'], ax=axes[0], color='b')\n",
    "sns.lineplot(data=results_xgb[col].set_index(col)['RMSE_test'], ax=axes[1], color='r')\n",
    "plt.suptitle(f'XGBoost - {col}')\n",
    "fig.tight_layout()"
   ]
  },
  {
   "cell_type": "markdown",
   "metadata": {},
   "source": [
    "### max_depth"
   ]
  },
  {
   "cell_type": "code",
   "execution_count": 60,
   "metadata": {},
   "outputs": [
    {
     "name": "stdout",
     "output_type": "stream",
     "text": [
      "max_depth=1, RMSE (test)=0.13996937842935425\n",
      "max_depth=2, RMSE (test)=0.13417997416884295\n",
      "max_depth=3, RMSE (test)=0.14241696509959326\n",
      "max_depth=4, RMSE (test)=0.14540957098679846\n",
      "max_depth=5, RMSE (test)=0.15113429156714953\n",
      "max_depth=6, RMSE (test)=0.14693299386807707\n",
      "max_depth=7, RMSE (test)=0.14864939387793247\n",
      "max_depth=8, RMSE (test)=0.14959883308451413\n",
      "max_depth=9, RMSE (test)=0.1533513002593516\n",
      "max_depth=10, RMSE (test)=0.15008572413030544\n",
      "max_depth=11, RMSE (test)=0.15391973382869858\n",
      "max_depth=12, RMSE (test)=0.15418391236063927\n",
      "max_depth=13, RMSE (test)=0.15625690896834918\n",
      "max_depth=14, RMSE (test)=0.15362788344495337\n",
      "max_depth=15, RMSE (test)=0.15227624860135988\n"
     ]
    }
   ],
   "source": [
    "col = 'max_depth'\n",
    "param, train_err, test_err = [], [], []\n",
    "for max_depth in list(range(1, 16)):\n",
    "    # fit model and predict\n",
    "    rf = XGBRegressor(max_depth=max_depth, random_state=SEED)\n",
    "    rf.fit(X_train, y_train)\n",
    "    y_pred = rf.predict(X_test)\n",
    "    # calculate rmse scores\n",
    "    rmse_rf_train = MSE(y_train,  rf.predict(X_train))**0.5\n",
    "    rmse_rf_test = MSE(y_test, y_pred)**0.5\n",
    "    # save results\n",
    "    param.append(max_depth)\n",
    "    train_err.append(rmse_rf_train)\n",
    "    test_err.append(rmse_rf_test)\n",
    "    print(f'{col}={max_depth}, RMSE (test)={rmse_rf_test}')\n",
    "results_xgb[col] = pd.DataFrame({col: param, 'RMSE_train': train_err, 'RMSE_test': test_err})"
   ]
  },
  {
   "cell_type": "code",
   "execution_count": 61,
   "metadata": {},
   "outputs": [
    {
     "data": {
      "image/png": "[encoded data removed]",
      "text/plain": [
       "<Figure size 720x288 with 2 Axes>"
      ]
     },
     "metadata": {
      "needs_background": "light"
     },
     "output_type": "display_data"
    }
   ],
   "source": [
    "fig, axes = plt.subplots(nrows=1, ncols=2, figsize=(10, 4))\n",
    "sns.lineplot(data=results_xgb[col].set_index(col)['RMSE_train'], ax=axes[0], color='b')\n",
    "sns.lineplot(data=results_xgb[col].set_index(col)['RMSE_test'], ax=axes[1], color='r')\n",
    "plt.suptitle(f'XGBoost - {col}')\n",
    "fig.tight_layout()"
   ]
  },
  {
   "cell_type": "markdown",
   "metadata": {},
   "source": [
    "### learning_rate (eta)"
   ]
  },
  {
   "cell_type": "code",
   "execution_count": 62,
   "metadata": {},
   "outputs": [
    {
     "name": "stdout",
     "output_type": "stream",
     "text": [
      "learning_rate=0.001, RMSE (test)=10.424278739359753\n",
      "learning_rate=0.01, RMSE (test)=4.234598775659126\n",
      "learning_rate=0.05, RMSE (test)=0.1552904082076895\n",
      "learning_rate=0.1, RMSE (test)=0.1307110463737994\n",
      "learning_rate=0.2, RMSE (test)=0.1373595883500123\n",
      "learning_rate=0.3, RMSE (test)=0.14693299386807707\n",
      "learning_rate=0.4, RMSE (test)=0.14564137636578095\n",
      "learning_rate=0.5, RMSE (test)=0.15924857819130334\n"
     ]
    }
   ],
   "source": [
    "col = 'learning_rate'\n",
    "param, train_err, test_err = [], [], []\n",
    "for learning_rate in [0.001, 0.01, 0.05, 0.1, 0.2, 0.3, 0.4, 0.5]:\n",
    "    # fit model and predict\n",
    "    rf = XGBRegressor(learning_rate=learning_rate, random_state=SEED)\n",
    "    rf.fit(X_train, y_train)\n",
    "    y_pred = rf.predict(X_test)\n",
    "    # calculate rmse scores\n",
    "    rmse_rf_train = MSE(y_train,  rf.predict(X_train))**0.5\n",
    "    rmse_rf_test = MSE(y_test, y_pred)**0.5\n",
    "    # save results\n",
    "    param.append(learning_rate)\n",
    "    train_err.append(rmse_rf_train)\n",
    "    test_err.append(rmse_rf_test)\n",
    "    print(f'{col}={learning_rate}, RMSE (test)={rmse_rf_test}')\n",
    "results_xgb[col] = pd.DataFrame({col: param, 'RMSE_train': train_err, 'RMSE_test': test_err})"
   ]
  },
  {
   "cell_type": "code",
   "execution_count": 63,
   "metadata": {},
   "outputs": [
    {
     "data": {
      "image/png": "[encoded data removed]",
      "text/plain": [
       "<Figure size 432x288 with 1 Axes>"
      ]
     },
     "metadata": {
      "needs_background": "light"
     },
     "output_type": "display_data"
    }
   ],
   "source": [
    "sns.lineplot(data=results_xgb[col].set_index(col))\n",
    "plt.suptitle(f'XGBoost - {col}')\n",
    "fig.tight_layout()"
   ]
  },
  {
   "cell_type": "markdown",
   "metadata": {},
   "source": [
    "### gamma"
   ]
  },
  {
   "cell_type": "code",
   "execution_count": 64,
   "metadata": {},
   "outputs": [
    {
     "name": "stdout",
     "output_type": "stream",
     "text": [
      "gamma=0.001, RMSE (test)=0.14581241992577726\n",
      "gamma=0.01, RMSE (test)=0.14451695103098858\n",
      "gamma=0.05, RMSE (test)=0.14522152760504095\n",
      "gamma=0.1, RMSE (test)=0.14709066383688296\n",
      "gamma=0.2, RMSE (test)=0.14876774643886934\n",
      "gamma=0.3, RMSE (test)=0.14927408412992502\n",
      "gamma=0.4, RMSE (test)=0.15171093436681365\n",
      "gamma=0.5, RMSE (test)=0.15543297790640795\n"
     ]
    }
   ],
   "source": [
    "col = 'gamma'\n",
    "param, train_err, test_err = [], [], []\n",
    "for gamma in [0.001, 0.01, 0.05, 0.1, 0.2, 0.3, 0.4, 0.5]:\n",
    "    # fit model and predict\n",
    "    rf = XGBRegressor(gamma=gamma, random_state=SEED)\n",
    "    rf.fit(X_train, y_train)\n",
    "    y_pred = rf.predict(X_test)\n",
    "    # calculate rmse scores\n",
    "    rmse_rf_train = MSE(y_train,  rf.predict(X_train))**0.5\n",
    "    rmse_rf_test = MSE(y_test, y_pred)**0.5\n",
    "    # save results\n",
    "    param.append(gamma)\n",
    "    train_err.append(rmse_rf_train)\n",
    "    test_err.append(rmse_rf_test)\n",
    "    print(f'{col}={gamma}, RMSE (test)={rmse_rf_test}')\n",
    "results_xgb[col] = pd.DataFrame({col: param, 'RMSE_train': train_err, 'RMSE_test': test_err})"
   ]
  },
  {
   "cell_type": "code",
   "execution_count": 65,
   "metadata": {},
   "outputs": [
    {
     "data": {
      "image/png": "[encoded data removed]",
      "text/plain": [
       "<Figure size 432x288 with 1 Axes>"
      ]
     },
     "metadata": {
      "needs_background": "light"
     },
     "output_type": "display_data"
    }
   ],
   "source": [
    "sns.lineplot(data=results_xgb[col].set_index(col))\n",
    "plt.suptitle(f'XGBoost - {col}')\n",
    "fig.tight_layout()"
   ]
  },
  {
   "cell_type": "markdown",
   "metadata": {},
   "source": [
    "### GridSearchCV"
   ]
  },
  {
   "cell_type": "code",
   "execution_count": 66,
   "metadata": {},
   "outputs": [
    {
     "name": "stdout",
     "output_type": "stream",
     "text": [
      "Fitting 5 folds for each of 270 candidates, totalling 1350 fits\n",
      "Runtime for xgboost: 3146.8 seconds.\n",
      "Best regressor:XGBRegressor(base_score=0.5, booster='gbtree', colsample_bylevel=1,\n",
      "             colsample_bynode=1, colsample_bytree=1, enable_categorical=False,\n",
      "             gamma=0.01, gpu_id=-1, importance_type=None,\n",
      "             interaction_constraints='', learning_rate=0.05, max_delta_step=0,\n",
      "             max_depth=2, min_child_weight=1, missing=nan,\n",
      "             monotone_constraints='()', n_estimators=1000, n_jobs=8,\n",
      "             num_parallel_tree=1, predictor='auto', random_state=42,\n",
      "             reg_alpha=0, reg_lambda=1, scale_pos_weight=1, subsample=1,\n",
      "             tree_method='exact', validate_parameters=1, verbosity=None)\n",
      "Best parameters:\n",
      "{'gamma': 0.01, 'learning_rate': 0.05, 'max_depth': 2, 'n_estimators': 1000}\n"
     ]
    }
   ],
   "source": [
    "regressor_name = 'xgboost'\n",
    "runtime_start = time()\n",
    "\n",
    "# hyperparameter grid for the regressor\n",
    "param_distributions = {'n_estimators': [50, 150, 250, 500, 1000, 1200],\n",
    "                       'max_depth': [1, 2, 5, 10, 15],\n",
    "                       'learning_rate': [0.001, 0.01, 0.05],\n",
    "                       'gamma': [0.001, 0.01, 0.05]}\n",
    "\n",
    "# setup for the search\n",
    "param_search = {'estimator': XGBRegressor(random_state=SEED),\n",
    "                'param_grid': param_distributions,\n",
    "                'scoring': 'neg_mean_squared_error',\n",
    "                'cv': 5,\n",
    "                'n_jobs': -1,\n",
    "                'verbose': 2}\n",
    "\n",
    "# model selection\n",
    "search = GridSearchCV(**param_search)\n",
    "search.fit(X_train, y_train)\n",
    "\n",
    "# print results\n",
    "runtime = time() - runtime_start\n",
    "print(f'Runtime for {regressor_name}: {runtime:.1f} seconds.')\n",
    "print(f'Best regressor:{search.best_estimator_}')\n",
    "print(f'Best parameters:\\n{search.best_params_}')"
   ]
  },
  {
   "cell_type": "code",
   "execution_count": 67,
   "metadata": {},
   "outputs": [],
   "source": [
    "# fit the best model\n",
    "xgb_best = search.best_estimator_\n",
    "xgb_best.fit(X_train, y_train)\n",
    "y_pred = xgb_best.predict(X_test)\n",
    "# calculate rmse scores\n",
    "rmse_xgb_train = MSE(y_train,  xgb_best.predict(X_train))**0.5\n",
    "rmse_xgb_test = MSE(y_test, y_pred)**0.5"
   ]
  },
  {
   "cell_type": "code",
   "execution_count": 68,
   "metadata": {},
   "outputs": [
    {
     "name": "stdout",
     "output_type": "stream",
     "text": [
      "0.1269681255856017\n"
     ]
    },
    {
     "data": {
      "text/plain": [
       "<AxesSubplot:ylabel='Count'>"
      ]
     },
     "execution_count": 68,
     "metadata": {},
     "output_type": "execute_result"
    },
    {
     "data": {
      "image/png": "[encoded data removed]",
      "text/plain": [
       "<Figure size 432x288 with 1 Axes>"
      ]
     },
     "metadata": {
      "needs_background": "light"
     },
     "output_type": "display_data"
    }
   ],
   "source": [
    "print(rmse_xgb_test)\n",
    "df_xgb_best = pd.DataFrame({'pred': np.expm1(y_pred), 'test': np.expm1(y_test)})\n",
    "sns.histplot(df_xgb_best, alpha=0.3, bins=35)"
   ]
  },
  {
   "cell_type": "markdown",
   "metadata": {},
   "source": [
    "## Stacked model"
   ]
  },
  {
   "cell_type": "code",
   "execution_count": 69,
   "metadata": {},
   "outputs": [],
   "source": [
    "results_stacked = {}"
   ]
  },
  {
   "cell_type": "code",
   "execution_count": 70,
   "metadata": {},
   "outputs": [
    {
     "name": "stdout",
     "output_type": "stream",
     "text": [
      "alpha=0.1, RMSE (test)=0.12572626138435947\n",
      "alpha=0.2, RMSE (test)=0.12491913999144909\n",
      "alpha=0.30000000000000004, RMSE (test)=0.12455526202498024\n",
      "alpha=0.4, RMSE (test)=0.12463842526074355\n",
      "alpha=0.5, RMSE (test)=0.12516778476894025\n",
      "alpha=0.6, RMSE (test)=0.12613772566910184\n",
      "alpha=0.7000000000000001, RMSE (test)=0.12753820305431682\n",
      "alpha=0.8, RMSE (test)=0.12935520943085457\n",
      "alpha=0.9, RMSE (test)=0.13157150792154423\n",
      "alpha=1.0, RMSE (test)=0.1341673062132548\n"
     ]
    }
   ],
   "source": [
    "col = 'alpha'\n",
    "param, train_err, test_err = [], [], []\n",
    "for alpha in np.linspace(0.1, 1, 10):\n",
    "    y_pred_train = alpha * rf_best.predict(X_train) + (1-alpha) * xgb_best.predict(X_train)\n",
    "    y_pred = alpha * rf_best.predict(X_test) + (1-alpha) * xgb_best.predict(X_test)\n",
    "    # calculate rmse scores\n",
    "    rmse_stack_train = MSE(y_train,  y_pred_train)**0.5\n",
    "    rmse_stack_test = MSE(y_test, y_pred)**0.5\n",
    "    # save results\n",
    "    param.append(alpha)\n",
    "    train_err.append(rmse_stack_train)\n",
    "    test_err.append(rmse_stack_test)\n",
    "    print(f'{col}={alpha}, RMSE (test)={rmse_stack_test}')\n",
    "results_stacked[col] = pd.DataFrame({col: param, 'RMSE_train': train_err, 'RMSE_test': test_err})"
   ]
  },
  {
   "cell_type": "code",
   "execution_count": 71,
   "metadata": {},
   "outputs": [
    {
     "data": {
      "image/png": "[encoded data removed]",
      "text/plain": [
       "<Figure size 720x288 with 2 Axes>"
      ]
     },
     "metadata": {
      "needs_background": "light"
     },
     "output_type": "display_data"
    }
   ],
   "source": [
    "fig, axes = plt.subplots(nrows=1, ncols=2, figsize=(10, 4))\n",
    "sns.lineplot(data=results_stacked[col].set_index(col)['RMSE_train'], ax=axes[0], color='b')\n",
    "sns.lineplot(data=results_stacked[col].set_index(col)['RMSE_test'], ax=axes[1], color='r')\n",
    "plt.suptitle(f'Stacked rf and xgb - {col}')\n",
    "fig.tight_layout()"
   ]
  },
  {
   "cell_type": "code",
   "execution_count": 72,
   "metadata": {},
   "outputs": [],
   "source": [
    "alpha = 0.3"
   ]
  },
  {
   "cell_type": "markdown",
   "metadata": {},
   "source": [
    "# Submissions"
   ]
  },
  {
   "cell_type": "code",
   "execution_count": 73,
   "metadata": {
    "datalore": {
     "hide_input_from_viewers": false,
     "hide_output_from_viewers": false,
     "type": "CODE"
    }
   },
   "outputs": [],
   "source": [
    "def create_submission(model):\n",
    "    return pd.DataFrame({'Id': test.index.values, 'SalePrice': np.expm1(model.predict(test))})"
   ]
  },
  {
   "cell_type": "code",
   "execution_count": 74,
   "metadata": {
    "datalore": {
     "hide_input_from_viewers": false,
     "hide_output_from_viewers": false,
     "type": "CODE"
    }
   },
   "outputs": [
    {
     "data": {
      "text/html": [
       "<div>\n",
       "<style scoped>\n",
       "    .dataframe tbody tr th:only-of-type {\n",
       "        vertical-align: middle;\n",
       "    }\n",
       "\n",
       "    .dataframe tbody tr th {\n",
       "        vertical-align: top;\n",
       "    }\n",
       "\n",
       "    .dataframe thead th {\n",
       "        text-align: right;\n",
       "    }\n",
       "</style>\n",
       "<table border=\"1\" class=\"dataframe\">\n",
       "  <thead>\n",
       "    <tr style=\"text-align: right;\">\n",
       "      <th></th>\n",
       "      <th>Id</th>\n",
       "      <th>SalePrice</th>\n",
       "    </tr>\n",
       "  </thead>\n",
       "  <tbody>\n",
       "    <tr>\n",
       "      <th>0</th>\n",
       "      <td>1461</td>\n",
       "      <td>124584.947112</td>\n",
       "    </tr>\n",
       "    <tr>\n",
       "      <th>1</th>\n",
       "      <td>1462</td>\n",
       "      <td>154012.921159</td>\n",
       "    </tr>\n",
       "    <tr>\n",
       "      <th>2</th>\n",
       "      <td>1463</td>\n",
       "      <td>171243.712816</td>\n",
       "    </tr>\n",
       "    <tr>\n",
       "      <th>3</th>\n",
       "      <td>1464</td>\n",
       "      <td>184410.183317</td>\n",
       "    </tr>\n",
       "    <tr>\n",
       "      <th>4</th>\n",
       "      <td>1465</td>\n",
       "      <td>202109.494399</td>\n",
       "    </tr>\n",
       "    <tr>\n",
       "      <th>...</th>\n",
       "      <td>...</td>\n",
       "      <td>...</td>\n",
       "    </tr>\n",
       "    <tr>\n",
       "      <th>1454</th>\n",
       "      <td>2915</td>\n",
       "      <td>93322.336203</td>\n",
       "    </tr>\n",
       "    <tr>\n",
       "      <th>1455</th>\n",
       "      <td>2916</td>\n",
       "      <td>90890.528274</td>\n",
       "    </tr>\n",
       "    <tr>\n",
       "      <th>1456</th>\n",
       "      <td>2917</td>\n",
       "      <td>160334.934637</td>\n",
       "    </tr>\n",
       "    <tr>\n",
       "      <th>1457</th>\n",
       "      <td>2918</td>\n",
       "      <td>116077.649351</td>\n",
       "    </tr>\n",
       "    <tr>\n",
       "      <th>1458</th>\n",
       "      <td>2919</td>\n",
       "      <td>217226.931012</td>\n",
       "    </tr>\n",
       "  </tbody>\n",
       "</table>\n",
       "<p>1459 rows × 2 columns</p>\n",
       "</div>"
      ],
      "text/plain": [
       "        Id      SalePrice\n",
       "0     1461  124584.947112\n",
       "1     1462  154012.921159\n",
       "2     1463  171243.712816\n",
       "3     1464  184410.183317\n",
       "4     1465  202109.494399\n",
       "...    ...            ...\n",
       "1454  2915   93322.336203\n",
       "1455  2916   90890.528274\n",
       "1456  2917  160334.934637\n",
       "1457  2918  116077.649351\n",
       "1458  2919  217226.931012\n",
       "\n",
       "[1459 rows x 2 columns]"
      ]
     },
     "execution_count": 74,
     "metadata": {},
     "output_type": "execute_result"
    }
   ],
   "source": [
    "# example of the layout\n",
    "create_submission(model=rf_best)"
   ]
  },
  {
   "cell_type": "code",
   "execution_count": 75,
   "metadata": {},
   "outputs": [
    {
     "name": "stdout",
     "output_type": "stream",
     "text": [
      "RandomForestRegressor(max_depth=15, min_samples_leaf=3, min_samples_split=3,\n",
      "                      n_estimators=500, random_state=42)\n",
      "     Id      SalePrice\n",
      "0  1461  124584.947112\n",
      "1  1462  154012.921159\n",
      "2  1463  171243.712816 \n",
      "***************************************************************************\n",
      "\n",
      "XGBRegressor(base_score=0.5, booster='gbtree', colsample_bylevel=1,\n",
      "             colsample_bynode=1, colsample_bytree=1, enable_categorical=False,\n",
      "             gamma=0.01, gpu_id=-1, importance_type=None,\n",
      "             interaction_constraints='', learning_rate=0.05, max_delta_step=0,\n",
      "             max_depth=2, min_child_weight=1, missing=nan,\n",
      "             monotone_constraints='()', n_estimators=1000, n_jobs=8,\n",
      "             num_parallel_tree=1, predictor='auto', random_state=42,\n",
      "             reg_alpha=0, reg_lambda=1, scale_pos_weight=1, subsample=1,\n",
      "             tree_method='exact', validate_parameters=1, verbosity=None)\n",
      "     Id      SalePrice\n",
      "0  1461  118403.031250\n",
      "1  1462  154606.609375\n",
      "2  1463  182071.750000 \n",
      "***************************************************************************\n",
      "\n"
     ]
    }
   ],
   "source": [
    "for name, model in {'randomforest': rf_best, 'xgboost': xgb_best}.items():\n",
    "    print(model)\n",
    "    df_submission = create_submission(model=model)\n",
    "    df_submission.to_csv(f'result/{name}.csv', index=False)\n",
    "    print(df_submission.head(3), '\\n' + '*'*75 + '\\n')"
   ]
  },
  {
   "cell_type": "code",
   "execution_count": 76,
   "metadata": {
    "datalore": {
     "hide_input_from_viewers": false,
     "hide_output_from_viewers": false,
     "type": "CODE"
    }
   },
   "outputs": [],
   "source": [
    "y_pred = alpha * rf_best.predict(test) + (1-alpha) * xgb_best.predict(test)\n",
    "df_submission = pd.DataFrame({'Id': test.index.values,\n",
    "                              'SalePrice': np.expm1(y_pred)})"
   ]
  },
  {
   "cell_type": "code",
   "execution_count": 77,
   "metadata": {},
   "outputs": [],
   "source": [
    "df_submission.to_csv(f'result/stacked.csv', index=False)"
   ]
  }
 ],
 "metadata": {
  "datalore": {
   "base_environment": "default",
   "computation_mode": "JUPYTER",
   "package_manager": "pip",
   "packages": [
    {
     "name": "missingno",
     "source": "PIP",
     "version": "0.5.0"
    }
   ],
   "version": 1
  },
  "kernelspec": {
   "display_name": "Python 3",
   "language": "python",
   "name": "python3"
  },
  "language_info": {
   "codemirror_mode": {
    "name": "ipython",
    "version": 3
   },
   "file_extension": ".py",
   "mimetype": "text/x-python",
   "name": "python",
   "nbconvert_exporter": "python",
   "pygments_lexer": "ipython3",
   "version": "3.8.5"
  },
  "toc": {
   "base_numbering": 1,
   "nav_menu": {},
   "number_sections": true,
   "sideBar": true,
   "skip_h1_title": false,
   "title_cell": "Table of Contents",
   "title_sidebar": "Contents",
   "toc_cell": false,
   "toc_position": {
    "height": "calc(100% - 180px)",
    "left": "10px",
    "top": "150px",
    "width": "232.727px"
   },
   "toc_section_display": true,
   "toc_window_display": true
  },
  "varInspector": {
   "cols": {
    "lenName": 16,
    "lenType": 16,
    "lenVar": 40
   },
   "kernels_config": {
    "python": {
     "delete_cmd_postfix": "",
     "delete_cmd_prefix": "del ",
     "library": "var_list.py",
     "varRefreshCmd": "print(var_dic_list())"
    },
    "r": {
     "delete_cmd_postfix": ") ",
     "delete_cmd_prefix": "rm(",
     "library": "var_list.r",
     "varRefreshCmd": "cat(var_dic_list()) "
    }
   },
   "types_to_exclude": [
    "module",
    "function",
    "builtin_function_or_method",
    "instance",
    "_Feature"
   ],
   "window_display": false
  }
 },
 "nbformat": 4,
 "nbformat_minor": 4
}
