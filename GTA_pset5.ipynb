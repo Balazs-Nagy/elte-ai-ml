{
 "cells": [
  {
   "cell_type": "markdown",
   "metadata": {},
   "source": [
    "**Homeworks – Graph Theory and Algorithms, 2021/22. semester I.**\n",
    "\n",
    "Week 5\n",
    "\n",
    "- name: Nagy, Balázs\n",
    "- neptun: hpq7oi\n",
    "- e-mail: [balazs_nagy@outlook.com](balazs_nagy@outlook.com)"
   ]
  },
  {
   "cell_type": "markdown",
   "metadata": {},
   "source": [
    "![img/GTA_problem_set_5.png](img/GTA_problem_set_5.png)"
   ]
  },
  {
   "cell_type": "markdown",
   "metadata": {},
   "source": [
    "# Algorithm"
   ]
  },
  {
   "cell_type": "code",
   "execution_count": 1,
   "metadata": {},
   "outputs": [],
   "source": [
    "def Factor(G, f_values, print_on=False):\n",
    "    # dictionary - vertex: degree\n",
    "    degrees = {v: len(edges) for v, edges in G.items()}\n",
    "\n",
    "    # sort dict in descending order\n",
    "    degrees_desc = {k: v for k, v in sorted(degrees.items(), key=lambda item: item[1], reverse = True)}\n",
    "\n",
    "    # initialize empty dictionary for storing the resulting factorisation\n",
    "    f_factor = {}\n",
    "\n",
    "    for v, d in degrees_desc.items():\n",
    "        # factor for v\n",
    "        fv = f_values.get(v)\n",
    "\n",
    "        # neighbours to v\n",
    "        neighbours = G.get(v).copy()\n",
    "\n",
    "        # the degree of vertices neighbour to v\n",
    "        degree_neighbours = {n: degrees.get(n) for n in neighbours}\n",
    "\n",
    "        # edge set for the f-factor\n",
    "        if f_factor.get(v) is None:\n",
    "            edges_of_v = []\n",
    "        else:\n",
    "            edges_of_v = f_factor.get(v)\n",
    "\n",
    "        if print_on:\n",
    "            print(f'v={v}, f(v)={fv}:')\n",
    "        while degree_neighbours:\n",
    "            # stop iteration when desired factor degree reached\n",
    "            if len(edges_of_v) == fv:\n",
    "                if print_on:\n",
    "                    print(f'\\n  Stopping. f(v)={fv}: neighbors to v={v}: {edges_of_v}\\n')\n",
    "                break\n",
    "\n",
    "            # choose the neighbour n with the highest degree\n",
    "            n, dn = max(degree_neighbours.items(), key = lambda k : k[1])\n",
    "\n",
    "            # what's the f-factor for n: f(n)?\n",
    "            fn = f_values.get(n)\n",
    "\n",
    "            # does n have edges in the subgraph?\n",
    "            n_neighbours = f_factor.get(n)\n",
    "\n",
    "            if n_neighbours is None:\n",
    "                # n: has no neighbor yet\n",
    "                n_neighbours = []\n",
    "\n",
    "            if len(n_neighbours) < fn:\n",
    "                # add edge: v, n\n",
    "                edges_of_v.append(n)\n",
    "                # add ege: n,v\n",
    "                n_neighbours.append(v)\n",
    "                f_factor.update({n: n_neighbours})\n",
    "            else:\n",
    "                if print_on:\n",
    "                    print(f'  n={n} is full, f(n)={fn}, {n_neighbours}')\n",
    "            # discard n from list move on to next neighbour\n",
    "            degree_neighbours.pop(n)\n",
    "            if print_on:\n",
    "                print(f'  choosing n={n} since d(n)={dn}. Creating edge={(v, n)}, f(n={n})={fn}')\n",
    "        f_factor.update({v: edges_of_v})\n",
    "\n",
    "    if {v: len(neighbours) for v, neighbours in f_factor.items()} == f_values:\n",
    "        return f_factor\n",
    "    else:\n",
    "        return False"
   ]
  },
  {
   "cell_type": "markdown",
   "metadata": {},
   "source": [
    "# Example"
   ]
  },
  {
   "cell_type": "code",
   "execution_count": 2,
   "metadata": {},
   "outputs": [],
   "source": [
    "# Defining G as a dictionary\n",
    "# key: vertex number\n",
    "# value: list of neighboring vertices\n",
    "# no checks impleneted if G is correctly defined\n",
    "G = {1: [2, 8, 9, 10],\n",
    "     2: [1, 3, 8],\n",
    "     3: [2, 4, 6, 7, 8],\n",
    "     4: [3, 5, 6],\n",
    "     5: [4, 6],\n",
    "     6: [3, 4, 5, 7],\n",
    "     7: [3, 6, 8],\n",
    "     8: [1, 2, 3, 7, 9],\n",
    "     9: [1, 8, 10],\n",
    "     10: [1, 9]}"
   ]
  },
  {
   "cell_type": "markdown",
   "metadata": {},
   "source": [
    "## exists"
   ]
  },
  {
   "cell_type": "code",
   "execution_count": 3,
   "metadata": {},
   "outputs": [
    {
     "data": {
      "text/plain": [
       "{8: [3, 1],\n",
       " 6: [3, 4, 7],\n",
       " 2: [3],\n",
       " 3: [8, 6, 2],\n",
       " 1: [8, 9],\n",
       " 9: [1, 10],\n",
       " 4: [6, 5],\n",
       " 7: [6],\n",
       " 5: [4],\n",
       " 10: [9]}"
      ]
     },
     "execution_count": 3,
     "metadata": {},
     "output_type": "execute_result"
    }
   ],
   "source": [
    "f_values = {1: 2,\n",
    "            2: 1,\n",
    "            3: 3,\n",
    "            4: 2,\n",
    "            5: 1,\n",
    "            6: 3,\n",
    "            7: 1,\n",
    "            8: 2,\n",
    "            9: 2,\n",
    "            10: 1}\n",
    "Factor(G, f_values)"
   ]
  },
  {
   "cell_type": "markdown",
   "metadata": {},
   "source": [
    "## not exists"
   ]
  },
  {
   "cell_type": "code",
   "execution_count": 4,
   "metadata": {},
   "outputs": [
    {
     "data": {
      "text/plain": [
       "False"
      ]
     },
     "execution_count": 4,
     "metadata": {},
     "output_type": "execute_result"
    }
   ],
   "source": [
    "f_values = {1: 2,\n",
    "            2: 1,\n",
    "            3: 3,\n",
    "            4: 2,\n",
    "            5: 1,\n",
    "            6: 3,\n",
    "            7: 1,\n",
    "            8: 2,\n",
    "            9: 2,\n",
    "            10: 100}\n",
    "Factor(G, f_values)"
   ]
  }
 ],
 "metadata": {
  "kernelspec": {
   "display_name": "Python 3",
   "language": "python",
   "name": "python3"
  },
  "language_info": {
   "codemirror_mode": {
    "name": "ipython",
    "version": 3
   },
   "file_extension": ".py",
   "mimetype": "text/x-python",
   "name": "python",
   "nbconvert_exporter": "python",
   "pygments_lexer": "ipython3",
   "version": "3.8.5"
  },
  "toc": {
   "base_numbering": 1,
   "nav_menu": {},
   "number_sections": true,
   "sideBar": true,
   "skip_h1_title": false,
   "title_cell": "Table of Contents",
   "title_sidebar": "Contents",
   "toc_cell": false,
   "toc_position": {
    "height": "calc(100% - 180px)",
    "left": "10px",
    "top": "150px",
    "width": "384px"
   },
   "toc_section_display": true,
   "toc_window_display": true
  },
  "varInspector": {
   "cols": {
    "lenName": 16,
    "lenType": 16,
    "lenVar": 40
   },
   "kernels_config": {
    "python": {
     "delete_cmd_postfix": "",
     "delete_cmd_prefix": "del ",
     "library": "var_list.py",
     "varRefreshCmd": "print(var_dic_list())"
    },
    "r": {
     "delete_cmd_postfix": ") ",
     "delete_cmd_prefix": "rm(",
     "library": "var_list.r",
     "varRefreshCmd": "cat(var_dic_list()) "
    }
   },
   "types_to_exclude": [
    "module",
    "function",
    "builtin_function_or_method",
    "instance",
    "_Feature"
   ],
   "window_display": false
  }
 },
 "nbformat": 4,
 "nbformat_minor": 4
}
