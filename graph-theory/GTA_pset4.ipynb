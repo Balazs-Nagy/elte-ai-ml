{
 "cells": [
  {
   "cell_type": "markdown",
   "metadata": {},
   "source": [
    "**Homeworks – Graph Theory and Algorithms, 2021/22. semester I.**\n",
    "\n",
    "Week 4\n",
    "\n",
    "- name: Nagy, Balázs\n",
    "- neptun: hpq7oi\n",
    "- e-mail: [balazs_nagy@outlook.com](balazs_nagy@outlook.com)"
   ]
  },
  {
   "cell_type": "markdown",
   "metadata": {},
   "source": [
    "![img/GTA_problem_set_4.png](img/GTA_problem_set_4.png)"
   ]
  },
  {
   "cell_type": "markdown",
   "metadata": {},
   "source": [
    "First, I will implement the solution for excercise 2 and then I will use excercise 1 as an example to demonstrate it."
   ]
  },
  {
   "cell_type": "markdown",
   "metadata": {},
   "source": [
    "# Validation rules"
   ]
  },
  {
   "cell_type": "markdown",
   "metadata": {},
   "source": [
    "The user can define the dictionaries `men_pref` and `women_pref`.\n",
    "\n",
    "Requirements on the input:\n",
    "1. the intersection of the `keys` of `men_pref` and `women_pref` should be an empty set;\n",
    "2. the datatype of the `values` of `men_pref` and `women_pref` dictionaries should be `list`;\n",
    "3. both dictionaries should pass the validation defined in section 1.1\n"
   ]
  },
  {
   "cell_type": "markdown",
   "metadata": {},
   "source": [
    "## Intersection of keys mus be an empty set"
   ]
  },
  {
   "cell_type": "code",
   "execution_count": 1,
   "metadata": {},
   "outputs": [],
   "source": [
    "def unique_keys(list_of_dictionaries:list):\n",
    "    list_of_sets = [set(dictionary.keys()) for dictionary in list_of_dictionaries]\n",
    "    assert len(set.intersection(*list_of_sets)) == 0, 'The intersection of the set of the keys of the dictionaries is not an empty set.'"
   ]
  },
  {
   "cell_type": "markdown",
   "metadata": {},
   "source": [
    "Valid inputs:"
   ]
  },
  {
   "cell_type": "code",
   "execution_count": 2,
   "metadata": {},
   "outputs": [],
   "source": [
    "men_pref = {0: [5,6,7], 1: [6,4,7], 2: [5,7,4], 3: [6,5,4]}\n",
    "women_pref = {4: [1,2,3], 5: [2,3,0], 6: [1,3,0], 7: [2,0,1]}\n",
    "list_of_dictionaries= [men_pref, women_pref]\n",
    "unique_keys(list_of_dictionaries)"
   ]
  },
  {
   "cell_type": "markdown",
   "metadata": {},
   "source": [
    "Invalid inputs:"
   ]
  },
  {
   "cell_type": "code",
   "execution_count": 3,
   "metadata": {},
   "outputs": [
    {
     "ename": "AssertionError",
     "evalue": "The intersection of the set of the keys of the dictionaries is not an empty set.",
     "output_type": "error",
     "traceback": [
      "\u001b[1;31m---------------------------------------------------------------------------\u001b[0m",
      "\u001b[1;31mAssertionError\u001b[0m                            Traceback (most recent call last)",
      "\u001b[1;32m<ipython-input-3-3f9aaea5d840>\u001b[0m in \u001b[0;36m<module>\u001b[1;34m\u001b[0m\n\u001b[0;32m      2\u001b[0m \u001b[0mwomen_pref\u001b[0m \u001b[1;33m=\u001b[0m \u001b[1;33m{\u001b[0m\u001b[1;36m3\u001b[0m\u001b[1;33m:\u001b[0m \u001b[1;33m[\u001b[0m\u001b[1;36m1\u001b[0m\u001b[1;33m,\u001b[0m\u001b[1;36m2\u001b[0m\u001b[1;33m,\u001b[0m\u001b[1;36m3\u001b[0m\u001b[1;33m]\u001b[0m\u001b[1;33m,\u001b[0m \u001b[1;36m5\u001b[0m\u001b[1;33m:\u001b[0m \u001b[1;33m[\u001b[0m\u001b[1;36m2\u001b[0m\u001b[1;33m,\u001b[0m\u001b[1;36m3\u001b[0m\u001b[1;33m,\u001b[0m\u001b[1;36m0\u001b[0m\u001b[1;33m]\u001b[0m\u001b[1;33m,\u001b[0m \u001b[1;36m6\u001b[0m\u001b[1;33m:\u001b[0m \u001b[1;33m[\u001b[0m\u001b[1;36m1\u001b[0m\u001b[1;33m,\u001b[0m\u001b[1;36m3\u001b[0m\u001b[1;33m,\u001b[0m\u001b[1;36m0\u001b[0m\u001b[1;33m]\u001b[0m\u001b[1;33m,\u001b[0m \u001b[1;36m7\u001b[0m\u001b[1;33m:\u001b[0m \u001b[1;33m[\u001b[0m\u001b[1;36m2\u001b[0m\u001b[1;33m,\u001b[0m\u001b[1;36m0\u001b[0m\u001b[1;33m,\u001b[0m\u001b[1;36m1\u001b[0m\u001b[1;33m]\u001b[0m\u001b[1;33m}\u001b[0m\u001b[1;33m\u001b[0m\u001b[1;33m\u001b[0m\u001b[0m\n\u001b[0;32m      3\u001b[0m \u001b[0mlist_of_dictionaries\u001b[0m\u001b[1;33m=\u001b[0m \u001b[1;33m[\u001b[0m\u001b[0mmen_pref\u001b[0m\u001b[1;33m,\u001b[0m \u001b[0mwomen_pref\u001b[0m\u001b[1;33m]\u001b[0m\u001b[1;33m\u001b[0m\u001b[1;33m\u001b[0m\u001b[0m\n\u001b[1;32m----> 4\u001b[1;33m \u001b[0munique_keys\u001b[0m\u001b[1;33m(\u001b[0m\u001b[0mlist_of_dictionaries\u001b[0m\u001b[1;33m)\u001b[0m\u001b[1;33m\u001b[0m\u001b[1;33m\u001b[0m\u001b[0m\n\u001b[0m",
      "\u001b[1;32m<ipython-input-1-6895baca460d>\u001b[0m in \u001b[0;36munique_keys\u001b[1;34m(list_of_dictionaries)\u001b[0m\n\u001b[0;32m      1\u001b[0m \u001b[1;32mdef\u001b[0m \u001b[0munique_keys\u001b[0m\u001b[1;33m(\u001b[0m\u001b[0mlist_of_dictionaries\u001b[0m\u001b[1;33m:\u001b[0m\u001b[0mlist\u001b[0m\u001b[1;33m)\u001b[0m\u001b[1;33m:\u001b[0m\u001b[1;33m\u001b[0m\u001b[1;33m\u001b[0m\u001b[0m\n\u001b[0;32m      2\u001b[0m     \u001b[0mlist_of_sets\u001b[0m \u001b[1;33m=\u001b[0m \u001b[1;33m[\u001b[0m\u001b[0mset\u001b[0m\u001b[1;33m(\u001b[0m\u001b[0mdictionary\u001b[0m\u001b[1;33m.\u001b[0m\u001b[0mkeys\u001b[0m\u001b[1;33m(\u001b[0m\u001b[1;33m)\u001b[0m\u001b[1;33m)\u001b[0m \u001b[1;32mfor\u001b[0m \u001b[0mdictionary\u001b[0m \u001b[1;32min\u001b[0m \u001b[0mlist_of_dictionaries\u001b[0m\u001b[1;33m]\u001b[0m\u001b[1;33m\u001b[0m\u001b[1;33m\u001b[0m\u001b[0m\n\u001b[1;32m----> 3\u001b[1;33m     \u001b[1;32massert\u001b[0m \u001b[0mlen\u001b[0m\u001b[1;33m(\u001b[0m\u001b[0mset\u001b[0m\u001b[1;33m.\u001b[0m\u001b[0mintersection\u001b[0m\u001b[1;33m(\u001b[0m\u001b[1;33m*\u001b[0m\u001b[0mlist_of_sets\u001b[0m\u001b[1;33m)\u001b[0m\u001b[1;33m)\u001b[0m \u001b[1;33m==\u001b[0m \u001b[1;36m0\u001b[0m\u001b[1;33m,\u001b[0m \u001b[1;34m'The intersection of the set of the keys of the dictionaries is not an empty set.'\u001b[0m\u001b[1;33m\u001b[0m\u001b[1;33m\u001b[0m\u001b[0m\n\u001b[0m",
      "\u001b[1;31mAssertionError\u001b[0m: The intersection of the set of the keys of the dictionaries is not an empty set."
     ]
    }
   ],
   "source": [
    "men_pref = {0: [5,6,7], 1: [6,4,7], 2: [5,7,4], 3: [6,5,4]}\n",
    "women_pref = {3: [1,2,3], 5: [2,3,0], 6: [1,3,0], 7: [2,0,1]}\n",
    "list_of_dictionaries= [men_pref, women_pref]\n",
    "unique_keys(list_of_dictionaries)"
   ]
  },
  {
   "cell_type": "markdown",
   "metadata": {},
   "source": [
    "## Values of the dict must be lists"
   ]
  },
  {
   "cell_type": "code",
   "execution_count": 4,
   "metadata": {},
   "outputs": [],
   "source": [
    "def values_are_lists(dictionary):\n",
    "    for key, value in dictionary.items():\n",
    "        assert isinstance(value, list), f'Data type of the values must be lists. key={key}: type of value={type(value)}'"
   ]
  },
  {
   "cell_type": "markdown",
   "metadata": {},
   "source": [
    "Valid inputs:"
   ]
  },
  {
   "cell_type": "code",
   "execution_count": 5,
   "metadata": {},
   "outputs": [],
   "source": [
    "men_pref = {0: [5,6,7], 1: [6,4,7], 2: [5,7,4], 3: [6,5,4]}\n",
    "values_are_lists(men_pref)"
   ]
  },
  {
   "cell_type": "markdown",
   "metadata": {},
   "source": [
    "Invalid inputs:"
   ]
  },
  {
   "cell_type": "code",
   "execution_count": 6,
   "metadata": {},
   "outputs": [
    {
     "ename": "AssertionError",
     "evalue": "Data type of the values must be lists. key=1: type of value=<class 'tuple'>",
     "output_type": "error",
     "traceback": [
      "\u001b[1;31m---------------------------------------------------------------------------\u001b[0m",
      "\u001b[1;31mAssertionError\u001b[0m                            Traceback (most recent call last)",
      "\u001b[1;32m<ipython-input-6-3b0f9a821052>\u001b[0m in \u001b[0;36m<module>\u001b[1;34m\u001b[0m\n\u001b[0;32m      1\u001b[0m \u001b[0mmen_pref_invalid\u001b[0m \u001b[1;33m=\u001b[0m \u001b[1;33m{\u001b[0m\u001b[1;36m0\u001b[0m\u001b[1;33m:\u001b[0m \u001b[1;33m[\u001b[0m\u001b[1;36m5\u001b[0m\u001b[1;33m,\u001b[0m\u001b[1;36m6\u001b[0m\u001b[1;33m,\u001b[0m\u001b[1;36m7\u001b[0m\u001b[1;33m]\u001b[0m\u001b[1;33m,\u001b[0m \u001b[1;36m1\u001b[0m\u001b[1;33m:\u001b[0m \u001b[1;33m(\u001b[0m\u001b[1;36m6\u001b[0m\u001b[1;33m,\u001b[0m\u001b[1;36m4\u001b[0m\u001b[1;33m,\u001b[0m\u001b[1;36m7\u001b[0m\u001b[1;33m)\u001b[0m\u001b[1;33m,\u001b[0m \u001b[1;36m2\u001b[0m\u001b[1;33m:\u001b[0m \u001b[1;33m[\u001b[0m\u001b[1;36m5\u001b[0m\u001b[1;33m,\u001b[0m\u001b[1;36m7\u001b[0m\u001b[1;33m,\u001b[0m\u001b[1;36m4\u001b[0m\u001b[1;33m]\u001b[0m\u001b[1;33m,\u001b[0m \u001b[1;36m3\u001b[0m\u001b[1;33m:\u001b[0m \u001b[1;33m[\u001b[0m\u001b[1;36m6\u001b[0m\u001b[1;33m,\u001b[0m\u001b[1;36m5\u001b[0m\u001b[1;33m,\u001b[0m\u001b[1;36m4\u001b[0m\u001b[1;33m]\u001b[0m\u001b[1;33m}\u001b[0m\u001b[1;33m\u001b[0m\u001b[1;33m\u001b[0m\u001b[0m\n\u001b[1;32m----> 2\u001b[1;33m \u001b[0mvalues_are_lists\u001b[0m\u001b[1;33m(\u001b[0m\u001b[0mmen_pref_invalid\u001b[0m\u001b[1;33m)\u001b[0m\u001b[1;33m\u001b[0m\u001b[1;33m\u001b[0m\u001b[0m\n\u001b[0m",
      "\u001b[1;32m<ipython-input-4-556df650ee48>\u001b[0m in \u001b[0;36mvalues_are_lists\u001b[1;34m(dictionary)\u001b[0m\n\u001b[0;32m      1\u001b[0m \u001b[1;32mdef\u001b[0m \u001b[0mvalues_are_lists\u001b[0m\u001b[1;33m(\u001b[0m\u001b[0mdictionary\u001b[0m\u001b[1;33m)\u001b[0m\u001b[1;33m:\u001b[0m\u001b[1;33m\u001b[0m\u001b[1;33m\u001b[0m\u001b[0m\n\u001b[0;32m      2\u001b[0m     \u001b[1;32mfor\u001b[0m \u001b[0mkey\u001b[0m\u001b[1;33m,\u001b[0m \u001b[0mvalue\u001b[0m \u001b[1;32min\u001b[0m \u001b[0mdictionary\u001b[0m\u001b[1;33m.\u001b[0m\u001b[0mitems\u001b[0m\u001b[1;33m(\u001b[0m\u001b[1;33m)\u001b[0m\u001b[1;33m:\u001b[0m\u001b[1;33m\u001b[0m\u001b[1;33m\u001b[0m\u001b[0m\n\u001b[1;32m----> 3\u001b[1;33m         \u001b[1;32massert\u001b[0m \u001b[0misinstance\u001b[0m\u001b[1;33m(\u001b[0m\u001b[0mvalue\u001b[0m\u001b[1;33m,\u001b[0m \u001b[0mlist\u001b[0m\u001b[1;33m)\u001b[0m\u001b[1;33m,\u001b[0m \u001b[1;34mf'Data type of the values must be lists. key={key}: type of value={type(value)}'\u001b[0m\u001b[1;33m\u001b[0m\u001b[1;33m\u001b[0m\u001b[0m\n\u001b[0m",
      "\u001b[1;31mAssertionError\u001b[0m: Data type of the values must be lists. key=1: type of value=<class 'tuple'>"
     ]
    }
   ],
   "source": [
    "men_pref_invalid = {0: [5,6,7], 1: (6,4,7), 2: [5,7,4], 3: [6,5,4]}\n",
    "values_are_lists(men_pref_invalid)"
   ]
  },
  {
   "cell_type": "markdown",
   "metadata": {},
   "source": [
    "## Inputs define a unique graph"
   ]
  },
  {
   "cell_type": "markdown",
   "metadata": {},
   "source": [
    ">  Define a \"compatibility\" function that returns the string `Warning: incompatible lists` if the two lists of\n",
    "preference lists define diffeerent graphs. This is much nicer than getting a list-index error message."
   ]
  },
  {
   "cell_type": "code",
   "execution_count": 7,
   "metadata": {},
   "outputs": [],
   "source": [
    "def compatibility(self_dict, reference_dict, print_on=False):\n",
    "    # empty list to store results\n",
    "    results = []\n",
    "    compatible = True\n",
    "    \n",
    "    # check if we are in the list of the people we like\n",
    "    # if yes -> return True\n",
    "    # if no -> raise ValueError\n",
    "    \n",
    "    for we, people_we_like in self_dict.items():\n",
    "        if print_on:\n",
    "            print(f'we={we} and our list={people_we_like}')\n",
    "        for person_we_like in people_we_like:\n",
    "            we_are_in_the_list_of_people_we_like = we in reference_dict[person_we_like]\n",
    "            if print_on:\n",
    "                print(f'  {we_are_in_the_list_of_people_we_like}: person we like={person_we_like} list={reference_dict[person_we_like]}')\n",
    "            if we_are_in_the_list_of_people_we_like:\n",
    "                results.append(we_are_in_the_list_of_people_we_like)\n",
    "            else:\n",
    "                compatible = False\n",
    "    assert compatible == True, f'Warning: incompatible lists. {we} is not in the list of person={person_we_like} (persons list={reference_dict[person_we_like]})'"
   ]
  },
  {
   "cell_type": "markdown",
   "metadata": {},
   "source": [
    "Testing the function for valid items."
   ]
  },
  {
   "cell_type": "code",
   "execution_count": 8,
   "metadata": {},
   "outputs": [],
   "source": [
    "men_pref = {0: [5,6,7], 1: [6,4,7], 2: [5,7,4], 3: [6,5,4]}\n",
    "women_pref = {4: [1,2,3], 5: [2,3,0], 6: [1,3,0], 7: [2,0,1]}"
   ]
  },
  {
   "cell_type": "code",
   "execution_count": 9,
   "metadata": {},
   "outputs": [],
   "source": [
    "compatibility(self_dict=men_pref, reference_dict=women_pref)"
   ]
  },
  {
   "cell_type": "code",
   "execution_count": 10,
   "metadata": {},
   "outputs": [],
   "source": [
    "compatibility(self_dict=women_pref, reference_dict=men_pref)"
   ]
  },
  {
   "cell_type": "markdown",
   "metadata": {},
   "source": [
    "Testing the function for invalid items ($7$ knows $0$ but $0$ claims not knowing $7$)."
   ]
  },
  {
   "cell_type": "code",
   "execution_count": 11,
   "metadata": {},
   "outputs": [],
   "source": [
    "men_pref_invalid = {0: [5,6], 1: [6,4,7], 2: [5,7,4], 3: [6,5,4]}\n",
    "women_pref_invalid = {4: [1,2,3], 5: [2,3,0], 6: [1,3,0], 7: [2,0,1]}"
   ]
  },
  {
   "cell_type": "code",
   "execution_count": 12,
   "metadata": {},
   "outputs": [],
   "source": [
    "compatibility(self_dict=men_pref_invalid, reference_dict=women_pref_invalid)"
   ]
  },
  {
   "cell_type": "code",
   "execution_count": 13,
   "metadata": {},
   "outputs": [
    {
     "ename": "AssertionError",
     "evalue": "Warning: incompatible lists. 7 is not in the list of person=1 (persons list=[6, 4, 7])",
     "output_type": "error",
     "traceback": [
      "\u001b[1;31m---------------------------------------------------------------------------\u001b[0m",
      "\u001b[1;31mAssertionError\u001b[0m                            Traceback (most recent call last)",
      "\u001b[1;32m<ipython-input-13-328a967a8649>\u001b[0m in \u001b[0;36m<module>\u001b[1;34m\u001b[0m\n\u001b[1;32m----> 1\u001b[1;33m \u001b[0mcompatibility\u001b[0m\u001b[1;33m(\u001b[0m\u001b[0mself_dict\u001b[0m\u001b[1;33m=\u001b[0m\u001b[0mwomen_pref_invalid\u001b[0m\u001b[1;33m,\u001b[0m \u001b[0mreference_dict\u001b[0m\u001b[1;33m=\u001b[0m\u001b[0mmen_pref_invalid\u001b[0m\u001b[1;33m)\u001b[0m\u001b[1;33m\u001b[0m\u001b[1;33m\u001b[0m\u001b[0m\n\u001b[0m",
      "\u001b[1;32m<ipython-input-7-f0947fede811>\u001b[0m in \u001b[0;36mcompatibility\u001b[1;34m(self_dict, reference_dict, print_on)\u001b[0m\n\u001b[0;32m     19\u001b[0m             \u001b[1;32melse\u001b[0m\u001b[1;33m:\u001b[0m\u001b[1;33m\u001b[0m\u001b[1;33m\u001b[0m\u001b[0m\n\u001b[0;32m     20\u001b[0m                 \u001b[0mcompatible\u001b[0m \u001b[1;33m=\u001b[0m \u001b[1;32mFalse\u001b[0m\u001b[1;33m\u001b[0m\u001b[1;33m\u001b[0m\u001b[0m\n\u001b[1;32m---> 21\u001b[1;33m     \u001b[1;32massert\u001b[0m \u001b[0mcompatible\u001b[0m \u001b[1;33m==\u001b[0m \u001b[1;32mTrue\u001b[0m\u001b[1;33m,\u001b[0m \u001b[1;34mf'Warning: incompatible lists. {we} is not in the list of person={person_we_like} (persons list={reference_dict[person_we_like]})'\u001b[0m\u001b[1;33m\u001b[0m\u001b[1;33m\u001b[0m\u001b[0m\n\u001b[0m",
      "\u001b[1;31mAssertionError\u001b[0m: Warning: incompatible lists. 7 is not in the list of person=1 (persons list=[6, 4, 7])"
     ]
    }
   ],
   "source": [
    "compatibility(self_dict=women_pref_invalid, reference_dict=men_pref_invalid)"
   ]
  },
  {
   "cell_type": "markdown",
   "metadata": {},
   "source": [
    "## Gather validation rules"
   ]
  },
  {
   "cell_type": "markdown",
   "metadata": {},
   "source": [
    "As a reminder, the following needs to be checked:"
   ]
  },
  {
   "cell_type": "markdown",
   "metadata": {},
   "source": [
    "The user can define the dictionaries `men_pref` and `women_pref`.\n",
    "\n",
    "Requirements on the input:\n",
    "1. the intersection of the `keys` of `men_pref` and `women_pref` should be an empty set;\n",
    "2. the datatype of the `values` of `men_pref` and `women_pref` dictionaries should be `list`;\n",
    "3. both dictionaries should pass the validation defined in section 1.1"
   ]
  },
  {
   "cell_type": "code",
   "execution_count": 14,
   "metadata": {},
   "outputs": [],
   "source": [
    "def validate_inputs(dict1, dict2):\n",
    "    # Assertion rule1\n",
    "    unique_keys([dict1, dict2])\n",
    "    \n",
    "    # Assertion rule2\n",
    "    values_are_lists(dict1)\n",
    "    values_are_lists(dict2)\n",
    "    \n",
    "    # Assertion rule3\n",
    "    compatibility(self_dict=dict1, reference_dict=dict2)\n",
    "    compatibility(self_dict=dict2, reference_dict=dict1)"
   ]
  },
  {
   "cell_type": "markdown",
   "metadata": {},
   "source": [
    "# Algorithm"
   ]
  },
  {
   "cell_type": "markdown",
   "metadata": {},
   "source": [
    "Next, please find below my implementation of the *man-proposing algorithm*."
   ]
  },
  {
   "cell_type": "code",
   "execution_count": 15,
   "metadata": {},
   "outputs": [],
   "source": [
    "def MatchingGameSolution(men_pref, women_pref, print_on=False):\n",
    "    # Validation rules\n",
    "    validate_inputs(men_pref, women_pref)\n",
    "\n",
    "    ###########################\n",
    "    # Man-proposing algorithm\n",
    "    ###########################\n",
    "    # dictionary for storing engaged pairs\n",
    "        # key: girl\n",
    "        # value: boy\n",
    "    engaged_girls = {}\n",
    "    \n",
    "    # list of not engaged guys\n",
    "    proposing_guys = list(men_pref.keys())\n",
    "\n",
    "    while proposing_guys:\n",
    "        # choose a guy\n",
    "        he = proposing_guys.pop(0)\n",
    "        # list of girls he lieks\n",
    "        girls_he_likes = men_pref[he]\n",
    "\n",
    "        if print_on:\n",
    "            print(f'he={he} likes girls={girls_he_likes}:')\n",
    "        \n",
    "        # propose to the girls in his list\n",
    "        for she in girls_he_likes:\n",
    "\n",
    "            #############################################\n",
    "            # Preparation - answering questions\n",
    "            #############################################\n",
    "\n",
    "            # who is she engaged to?\n",
    "            boy_shes_engaged_to = engaged_girls.get(she)\n",
    "            # is she engaged?\n",
    "            engaged = boy_shes_engaged_to is not None\n",
    "\n",
    "            if engaged:\n",
    "                # what boys does she like?\n",
    "                boys_she_likes = women_pref[she]\n",
    "                # current_partner rank\n",
    "                current_partner = boys_she_likes.index(boy_shes_engaged_to)\n",
    "                # new guy rank\n",
    "                new_guy = boys_she_likes.index(he)\n",
    "                # compare guys (smaller rank is preferred)\n",
    "                she_likes_him_better = new_guy < current_partner\n",
    "\n",
    "            #############################################\n",
    "            # Case1) Not engaged\n",
    "            #############################################\n",
    "            if not engaged:\n",
    "                if print_on:\n",
    "                    print(f'  Case1) she={she} is not engaged and marries him={he}. :-)')\n",
    "                # if she's not engaged than she marries the proposing man\n",
    "                engaged_girls.update({she: he})\n",
    "                break\n",
    "\n",
    "            #############################################\n",
    "            # Case2) Engaged, breaks up with current partner\n",
    "            #############################################\n",
    "            elif she_likes_him_better:\n",
    "                if print_on:\n",
    "                    print(f'  Case2) she={she} is engagaged to him={boy_shes_engaged_to}, but likes him={he} better. :-)')\n",
    "                proposing_guys.insert(0, boy_shes_engaged_to)\n",
    "                engaged_girls.update({she: he})\n",
    "                break\n",
    "\n",
    "            #############################################\n",
    "            # Case3) Engaged, stays with current partner\n",
    "            #############################################\n",
    "            else:\n",
    "                if print_on:\n",
    "                    print(f'  Case3) she={she} is engagaged to him={boy_shes_engaged_to}, so he={he} goes on. :-(')\n",
    "    return [(he, she) for she, he in engaged_girls.items()]"
   ]
  },
  {
   "cell_type": "markdown",
   "metadata": {},
   "source": [
    "# Matching game for bipartite graphs"
   ]
  },
  {
   "cell_type": "code",
   "execution_count": 16,
   "metadata": {},
   "outputs": [],
   "source": [
    "men_pref = {0: [5,6,7], 1: [6,4,7], 2: [5,7,4], 3: [6,5,4]}\n",
    "women_pref = {4: [1,2,3], 5: [2,3,0], 6: [1,3,0], 7: [2,0,1]}"
   ]
  },
  {
   "cell_type": "code",
   "execution_count": 17,
   "metadata": {},
   "outputs": [
    {
     "name": "stdout",
     "output_type": "stream",
     "text": [
      "he=0 likes girls=[5, 6, 7]:\n",
      "  Case1) she=5 is not engaged and marries him=0. :-)\n",
      "he=1 likes girls=[6, 4, 7]:\n",
      "  Case1) she=6 is not engaged and marries him=1. :-)\n",
      "he=2 likes girls=[5, 7, 4]:\n",
      "  Case2) she=5 is engagaged to him=0, but likes him=2 better. :-)\n",
      "he=0 likes girls=[5, 6, 7]:\n",
      "  Case3) she=5 is engagaged to him=2, so he=0 goes on. :-(\n",
      "  Case3) she=6 is engagaged to him=1, so he=0 goes on. :-(\n",
      "  Case1) she=7 is not engaged and marries him=0. :-)\n",
      "he=3 likes girls=[6, 5, 4]:\n",
      "  Case3) she=6 is engagaged to him=1, so he=3 goes on. :-(\n",
      "  Case3) she=5 is engagaged to him=2, so he=3 goes on. :-(\n",
      "  Case1) she=4 is not engaged and marries him=3. :-)\n"
     ]
    },
    {
     "data": {
      "text/plain": [
       "[(2, 5), (1, 6), (0, 7), (3, 4)]"
      ]
     },
     "execution_count": 17,
     "metadata": {},
     "output_type": "execute_result"
    }
   ],
   "source": [
    "MatchingGameSolution(men_pref, women_pref, print_on=True)"
   ]
  }
 ],
 "metadata": {
  "kernelspec": {
   "display_name": "Python 3",
   "language": "python",
   "name": "python3"
  },
  "language_info": {
   "codemirror_mode": {
    "name": "ipython",
    "version": 3
   },
   "file_extension": ".py",
   "mimetype": "text/x-python",
   "name": "python",
   "nbconvert_exporter": "python",
   "pygments_lexer": "ipython3",
   "version": "3.8.5"
  },
  "toc": {
   "base_numbering": 1,
   "nav_menu": {},
   "number_sections": true,
   "sideBar": true,
   "skip_h1_title": false,
   "title_cell": "Table of Contents",
   "title_sidebar": "Contents",
   "toc_cell": false,
   "toc_position": {},
   "toc_section_display": true,
   "toc_window_display": true
  },
  "varInspector": {
   "cols": {
    "lenName": 16,
    "lenType": 16,
    "lenVar": 40
   },
   "kernels_config": {
    "python": {
     "delete_cmd_postfix": "",
     "delete_cmd_prefix": "del ",
     "library": "var_list.py",
     "varRefreshCmd": "print(var_dic_list())"
    },
    "r": {
     "delete_cmd_postfix": ") ",
     "delete_cmd_prefix": "rm(",
     "library": "var_list.r",
     "varRefreshCmd": "cat(var_dic_list()) "
    }
   },
   "types_to_exclude": [
    "module",
    "function",
    "builtin_function_or_method",
    "instance",
    "_Feature"
   ],
   "window_display": false
  }
 },
 "nbformat": 4,
 "nbformat_minor": 4
}
