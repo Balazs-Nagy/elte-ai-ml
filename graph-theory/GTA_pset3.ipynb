{
 "cells": [
  {
   "cell_type": "markdown",
   "metadata": {},
   "source": [
    "**Homeworks – Graph Theory and Algorithms, 2021/22. semester I.**\n",
    "\n",
    "Week 3\n",
    "\n",
    "- name: Nagy, Balázs\n",
    "- neptun: hpq7oi\n",
    "- e-mail: [balazs_nagy@outlook.com](balazs_nagy@outlook.com)"
   ]
  },
  {
   "cell_type": "code",
   "execution_count": 1,
   "metadata": {},
   "outputs": [],
   "source": [
    "# set the seed so we can reproduce the pseudo-random results\n",
    "set_random_seed(314159265)"
   ]
  },
  {
   "cell_type": "markdown",
   "metadata": {},
   "source": [
    "Below you can see my implementation. "
   ]
  },
  {
   "cell_type": "code",
   "execution_count": 2,
   "metadata": {},
   "outputs": [],
   "source": [
    "def corresponding_edge(edge):\n",
    "    # edge is between vertices u and v, weight is not used\n",
    "    u, v, weight = edge\n",
    "    \n",
    "    # coordinates of u\n",
    "    x, y = u\n",
    "    \n",
    "    if v == (x, y+1):\n",
    "        # v is in the same 'row' -> edge is horizontal\n",
    "        # -> corr. edge is vertical\n",
    "        return ((x, y+1), (x+1, y+1))\n",
    "    elif v == (x+1, y):\n",
    "        # v is in the same 'column' -> edge is vertical\n",
    "        # -> corr. edge is horizontal\n",
    "        return ((x+1, y), (x+1, y+1))\n",
    "    else:\n",
    "        # this branch should never be active\n",
    "        raise ValueError"
   ]
  },
  {
   "cell_type": "code",
   "execution_count": 3,
   "metadata": {},
   "outputs": [],
   "source": [
    "def maze_constructor(n, m):\n",
    "    # Outer grid (visible maze)\n",
    "    outer_grid = graphs.GridGraph((n+1, m+1))\n",
    "    \n",
    "    # Inner grid ('invisible' spanning tree)\n",
    "    inner_grid = graphs.GridGraph((n, m))\n",
    "\n",
    "    # Add random (uniformly-distributed) weights to the edges\n",
    "    for u, v in inner_grid.edges(labels=0):\n",
    "        inner_grid.set_edge_label(u, v, RR.random_element(0, 1))\n",
    "    \n",
    "    # Calculate the minimum spanning tree using Kruskal's algorithm\n",
    "    min_spanning_tree = inner_grid.min_spanning_tree(weight_function = lambda edge: edge[-1], algorithm='Kruskal')\n",
    "    \n",
    "    # Find and delete corresponding edges\n",
    "    corresponding_edges = [corresponding_edge(edge) for edge in min_spanning_tree]\n",
    "    outer_grid.delete_edges(corresponding_edges)\n",
    "    \n",
    "    # Define the edges for the 'doors', then delete the edges\n",
    "    start_door = ((0, 0), (1, 0))\n",
    "    finish_door = ((n-1, m), (n, m))\n",
    "    outer_grid.delete_edges([start_door, finish_door])\n",
    "    \n",
    "    # Display the graph\n",
    "    outer_grid.show(vertex_labels=False, vertex_size=30, title=f'Maze ({n}x{m})')"
   ]
  },
  {
   "cell_type": "code",
   "execution_count": 4,
   "metadata": {},
   "outputs": [
    {
     "data": {
      "image/png": "[encoded data removed]",
      "text/plain": [
       "Graphics object consisting of 175 graphics primitives"
      ]
     },
     "metadata": {},
     "output_type": "display_data"
    }
   ],
   "source": [
    "maze_constructor(10, 15)"
   ]
  }
 ],
 "metadata": {
  "kernelspec": {
   "display_name": "SageMath 9.2",
   "language": "sage",
   "name": "sagemath"
  },
  "language_info": {
   "codemirror_mode": {
    "name": "ipython",
    "version": 3
   },
   "file_extension": ".py",
   "mimetype": "text/x-python",
   "name": "python",
   "nbconvert_exporter": "python",
   "pygments_lexer": "ipython3",
   "version": "3.7.7"
  }
 },
 "nbformat": 4,
 "nbformat_minor": 4
}
