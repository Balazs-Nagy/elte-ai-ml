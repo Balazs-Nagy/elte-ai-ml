{
 "cells": [
  {
   "cell_type": "markdown",
   "metadata": {},
   "source": [
    "**Homeworks – Optimization, 2021/22. semester I.**\n",
    "\n",
    "*Week 6*\n",
    "\n",
    "- name: Nagy, Balázs\n",
    "- neptun: hpq7oi\n",
    "- e-mail: [balazs_nagy@outlook.com](balazs_nagy@outlook.com)"
   ]
  },
  {
   "cell_type": "markdown",
   "metadata": {},
   "source": [
    "# Ex2"
   ]
  },
  {
   "cell_type": "markdown",
   "metadata": {},
   "source": [
    "![img/w6ex2.png](img/w6ex2.png)"
   ]
  },
  {
   "cell_type": "markdown",
   "metadata": {},
   "source": [
    "**Submodular functions**\n",
    "\n",
    "A set function $f:2^S\\rightarrow\\mathbb{R}$ is submodular if and only if for all $X, Y \\subseteq S$ we have\n",
    "$$\n",
    "f(X)+f(Y)\\geq f(X\\cap Y)+f(X\\cup Y)\n",
    "$$"
   ]
  },
  {
   "cell_type": "markdown",
   "metadata": {},
   "source": [
    "## Non-negative linear combination"
   ]
  },
  {
   "cell_type": "markdown",
   "metadata": {},
   "source": [
    "**Definition**\n",
    "\n",
    "If $f_1, \\dots, f_k$ are submodular then $\\sum_{i=1}^k\\lambda_if_i$ is also submodular for all $i=1,\\dots,k$ and $\\lambda_i\\geq0$."
   ]
  },
  {
   "attachments": {},
   "cell_type": "markdown",
   "metadata": {},
   "source": [
    "**Proof**\n",
    "\n",
    "Assume $f_1,\\dots,f_k$ are submodular and $\\lambda_i\\geq0$ for all $i=1,\\dots,k$. Then using the definition of submodular functions\n",
    "\n",
    "\\begin{align}\n",
    "\\lambda_1f_1(X)+\\lambda_1f_1(Y) &\\geq \\lambda_1f_1(X\\cap Y)+\\lambda_1f_1(X\\cup Y)\\\\\n",
    "\\lambda_2f_2(X)+\\lambda_2f_2(Y) &\\geq \\lambda_2f_2(X\\cap Y)+\\lambda_2f_2(X\\cup Y)\\\\\n",
    "\\dots\\\\\n",
    "\\lambda_kf_k(X)+\\lambda_kf_k(Y) &\\geq \\lambda_kf_k(X\\cap Y)+\\lambda_kf_k(X\\cup Y)\\\\\n",
    "\\end{align}\n",
    "\n",
    "Adding both sides for all $i=1,\\dots,k$ we can see that the non-negative linear combination is also submodular:\n",
    "\n",
    "\\begin{align}\n",
    "\\sum_{i=1}^k\\lambda_if_i(X)+\\lambda_if_i(Y) &\\geq \\sum_{i=1}^k \\lambda_if_i(X\\cap Y)+\\lambda_if_i(X\\cup Y)\\\\\n",
    "\\end{align}"
   ]
  },
  {
   "cell_type": "markdown",
   "metadata": {},
   "source": [
    "## Reflection"
   ]
  },
  {
   "cell_type": "markdown",
   "metadata": {},
   "source": [
    "**Definition**\n",
    "\n",
    "If $f$ is submodular then $g(X):=f(S\\setminus X)$ is also submodular."
   ]
  },
  {
   "cell_type": "markdown",
   "metadata": {},
   "source": [
    "**Proof**\n",
    "\n",
    "We can see that the following inequality holds given $f$ is submodular as $S\\setminus X \\subseteq S$ and $S\\setminus Y \\subseteq S$:\n",
    "\n",
    "\\begin{align}\n",
    "g(X)+g(Y) &\\geq g(X\\cap Y)+g(X\\cup Y)\\\\\n",
    "f(S\\setminus X)+f(S\\setminus Y) &\\geq f(S\\setminus (X\\cap Y)) + f(S\\setminus (X\\cup Y)) \\\\\n",
    "f(S\\setminus X)+f(S\\setminus Y) &\\geq f((S\\setminus X) \\cap (S\\setminus Y)) + f((S\\setminus X) \\cup (S\\setminus Y))\n",
    "\\end{align}"
   ]
  },
  {
   "cell_type": "markdown",
   "metadata": {},
   "source": [
    "## Restriction"
   ]
  },
  {
   "cell_type": "markdown",
   "metadata": {},
   "source": [
    "**Definition**\n",
    "\n",
    "If $f$ is submodular then $g(X):=f(S\\setminus X)$ is also submodular."
   ]
  },
  {
   "cell_type": "markdown",
   "metadata": {},
   "source": [
    "**Proof**\n",
    "\n",
    "We can see that the following inequality holds given $f$ is submodular as $S\\setminus X \\subseteq S$,  $X \\cap Y \\subseteq S$ and $X \\cup Y \\subseteq S$:\n",
    "\n",
    "\n",
    "\\begin{align}\n",
    "g(X)+g(Y) &\\geq g(X\\cap Y)+g(X\\cup Y)\\\\\n",
    "f(X)+f(X \\cap Y) &\\geq f(X \\cap (X\\cap Y)) + f(X \\cup (X\\cap Y))\n",
    "\\end{align}"
   ]
  },
  {
   "cell_type": "markdown",
   "metadata": {},
   "source": [
    "## Contraction"
   ]
  },
  {
   "cell_type": "markdown",
   "metadata": {},
   "source": [
    "**Definition**\n",
    "\n",
    "If $X\\subseteq S$ and $f$ is submodular then $g(Y):=f(X\\cup Y)$ is also submodular."
   ]
  },
  {
   "cell_type": "markdown",
   "metadata": {},
   "source": [
    "**Proof**\n",
    "\n",
    "We can see that the following equation holds given $f$ is submodular as $S\\setminus X \\subseteq S$, and  $X \\cup Y \\subseteq S$:\n",
    "\n",
    "\\begin{align}\n",
    "g(X)+g(Y) &\\geq g(X\\cap Y)+g(X\\cup Y)\\\\\n",
    "f(X)+f(X \\cup Y) &\\geq f(X \\cap (X\\cup Y)) + f(X \\cup (X\\cup Y))\n",
    "\\end{align}"
   ]
  }
 ],
 "metadata": {
  "kernelspec": {
   "display_name": "Python 3",
   "language": "python",
   "name": "python3"
  },
  "language_info": {
   "codemirror_mode": {
    "name": "ipython",
    "version": 3
   },
   "file_extension": ".py",
   "mimetype": "text/x-python",
   "name": "python",
   "nbconvert_exporter": "python",
   "pygments_lexer": "ipython3",
   "version": "3.8.5"
  },
  "toc": {
   "base_numbering": 1,
   "nav_menu": {},
   "number_sections": true,
   "sideBar": true,
   "skip_h1_title": false,
   "title_cell": "Table of Contents",
   "title_sidebar": "Contents",
   "toc_cell": false,
   "toc_position": {},
   "toc_section_display": true,
   "toc_window_display": true
  },
  "varInspector": {
   "cols": {
    "lenName": 16,
    "lenType": 16,
    "lenVar": 40
   },
   "kernels_config": {
    "python": {
     "delete_cmd_postfix": "",
     "delete_cmd_prefix": "del ",
     "library": "var_list.py",
     "varRefreshCmd": "print(var_dic_list())"
    },
    "r": {
     "delete_cmd_postfix": ") ",
     "delete_cmd_prefix": "rm(",
     "library": "var_list.r",
     "varRefreshCmd": "cat(var_dic_list()) "
    }
   },
   "types_to_exclude": [
    "module",
    "function",
    "builtin_function_or_method",
    "instance",
    "_Feature"
   ],
   "window_display": false
  }
 },
 "nbformat": 4,
 "nbformat_minor": 4
}
